{
 "cells": [
  {
   "cell_type": "markdown",
   "id": "c38d254e",
   "metadata": {},
   "source": [
    "# Yoshops Data Science Intern Week 1 Task 4\n",
    "# Python program for PrepareingYoshops Survey and Order excel charts Like = Pie Chart and Bar Chart Weekly, Monthly and Yearly Reports.\n",
    "## <u>Name</u> : ADVAIT GURUNATH CHAVAN\n",
    "## <u>Email Id</u> : advaitchavan135@gmail.com , advaitchavan.yoshops@gmail.com\n",
    "## <u>Contact No</u> : +91 70214 55852"
   ]
  },
  {
   "cell_type": "markdown",
   "id": "b8acaf41",
   "metadata": {},
   "source": [
    "## Yoshops Survey List --> Weekly Analysis"
   ]
  },
  {
   "cell_type": "code",
   "execution_count": 1,
   "id": "08db8e2d",
   "metadata": {},
   "outputs": [],
   "source": [
    "# Importing the necessary dependencies\n",
    "import pandas as pd\n",
    "import numpy as np\n",
    "import matplotlib.pyplot as plt"
   ]
  },
  {
   "cell_type": "code",
   "execution_count": 2,
   "id": "55418789",
   "metadata": {},
   "outputs": [
    {
     "data": {
      "text/html": [
       "<div>\n",
       "<style scoped>\n",
       "    .dataframe tbody tr th:only-of-type {\n",
       "        vertical-align: middle;\n",
       "    }\n",
       "\n",
       "    .dataframe tbody tr th {\n",
       "        vertical-align: top;\n",
       "    }\n",
       "\n",
       "    .dataframe thead th {\n",
       "        text-align: right;\n",
       "    }\n",
       "</style>\n",
       "<table border=\"1\" class=\"dataframe\">\n",
       "  <thead>\n",
       "    <tr style=\"text-align: right;\">\n",
       "      <th></th>\n",
       "      <th>S.NO</th>\n",
       "      <th>Submitted_Time</th>\n",
       "      <th>Name</th>\n",
       "      <th>Location_City_Name</th>\n",
       "      <th>What_type_of_Tution_are_you_paying?</th>\n",
       "      <th>Study_in_Class</th>\n",
       "      <th>Which_Price_range_for_Tution_Monthly_Fees_You_like_must</th>\n",
       "      <th>Laptop_and_Mobile_which_Price_range_you_like_most</th>\n",
       "      <th>Do_you_like_biriyani_and_which_biriyani_you_like_the_more ?</th>\n",
       "      <th>What_is_Price_Range_for_1kg_Biryani_you_like_most</th>\n",
       "      <th>Which_Financial_products_you_like_most</th>\n",
       "      <th>Any_IDEA_or_Suggestions_for_Yoshops_Startup</th>\n",
       "    </tr>\n",
       "  </thead>\n",
       "  <tbody>\n",
       "    <tr>\n",
       "      <th>0</th>\n",
       "      <td>1</td>\n",
       "      <td>24-11-2022</td>\n",
       "      <td>Kavita Israni</td>\n",
       "      <td>No answer</td>\n",
       "      <td>Offline Class room</td>\n",
       "      <td>No answer</td>\n",
       "      <td>Rs.501 to 999</td>\n",
       "      <td>No answer</td>\n",
       "      <td>Veg Biryani  | Paneer Tikka Biryani</td>\n",
       "      <td>149 | 199</td>\n",
       "      <td>Mutual Fund SIP (ROI 12%)-1yr</td>\n",
       "      <td>No Answer</td>\n",
       "    </tr>\n",
       "    <tr>\n",
       "      <th>1</th>\n",
       "      <td>2</td>\n",
       "      <td>24-11-2022</td>\n",
       "      <td>Kunal Anand</td>\n",
       "      <td>No answer</td>\n",
       "      <td>Offline Class room</td>\n",
       "      <td>No answer</td>\n",
       "      <td>Rs.1 to Rs.499</td>\n",
       "      <td>No answer</td>\n",
       "      <td>Chicken Biryani</td>\n",
       "      <td>149</td>\n",
       "      <td>Company Stock IPO(ROI 15%)-1yr</td>\n",
       "      <td>No Answer</td>\n",
       "    </tr>\n",
       "    <tr>\n",
       "      <th>2</th>\n",
       "      <td>3</td>\n",
       "      <td>25-11-2022</td>\n",
       "      <td>Deepak parmal</td>\n",
       "      <td>No answer</td>\n",
       "      <td>Online Zoom meeting</td>\n",
       "      <td>Graduation with Internship</td>\n",
       "      <td>Rs.1 to Rs.499</td>\n",
       "      <td>No answer</td>\n",
       "      <td>Chicken Biryani</td>\n",
       "      <td>99</td>\n",
       "      <td>Yoshops Franchise Investment(ROI 20%)-1yr</td>\n",
       "      <td>Management should be better, I Think If you wo...</td>\n",
       "    </tr>\n",
       "    <tr>\n",
       "      <th>3</th>\n",
       "      <td>4</td>\n",
       "      <td>25-11-2022</td>\n",
       "      <td>Nidhi Gupta</td>\n",
       "      <td>No answer</td>\n",
       "      <td>Online Zoom meeting  | Offline Class room</td>\n",
       "      <td>LKG to STD 5 | STD 6 to STD 10</td>\n",
       "      <td>Rs.1001 to 1499</td>\n",
       "      <td>No answer</td>\n",
       "      <td>Chicken Biryani</td>\n",
       "      <td>149</td>\n",
       "      <td>Bank FD(Rate of Interest- 7%)-1yr</td>\n",
       "      <td>No</td>\n",
       "    </tr>\n",
       "    <tr>\n",
       "      <th>4</th>\n",
       "      <td>5</td>\n",
       "      <td>25-11-2022</td>\n",
       "      <td>Rohan Pandey</td>\n",
       "      <td>No answer</td>\n",
       "      <td>Online Zoom meeting</td>\n",
       "      <td>STD 6 to STD 10</td>\n",
       "      <td>Rs.1001 to 1499</td>\n",
       "      <td>No answer</td>\n",
       "      <td>Chicken Biryani</td>\n",
       "      <td>149</td>\n",
       "      <td>Bank FD(Rate of Interest- 7%)-1yr</td>\n",
       "      <td>Marketing</td>\n",
       "    </tr>\n",
       "    <tr>\n",
       "      <th>5</th>\n",
       "      <td>6</td>\n",
       "      <td>25-11-2022</td>\n",
       "      <td>Shimpy Bansal</td>\n",
       "      <td>No answer</td>\n",
       "      <td>Offline Class room</td>\n",
       "      <td>LKG to STD 5</td>\n",
       "      <td>Rs.1 to Rs.499</td>\n",
       "      <td>No answer</td>\n",
       "      <td>Veg Biryani</td>\n",
       "      <td>199</td>\n",
       "      <td>Bank FD(Rate of Interest- 7%)-1yr</td>\n",
       "      <td>no</td>\n",
       "    </tr>\n",
       "    <tr>\n",
       "      <th>6</th>\n",
       "      <td>7</td>\n",
       "      <td>25-11-2022</td>\n",
       "      <td>Sagar Singh Sandhu</td>\n",
       "      <td>No answer</td>\n",
       "      <td>Online Zoom meeting  | Offline Class room</td>\n",
       "      <td>LKG to STD 5 | STD 6 to STD 10</td>\n",
       "      <td>Rs.1001 to 1499</td>\n",
       "      <td>No answer</td>\n",
       "      <td>No Answer</td>\n",
       "      <td>No Answer</td>\n",
       "      <td>Post office RD (Rate of Interest- 6%)-1yr | Ba...</td>\n",
       "      <td>Keep your promise for giving job to interns</td>\n",
       "    </tr>\n",
       "    <tr>\n",
       "      <th>7</th>\n",
       "      <td>8</td>\n",
       "      <td>25-11-2022</td>\n",
       "      <td>Shubhangam Jha</td>\n",
       "      <td>No answer</td>\n",
       "      <td>Offline Class room</td>\n",
       "      <td>Graduation with Internship</td>\n",
       "      <td>Rs.501 to 999</td>\n",
       "      <td>No answer</td>\n",
       "      <td>Chicken Biryani</td>\n",
       "      <td>149</td>\n",
       "      <td>Post office RD (Rate of Interest- 6%)-1yr | Mu...</td>\n",
       "      <td>Decrease delivery time</td>\n",
       "    </tr>\n",
       "    <tr>\n",
       "      <th>8</th>\n",
       "      <td>9</td>\n",
       "      <td>25-11-2022</td>\n",
       "      <td>Riya</td>\n",
       "      <td>No answer</td>\n",
       "      <td>Online Zoom meeting</td>\n",
       "      <td>Post Graduation with Internship</td>\n",
       "      <td>Rs.1 to Rs.499</td>\n",
       "      <td>No answer</td>\n",
       "      <td>Chicken Biryani</td>\n",
       "      <td>199</td>\n",
       "      <td>Post office RD (Rate of Interest- 6%)-1yr</td>\n",
       "      <td>NaN</td>\n",
       "    </tr>\n",
       "    <tr>\n",
       "      <th>9</th>\n",
       "      <td>10</td>\n",
       "      <td>25-11-2022</td>\n",
       "      <td>Shubham Nipane</td>\n",
       "      <td>No answer</td>\n",
       "      <td>No Answer</td>\n",
       "      <td>No Answer</td>\n",
       "      <td>No Answer</td>\n",
       "      <td>No answer</td>\n",
       "      <td>Chicken Biryani</td>\n",
       "      <td>99</td>\n",
       "      <td>Company Stock IPO(ROI 15%)-1yr | Yoshops Franc...</td>\n",
       "      <td>NaN</td>\n",
       "    </tr>\n",
       "  </tbody>\n",
       "</table>\n",
       "</div>"
      ],
      "text/plain": [
       "   S.NO Submitted_Time                Name Location_City_Name  \\\n",
       "0     1     24-11-2022       Kavita Israni          No answer   \n",
       "1     2     24-11-2022         Kunal Anand          No answer   \n",
       "2     3     25-11-2022       Deepak parmal          No answer   \n",
       "3     4     25-11-2022         Nidhi Gupta          No answer   \n",
       "4     5     25-11-2022        Rohan Pandey          No answer   \n",
       "5     6     25-11-2022       Shimpy Bansal          No answer   \n",
       "6     7     25-11-2022  Sagar Singh Sandhu          No answer   \n",
       "7     8     25-11-2022      Shubhangam Jha          No answer   \n",
       "8     9     25-11-2022                Riya          No answer   \n",
       "9    10     25-11-2022      Shubham Nipane          No answer   \n",
       "\n",
       "         What_type_of_Tution_are_you_paying?  \\\n",
       "0                         Offline Class room   \n",
       "1                         Offline Class room   \n",
       "2                       Online Zoom meeting    \n",
       "3  Online Zoom meeting  | Offline Class room   \n",
       "4                       Online Zoom meeting    \n",
       "5                         Offline Class room   \n",
       "6  Online Zoom meeting  | Offline Class room   \n",
       "7                         Offline Class room   \n",
       "8                       Online Zoom meeting    \n",
       "9                                  No Answer   \n",
       "\n",
       "                    Study_in_Class   \\\n",
       "0                         No answer   \n",
       "1                         No answer   \n",
       "2       Graduation with Internship    \n",
       "3    LKG to STD 5 | STD 6 to STD 10   \n",
       "4                   STD 6 to STD 10   \n",
       "5                      LKG to STD 5   \n",
       "6    LKG to STD 5 | STD 6 to STD 10   \n",
       "7       Graduation with Internship    \n",
       "8  Post Graduation with Internship    \n",
       "9                         No Answer   \n",
       "\n",
       "  Which_Price_range_for_Tution_Monthly_Fees_You_like_must  \\\n",
       "0                                      Rs.501 to 999        \n",
       "1                                     Rs.1 to Rs.499        \n",
       "2                                     Rs.1 to Rs.499        \n",
       "3                                    Rs.1001 to 1499        \n",
       "4                                    Rs.1001 to 1499        \n",
       "5                                     Rs.1 to Rs.499        \n",
       "6                                    Rs.1001 to 1499        \n",
       "7                                      Rs.501 to 999        \n",
       "8                                     Rs.1 to Rs.499        \n",
       "9                                          No Answer        \n",
       "\n",
       "  Laptop_and_Mobile_which_Price_range_you_like_most  \\\n",
       "0                                         No answer   \n",
       "1                                         No answer   \n",
       "2                                         No answer   \n",
       "3                                         No answer   \n",
       "4                                         No answer   \n",
       "5                                         No answer   \n",
       "6                                         No answer   \n",
       "7                                         No answer   \n",
       "8                                         No answer   \n",
       "9                                         No answer   \n",
       "\n",
       "  Do_you_like_biriyani_and_which_biriyani_you_like_the_more ?  \\\n",
       "0               Veg Biryani  | Paneer Tikka Biryani             \n",
       "1                                   Chicken Biryani             \n",
       "2                                   Chicken Biryani             \n",
       "3                                   Chicken Biryani             \n",
       "4                                   Chicken Biryani             \n",
       "5                                       Veg Biryani             \n",
       "6                                          No Answer            \n",
       "7                                   Chicken Biryani             \n",
       "8                                   Chicken Biryani             \n",
       "9                                   Chicken Biryani             \n",
       "\n",
       "  What_is_Price_Range_for_1kg_Biryani_you_like_most   \\\n",
       "0                                          149 | 199   \n",
       "1                                                149   \n",
       "2                                                 99   \n",
       "3                                                149   \n",
       "4                                                149   \n",
       "5                                                199   \n",
       "6                                          No Answer   \n",
       "7                                                149   \n",
       "8                                                199   \n",
       "9                                                 99   \n",
       "\n",
       "              Which_Financial_products_you_like_most  \\\n",
       "0                      Mutual Fund SIP (ROI 12%)-1yr   \n",
       "1                     Company Stock IPO(ROI 15%)-1yr   \n",
       "2          Yoshops Franchise Investment(ROI 20%)-1yr   \n",
       "3                  Bank FD(Rate of Interest- 7%)-1yr   \n",
       "4                  Bank FD(Rate of Interest- 7%)-1yr   \n",
       "5                  Bank FD(Rate of Interest- 7%)-1yr   \n",
       "6  Post office RD (Rate of Interest- 6%)-1yr | Ba...   \n",
       "7  Post office RD (Rate of Interest- 6%)-1yr | Mu...   \n",
       "8          Post office RD (Rate of Interest- 6%)-1yr   \n",
       "9  Company Stock IPO(ROI 15%)-1yr | Yoshops Franc...   \n",
       "\n",
       "        Any_IDEA_or_Suggestions_for_Yoshops_Startup   \n",
       "0                                          No Answer  \n",
       "1                                          No Answer  \n",
       "2  Management should be better, I Think If you wo...  \n",
       "3                                                 No  \n",
       "4                                          Marketing  \n",
       "5                                                 no  \n",
       "6        Keep your promise for giving job to interns  \n",
       "7                             Decrease delivery time  \n",
       "8                                                NaN  \n",
       "9                                                NaN  "
      ]
     },
     "execution_count": 2,
     "metadata": {},
     "output_type": "execute_result"
    }
   ],
   "source": [
    "survey_df = pd.read_excel('Survey.xlsx')\n",
    "survey_df.head(10)"
   ]
  },
  {
   "cell_type": "code",
   "execution_count": 3,
   "id": "0da2803f",
   "metadata": {},
   "outputs": [
    {
     "data": {
      "text/html": [
       "<div>\n",
       "<style scoped>\n",
       "    .dataframe tbody tr th:only-of-type {\n",
       "        vertical-align: middle;\n",
       "    }\n",
       "\n",
       "    .dataframe tbody tr th {\n",
       "        vertical-align: top;\n",
       "    }\n",
       "\n",
       "    .dataframe thead th {\n",
       "        text-align: right;\n",
       "    }\n",
       "</style>\n",
       "<table border=\"1\" class=\"dataframe\">\n",
       "  <thead>\n",
       "    <tr style=\"text-align: right;\">\n",
       "      <th></th>\n",
       "      <th>Submitted_Time</th>\n",
       "      <th>Name</th>\n",
       "      <th>Location_City_Name</th>\n",
       "      <th>What_type_of_Tution_are_you_paying?</th>\n",
       "      <th>Study_in_Class</th>\n",
       "      <th>Which_Price_range_for_Tution_Monthly_Fees_You_like_must</th>\n",
       "      <th>Laptop_and_Mobile_which_Price_range_you_like_most</th>\n",
       "      <th>Do_you_like_biriyani_and_which_biriyani_you_like_the_more ?</th>\n",
       "      <th>What_is_Price_Range_for_1kg_Biryani_you_like_most</th>\n",
       "      <th>Which_Financial_products_you_like_most</th>\n",
       "      <th>Any_IDEA_or_Suggestions_for_Yoshops_Startup</th>\n",
       "    </tr>\n",
       "  </thead>\n",
       "  <tbody>\n",
       "    <tr>\n",
       "      <th>0</th>\n",
       "      <td>24-11-2022</td>\n",
       "      <td>Kavita Israni</td>\n",
       "      <td>No answer</td>\n",
       "      <td>Offline Class room</td>\n",
       "      <td>No answer</td>\n",
       "      <td>Rs.501 to 999</td>\n",
       "      <td>No answer</td>\n",
       "      <td>Veg Biryani  | Paneer Tikka Biryani</td>\n",
       "      <td>149 | 199</td>\n",
       "      <td>Mutual Fund SIP (ROI 12%)-1yr</td>\n",
       "      <td>No Answer</td>\n",
       "    </tr>\n",
       "    <tr>\n",
       "      <th>1</th>\n",
       "      <td>24-11-2022</td>\n",
       "      <td>Kunal Anand</td>\n",
       "      <td>No answer</td>\n",
       "      <td>Offline Class room</td>\n",
       "      <td>No answer</td>\n",
       "      <td>Rs.1 to Rs.499</td>\n",
       "      <td>No answer</td>\n",
       "      <td>Chicken Biryani</td>\n",
       "      <td>149</td>\n",
       "      <td>Company Stock IPO(ROI 15%)-1yr</td>\n",
       "      <td>No Answer</td>\n",
       "    </tr>\n",
       "    <tr>\n",
       "      <th>2</th>\n",
       "      <td>25-11-2022</td>\n",
       "      <td>Deepak parmal</td>\n",
       "      <td>No answer</td>\n",
       "      <td>Online Zoom meeting</td>\n",
       "      <td>Graduation with Internship</td>\n",
       "      <td>Rs.1 to Rs.499</td>\n",
       "      <td>No answer</td>\n",
       "      <td>Chicken Biryani</td>\n",
       "      <td>99</td>\n",
       "      <td>Yoshops Franchise Investment(ROI 20%)-1yr</td>\n",
       "      <td>Management should be better, I Think If you wo...</td>\n",
       "    </tr>\n",
       "    <tr>\n",
       "      <th>3</th>\n",
       "      <td>25-11-2022</td>\n",
       "      <td>Nidhi Gupta</td>\n",
       "      <td>No answer</td>\n",
       "      <td>Online Zoom meeting  | Offline Class room</td>\n",
       "      <td>LKG to STD 5 | STD 6 to STD 10</td>\n",
       "      <td>Rs.1001 to 1499</td>\n",
       "      <td>No answer</td>\n",
       "      <td>Chicken Biryani</td>\n",
       "      <td>149</td>\n",
       "      <td>Bank FD(Rate of Interest- 7%)-1yr</td>\n",
       "      <td>No</td>\n",
       "    </tr>\n",
       "    <tr>\n",
       "      <th>4</th>\n",
       "      <td>25-11-2022</td>\n",
       "      <td>Rohan Pandey</td>\n",
       "      <td>No answer</td>\n",
       "      <td>Online Zoom meeting</td>\n",
       "      <td>STD 6 to STD 10</td>\n",
       "      <td>Rs.1001 to 1499</td>\n",
       "      <td>No answer</td>\n",
       "      <td>Chicken Biryani</td>\n",
       "      <td>149</td>\n",
       "      <td>Bank FD(Rate of Interest- 7%)-1yr</td>\n",
       "      <td>Marketing</td>\n",
       "    </tr>\n",
       "    <tr>\n",
       "      <th>5</th>\n",
       "      <td>25-11-2022</td>\n",
       "      <td>Shimpy Bansal</td>\n",
       "      <td>No answer</td>\n",
       "      <td>Offline Class room</td>\n",
       "      <td>LKG to STD 5</td>\n",
       "      <td>Rs.1 to Rs.499</td>\n",
       "      <td>No answer</td>\n",
       "      <td>Veg Biryani</td>\n",
       "      <td>199</td>\n",
       "      <td>Bank FD(Rate of Interest- 7%)-1yr</td>\n",
       "      <td>no</td>\n",
       "    </tr>\n",
       "    <tr>\n",
       "      <th>6</th>\n",
       "      <td>25-11-2022</td>\n",
       "      <td>Sagar Singh Sandhu</td>\n",
       "      <td>No answer</td>\n",
       "      <td>Online Zoom meeting  | Offline Class room</td>\n",
       "      <td>LKG to STD 5 | STD 6 to STD 10</td>\n",
       "      <td>Rs.1001 to 1499</td>\n",
       "      <td>No answer</td>\n",
       "      <td>No Answer</td>\n",
       "      <td>No Answer</td>\n",
       "      <td>Post office RD (Rate of Interest- 6%)-1yr | Ba...</td>\n",
       "      <td>Keep your promise for giving job to interns</td>\n",
       "    </tr>\n",
       "    <tr>\n",
       "      <th>7</th>\n",
       "      <td>25-11-2022</td>\n",
       "      <td>Shubhangam Jha</td>\n",
       "      <td>No answer</td>\n",
       "      <td>Offline Class room</td>\n",
       "      <td>Graduation with Internship</td>\n",
       "      <td>Rs.501 to 999</td>\n",
       "      <td>No answer</td>\n",
       "      <td>Chicken Biryani</td>\n",
       "      <td>149</td>\n",
       "      <td>Post office RD (Rate of Interest- 6%)-1yr | Mu...</td>\n",
       "      <td>Decrease delivery time</td>\n",
       "    </tr>\n",
       "    <tr>\n",
       "      <th>8</th>\n",
       "      <td>25-11-2022</td>\n",
       "      <td>Riya</td>\n",
       "      <td>No answer</td>\n",
       "      <td>Online Zoom meeting</td>\n",
       "      <td>Post Graduation with Internship</td>\n",
       "      <td>Rs.1 to Rs.499</td>\n",
       "      <td>No answer</td>\n",
       "      <td>Chicken Biryani</td>\n",
       "      <td>199</td>\n",
       "      <td>Post office RD (Rate of Interest- 6%)-1yr</td>\n",
       "      <td>NaN</td>\n",
       "    </tr>\n",
       "    <tr>\n",
       "      <th>9</th>\n",
       "      <td>25-11-2022</td>\n",
       "      <td>Shubham Nipane</td>\n",
       "      <td>No answer</td>\n",
       "      <td>No Answer</td>\n",
       "      <td>No Answer</td>\n",
       "      <td>No Answer</td>\n",
       "      <td>No answer</td>\n",
       "      <td>Chicken Biryani</td>\n",
       "      <td>99</td>\n",
       "      <td>Company Stock IPO(ROI 15%)-1yr | Yoshops Franc...</td>\n",
       "      <td>NaN</td>\n",
       "    </tr>\n",
       "  </tbody>\n",
       "</table>\n",
       "</div>"
      ],
      "text/plain": [
       "  Submitted_Time                Name Location_City_Name  \\\n",
       "0     24-11-2022       Kavita Israni          No answer   \n",
       "1     24-11-2022         Kunal Anand          No answer   \n",
       "2     25-11-2022       Deepak parmal          No answer   \n",
       "3     25-11-2022         Nidhi Gupta          No answer   \n",
       "4     25-11-2022        Rohan Pandey          No answer   \n",
       "5     25-11-2022       Shimpy Bansal          No answer   \n",
       "6     25-11-2022  Sagar Singh Sandhu          No answer   \n",
       "7     25-11-2022      Shubhangam Jha          No answer   \n",
       "8     25-11-2022                Riya          No answer   \n",
       "9     25-11-2022      Shubham Nipane          No answer   \n",
       "\n",
       "         What_type_of_Tution_are_you_paying?  \\\n",
       "0                         Offline Class room   \n",
       "1                         Offline Class room   \n",
       "2                       Online Zoom meeting    \n",
       "3  Online Zoom meeting  | Offline Class room   \n",
       "4                       Online Zoom meeting    \n",
       "5                         Offline Class room   \n",
       "6  Online Zoom meeting  | Offline Class room   \n",
       "7                         Offline Class room   \n",
       "8                       Online Zoom meeting    \n",
       "9                                  No Answer   \n",
       "\n",
       "                    Study_in_Class   \\\n",
       "0                         No answer   \n",
       "1                         No answer   \n",
       "2       Graduation with Internship    \n",
       "3    LKG to STD 5 | STD 6 to STD 10   \n",
       "4                   STD 6 to STD 10   \n",
       "5                      LKG to STD 5   \n",
       "6    LKG to STD 5 | STD 6 to STD 10   \n",
       "7       Graduation with Internship    \n",
       "8  Post Graduation with Internship    \n",
       "9                         No Answer   \n",
       "\n",
       "  Which_Price_range_for_Tution_Monthly_Fees_You_like_must  \\\n",
       "0                                      Rs.501 to 999        \n",
       "1                                     Rs.1 to Rs.499        \n",
       "2                                     Rs.1 to Rs.499        \n",
       "3                                    Rs.1001 to 1499        \n",
       "4                                    Rs.1001 to 1499        \n",
       "5                                     Rs.1 to Rs.499        \n",
       "6                                    Rs.1001 to 1499        \n",
       "7                                      Rs.501 to 999        \n",
       "8                                     Rs.1 to Rs.499        \n",
       "9                                          No Answer        \n",
       "\n",
       "  Laptop_and_Mobile_which_Price_range_you_like_most  \\\n",
       "0                                         No answer   \n",
       "1                                         No answer   \n",
       "2                                         No answer   \n",
       "3                                         No answer   \n",
       "4                                         No answer   \n",
       "5                                         No answer   \n",
       "6                                         No answer   \n",
       "7                                         No answer   \n",
       "8                                         No answer   \n",
       "9                                         No answer   \n",
       "\n",
       "  Do_you_like_biriyani_and_which_biriyani_you_like_the_more ?  \\\n",
       "0               Veg Biryani  | Paneer Tikka Biryani             \n",
       "1                                   Chicken Biryani             \n",
       "2                                   Chicken Biryani             \n",
       "3                                   Chicken Biryani             \n",
       "4                                   Chicken Biryani             \n",
       "5                                       Veg Biryani             \n",
       "6                                          No Answer            \n",
       "7                                   Chicken Biryani             \n",
       "8                                   Chicken Biryani             \n",
       "9                                   Chicken Biryani             \n",
       "\n",
       "  What_is_Price_Range_for_1kg_Biryani_you_like_most   \\\n",
       "0                                          149 | 199   \n",
       "1                                                149   \n",
       "2                                                 99   \n",
       "3                                                149   \n",
       "4                                                149   \n",
       "5                                                199   \n",
       "6                                          No Answer   \n",
       "7                                                149   \n",
       "8                                                199   \n",
       "9                                                 99   \n",
       "\n",
       "              Which_Financial_products_you_like_most  \\\n",
       "0                      Mutual Fund SIP (ROI 12%)-1yr   \n",
       "1                     Company Stock IPO(ROI 15%)-1yr   \n",
       "2          Yoshops Franchise Investment(ROI 20%)-1yr   \n",
       "3                  Bank FD(Rate of Interest- 7%)-1yr   \n",
       "4                  Bank FD(Rate of Interest- 7%)-1yr   \n",
       "5                  Bank FD(Rate of Interest- 7%)-1yr   \n",
       "6  Post office RD (Rate of Interest- 6%)-1yr | Ba...   \n",
       "7  Post office RD (Rate of Interest- 6%)-1yr | Mu...   \n",
       "8          Post office RD (Rate of Interest- 6%)-1yr   \n",
       "9  Company Stock IPO(ROI 15%)-1yr | Yoshops Franc...   \n",
       "\n",
       "        Any_IDEA_or_Suggestions_for_Yoshops_Startup   \n",
       "0                                          No Answer  \n",
       "1                                          No Answer  \n",
       "2  Management should be better, I Think If you wo...  \n",
       "3                                                 No  \n",
       "4                                          Marketing  \n",
       "5                                                 no  \n",
       "6        Keep your promise for giving job to interns  \n",
       "7                             Decrease delivery time  \n",
       "8                                                NaN  \n",
       "9                                                NaN  "
      ]
     },
     "execution_count": 3,
     "metadata": {},
     "output_type": "execute_result"
    }
   ],
   "source": [
    "## Dropping the irrelevant columns which are not needed for doing the analysis\n",
    "survey_df = survey_df.drop(['S.NO'],axis = 1)\n",
    "survey_df.head(10)"
   ]
  },
  {
   "cell_type": "code",
   "execution_count": 4,
   "id": "a27d7fc8",
   "metadata": {},
   "outputs": [],
   "source": [
    "survey_df['Week_Year'] =  pd.to_datetime(survey_df['Submitted_Time'], format='%d-%m-%Y').apply(lambda x: x.strftime('%U-%Y'))"
   ]
  },
  {
   "cell_type": "code",
   "execution_count": 5,
   "id": "73a90cc9",
   "metadata": {},
   "outputs": [
    {
     "data": {
      "text/plain": [
       "50-2022    344\n",
       "49-2022    207\n",
       "07-2023    192\n",
       "52-2022    172\n",
       "04-2023    105\n",
       "06-2023     93\n",
       "02-2023     81\n",
       "51-2022     72\n",
       "48-2022     61\n",
       "01-2023     59\n",
       "03-2023     54\n",
       "05-2023     30\n",
       "47-2022     16\n",
       "08-2023      2\n",
       "Name: Week_Year, dtype: int64"
      ]
     },
     "execution_count": 5,
     "metadata": {},
     "output_type": "execute_result"
    }
   ],
   "source": [
    "survey_df.Week_Year.value_counts()"
   ]
  },
  {
   "cell_type": "code",
   "execution_count": 6,
   "id": "ac53bcfd",
   "metadata": {},
   "outputs": [],
   "source": [
    "week_47_2022 = survey_df[(survey_df['Week_Year'] == '47-2022')]\n",
    "week_48_2022 = survey_df[(survey_df['Week_Year'] == '48-2022')]\n",
    "week_49_2022 = survey_df[(survey_df['Week_Year'] == '49-2022')]\n",
    "week_50_2022 = survey_df[(survey_df['Week_Year'] == '50-2022')]\n",
    "week_51_2022 = survey_df[(survey_df['Week_Year'] == '51-2022')]\n",
    "week_52_2022 = survey_df[(survey_df['Week_Year'] == '52-2022')]\n",
    "\n",
    "week_01_2023 = survey_df[(survey_df['Week_Year'] == '01-2023')]\n",
    "week_02_2023 = survey_df[(survey_df['Week_Year'] == '02-2023')]\n",
    "week_03_2023 = survey_df[(survey_df['Week_Year'] == '03-2023')]\n",
    "week_04_2023 = survey_df[(survey_df['Week_Year'] == '04-2023')]\n",
    "week_05_2023 = survey_df[(survey_df['Week_Year'] == '05-2023')]\n",
    "week_06_2023 = survey_df[(survey_df['Week_Year'] == '06-2023')]\n",
    "week_07_2023 = survey_df[(survey_df['Week_Year'] == '07-2023')]\n",
    "week_08_2023 = survey_df[(survey_df['Week_Year'] == '08-2023')]"
   ]
  },
  {
   "cell_type": "code",
   "execution_count": 7,
   "id": "4eb8305c",
   "metadata": {},
   "outputs": [],
   "source": [
    "#week_47_2022.to_excel('week_47_2022.xlsx')\n",
    "#week_48_2022.to_excel('week_48_2022.xlsx')\n",
    "#week_49_2022.to_excel('week_49_2022.xlsx')\n",
    "#week_50_2022.to_excel('week_50_2022.xlsx')\n",
    "#week_51_2022.to_excel('week_51_2022.xlsx')\n",
    "#week_52_2022.to_excel('week_52_2022.xlsx')\n",
    "\n",
    "#week_01_2023.to_excel('week_01_2023.xlsx')\n",
    "#week_02_2023.to_excel('week_02_2023.xlsx')\n",
    "#week_03_2023.to_excel('week_03_2023.xlsx')\n",
    "#week_04_2023.to_excel('week_04_2023.xlsx')\n",
    "#week_05_2023.to_excel('week_05_2023.xlsx')\n",
    "#week_06_2023.to_excel('week_06_2023.xlsx')\n",
    "#week_07_2023.to_excel('week_07_2023.xlsx')\n",
    "#week_08_2023.to_excel('week_08_2023.xlsx')"
   ]
  },
  {
   "cell_type": "markdown",
   "id": "40a3f42f",
   "metadata": {},
   "source": [
    "### Week V/S Tution type"
   ]
  },
  {
   "cell_type": "code",
   "execution_count": 8,
   "id": "9baab251",
   "metadata": {},
   "outputs": [],
   "source": [
    "tut_47_2022_survey = list(week_47_2022 ['What_type_of_Tution_are_you_paying?'].value_counts().keys())\n",
    "tut_47_2022_survey_count = week_47_2022 ['What_type_of_Tution_are_you_paying?'].value_counts().tolist()\n",
    "\n",
    "tut_48_2022_survey = list(week_48_2022 ['What_type_of_Tution_are_you_paying?'].value_counts().keys())\n",
    "tut_48_2022_survey_count = week_48_2022 ['What_type_of_Tution_are_you_paying?'].value_counts().tolist()\n",
    "\n",
    "tut_49_2022_survey = list(week_49_2022 ['What_type_of_Tution_are_you_paying?'].value_counts().keys())\n",
    "tut_49_2022_survey_count = week_49_2022 ['What_type_of_Tution_are_you_paying?'].value_counts().tolist()\n",
    "\n",
    "tut_50_2022_survey = list(week_50_2022 ['What_type_of_Tution_are_you_paying?'].value_counts().keys())\n",
    "tut_50_2022_survey_count = week_50_2022 ['What_type_of_Tution_are_you_paying?'].value_counts().tolist()\n",
    "\n",
    "tut_51_2022_survey = list(week_51_2022 ['What_type_of_Tution_are_you_paying?'].value_counts().keys())\n",
    "tut_51_2022_survey_count = week_51_2022 ['What_type_of_Tution_are_you_paying?'].value_counts().tolist()\n",
    "\n",
    "tut_52_2022_survey = list(week_52_2022 ['What_type_of_Tution_are_you_paying?'].value_counts().keys())\n",
    "tut_52_2022_survey_count = week_52_2022 ['What_type_of_Tution_are_you_paying?'].value_counts().tolist()\n",
    "\n",
    "tut_01_2023_survey = list(week_01_2023 ['What_type_of_Tution_are_you_paying?'].value_counts().keys())\n",
    "tut_01_2023_survey_count = week_01_2023 ['What_type_of_Tution_are_you_paying?'].value_counts().tolist()\n",
    "\n",
    "tut_02_2023_survey = list(week_02_2023 ['What_type_of_Tution_are_you_paying?'].value_counts().keys())\n",
    "tut_02_2023_survey_count = week_02_2023 ['What_type_of_Tution_are_you_paying?'].value_counts().tolist()\n",
    "\n",
    "tut_03_2023_survey = list(week_03_2023 ['What_type_of_Tution_are_you_paying?'].value_counts().keys())\n",
    "tut_03_2023_survey_count = week_03_2023 ['What_type_of_Tution_are_you_paying?'].value_counts().tolist()\n",
    "\n",
    "tut_04_2023_survey = list(week_04_2023 ['What_type_of_Tution_are_you_paying?'].value_counts().keys())\n",
    "tut_04_2023_survey_count = week_04_2023 ['What_type_of_Tution_are_you_paying?'].value_counts().tolist()\n",
    "\n",
    "tut_05_2023_survey = list(week_05_2023 ['What_type_of_Tution_are_you_paying?'].value_counts().keys())\n",
    "tut_05_2023_survey_count = week_05_2023 ['What_type_of_Tution_are_you_paying?'].value_counts().tolist()\n",
    "\n",
    "tut_06_2023_survey = list(week_06_2023 ['What_type_of_Tution_are_you_paying?'].value_counts().keys())\n",
    "tut_06_2023_survey_count = week_06_2023 ['What_type_of_Tution_are_you_paying?'].value_counts().tolist()\n",
    "\n",
    "tut_07_2023_survey = list(week_07_2023 ['What_type_of_Tution_are_you_paying?'].value_counts().keys())\n",
    "tut_07_2023_survey_count = week_07_2023 ['What_type_of_Tution_are_you_paying?'].value_counts().tolist()\n",
    "\n",
    "tut_08_2023_survey = list(week_08_2023 ['What_type_of_Tution_are_you_paying?'].value_counts().keys())\n",
    "tut_08_2023_survey_count = week_08_2023 ['What_type_of_Tution_are_you_paying?'].value_counts().tolist()"
   ]
  },
  {
   "cell_type": "code",
   "execution_count": 9,
   "id": "7c3a1ccd",
   "metadata": {
    "scrolled": false
   },
   "outputs": [
    {
     "data": {
      "image/png": "[encoded data removed]",
      "text/plain": [
       "<Figure size 640x480 with 1 Axes>"
      ]
     },
     "metadata": {},
     "output_type": "display_data"
    }
   ],
   "source": [
    "fig, ax = plt.subplots() \n",
    "\n",
    "\n",
    "bar_container_2 = ax.bar(tut_48_2022_survey,tut_48_2022_survey_count)\n",
    "ax.bar_label(bar_container_2,label_type = 'edge') \n",
    "\n",
    "bar_container_1 = ax.bar(tut_47_2022_survey,tut_47_2022_survey_count)\n",
    "ax.bar_label(bar_container_1,label_type = 'edge')\n",
    "\n",
    "\n",
    "\n",
    "\n",
    "plt.xticks(rotation=90)\n",
    "plt.xlabel(\"Preferred Tution Type\")\n",
    "plt.ylabel(\"Count\")\n",
    "plt.title('Tution Types for weeks 47 and 48 of 2022')\n",
    "plt.legend([\"47-2022\",\"48-2022\"])\n",
    "\n",
    "plt.show()"
   ]
  },
  {
   "cell_type": "code",
   "execution_count": 10,
   "id": "ac67bcfc",
   "metadata": {},
   "outputs": [
    {
     "data": {
      "image/png": "[encoded data removed]",
      "text/plain": [
       "<Figure size 640x480 with 1 Axes>"
      ]
     },
     "metadata": {},
     "output_type": "display_data"
    }
   ],
   "source": [
    "fig, ax = plt.subplots()\n",
    "\n",
    "\n",
    "\n",
    "bar_container_4 = ax.bar(tut_50_2022_survey,tut_50_2022_survey_count)\n",
    "ax.bar_label(bar_container_4,label_type = 'edge')\n",
    "\n",
    "bar_container_3 = ax.bar(tut_49_2022_survey,tut_49_2022_survey_count)\n",
    "ax.bar_label(bar_container_3,label_type = 'edge') \n",
    "\n",
    "plt.xticks(rotation=90)\n",
    "plt.xlabel(\"Preferred Tution Type\")\n",
    "plt.ylabel(\"Count\")\n",
    "plt.title('Tution Types for weeks of week 49 and 50 of 2022')\n",
    "plt.legend([\"50-2022\",\"49-2022\"])\n",
    "\n",
    "plt.show()"
   ]
  },
  {
   "cell_type": "code",
   "execution_count": 11,
   "id": "ecf816bc",
   "metadata": {},
   "outputs": [
    {
     "data": {
      "image/png": "[encoded data removed]",
      "text/plain": [
       "<Figure size 640x480 with 1 Axes>"
      ]
     },
     "metadata": {},
     "output_type": "display_data"
    }
   ],
   "source": [
    "fig, ax = plt.subplots() \n",
    "\n",
    "\n",
    "bar_container_6 = ax.bar(tut_52_2022_survey,tut_52_2022_survey_count)\n",
    "ax.bar_label(bar_container_6,label_type = 'edge')\n",
    "\n",
    "bar_container_5 = ax.bar(tut_51_2022_survey,tut_51_2022_survey_count)\n",
    "ax.bar_label(bar_container_5,label_type = 'edge')\n",
    "\n",
    "\n",
    "\n",
    "\n",
    "plt.xticks(rotation=90)\n",
    "plt.xlabel(\"Preferred Tution Type\")\n",
    "plt.ylabel(\"Count\")\n",
    "plt.title('Tution Types for weeks 51 and 52 of 2022')\n",
    "plt.legend([\"52-2022\",\"51-2022\"])\n",
    "\n",
    "plt.show()"
   ]
  },
  {
   "cell_type": "code",
   "execution_count": 12,
   "id": "48100791",
   "metadata": {},
   "outputs": [
    {
     "data": {
      "image/png": "[encoded data removed]",
      "text/plain": [
       "<Figure size 640x480 with 1 Axes>"
      ]
     },
     "metadata": {},
     "output_type": "display_data"
    }
   ],
   "source": [
    "fig, ax = plt.subplots() \n",
    "\n",
    "bar_container_8 = ax.bar(tut_02_2023_survey,tut_02_2023_survey_count)\n",
    "ax.bar_label(bar_container_8,label_type = 'edge')\n",
    "\n",
    "\n",
    "bar_container_7 = ax.bar(tut_01_2023_survey,tut_01_2023_survey_count)\n",
    "ax.bar_label(bar_container_7,label_type = 'edge')\n",
    "\n",
    "\n",
    "\n",
    "plt.xticks(rotation=90)\n",
    "plt.xlabel(\"Preferred Tution Type\")\n",
    "plt.ylabel(\"Count\")\n",
    "plt.title('Tution Types for weeks 1 and 2 of 2023')\n",
    "plt.legend([\"02-2023\",\"01-2023\"])\n",
    "\n",
    "plt.show()"
   ]
  },
  {
   "cell_type": "code",
   "execution_count": 13,
   "id": "33d998ca",
   "metadata": {},
   "outputs": [
    {
     "data": {
      "image/png": "[encoded data removed]",
      "text/plain": [
       "<Figure size 640x480 with 1 Axes>"
      ]
     },
     "metadata": {},
     "output_type": "display_data"
    }
   ],
   "source": [
    "fig, ax = plt.subplots() \n",
    "\n",
    "\n",
    "\n",
    "\n",
    "bar_container_10 = ax.bar(tut_04_2023_survey,tut_04_2023_survey_count)\n",
    "ax.bar_label(bar_container_10,label_type = 'edge')\n",
    "\n",
    "bar_container_9 = ax.bar(tut_03_2023_survey,tut_03_2023_survey_count)\n",
    "ax.bar_label(bar_container_9,label_type = 'edge')\n",
    "\n",
    "plt.xticks(rotation=90)\n",
    "plt.xlabel(\"Preferred Tution Type\")\n",
    "plt.ylabel(\"Count\")\n",
    "plt.title('Tution Types for weeks 3 and 4 of 2023')\n",
    "plt.legend([\"04-2023\",\"03-2023\"])\n",
    "\n",
    "plt.show()"
   ]
  },
  {
   "cell_type": "code",
   "execution_count": 14,
   "id": "5ba98e22",
   "metadata": {},
   "outputs": [
    {
     "data": {
      "image/png": "[encoded data removed]",
      "text/plain": [
       "<Figure size 640x480 with 1 Axes>"
      ]
     },
     "metadata": {},
     "output_type": "display_data"
    }
   ],
   "source": [
    "fig, ax = plt.subplots() \n",
    "\n",
    "\n",
    "\n",
    "bar_container_12 = ax.bar(tut_06_2023_survey,tut_06_2023_survey_count)\n",
    "ax.bar_label(bar_container_12,label_type = 'edge')\n",
    "\n",
    "bar_container_11 = ax.bar(tut_05_2023_survey,tut_05_2023_survey_count)\n",
    "ax.bar_label(bar_container_11,label_type = 'edge')\n",
    "\n",
    "plt.xticks(rotation=90)\n",
    "plt.xlabel(\"Preferred Tution Type\")\n",
    "plt.ylabel(\"Count\")\n",
    "plt.title('Tution Types for weeks 5 and 6 of 2023')\n",
    "plt.legend([\"06-2023\",\"05-2023\"])\n",
    "\n",
    "plt.show()"
   ]
  },
  {
   "cell_type": "code",
   "execution_count": 15,
   "id": "935f8428",
   "metadata": {},
   "outputs": [
    {
     "data": {
      "image/png": "[encoded data removed]",
      "text/plain": [
       "<Figure size 640x480 with 1 Axes>"
      ]
     },
     "metadata": {},
     "output_type": "display_data"
    }
   ],
   "source": [
    "fig, ax = plt.subplots() \n",
    "\n",
    "\n",
    "bar_container_13 = ax.bar(tut_07_2023_survey,tut_07_2023_survey_count)\n",
    "ax.bar_label(bar_container_13,label_type = 'edge')\n",
    "\n",
    "bar_container_14 = ax.bar(tut_08_2023_survey,tut_08_2023_survey_count)\n",
    "ax.bar_label(bar_container_14,label_type = 'edge')\n",
    "\n",
    "plt.xticks(rotation=90)\n",
    "plt.xlabel(\"Preferred Tution Type\")\n",
    "plt.ylabel(\"Count\")\n",
    "plt.title('Tution Types for weeks 7 and 8 of 2023')\n",
    "plt.legend([\"07-2023\",\"08-2023\"])\n",
    "\n",
    "plt.show()"
   ]
  },
  {
   "cell_type": "markdown",
   "id": "b56a497c",
   "metadata": {},
   "source": [
    "### Week V/S Class Studying"
   ]
  },
  {
   "cell_type": "code",
   "execution_count": 16,
   "id": "634b61c8",
   "metadata": {},
   "outputs": [
    {
     "data": {
      "text/plain": [
       "Graduation with Internship          5\n",
       "No answer                           2\n",
       "LKG to STD 5 | STD 6 to STD 10      2\n",
       "Post Graduation with Internship     2\n",
       "No Answer                           2\n",
       "STD 6 to STD 10                     1\n",
       "LKG to STD 5                        1\n",
       "11th and 12th JEE preparation       1\n",
       "Name: Study_in_Class , dtype: int64"
      ]
     },
     "execution_count": 16,
     "metadata": {},
     "output_type": "execute_result"
    }
   ],
   "source": [
    "week_47_2022['Study_in_Class '].value_counts()"
   ]
  },
  {
   "cell_type": "code",
   "execution_count": 17,
   "id": "f7c22a6a",
   "metadata": {},
   "outputs": [
    {
     "data": {
      "text/plain": [
       "LKG to STD 5                                                                                                                        19\n",
       "Post Graduation with Internship                                                                                                     11\n",
       "Graduation with Internship                                                                                                          11\n",
       "STD 6 to STD 10                                                                                                                      9\n",
       "11th and 12th JEE preparation                                                                                                        7\n",
       "LKG to STD 5 | STD 6 to STD 10 | 11th and 12th JEE preparation  | Graduation with Internship                                         1\n",
       "LKG to STD 5 | STD 6 to STD 10                                                                                                       1\n",
       "LKG to STD 5 | STD 6 to STD 10 | 11th and 12th JEE preparation  | Graduation with Internship  | Post Graduation with Internship      1\n",
       "No Answer                                                                                                                            1\n",
       "Name: Study_in_Class , dtype: int64"
      ]
     },
     "execution_count": 17,
     "metadata": {},
     "output_type": "execute_result"
    }
   ],
   "source": [
    "week_48_2022['Study_in_Class '].value_counts()"
   ]
  },
  {
   "cell_type": "code",
   "execution_count": 18,
   "id": "c6a867a6",
   "metadata": {},
   "outputs": [
    {
     "data": {
      "text/plain": [
       "Graduation with Internship                                                                                                          57\n",
       "LKG to STD 5                                                                                                                        44\n",
       "Post Graduation with Internship                                                                                                     35\n",
       "STD 6 to STD 10                                                                                                                     30\n",
       "11th and 12th JEE preparation                                                                                                       26\n",
       "LKG to STD 5 | STD 6 to STD 10                                                                                                       4\n",
       "Graduation with Internship  | Post Graduation with Internship                                                                        4\n",
       "STD 6 to STD 10 | 11th and 12th JEE preparation                                                                                      2\n",
       "LKG to STD 5 | Graduation with Internship                                                                                            1\n",
       "LKG to STD 5 | STD 6 to STD 10 | 11th and 12th JEE preparation                                                                       1\n",
       "11th and 12th JEE preparation  | Graduation with Internship                                                                          1\n",
       "LKG to STD 5 | STD 6 to STD 10 | 11th and 12th JEE preparation  | Graduation with Internship  | Post Graduation with Internship      1\n",
       "LKG to STD 5 | Post Graduation with Internship                                                                                       1\n",
       "Name: Study_in_Class , dtype: int64"
      ]
     },
     "execution_count": 18,
     "metadata": {},
     "output_type": "execute_result"
    }
   ],
   "source": [
    "week_49_2022['Study_in_Class '].value_counts()"
   ]
  },
  {
   "cell_type": "code",
   "execution_count": 19,
   "id": "4cfbba7c",
   "metadata": {},
   "outputs": [
    {
     "data": {
      "text/plain": [
       "Graduation with Internship                                                                                                          122\n",
       "Post Graduation with Internship                                                                                                      55\n",
       "STD 6 to STD 10                                                                                                                      50\n",
       "11th and 12th JEE preparation                                                                                                        44\n",
       "LKG to STD 5                                                                                                                         37\n",
       "LKG to STD 5 | STD 6 to STD 10                                                                                                        9\n",
       "LKG to STD 5 | STD 6 to STD 10 | 11th and 12th JEE preparation  | Graduation with Internship  | Post Graduation with Internship       7\n",
       "STD 6 to STD 10 | 11th and 12th JEE preparation                                                                                       6\n",
       "Graduation with Internship  | Post Graduation with Internship                                                                         3\n",
       "11th and 12th JEE preparation  | Graduation with Internship                                                                           3\n",
       "LKG to STD 5 | Post Graduation with Internship                                                                                        2\n",
       "LKG to STD 5 | Graduation with Internship                                                                                             2\n",
       "11th and 12th JEE preparation  | Post Graduation with Internship                                                                      2\n",
       "STD 6 to STD 10 | Post Graduation with Internship                                                                                     1\n",
       "LKG to STD 5 | STD 6 to STD 10 | 11th and 12th JEE preparation  | Graduation with Internship                                          1\n",
       "Name: Study_in_Class , dtype: int64"
      ]
     },
     "execution_count": 19,
     "metadata": {},
     "output_type": "execute_result"
    }
   ],
   "source": [
    "week_50_2022['Study_in_Class '].value_counts()"
   ]
  },
  {
   "cell_type": "code",
   "execution_count": 20,
   "id": "8f92a2f1",
   "metadata": {},
   "outputs": [
    {
     "data": {
      "text/plain": [
       "Graduation with Internship                                                                                                          33\n",
       "Post Graduation with Internship                                                                                                     13\n",
       "LKG to STD 5                                                                                                                         8\n",
       "STD 6 to STD 10                                                                                                                      6\n",
       "11th and 12th JEE preparation                                                                                                        5\n",
       "LKG to STD 5 | STD 6 to STD 10 | 11th and 12th JEE preparation  | Graduation with Internship  | Post Graduation with Internship      2\n",
       "11th and 12th JEE preparation  | Graduation with Internship                                                                          2\n",
       "LKG to STD 5 | STD 6 to STD 10 | 11th and 12th JEE preparation  | Graduation with Internship                                         1\n",
       "STD 6 to STD 10 | 11th and 12th JEE preparation                                                                                      1\n",
       "LKG to STD 5 | 11th and 12th JEE preparation                                                                                         1\n",
       "Name: Study_in_Class , dtype: int64"
      ]
     },
     "execution_count": 20,
     "metadata": {},
     "output_type": "execute_result"
    }
   ],
   "source": [
    "week_51_2022['Study_in_Class '].value_counts()"
   ]
  },
  {
   "cell_type": "code",
   "execution_count": 21,
   "id": "8bb39260",
   "metadata": {},
   "outputs": [
    {
     "data": {
      "text/plain": [
       "Graduation with Internship                                                                                           36\n",
       "Post Graduation with Internship                                                                                      33\n",
       "STD 6 to STD 10                                                                                                      29\n",
       "11th and 12th JEE preparation                                                                                        26\n",
       "LKG to STD 5                                                                                                         24\n",
       "Graduation with Internship  | Post Graduation with Internship                                                         8\n",
       "11th and 12th JEE preparation  | Graduation with Internship  | Post Graduation with Internship                        6\n",
       "11th and 12th JEE preparation  | Graduation with Internship                                                           3\n",
       "LKG to STD 5 | STD 6 to STD 10                                                                                        2\n",
       "LKG to STD 5 | STD 6 to STD 10 | 11th and 12th JEE preparation                                                        2\n",
       "STD 6 to STD 10 | 11th and 12th JEE preparation                                                                       1\n",
       "STD 6 to STD 10 | 11th and 12th JEE preparation  | Post Graduation with Internship                                    1\n",
       "STD 6 to STD 10 | 11th and 12th JEE preparation  | Graduation with Internship  | Post Graduation with Internship      1\n",
       "Name: Study_in_Class , dtype: int64"
      ]
     },
     "execution_count": 21,
     "metadata": {},
     "output_type": "execute_result"
    }
   ],
   "source": [
    "week_52_2022['Study_in_Class '].value_counts()"
   ]
  },
  {
   "cell_type": "code",
   "execution_count": 22,
   "id": "a0b03cc1",
   "metadata": {},
   "outputs": [
    {
     "data": {
      "text/plain": [
       "Graduation with Internship                                                                         12\n",
       "Post Graduation with Internship                                                                     9\n",
       "11th and 12th JEE preparation                                                                       9\n",
       "STD 6 to STD 10                                                                                     6\n",
       "11th and 12th JEE preparation  | Graduation with Internship  | Post Graduation with Internship      6\n",
       "Graduation with Internship  | Post Graduation with Internship                                       6\n",
       "LKG to STD 5                                                                                        5\n",
       "LKG to STD 5 | STD 6 to STD 10                                                                      2\n",
       "11th and 12th JEE preparation  | Graduation with Internship                                         1\n",
       "STD 6 to STD 10 | 11th and 12th JEE preparation                                                     1\n",
       "LKG to STD 5 | STD 6 to STD 10 | 11th and 12th JEE preparation                                      1\n",
       "LKG to STD 5 | 11th and 12th JEE preparation                                                        1\n",
       "Name: Study_in_Class , dtype: int64"
      ]
     },
     "execution_count": 22,
     "metadata": {},
     "output_type": "execute_result"
    }
   ],
   "source": [
    "week_01_2023['Study_in_Class '].value_counts()"
   ]
  },
  {
   "cell_type": "code",
   "execution_count": 23,
   "id": "69c50ad1",
   "metadata": {},
   "outputs": [
    {
     "data": {
      "text/plain": [
       "Graduation with Internship                                        41\n",
       "Post Graduation with Internship                                   27\n",
       "11th and 12th JEE preparation                                      5\n",
       "STD 6 to STD 10                                                    4\n",
       "Graduation with Internship  | Post Graduation with Internship      2\n",
       "LKG to STD 5                                                       1\n",
       "STD 6 to STD 10 | 11th and 12th JEE preparation                    1\n",
       "Name: Study_in_Class , dtype: int64"
      ]
     },
     "execution_count": 23,
     "metadata": {},
     "output_type": "execute_result"
    }
   ],
   "source": [
    "week_02_2023['Study_in_Class '].value_counts()"
   ]
  },
  {
   "cell_type": "code",
   "execution_count": 24,
   "id": "04f81faf",
   "metadata": {},
   "outputs": [
    {
     "data": {
      "text/plain": [
       "Graduation with Internship          32\n",
       "Post Graduation with Internship     16\n",
       "11th and 12th JEE preparation        2\n",
       "STD 6 to STD 10                      2\n",
       "LKG to STD 5                         2\n",
       "Name: Study_in_Class , dtype: int64"
      ]
     },
     "execution_count": 24,
     "metadata": {},
     "output_type": "execute_result"
    }
   ],
   "source": [
    "week_03_2023['Study_in_Class '].value_counts()"
   ]
  },
  {
   "cell_type": "code",
   "execution_count": 25,
   "id": "42ca81d6",
   "metadata": {},
   "outputs": [
    {
     "data": {
      "text/plain": [
       "Graduation with Internship                                        36\n",
       "Post Graduation with Internship                                   33\n",
       "STD 6 to STD 10                                                   13\n",
       "LKG to STD 5                                                      12\n",
       "11th and 12th JEE preparation                                      6\n",
       "LKG to STD 5 | STD 6 to STD 10                                     2\n",
       "Graduation with Internship  | Post Graduation with Internship      1\n",
       "STD 6 to STD 10 | 11th and 12th JEE preparation                    1\n",
       "LKG to STD 5 | Graduation with Internship                          1\n",
       "Name: Study_in_Class , dtype: int64"
      ]
     },
     "execution_count": 25,
     "metadata": {},
     "output_type": "execute_result"
    }
   ],
   "source": [
    "week_04_2023['Study_in_Class '].value_counts()"
   ]
  },
  {
   "cell_type": "code",
   "execution_count": 26,
   "id": "af0e5c94",
   "metadata": {},
   "outputs": [
    {
     "data": {
      "text/plain": [
       "Graduation with Internship          22\n",
       "Post Graduation with Internship      4\n",
       "11th and 12th JEE preparation        3\n",
       "STD 6 to STD 10                      1\n",
       "Name: Study_in_Class , dtype: int64"
      ]
     },
     "execution_count": 26,
     "metadata": {},
     "output_type": "execute_result"
    }
   ],
   "source": [
    "week_05_2023['Study_in_Class '].value_counts()"
   ]
  },
  {
   "cell_type": "code",
   "execution_count": 27,
   "id": "240209ad",
   "metadata": {},
   "outputs": [
    {
     "data": {
      "text/plain": [
       "Post Graduation with Internship                       44\n",
       "Graduation with Internship                            33\n",
       "11th and 12th JEE preparation                         10\n",
       "STD 6 to STD 10                                        3\n",
       "LKG to STD 5                                           2\n",
       "STD 6 to STD 10 | Post Graduation with Internship      1\n",
       "Name: Study_in_Class , dtype: int64"
      ]
     },
     "execution_count": 27,
     "metadata": {},
     "output_type": "execute_result"
    }
   ],
   "source": [
    "week_06_2023['Study_in_Class '].value_counts()"
   ]
  },
  {
   "cell_type": "code",
   "execution_count": 28,
   "id": "85232461",
   "metadata": {},
   "outputs": [
    {
     "data": {
      "text/plain": [
       "Graduation with Internship                                                                                                          84\n",
       "Post Graduation with Internship                                                                                                     52\n",
       "11th and 12th JEE preparation                                                                                                       14\n",
       "STD 6 to STD 10                                                                                                                     13\n",
       "11th and 12th JEE preparation  | Graduation with Internship                                                                          6\n",
       "Graduation with Internship  | Post Graduation with Internship                                                                        5\n",
       "LKG to STD 5                                                                                                                         5\n",
       "STD 6 to STD 10 | Graduation with Internship                                                                                         4\n",
       "STD 6 to STD 10 | 11th and 12th JEE preparation                                                                                      2\n",
       "LKG to STD 5 | STD 6 to STD 10 | 11th and 12th JEE preparation                                                                       2\n",
       "LKG to STD 5 | STD 6 to STD 10                                                                                                       2\n",
       "LKG to STD 5 | STD 6 to STD 10 | 11th and 12th JEE preparation  | Graduation with Internship  | Post Graduation with Internship      1\n",
       "LKG to STD 5 | 11th and 12th JEE preparation                                                                                         1\n",
       "11th and 12th JEE preparation  | Graduation with Internship  | Post Graduation with Internship                                       1\n",
       "Name: Study_in_Class , dtype: int64"
      ]
     },
     "execution_count": 28,
     "metadata": {},
     "output_type": "execute_result"
    }
   ],
   "source": [
    "week_07_2023['Study_in_Class '].value_counts()"
   ]
  },
  {
   "cell_type": "code",
   "execution_count": 29,
   "id": "3e3d9dcd",
   "metadata": {},
   "outputs": [
    {
     "data": {
      "text/plain": [
       "Graduation with Internship        1\n",
       "11th and 12th JEE preparation     1\n",
       "Name: Study_in_Class , dtype: int64"
      ]
     },
     "execution_count": 29,
     "metadata": {},
     "output_type": "execute_result"
    }
   ],
   "source": [
    "week_08_2023['Study_in_Class '].value_counts()"
   ]
  },
  {
   "cell_type": "markdown",
   "id": "01cb4cc3",
   "metadata": {},
   "source": [
    "### Week V/S Tution fees preferred"
   ]
  },
  {
   "cell_type": "code",
   "execution_count": 30,
   "id": "fbd693b0",
   "metadata": {},
   "outputs": [
    {
     "data": {
      "text/plain": [
       "Rs.1 to Rs.499                                                        7\n",
       "Rs.501 to 999                                                         4\n",
       "Rs.1001 to 1499                                                       3\n",
       "No Answer                                                             1\n",
       "Rs.1 to Rs.499 | Rs.501 to 999 | Rs.1001 to 1499 | Rs.1501 to 1999    1\n",
       "Name: Which_Price_range_for_Tution_Monthly_Fees_You_like_must, dtype: int64"
      ]
     },
     "execution_count": 30,
     "metadata": {},
     "output_type": "execute_result"
    }
   ],
   "source": [
    "week_47_2022['Which_Price_range_for_Tution_Monthly_Fees_You_like_must'].value_counts()"
   ]
  },
  {
   "cell_type": "code",
   "execution_count": 31,
   "id": "f92a0aa6",
   "metadata": {},
   "outputs": [
    {
     "data": {
      "text/plain": [
       "Rs.501 to 999                                                         22\n",
       "Rs.1001 to 1499                                                       12\n",
       "Rs.1 to Rs.499                                                        10\n",
       "Rs.1501 to 1999                                                        6\n",
       "Rs.1 to Rs.499 | Rs.501 to 999                                         5\n",
       "No Answer                                                              2\n",
       "Rs.501 to 999 | Rs.1001 to 1499                                        2\n",
       "Rs.1 to Rs.499 | Rs.501 to 999 | Rs.1001 to 1499 | Rs.1501 to 1999     1\n",
       "Rs.1 to Rs.499 | Rs.501 to 999 | Rs.1001 to 1499                       1\n",
       "Name: Which_Price_range_for_Tution_Monthly_Fees_You_like_must, dtype: int64"
      ]
     },
     "execution_count": 31,
     "metadata": {},
     "output_type": "execute_result"
    }
   ],
   "source": [
    "week_48_2022['Which_Price_range_for_Tution_Monthly_Fees_You_like_must'].value_counts()"
   ]
  },
  {
   "cell_type": "code",
   "execution_count": 32,
   "id": "64911939",
   "metadata": {},
   "outputs": [
    {
     "data": {
      "text/plain": [
       "Rs.501 to 999                                                         81\n",
       "Rs.1 to Rs.499                                                        58\n",
       "Rs.1001 to 1499                                                       35\n",
       "Rs.1501 to 1999                                                       17\n",
       "Rs.1 to Rs.499 | Rs.501 to 999                                         5\n",
       "Rs.1001 to 1499 | Rs.1501 to 1999                                      4\n",
       "Rs.501 to 999 | Rs.1001 to 1499                                        4\n",
       "Rs.1 to Rs.499 | Rs.1001 to 1499                                       1\n",
       "Rs.1 to Rs.499 | Rs.501 to 999 | Rs.1001 to 1499                       1\n",
       "Rs.1 to Rs.499 | Rs.501 to 999 | Rs.1001 to 1499 | Rs.1501 to 1999     1\n",
       "Name: Which_Price_range_for_Tution_Monthly_Fees_You_like_must, dtype: int64"
      ]
     },
     "execution_count": 32,
     "metadata": {},
     "output_type": "execute_result"
    }
   ],
   "source": [
    "week_49_2022['Which_Price_range_for_Tution_Monthly_Fees_You_like_must'].value_counts()"
   ]
  },
  {
   "cell_type": "code",
   "execution_count": 33,
   "id": "92e8200c",
   "metadata": {},
   "outputs": [
    {
     "data": {
      "text/plain": [
       "Rs.501 to 999                                                         102\n",
       "Rs.1 to Rs.499                                                        100\n",
       "Rs.1001 to 1499                                                        65\n",
       "Rs.1501 to 1999                                                        35\n",
       "Rs.1 to Rs.499 | Rs.501 to 999                                         20\n",
       "Rs.501 to 999 | Rs.1001 to 1499                                         9\n",
       "Rs.1001 to 1499 | Rs.1501 to 1999                                       6\n",
       "Rs.1 to Rs.499 | Rs.501 to 999 | Rs.1001 to 1499 | Rs.1501 to 1999      4\n",
       "Rs.501 to 999 | Rs.1001 to 1499 | Rs.1501 to 1999                       2\n",
       "Rs.501 to 999 | Rs.1501 to 1999                                         1\n",
       "Name: Which_Price_range_for_Tution_Monthly_Fees_You_like_must, dtype: int64"
      ]
     },
     "execution_count": 33,
     "metadata": {},
     "output_type": "execute_result"
    }
   ],
   "source": [
    "week_50_2022['Which_Price_range_for_Tution_Monthly_Fees_You_like_must'].value_counts()"
   ]
  },
  {
   "cell_type": "code",
   "execution_count": 34,
   "id": "fa55f09f",
   "metadata": {},
   "outputs": [
    {
     "data": {
      "text/plain": [
       "Rs.501 to 999                        31\n",
       "Rs.1 to Rs.499                       16\n",
       "Rs.1001 to 1499                       9\n",
       "Rs.1501 to 1999                       6\n",
       "Rs.501 to 999 | Rs.1001 to 1499       5\n",
       "Rs.1 to Rs.499 | Rs.501 to 999        4\n",
       "Rs.1001 to 1499 | Rs.1501 to 1999     1\n",
       "Name: Which_Price_range_for_Tution_Monthly_Fees_You_like_must, dtype: int64"
      ]
     },
     "execution_count": 34,
     "metadata": {},
     "output_type": "execute_result"
    }
   ],
   "source": [
    "week_51_2022['Which_Price_range_for_Tution_Monthly_Fees_You_like_must'].value_counts()"
   ]
  },
  {
   "cell_type": "code",
   "execution_count": 35,
   "id": "8a28e0a9",
   "metadata": {},
   "outputs": [
    {
     "data": {
      "text/plain": [
       "Rs.501 to 999                                        53\n",
       "Rs.1 to Rs.499                                       45\n",
       "Rs.1001 to 1499                                      25\n",
       "Rs.1501 to 1999                                      20\n",
       "Rs.1001 to 1499 | Rs.1501 to 1999                    12\n",
       "Rs.1 to Rs.499 | Rs.501 to 999                        8\n",
       "Rs.501 to 999 | Rs.1001 to 1499                       4\n",
       "Rs.1 to Rs.499 | Rs.501 to 999 | Rs.1001 to 1499      3\n",
       "Rs.501 to 999 | Rs.1001 to 1499 | Rs.1501 to 1999     2\n",
       "Name: Which_Price_range_for_Tution_Monthly_Fees_You_like_must, dtype: int64"
      ]
     },
     "execution_count": 35,
     "metadata": {},
     "output_type": "execute_result"
    }
   ],
   "source": [
    "week_52_2022['Which_Price_range_for_Tution_Monthly_Fees_You_like_must'].value_counts()"
   ]
  },
  {
   "cell_type": "code",
   "execution_count": 36,
   "id": "120d8bdb",
   "metadata": {},
   "outputs": [
    {
     "data": {
      "text/plain": [
       "Rs.1 to Rs.499                                       16\n",
       "Rs.501 to 999                                        13\n",
       "Rs.1501 to 1999                                       8\n",
       "Rs.1001 to 1499                                       6\n",
       "Rs.501 to 999 | Rs.1001 to 1499 | Rs.1501 to 1999     6\n",
       "Rs.1001 to 1499 | Rs.1501 to 1999                     4\n",
       "Rs.501 to 999 | Rs.1001 to 1499                       3\n",
       "Rs.1 to Rs.499 | Rs.501 to 999                        2\n",
       "Rs.1 to Rs.499 | Rs.501 to 999 | Rs.1001 to 1499      1\n",
       "Name: Which_Price_range_for_Tution_Monthly_Fees_You_like_must, dtype: int64"
      ]
     },
     "execution_count": 36,
     "metadata": {},
     "output_type": "execute_result"
    }
   ],
   "source": [
    "week_01_2023['Which_Price_range_for_Tution_Monthly_Fees_You_like_must'].value_counts()"
   ]
  },
  {
   "cell_type": "code",
   "execution_count": 37,
   "id": "e2a97f4f",
   "metadata": {},
   "outputs": [
    {
     "data": {
      "text/plain": [
       "Rs.1 to Rs.499                                                        28\n",
       "Rs.501 to 999                                                         17\n",
       "Rs.1501 to 1999                                                       14\n",
       "Rs.1001 to 1499                                                       12\n",
       "Rs.1001 to 1499 | Rs.1501 to 1999                                      5\n",
       "Rs.1 to Rs.499 | Rs.501 to 999                                         1\n",
       "Rs.1 to Rs.499 | Rs.501 to 999 | Rs.1001 to 1499                       1\n",
       "Rs.1 to Rs.499 | Rs.501 to 999 | Rs.1001 to 1499 | Rs.1501 to 1999     1\n",
       "Rs.501 to 999 | Rs.1001 to 1499 | Rs.1501 to 1999                      1\n",
       "Rs.501 to 999 | Rs.1001 to 1499                                        1\n",
       "Name: Which_Price_range_for_Tution_Monthly_Fees_You_like_must, dtype: int64"
      ]
     },
     "execution_count": 37,
     "metadata": {},
     "output_type": "execute_result"
    }
   ],
   "source": [
    "week_02_2023['Which_Price_range_for_Tution_Monthly_Fees_You_like_must'].value_counts()"
   ]
  },
  {
   "cell_type": "code",
   "execution_count": 38,
   "id": "1d785234",
   "metadata": {},
   "outputs": [
    {
     "data": {
      "text/plain": [
       "Rs.1 to Rs.499                    23\n",
       "Rs.501 to 999                     11\n",
       "Rs.1001 to 1499                    9\n",
       "Rs.1501 to 1999                    6\n",
       "Rs.1 to Rs.499 | Rs.501 to 999     5\n",
       "Name: Which_Price_range_for_Tution_Monthly_Fees_You_like_must, dtype: int64"
      ]
     },
     "execution_count": 38,
     "metadata": {},
     "output_type": "execute_result"
    }
   ],
   "source": [
    "week_03_2023['Which_Price_range_for_Tution_Monthly_Fees_You_like_must'].value_counts()"
   ]
  },
  {
   "cell_type": "code",
   "execution_count": 39,
   "id": "2f0eec0b",
   "metadata": {},
   "outputs": [
    {
     "data": {
      "text/plain": [
       "Rs.1 to Rs.499                                      41\n",
       "Rs.501 to 999                                       20\n",
       "Rs.1001 to 1499                                     20\n",
       "Rs.1501 to 1999                                     13\n",
       "Rs.1 to Rs.499 | Rs.501 to 999                       5\n",
       "Rs.1 to Rs.499 | Rs.501 to 999 | Rs.1001 to 1499     3\n",
       "Rs.501 to 999 | Rs.1001 to 1499                      2\n",
       "Rs.1001 to 1499 | Rs.1501 to 1999                    1\n",
       "Name: Which_Price_range_for_Tution_Monthly_Fees_You_like_must, dtype: int64"
      ]
     },
     "execution_count": 39,
     "metadata": {},
     "output_type": "execute_result"
    }
   ],
   "source": [
    "week_04_2023['Which_Price_range_for_Tution_Monthly_Fees_You_like_must'].value_counts()"
   ]
  },
  {
   "cell_type": "code",
   "execution_count": 40,
   "id": "1e6ac4c7",
   "metadata": {},
   "outputs": [
    {
     "data": {
      "text/plain": [
       "Rs.501 to 999      17\n",
       "Rs.1 to Rs.499      9\n",
       "Rs.1501 to 1999     2\n",
       "Rs.1001 to 1499     2\n",
       "Name: Which_Price_range_for_Tution_Monthly_Fees_You_like_must, dtype: int64"
      ]
     },
     "execution_count": 40,
     "metadata": {},
     "output_type": "execute_result"
    }
   ],
   "source": [
    "week_05_2023['Which_Price_range_for_Tution_Monthly_Fees_You_like_must'].value_counts()"
   ]
  },
  {
   "cell_type": "code",
   "execution_count": 41,
   "id": "7e35915a",
   "metadata": {},
   "outputs": [
    {
     "data": {
      "text/plain": [
       "Rs.501 to 999                        40\n",
       "Rs.1 to Rs.499                       22\n",
       "Rs.1001 to 1499                      15\n",
       "Rs.1501 to 1999                      13\n",
       "Rs.501 to 999 | Rs.1001 to 1499       2\n",
       "Rs.1001 to 1499 | Rs.1501 to 1999     1\n",
       "Name: Which_Price_range_for_Tution_Monthly_Fees_You_like_must, dtype: int64"
      ]
     },
     "execution_count": 41,
     "metadata": {},
     "output_type": "execute_result"
    }
   ],
   "source": [
    "week_06_2023['Which_Price_range_for_Tution_Monthly_Fees_You_like_must'].value_counts()"
   ]
  },
  {
   "cell_type": "code",
   "execution_count": 42,
   "id": "49395bc2",
   "metadata": {},
   "outputs": [
    {
     "data": {
      "text/plain": [
       "Rs.1 to Rs.499                                                        56\n",
       "Rs.1501 to 1999                                                       42\n",
       "Rs.501 to 999                                                         37\n",
       "Rs.1001 to 1499                                                       23\n",
       "Rs.1 to Rs.499 | Rs.501 to 999                                        12\n",
       "Rs.501 to 999 | Rs.1001 to 1499                                        6\n",
       "Rs.1001 to 1499 | Rs.1501 to 1999                                      5\n",
       "Rs.1 to Rs.499 | Rs.501 to 999 | Rs.1001 to 1499                       4\n",
       "Rs.1 to Rs.499 | Rs.1001 to 1499                                       3\n",
       "Rs.501 to 999 | Rs.1501 to 1999                                        2\n",
       "Rs.1 to Rs.499 | Rs.501 to 999 | Rs.1001 to 1499 | Rs.1501 to 1999     2\n",
       "Name: Which_Price_range_for_Tution_Monthly_Fees_You_like_must, dtype: int64"
      ]
     },
     "execution_count": 42,
     "metadata": {},
     "output_type": "execute_result"
    }
   ],
   "source": [
    "week_07_2023['Which_Price_range_for_Tution_Monthly_Fees_You_like_must'].value_counts()"
   ]
  },
  {
   "cell_type": "code",
   "execution_count": 43,
   "id": "3db16ef2",
   "metadata": {},
   "outputs": [
    {
     "data": {
      "text/plain": [
       "Rs.1501 to 1999    1\n",
       "Rs.1 to Rs.499     1\n",
       "Name: Which_Price_range_for_Tution_Monthly_Fees_You_like_must, dtype: int64"
      ]
     },
     "execution_count": 43,
     "metadata": {},
     "output_type": "execute_result"
    }
   ],
   "source": [
    "week_08_2023['Which_Price_range_for_Tution_Monthly_Fees_You_like_must'].value_counts()"
   ]
  },
  {
   "cell_type": "markdown",
   "id": "42a0f2b3",
   "metadata": {},
   "source": [
    "### Week V/S Preferred Mobile Laptop Range"
   ]
  },
  {
   "cell_type": "code",
   "execution_count": 44,
   "id": "bb92dada",
   "metadata": {},
   "outputs": [
    {
     "data": {
      "text/plain": [
       "No answer    16\n",
       "Name: Laptop_and_Mobile_which_Price_range_you_like_most, dtype: int64"
      ]
     },
     "execution_count": 44,
     "metadata": {},
     "output_type": "execute_result"
    }
   ],
   "source": [
    "week_47_2022['Laptop_and_Mobile_which_Price_range_you_like_most'].value_counts()"
   ]
  },
  {
   "cell_type": "code",
   "execution_count": 45,
   "id": "c9a45f32",
   "metadata": {},
   "outputs": [
    {
     "data": {
      "text/plain": [
       "No answer                                                                                   23\n",
       "Rs15000 to Rs.30000                                                                         11\n",
       "Rs.5000 to Rs.15000                                                                          8\n",
       "Rs.31000 to Rs.50000                                                                         7\n",
       "Rs.5000 to Rs.15000 | Rs15000 to Rs.30000                                                    4\n",
       "Rs.51000 to Rs.100000                                                                        4\n",
       "Rs15000 to Rs.30000 | Rs.31000 to Rs.50000 | Rs.51000 to Rs.100000                           1\n",
       "Rs.5000 to Rs.15000 | Rs15000 to Rs.30000 | Rs.31000 to Rs.50000                             1\n",
       "Rs.5000 to Rs.15000 | Rs15000 to Rs.30000 | Rs.31000 to Rs.50000 | Rs.51000 to Rs.100000     1\n",
       "Rs.31000 to Rs.50000 | Rs.51000 to Rs.100000                                                 1\n",
       "Name: Laptop_and_Mobile_which_Price_range_you_like_most, dtype: int64"
      ]
     },
     "execution_count": 45,
     "metadata": {},
     "output_type": "execute_result"
    }
   ],
   "source": [
    "week_48_2022['Laptop_and_Mobile_which_Price_range_you_like_most'].value_counts()"
   ]
  },
  {
   "cell_type": "code",
   "execution_count": 46,
   "id": "2c6e5ad1",
   "metadata": {},
   "outputs": [
    {
     "data": {
      "text/plain": [
       "No answer                                                                                   23\n",
       "Rs15000 to Rs.30000                                                                         11\n",
       "Rs.5000 to Rs.15000                                                                          8\n",
       "Rs.31000 to Rs.50000                                                                         7\n",
       "Rs.5000 to Rs.15000 | Rs15000 to Rs.30000                                                    4\n",
       "Rs.51000 to Rs.100000                                                                        4\n",
       "Rs15000 to Rs.30000 | Rs.31000 to Rs.50000 | Rs.51000 to Rs.100000                           1\n",
       "Rs.5000 to Rs.15000 | Rs15000 to Rs.30000 | Rs.31000 to Rs.50000                             1\n",
       "Rs.5000 to Rs.15000 | Rs15000 to Rs.30000 | Rs.31000 to Rs.50000 | Rs.51000 to Rs.100000     1\n",
       "Rs.31000 to Rs.50000 | Rs.51000 to Rs.100000                                                 1\n",
       "Name: Laptop_and_Mobile_which_Price_range_you_like_most, dtype: int64"
      ]
     },
     "execution_count": 46,
     "metadata": {},
     "output_type": "execute_result"
    }
   ],
   "source": [
    "week_48_2022['Laptop_and_Mobile_which_Price_range_you_like_most'].value_counts()"
   ]
  },
  {
   "cell_type": "code",
   "execution_count": 47,
   "id": "f4501ae8",
   "metadata": {},
   "outputs": [
    {
     "data": {
      "text/plain": [
       "Rs15000 to Rs.30000                                                                         77\n",
       "Rs.5000 to Rs.15000                                                                         48\n",
       "Rs.31000 to Rs.50000                                                                        42\n",
       "Rs.51000 to Rs.100000                                                                       26\n",
       "Rs15000 to Rs.30000 | Rs.31000 to Rs.50000                                                   5\n",
       "Rs.31000 to Rs.50000 | Rs.51000 to Rs.100000                                                 3\n",
       "Rs.5000 to Rs.15000 | Rs15000 to Rs.30000                                                    2\n",
       "Rs.5000 to Rs.15000 | Rs15000 to Rs.30000 | Rs.31000 to Rs.50000 | Rs.51000 to Rs.100000     2\n",
       "Rs15000 to Rs.30000 | Rs.51000 to Rs.100000                                                  1\n",
       "Rs.5000 to Rs.15000 | Rs.31000 to Rs.50000                                                   1\n",
       "Name: Laptop_and_Mobile_which_Price_range_you_like_most, dtype: int64"
      ]
     },
     "execution_count": 47,
     "metadata": {},
     "output_type": "execute_result"
    }
   ],
   "source": [
    "week_49_2022['Laptop_and_Mobile_which_Price_range_you_like_most'].value_counts()"
   ]
  },
  {
   "cell_type": "code",
   "execution_count": 48,
   "id": "81b3677a",
   "metadata": {},
   "outputs": [
    {
     "data": {
      "text/plain": [
       "Rs.31000 to Rs.50000                                                                        111\n",
       "Rs15000 to Rs.30000                                                                          89\n",
       "Rs.5000 to Rs.15000                                                                          62\n",
       "Rs.51000 to Rs.100000                                                                        40\n",
       "Rs15000 to Rs.30000 | Rs.31000 to Rs.50000                                                   15\n",
       "Rs.31000 to Rs.50000 | Rs.51000 to Rs.100000                                                 13\n",
       "Rs.5000 to Rs.15000 | Rs15000 to Rs.30000                                                     8\n",
       "Rs.5000 to Rs.15000 | Rs15000 to Rs.30000 | Rs.31000 to Rs.50000 | Rs.51000 to Rs.100000      3\n",
       "Rs.5000 to Rs.15000 | Rs.51000 to Rs.100000                                                   1\n",
       "Rs.5000 to Rs.15000 | Rs.31000 to Rs.50000                                                    1\n",
       "Rs.5000 to Rs.15000 | Rs15000 to Rs.30000 | Rs.31000 to Rs.50000                              1\n",
       "Name: Laptop_and_Mobile_which_Price_range_you_like_most, dtype: int64"
      ]
     },
     "execution_count": 48,
     "metadata": {},
     "output_type": "execute_result"
    }
   ],
   "source": [
    "week_50_2022['Laptop_and_Mobile_which_Price_range_you_like_most'].value_counts()"
   ]
  },
  {
   "cell_type": "code",
   "execution_count": 49,
   "id": "963d38ba",
   "metadata": {},
   "outputs": [
    {
     "data": {
      "text/plain": [
       "Rs.31000 to Rs.50000                            20\n",
       "Rs15000 to Rs.30000                             19\n",
       "Rs.5000 to Rs.15000                             12\n",
       "Rs.51000 to Rs.100000                           11\n",
       "Rs15000 to Rs.30000 | Rs.31000 to Rs.50000       4\n",
       "Rs.31000 to Rs.50000 | Rs.51000 to Rs.100000     3\n",
       "Rs.5000 to Rs.15000 | Rs15000 to Rs.30000        3\n",
       "Name: Laptop_and_Mobile_which_Price_range_you_like_most, dtype: int64"
      ]
     },
     "execution_count": 49,
     "metadata": {},
     "output_type": "execute_result"
    }
   ],
   "source": [
    "week_51_2022['Laptop_and_Mobile_which_Price_range_you_like_most'].value_counts()"
   ]
  },
  {
   "cell_type": "code",
   "execution_count": 50,
   "id": "ed3011ae",
   "metadata": {},
   "outputs": [
    {
     "data": {
      "text/plain": [
       "Rs.31000 to Rs.50000                                                                        45\n",
       "Rs15000 to Rs.30000                                                                         37\n",
       "Rs.5000 to Rs.15000                                                                         34\n",
       "Rs.51000 to Rs.100000                                                                       26\n",
       "Rs15000 to Rs.30000 | Rs.31000 to Rs.50000                                                   9\n",
       "Rs.31000 to Rs.50000 | Rs.51000 to Rs.100000                                                 8\n",
       "Rs.5000 to Rs.15000 | Rs15000 to Rs.30000                                                    4\n",
       "Rs.5000 to Rs.15000 | Rs15000 to Rs.30000 | Rs.31000 to Rs.50000                             4\n",
       "Rs15000 to Rs.30000 | Rs.31000 to Rs.50000 | Rs.51000 to Rs.100000                           3\n",
       "Rs.5000 to Rs.15000 | Rs.51000 to Rs.100000                                                  1\n",
       "Rs.5000 to Rs.15000 | Rs15000 to Rs.30000 | Rs.31000 to Rs.50000 | Rs.51000 to Rs.100000     1\n",
       "Name: Laptop_and_Mobile_which_Price_range_you_like_most, dtype: int64"
      ]
     },
     "execution_count": 50,
     "metadata": {},
     "output_type": "execute_result"
    }
   ],
   "source": [
    "week_52_2022['Laptop_and_Mobile_which_Price_range_you_like_most'].value_counts()"
   ]
  },
  {
   "cell_type": "code",
   "execution_count": 51,
   "id": "98fb683a",
   "metadata": {},
   "outputs": [
    {
     "data": {
      "text/plain": [
       "Rs.31000 to Rs.50000                                                  14\n",
       "Rs15000 to Rs.30000                                                   12\n",
       "Rs.5000 to Rs.15000                                                   11\n",
       "Rs.51000 to Rs.100000                                                  9\n",
       "Rs.31000 to Rs.50000 | Rs.51000 to Rs.100000                           6\n",
       "Rs15000 to Rs.30000 | Rs.31000 to Rs.50000                             5\n",
       "Rs15000 to Rs.30000 | Rs.31000 to Rs.50000 | Rs.51000 to Rs.100000     2\n",
       "Name: Laptop_and_Mobile_which_Price_range_you_like_most, dtype: int64"
      ]
     },
     "execution_count": 51,
     "metadata": {},
     "output_type": "execute_result"
    }
   ],
   "source": [
    "week_01_2023['Laptop_and_Mobile_which_Price_range_you_like_most'].value_counts()"
   ]
  },
  {
   "cell_type": "code",
   "execution_count": 52,
   "id": "b33038bb",
   "metadata": {},
   "outputs": [
    {
     "data": {
      "text/plain": [
       "Rs15000 to Rs.30000                             23\n",
       "Rs.51000 to Rs.100000                           22\n",
       "Rs.31000 to Rs.50000                            22\n",
       "Rs.5000 to Rs.15000                              5\n",
       "Rs.31000 to Rs.50000 | Rs.51000 to Rs.100000     4\n",
       "Rs15000 to Rs.30000 | Rs.31000 to Rs.50000       2\n",
       "Rs15000 to Rs.30000 | Rs.51000 to Rs.100000      2\n",
       "Rs.5000 to Rs.15000 | Rs15000 to Rs.30000        1\n",
       "Name: Laptop_and_Mobile_which_Price_range_you_like_most, dtype: int64"
      ]
     },
     "execution_count": 52,
     "metadata": {},
     "output_type": "execute_result"
    }
   ],
   "source": [
    "week_02_2023['Laptop_and_Mobile_which_Price_range_you_like_most'].value_counts()"
   ]
  },
  {
   "cell_type": "code",
   "execution_count": 53,
   "id": "a810ece6",
   "metadata": {},
   "outputs": [
    {
     "data": {
      "text/plain": [
       "Rs.31000 to Rs.50000                           17\n",
       "Rs.51000 to Rs.100000                          15\n",
       "Rs15000 to Rs.30000                            10\n",
       "Rs.5000 to Rs.15000                             9\n",
       "Rs.5000 to Rs.15000 | Rs.51000 to Rs.100000     1\n",
       "Rs.5000 to Rs.15000 | Rs15000 to Rs.30000       1\n",
       "Rs15000 to Rs.30000 | Rs.31000 to Rs.50000      1\n",
       "Name: Laptop_and_Mobile_which_Price_range_you_like_most, dtype: int64"
      ]
     },
     "execution_count": 53,
     "metadata": {},
     "output_type": "execute_result"
    }
   ],
   "source": [
    "week_03_2023['Laptop_and_Mobile_which_Price_range_you_like_most'].value_counts()"
   ]
  },
  {
   "cell_type": "code",
   "execution_count": 54,
   "id": "66e23c33",
   "metadata": {},
   "outputs": [
    {
     "data": {
      "text/plain": [
       "Rs.5000 to Rs.15000                                                 29\n",
       "Rs.31000 to Rs.50000                                                25\n",
       "Rs15000 to Rs.30000                                                 23\n",
       "Rs.51000 to Rs.100000                                               17\n",
       "Rs.5000 to Rs.15000 | Rs15000 to Rs.30000                            4\n",
       "Rs.31000 to Rs.50000 | Rs.51000 to Rs.100000                         3\n",
       "Rs.5000 to Rs.15000 | Rs.31000 to Rs.50000                           1\n",
       "Rs.5000 to Rs.15000 | Rs15000 to Rs.30000 | Rs.31000 to Rs.50000     1\n",
       "Rs15000 to Rs.30000 | Rs.51000 to Rs.100000                          1\n",
       "Rs15000 to Rs.30000 | Rs.31000 to Rs.50000                           1\n",
       "Name: Laptop_and_Mobile_which_Price_range_you_like_most, dtype: int64"
      ]
     },
     "execution_count": 54,
     "metadata": {},
     "output_type": "execute_result"
    }
   ],
   "source": [
    "week_04_2023['Laptop_and_Mobile_which_Price_range_you_like_most'].value_counts()"
   ]
  },
  {
   "cell_type": "code",
   "execution_count": 55,
   "id": "fa278acf",
   "metadata": {},
   "outputs": [
    {
     "data": {
      "text/plain": [
       "Rs15000 to Rs.30000      17\n",
       "Rs.51000 to Rs.100000     6\n",
       "Rs.31000 to Rs.50000      5\n",
       "Rs.5000 to Rs.15000       2\n",
       "Name: Laptop_and_Mobile_which_Price_range_you_like_most, dtype: int64"
      ]
     },
     "execution_count": 55,
     "metadata": {},
     "output_type": "execute_result"
    }
   ],
   "source": [
    "week_05_2023['Laptop_and_Mobile_which_Price_range_you_like_most'].value_counts()"
   ]
  },
  {
   "cell_type": "code",
   "execution_count": 56,
   "id": "6ad6e40c",
   "metadata": {},
   "outputs": [
    {
     "data": {
      "text/plain": [
       "Rs15000 to Rs.30000                                                   32\n",
       "Rs.31000 to Rs.50000                                                  22\n",
       "Rs.51000 to Rs.100000                                                 18\n",
       "Rs.5000 to Rs.15000                                                   13\n",
       "Rs.5000 to Rs.15000 | Rs15000 to Rs.30000                              4\n",
       "Rs.31000 to Rs.50000 | Rs.51000 to Rs.100000                           2\n",
       "Rs15000 to Rs.30000 | Rs.31000 to Rs.50000                             1\n",
       "Rs15000 to Rs.30000 | Rs.31000 to Rs.50000 | Rs.51000 to Rs.100000     1\n",
       "Name: Laptop_and_Mobile_which_Price_range_you_like_most, dtype: int64"
      ]
     },
     "execution_count": 56,
     "metadata": {},
     "output_type": "execute_result"
    }
   ],
   "source": [
    "week_06_2023['Laptop_and_Mobile_which_Price_range_you_like_most'].value_counts()"
   ]
  },
  {
   "cell_type": "code",
   "execution_count": 57,
   "id": "60bc0eab",
   "metadata": {},
   "outputs": [
    {
     "data": {
      "text/plain": [
       "Rs.31000 to Rs.50000                                                                        49\n",
       "Rs.51000 to Rs.100000                                                                       46\n",
       "Rs15000 to Rs.30000                                                                         35\n",
       "Rs.5000 to Rs.15000                                                                         22\n",
       "Rs.31000 to Rs.50000 | Rs.51000 to Rs.100000                                                11\n",
       "Rs15000 to Rs.30000 | Rs.31000 to Rs.50000                                                   9\n",
       "Rs.5000 to Rs.15000 | Rs15000 to Rs.30000                                                    5\n",
       "Rs15000 to Rs.30000 | Rs.51000 to Rs.100000                                                  4\n",
       "Rs.5000 to Rs.15000 | Rs.31000 to Rs.50000                                                   4\n",
       "Rs15000 to Rs.30000 | Rs.31000 to Rs.50000 | Rs.51000 to Rs.100000                           2\n",
       "Rs.5000 to Rs.15000 | Rs15000 to Rs.30000 | Rs.51000 to Rs.100000                            2\n",
       "Rs.5000 to Rs.15000 | Rs15000 to Rs.30000 | Rs.31000 to Rs.50000 | Rs.51000 to Rs.100000     1\n",
       "Rs.5000 to Rs.15000 | Rs.51000 to Rs.100000                                                  1\n",
       "Rs.5000 to Rs.15000 | Rs15000 to Rs.30000 | Rs.31000 to Rs.50000                             1\n",
       "Name: Laptop_and_Mobile_which_Price_range_you_like_most, dtype: int64"
      ]
     },
     "execution_count": 57,
     "metadata": {},
     "output_type": "execute_result"
    }
   ],
   "source": [
    "week_07_2023['Laptop_and_Mobile_which_Price_range_you_like_most'].value_counts()"
   ]
  },
  {
   "cell_type": "code",
   "execution_count": 58,
   "id": "510a7c35",
   "metadata": {},
   "outputs": [
    {
     "data": {
      "text/plain": [
       "Rs.51000 to Rs.100000    1\n",
       "Rs15000 to Rs.30000      1\n",
       "Name: Laptop_and_Mobile_which_Price_range_you_like_most, dtype: int64"
      ]
     },
     "execution_count": 58,
     "metadata": {},
     "output_type": "execute_result"
    }
   ],
   "source": [
    "week_08_2023['Laptop_and_Mobile_which_Price_range_you_like_most'].value_counts()"
   ]
  },
  {
   "cell_type": "markdown",
   "id": "3d79d11e",
   "metadata": {},
   "source": [
    "### Week V/S Preferred Biryani type"
   ]
  },
  {
   "cell_type": "code",
   "execution_count": 59,
   "id": "8f9ec6ae",
   "metadata": {},
   "outputs": [
    {
     "data": {
      "text/plain": [
       "Chicken Biryani                                               9\n",
       "Veg Biryani  | Paneer Tikka Biryani                           1\n",
       "Veg Biryani                                                   1\n",
       "No Answer                                                     1\n",
       "Chicken Biryani  | Paneer Tikka Biryani                       1\n",
       "Paneer Tikka Biryani                                          1\n",
       "Mutton Biryani                                                1\n",
       "Chicken Biryani  | Mutton Biryani  | Paneer Tikka Biryani     1\n",
       "Name: Do_you_like_biriyani_and_which_biriyani_you_like_the_more ?, dtype: int64"
      ]
     },
     "execution_count": 59,
     "metadata": {},
     "output_type": "execute_result"
    }
   ],
   "source": [
    "week_47_2022['Do_you_like_biriyani_and_which_biriyani_you_like_the_more ?'].value_counts()"
   ]
  },
  {
   "cell_type": "code",
   "execution_count": 60,
   "id": "869fb9e0",
   "metadata": {},
   "outputs": [
    {
     "data": {
      "text/plain": [
       "Chicken Biryani                                                                              28\n",
       "Veg Biryani                                                                                   9\n",
       "Mutton Biryani                                                                                5\n",
       "Veg Biryani  | Paneer Tikka Biryani                                                           4\n",
       "Chicken Biryani  | Mutton Biryani                                                             3\n",
       "Paneer Tikka Biryani                                                                          2\n",
       "No Answer                                                                                     1\n",
       "Chicken Biryani  | Mutton Biryani  | Fish Biryani  | Veg Biryani  | Paneer Tikka Biryani      1\n",
       "Fish Biryani                                                                                  1\n",
       "Chicken Biryani  | Veg Biryani                                                                1\n",
       "Chicken Biryani  | Paneer Tikka Biryani                                                       1\n",
       "Chicken Biryani  | Mutton Biryani  | Fish Biryani                                             1\n",
       "Chicken Biryani  | Fish Biryani  | Paneer Tikka Biryani                                       1\n",
       "Chicken Biryani  | Veg Biryani  | Paneer Tikka Biryani                                        1\n",
       "Chicken Biryani  | Mutton Biryani  | Veg Biryani  | Paneer Tikka Biryani                      1\n",
       "Chicken Biryani  | Mutton Biryani  | Paneer Tikka Biryani                                     1\n",
       "Name: Do_you_like_biriyani_and_which_biriyani_you_like_the_more ?, dtype: int64"
      ]
     },
     "execution_count": 60,
     "metadata": {},
     "output_type": "execute_result"
    }
   ],
   "source": [
    "week_48_2022['Do_you_like_biriyani_and_which_biriyani_you_like_the_more ?'].value_counts()"
   ]
  },
  {
   "cell_type": "code",
   "execution_count": 61,
   "id": "96f36bd0",
   "metadata": {},
   "outputs": [
    {
     "data": {
      "text/plain": [
       "Chicken Biryani                                                                              77\n",
       "Veg Biryani                                                                                  45\n",
       "Mutton Biryani                                                                               30\n",
       "Paneer Tikka Biryani                                                                         17\n",
       "Veg Biryani  | Paneer Tikka Biryani                                                           9\n",
       "Fish Biryani                                                                                  9\n",
       "Chicken Biryani  | Mutton Biryani                                                             7\n",
       "Chicken Biryani  | Mutton Biryani  | Fish Biryani  | Veg Biryani                              2\n",
       "Chicken Biryani  | Mutton Biryani  | Fish Biryani                                             2\n",
       "No Answer                                                                                     2\n",
       "Chicken Biryani  | Mutton Biryani  | Fish Biryani  | Veg Biryani  | Paneer Tikka Biryani      2\n",
       "Mutton Biryani  | Veg Biryani                                                                 1\n",
       "Mutton Biryani  | Fish Biryani                                                                1\n",
       "Mutton Biryani  | Paneer Tikka Biryani                                                        1\n",
       "Fish Biryani  | Veg Biryani  | Paneer Tikka Biryani                                           1\n",
       "Chicken Biryani  | Mutton Biryani  | Veg Biryani                                              1\n",
       "Name: Do_you_like_biriyani_and_which_biriyani_you_like_the_more ?, dtype: int64"
      ]
     },
     "execution_count": 61,
     "metadata": {},
     "output_type": "execute_result"
    }
   ],
   "source": [
    "week_49_2022['Do_you_like_biriyani_and_which_biriyani_you_like_the_more ?'].value_counts()"
   ]
  },
  {
   "cell_type": "code",
   "execution_count": 62,
   "id": "6e04fb0c",
   "metadata": {},
   "outputs": [
    {
     "data": {
      "text/plain": [
       "Chicken Biryani                                                                              114\n",
       "Veg Biryani                                                                                   65\n",
       "Mutton Biryani                                                                                48\n",
       "Paneer Tikka Biryani                                                                          32\n",
       "Fish Biryani                                                                                  20\n",
       "Veg Biryani  | Paneer Tikka Biryani                                                           15\n",
       "Chicken Biryani  | Mutton Biryani                                                             13\n",
       "No Answer                                                                                      5\n",
       "Chicken Biryani  | Mutton Biryani  | Fish Biryani                                              4\n",
       "Chicken Biryani  | Mutton Biryani  | Fish Biryani  | Veg Biryani  | Paneer Tikka Biryani       4\n",
       "Chicken Biryani  | Paneer Tikka Biryani                                                        4\n",
       "Chicken Biryani  | Mutton Biryani  | Fish Biryani  | Veg Biryani                               4\n",
       "Chicken Biryani  | Veg Biryani                                                                 4\n",
       "Chicken Biryani  | Mutton Biryani  | Veg Biryani  | Paneer Tikka Biryani                       3\n",
       "Fish Biryani  | Veg Biryani                                                                    3\n",
       "Chicken Biryani  | Fish Biryani  | Veg Biryani                                                 1\n",
       "Chicken Biryani  | Veg Biryani  | Paneer Tikka Biryani                                         1\n",
       "Chicken Biryani  | Fish Biryani                                                                1\n",
       "Fish Biryani  | Veg Biryani  | Paneer Tikka Biryani                                            1\n",
       "Chicken Biryani  | Mutton Biryani  | Paneer Tikka Biryani                                      1\n",
       "Chicken Biryani  | Mutton Biryani  | Veg Biryani                                               1\n",
       "Name: Do_you_like_biriyani_and_which_biriyani_you_like_the_more ?, dtype: int64"
      ]
     },
     "execution_count": 62,
     "metadata": {},
     "output_type": "execute_result"
    }
   ],
   "source": [
    "week_50_2022['Do_you_like_biriyani_and_which_biriyani_you_like_the_more ?'].value_counts()"
   ]
  },
  {
   "cell_type": "code",
   "execution_count": 63,
   "id": "7b79ac3d",
   "metadata": {},
   "outputs": [
    {
     "data": {
      "text/plain": [
       "Chicken Biryani                             22\n",
       "Veg Biryani                                 14\n",
       "Paneer Tikka Biryani                         9\n",
       "Mutton Biryani                               8\n",
       "Chicken Biryani  | Mutton Biryani            5\n",
       "Veg Biryani  | Paneer Tikka Biryani          5\n",
       "Fish Biryani                                 4\n",
       "No Answer                                    3\n",
       "Chicken Biryani  | Veg Biryani               1\n",
       "Chicken Biryani  | Paneer Tikka Biryani      1\n",
       "Name: Do_you_like_biriyani_and_which_biriyani_you_like_the_more ?, dtype: int64"
      ]
     },
     "execution_count": 63,
     "metadata": {},
     "output_type": "execute_result"
    }
   ],
   "source": [
    "week_51_2022['Do_you_like_biriyani_and_which_biriyani_you_like_the_more ?'].value_counts()"
   ]
  },
  {
   "cell_type": "code",
   "execution_count": 64,
   "id": "1ba0a0d1",
   "metadata": {},
   "outputs": [
    {
     "data": {
      "text/plain": [
       "Chicken Biryani                                                                              40\n",
       "Mutton Biryani                                                                               26\n",
       "Veg Biryani                                                                                  22\n",
       "Chicken Biryani  | Mutton Biryani                                                            19\n",
       "Chicken Biryani  | Mutton Biryani  | Fish Biryani                                             9\n",
       "Paneer Tikka Biryani                                                                          9\n",
       "Fish Biryani                                                                                  7\n",
       "Veg Biryani  | Paneer Tikka Biryani                                                           7\n",
       "Chicken Biryani  | Mutton Biryani  | Fish Biryani  | Veg Biryani                              6\n",
       "Chicken Biryani  | Paneer Tikka Biryani                                                       5\n",
       "Chicken Biryani  | Mutton Biryani  | Fish Biryani  | Paneer Tikka Biryani                     4\n",
       "No Answer                                                                                     3\n",
       "Fish Biryani  | Veg Biryani  | Paneer Tikka Biryani                                           3\n",
       "Fish Biryani  | Paneer Tikka Biryani                                                          2\n",
       "Chicken Biryani  | Mutton Biryani  | Fish Biryani  | Veg Biryani  | Paneer Tikka Biryani      2\n",
       "Mutton Biryani  | Fish Biryani  | Veg Biryani                                                 2\n",
       "Chicken Biryani  | Fish Biryani                                                               1\n",
       "Chicken Biryani  | Veg Biryani  | Paneer Tikka Biryani                                        1\n",
       "Mutton Biryani  | Veg Biryani                                                                 1\n",
       "Chicken Biryani  | Mutton Biryani  | Veg Biryani  | Paneer Tikka Biryani                      1\n",
       "Mutton Biryani  | Veg Biryani  | Paneer Tikka Biryani                                         1\n",
       "Mutton Biryani  | Fish Biryani  | Veg Biryani  | Paneer Tikka Biryani                         1\n",
       "Name: Do_you_like_biriyani_and_which_biriyani_you_like_the_more ?, dtype: int64"
      ]
     },
     "execution_count": 64,
     "metadata": {},
     "output_type": "execute_result"
    }
   ],
   "source": [
    "week_52_2022['Do_you_like_biriyani_and_which_biriyani_you_like_the_more ?'].value_counts()"
   ]
  },
  {
   "cell_type": "code",
   "execution_count": 65,
   "id": "b2cecb04",
   "metadata": {},
   "outputs": [
    {
     "data": {
      "text/plain": [
       "Chicken Biryani                                                                              13\n",
       "Mutton Biryani                                                                               11\n",
       "Veg Biryani                                                                                   9\n",
       "Chicken Biryani  | Mutton Biryani                                                             9\n",
       "No Answer                                                                                     3\n",
       "Chicken Biryani  | Mutton Biryani  | Fish Biryani  | Veg Biryani  | Paneer Tikka Biryani      2\n",
       "Chicken Biryani  | Mutton Biryani  | Veg Biryani  | Paneer Tikka Biryani                      2\n",
       "Chicken Biryani  | Mutton Biryani  | Fish Biryani  | Veg Biryani                              1\n",
       "Mutton Biryani  | Veg Biryani                                                                 1\n",
       "Veg Biryani  | Paneer Tikka Biryani                                                           1\n",
       "Chicken Biryani  | Mutton Biryani  | Fish Biryani                                             1\n",
       "Chicken Biryani  | Fish Biryani  | Veg Biryani  | Paneer Tikka Biryani                        1\n",
       "Fish Biryani  | Veg Biryani  | Paneer Tikka Biryani                                           1\n",
       "Mutton Biryani  | Veg Biryani  | Paneer Tikka Biryani                                         1\n",
       "Fish Biryani                                                                                  1\n",
       "Paneer Tikka Biryani                                                                          1\n",
       "Mutton Biryani  | Fish Biryani  | Veg Biryani                                                 1\n",
       "Name: Do_you_like_biriyani_and_which_biriyani_you_like_the_more ?, dtype: int64"
      ]
     },
     "execution_count": 65,
     "metadata": {},
     "output_type": "execute_result"
    }
   ],
   "source": [
    "week_01_2023['Do_you_like_biriyani_and_which_biriyani_you_like_the_more ?'].value_counts()"
   ]
  },
  {
   "cell_type": "code",
   "execution_count": 66,
   "id": "1e96c2d4",
   "metadata": {},
   "outputs": [
    {
     "data": {
      "text/plain": [
       "Chicken Biryani                                                              35\n",
       "Chicken Biryani  | Mutton Biryani                                            13\n",
       "Mutton Biryani                                                               13\n",
       "Veg Biryani                                                                   8\n",
       "Chicken Biryani  | Mutton Biryani  | Fish Biryani                             4\n",
       "Paneer Tikka Biryani                                                          3\n",
       "Veg Biryani  | Paneer Tikka Biryani                                           2\n",
       "Chicken Biryani  | Mutton Biryani  | Veg Biryani  | Paneer Tikka Biryani      1\n",
       "Chicken Biryani  | Veg Biryani  | Paneer Tikka Biryani                        1\n",
       "Chicken Biryani  | Mutton Biryani  | Paneer Tikka Biryani                     1\n",
       "Name: Do_you_like_biriyani_and_which_biriyani_you_like_the_more ?, dtype: int64"
      ]
     },
     "execution_count": 66,
     "metadata": {},
     "output_type": "execute_result"
    }
   ],
   "source": [
    "week_02_2023['Do_you_like_biriyani_and_which_biriyani_you_like_the_more ?'].value_counts()"
   ]
  },
  {
   "cell_type": "code",
   "execution_count": 67,
   "id": "6d26cc2d",
   "metadata": {},
   "outputs": [
    {
     "data": {
      "text/plain": [
       "Chicken Biryani                                                              35\n",
       "Chicken Biryani  | Mutton Biryani                                            13\n",
       "Mutton Biryani                                                               13\n",
       "Veg Biryani                                                                   8\n",
       "Chicken Biryani  | Mutton Biryani  | Fish Biryani                             4\n",
       "Paneer Tikka Biryani                                                          3\n",
       "Veg Biryani  | Paneer Tikka Biryani                                           2\n",
       "Chicken Biryani  | Mutton Biryani  | Veg Biryani  | Paneer Tikka Biryani      1\n",
       "Chicken Biryani  | Veg Biryani  | Paneer Tikka Biryani                        1\n",
       "Chicken Biryani  | Mutton Biryani  | Paneer Tikka Biryani                     1\n",
       "Name: Do_you_like_biriyani_and_which_biriyani_you_like_the_more ?, dtype: int64"
      ]
     },
     "execution_count": 67,
     "metadata": {},
     "output_type": "execute_result"
    }
   ],
   "source": [
    "week_02_2023['Do_you_like_biriyani_and_which_biriyani_you_like_the_more ?'].value_counts()"
   ]
  },
  {
   "cell_type": "code",
   "execution_count": 68,
   "id": "47b58de9",
   "metadata": {},
   "outputs": [
    {
     "data": {
      "text/plain": [
       "Chicken Biryani                                                                              22\n",
       "Veg Biryani                                                                                   7\n",
       "Chicken Biryani  | Veg Biryani                                                                5\n",
       "Paneer Tikka Biryani                                                                          4\n",
       "Mutton Biryani                                                                                3\n",
       "Veg Biryani  | Paneer Tikka Biryani                                                           3\n",
       "Chicken Biryani  | Mutton Biryani                                                             2\n",
       "Chicken Biryani  | Mutton Biryani  | Fish Biryani  | Veg Biryani  | Paneer Tikka Biryani      2\n",
       "Chicken Biryani  | Veg Biryani  | Paneer Tikka Biryani                                        1\n",
       "Chicken Biryani  | Mutton Biryani  | Veg Biryani  | Paneer Tikka Biryani                      1\n",
       "No Answer                                                                                     1\n",
       "Chicken Biryani  | Mutton Biryani  | Fish Biryani                                             1\n",
       "Mutton Biryani  | Fish Biryani  | Veg Biryani                                                 1\n",
       "Fish Biryani                                                                                  1\n",
       "Name: Do_you_like_biriyani_and_which_biriyani_you_like_the_more ?, dtype: int64"
      ]
     },
     "execution_count": 68,
     "metadata": {},
     "output_type": "execute_result"
    }
   ],
   "source": [
    "week_03_2023['Do_you_like_biriyani_and_which_biriyani_you_like_the_more ?'].value_counts()"
   ]
  },
  {
   "cell_type": "code",
   "execution_count": 69,
   "id": "cc929250",
   "metadata": {},
   "outputs": [
    {
     "data": {
      "text/plain": [
       "Chicken Biryani                                                                              37\n",
       "Veg Biryani                                                                                  15\n",
       "Mutton Biryani                                                                               11\n",
       "Paneer Tikka Biryani                                                                         11\n",
       "Chicken Biryani  | Mutton Biryani                                                             9\n",
       "Veg Biryani  | Paneer Tikka Biryani                                                           5\n",
       "Fish Biryani                                                                                  4\n",
       "Chicken Biryani  | Mutton Biryani  | Fish Biryani                                             3\n",
       "No Answer                                                                                     2\n",
       "Chicken Biryani  | Paneer Tikka Biryani                                                       1\n",
       "Chicken Biryani  | Fish Biryani                                                               1\n",
       "Chicken Biryani  | Mutton Biryani  | Fish Biryani  | Veg Biryani                              1\n",
       "Mutton Biryani  | Veg Biryani                                                                 1\n",
       "Chicken Biryani  | Veg Biryani                                                                1\n",
       "Chicken Biryani  | Mutton Biryani  | Fish Biryani  | Veg Biryani  | Paneer Tikka Biryani      1\n",
       "Chicken Biryani  | Mutton Biryani  | Paneer Tikka Biryani                                     1\n",
       "Mutton Biryani  | Fish Biryani                                                                1\n",
       "Name: Do_you_like_biriyani_and_which_biriyani_you_like_the_more ?, dtype: int64"
      ]
     },
     "execution_count": 69,
     "metadata": {},
     "output_type": "execute_result"
    }
   ],
   "source": [
    "week_04_2023['Do_you_like_biriyani_and_which_biriyani_you_like_the_more ?'].value_counts()"
   ]
  },
  {
   "cell_type": "code",
   "execution_count": 70,
   "id": "526b2968",
   "metadata": {},
   "outputs": [
    {
     "data": {
      "text/plain": [
       "Chicken Biryani                             20\n",
       "Veg Biryani                                  3\n",
       "Paneer Tikka Biryani                         2\n",
       "Fish Biryani                                 1\n",
       "Chicken Biryani  | Fish Biryani              1\n",
       "Veg Biryani  | Paneer Tikka Biryani          1\n",
       "Mutton Biryani                               1\n",
       "Chicken Biryani  | Paneer Tikka Biryani      1\n",
       "Name: Do_you_like_biriyani_and_which_biriyani_you_like_the_more ?, dtype: int64"
      ]
     },
     "execution_count": 70,
     "metadata": {},
     "output_type": "execute_result"
    }
   ],
   "source": [
    "week_05_2023['Do_you_like_biriyani_and_which_biriyani_you_like_the_more ?'].value_counts()"
   ]
  },
  {
   "cell_type": "code",
   "execution_count": 71,
   "id": "5690dd88",
   "metadata": {},
   "outputs": [
    {
     "data": {
      "text/plain": [
       "Chicken Biryani                                                                              30\n",
       "Veg Biryani                                                                                  16\n",
       "Mutton Biryani                                                                               14\n",
       "Veg Biryani  | Paneer Tikka Biryani                                                           8\n",
       "Paneer Tikka Biryani                                                                          8\n",
       "Fish Biryani                                                                                  5\n",
       "Chicken Biryani  | Mutton Biryani                                                             3\n",
       "Chicken Biryani  | Mutton Biryani  | Paneer Tikka Biryani                                     1\n",
       "Chicken Biryani  | Veg Biryani  | Paneer Tikka Biryani                                        1\n",
       "Chicken Biryani  | Fish Biryani  | Veg Biryani                                                1\n",
       "Chicken Biryani  | Paneer Tikka Biryani                                                       1\n",
       "Chicken Biryani  | Veg Biryani                                                                1\n",
       "No Answer                                                                                     1\n",
       "Chicken Biryani  | Mutton Biryani  | Fish Biryani  | Veg Biryani  | Paneer Tikka Biryani      1\n",
       "Chicken Biryani  | Mutton Biryani  | Veg Biryani                                              1\n",
       "Mutton Biryani  | Fish Biryani                                                                1\n",
       "Name: Do_you_like_biriyani_and_which_biriyani_you_like_the_more ?, dtype: int64"
      ]
     },
     "execution_count": 71,
     "metadata": {},
     "output_type": "execute_result"
    }
   ],
   "source": [
    "week_06_2023['Do_you_like_biriyani_and_which_biriyani_you_like_the_more ?'].value_counts()"
   ]
  },
  {
   "cell_type": "code",
   "execution_count": 72,
   "id": "e82f5fc9",
   "metadata": {},
   "outputs": [
    {
     "data": {
      "text/plain": [
       "Chicken Biryani                                                                              42\n",
       "Mutton Biryani                                                                               32\n",
       "Chicken Biryani  | Mutton Biryani                                                            23\n",
       "Veg Biryani                                                                                  20\n",
       "Paneer Tikka Biryani                                                                         12\n",
       "Veg Biryani  | Paneer Tikka Biryani                                                          10\n",
       "Fish Biryani                                                                                  9\n",
       "Chicken Biryani  | Mutton Biryani  | Fish Biryani                                             8\n",
       "No Answer                                                                                     7\n",
       "Chicken Biryani  | Paneer Tikka Biryani                                                       5\n",
       "Chicken Biryani  | Veg Biryani  | Paneer Tikka Biryani                                        4\n",
       "Chicken Biryani  | Fish Biryani                                                               4\n",
       "Chicken Biryani  | Mutton Biryani  | Fish Biryani  | Veg Biryani  | Paneer Tikka Biryani      3\n",
       "Chicken Biryani  | Veg Biryani                                                                2\n",
       "Chicken Biryani  | Fish Biryani  | Veg Biryani                                                2\n",
       "Chicken Biryani  | Mutton Biryani  | Fish Biryani  | Paneer Tikka Biryani                     1\n",
       "Chicken Biryani  | Mutton Biryani  | Veg Biryani                                              1\n",
       "Chicken Biryani  | Mutton Biryani  | Fish Biryani  | Veg Biryani                              1\n",
       "Fish Biryani  | Veg Biryani                                                                   1\n",
       "Chicken Biryani  | Fish Biryani  | Paneer Tikka Biryani                                       1\n",
       "Fish Biryani  | Veg Biryani  | Paneer Tikka Biryani                                           1\n",
       "Mutton Biryani  | Fish Biryani                                                                1\n",
       "Chicken Biryani  | Mutton Biryani  | Paneer Tikka Biryani                                     1\n",
       "Mutton Biryani  | Fish Biryani  | Veg Biryani  | Paneer Tikka Biryani                         1\n",
       "Name: Do_you_like_biriyani_and_which_biriyani_you_like_the_more ?, dtype: int64"
      ]
     },
     "execution_count": 72,
     "metadata": {},
     "output_type": "execute_result"
    }
   ],
   "source": [
    "week_07_2023['Do_you_like_biriyani_and_which_biriyani_you_like_the_more ?'].value_counts()"
   ]
  },
  {
   "cell_type": "code",
   "execution_count": 73,
   "id": "45820917",
   "metadata": {},
   "outputs": [
    {
     "data": {
      "text/plain": [
       "Paneer Tikka Biryani     1\n",
       "Mutton Biryani           1\n",
       "Name: Do_you_like_biriyani_and_which_biriyani_you_like_the_more ?, dtype: int64"
      ]
     },
     "execution_count": 73,
     "metadata": {},
     "output_type": "execute_result"
    }
   ],
   "source": [
    "week_08_2023['Do_you_like_biriyani_and_which_biriyani_you_like_the_more ?'].value_counts()"
   ]
  },
  {
   "cell_type": "markdown",
   "id": "bbb48b93",
   "metadata": {},
   "source": [
    "### Week V/S Preferred Price Range for 1 kg of Biryani"
   ]
  },
  {
   "cell_type": "code",
   "execution_count": 74,
   "id": "ac82e072",
   "metadata": {},
   "outputs": [
    {
     "data": {
      "text/plain": [
       "149                4\n",
       "99                 4\n",
       "199                3\n",
       "149 | 199          1\n",
       "No Answer          1\n",
       "149 | 199 | 249    1\n",
       "249                1\n",
       "199 | 249          1\n",
       "Name: What_is_Price_Range_for_1kg_Biryani_you_like_most , dtype: int64"
      ]
     },
     "execution_count": 74,
     "metadata": {},
     "output_type": "execute_result"
    }
   ],
   "source": [
    "week_47_2022['What_is_Price_Range_for_1kg_Biryani_you_like_most '].value_counts()"
   ]
  },
  {
   "cell_type": "code",
   "execution_count": 75,
   "id": "94b037e2",
   "metadata": {},
   "outputs": [
    {
     "data": {
      "text/plain": [
       "149                     20\n",
       "99                      14\n",
       "249                      9\n",
       "199                      7\n",
       "99 | 149                 6\n",
       "149 | 199                3\n",
       "99 | 149 | 199 | 249     1\n",
       "199 | 249                1\n",
       "Name: What_is_Price_Range_for_1kg_Biryani_you_like_most , dtype: int64"
      ]
     },
     "execution_count": 75,
     "metadata": {},
     "output_type": "execute_result"
    }
   ],
   "source": [
    "week_48_2022['What_is_Price_Range_for_1kg_Biryani_you_like_most '].value_counts()"
   ]
  },
  {
   "cell_type": "code",
   "execution_count": 76,
   "id": "dfec97d4",
   "metadata": {},
   "outputs": [
    {
     "data": {
      "text/plain": [
       "149                     65\n",
       "199                     49\n",
       "249                     40\n",
       "99                      36\n",
       "149 | 199                6\n",
       "99 | 149                 5\n",
       "199 | 249                2\n",
       "99 | 149 | 199 | 249     2\n",
       "No Answer                2\n",
       "Name: What_is_Price_Range_for_1kg_Biryani_you_like_most , dtype: int64"
      ]
     },
     "execution_count": 76,
     "metadata": {},
     "output_type": "execute_result"
    }
   ],
   "source": [
    "week_49_2022['What_is_Price_Range_for_1kg_Biryani_you_like_most '].value_counts()"
   ]
  },
  {
   "cell_type": "code",
   "execution_count": 77,
   "id": "19ed7805",
   "metadata": {},
   "outputs": [
    {
     "data": {
      "text/plain": [
       "149                     103\n",
       "199                      79\n",
       "99                       77\n",
       "249                      35\n",
       "149 | 199                15\n",
       "99 | 149                 14\n",
       "199 | 249                 7\n",
       "99 | 149 | 199            6\n",
       "99 | 149 | 199 | 249      4\n",
       "No Answer                 3\n",
       "149 | 199 | 249           1\n",
       "Name: What_is_Price_Range_for_1kg_Biryani_you_like_most , dtype: int64"
      ]
     },
     "execution_count": 77,
     "metadata": {},
     "output_type": "execute_result"
    }
   ],
   "source": [
    "week_50_2022['What_is_Price_Range_for_1kg_Biryani_you_like_most '].value_counts()"
   ]
  },
  {
   "cell_type": "code",
   "execution_count": 78,
   "id": "f4c1322f",
   "metadata": {},
   "outputs": [
    {
     "data": {
      "text/plain": [
       "149                     28\n",
       "199                     12\n",
       "99                       9\n",
       "249                      8\n",
       "149 | 199                4\n",
       "199 | 249                3\n",
       "99 | 149                 3\n",
       "No Answer                3\n",
       "99 | 149 | 199 | 249     1\n",
       "99 | 199                 1\n",
       "Name: What_is_Price_Range_for_1kg_Biryani_you_like_most , dtype: int64"
      ]
     },
     "execution_count": 78,
     "metadata": {},
     "output_type": "execute_result"
    }
   ],
   "source": [
    "week_51_2022['What_is_Price_Range_for_1kg_Biryani_you_like_most '].value_counts()"
   ]
  },
  {
   "cell_type": "code",
   "execution_count": 79,
   "id": "2519bf0e",
   "metadata": {},
   "outputs": [
    {
     "data": {
      "text/plain": [
       "149                50\n",
       "199                37\n",
       "99                 28\n",
       "249                26\n",
       "199 | 249          11\n",
       "149 | 199           6\n",
       "No Answer           5\n",
       "99 | 149 | 199      4\n",
       "149 | 199 | 249     3\n",
       "99 | 149            2\n",
       "Name: What_is_Price_Range_for_1kg_Biryani_you_like_most , dtype: int64"
      ]
     },
     "execution_count": 79,
     "metadata": {},
     "output_type": "execute_result"
    }
   ],
   "source": [
    "week_52_2022['What_is_Price_Range_for_1kg_Biryani_you_like_most '].value_counts()"
   ]
  },
  {
   "cell_type": "code",
   "execution_count": 80,
   "id": "9d79f86a",
   "metadata": {},
   "outputs": [
    {
     "data": {
      "text/plain": [
       "99                 12\n",
       "149                12\n",
       "249                10\n",
       "199                 9\n",
       "149 | 199 | 249     6\n",
       "199 | 249           4\n",
       "No Answer           3\n",
       "99 | 149            2\n",
       "99 | 149 | 199      1\n",
       "Name: What_is_Price_Range_for_1kg_Biryani_you_like_most , dtype: int64"
      ]
     },
     "execution_count": 80,
     "metadata": {},
     "output_type": "execute_result"
    }
   ],
   "source": [
    "week_01_2023['What_is_Price_Range_for_1kg_Biryani_you_like_most '].value_counts()"
   ]
  },
  {
   "cell_type": "code",
   "execution_count": 81,
   "id": "14fe95e0",
   "metadata": {},
   "outputs": [
    {
     "data": {
      "text/plain": [
       "149                24\n",
       "249                19\n",
       "199                14\n",
       "99                 10\n",
       "149 | 199           7\n",
       "199 | 249           3\n",
       "149 | 199 | 249     2\n",
       "99 | 149 | 249      1\n",
       "99 | 149            1\n",
       "Name: What_is_Price_Range_for_1kg_Biryani_you_like_most , dtype: int64"
      ]
     },
     "execution_count": 81,
     "metadata": {},
     "output_type": "execute_result"
    }
   ],
   "source": [
    "week_02_2023['What_is_Price_Range_for_1kg_Biryani_you_like_most '].value_counts()"
   ]
  },
  {
   "cell_type": "code",
   "execution_count": 82,
   "id": "6feb68c2",
   "metadata": {},
   "outputs": [
    {
     "data": {
      "text/plain": [
       "149          20\n",
       "249          11\n",
       "99            8\n",
       "199           6\n",
       "99 | 149      3\n",
       "149 | 199     3\n",
       "199 | 249     2\n",
       "No Answer     1\n",
       "Name: What_is_Price_Range_for_1kg_Biryani_you_like_most , dtype: int64"
      ]
     },
     "execution_count": 82,
     "metadata": {},
     "output_type": "execute_result"
    }
   ],
   "source": [
    "week_03_2023['What_is_Price_Range_for_1kg_Biryani_you_like_most '].value_counts()"
   ]
  },
  {
   "cell_type": "code",
   "execution_count": 83,
   "id": "c43595a4",
   "metadata": {},
   "outputs": [
    {
     "data": {
      "text/plain": [
       "149                     28\n",
       "99                      26\n",
       "199                     16\n",
       "249                     15\n",
       "99 | 149                 6\n",
       "199 | 249                5\n",
       "No Answer                3\n",
       "149 | 199                3\n",
       "99 | 149 | 199           2\n",
       "99 | 149 | 199 | 249     1\n",
       "Name: What_is_Price_Range_for_1kg_Biryani_you_like_most , dtype: int64"
      ]
     },
     "execution_count": 83,
     "metadata": {},
     "output_type": "execute_result"
    }
   ],
   "source": [
    "week_04_2023['What_is_Price_Range_for_1kg_Biryani_you_like_most '].value_counts()"
   ]
  },
  {
   "cell_type": "code",
   "execution_count": 84,
   "id": "2c616fef",
   "metadata": {},
   "outputs": [
    {
     "data": {
      "text/plain": [
       "149          17\n",
       "99            8\n",
       "249           2\n",
       "199           2\n",
       "149 | 199     1\n",
       "Name: What_is_Price_Range_for_1kg_Biryani_you_like_most , dtype: int64"
      ]
     },
     "execution_count": 84,
     "metadata": {},
     "output_type": "execute_result"
    }
   ],
   "source": [
    "week_05_2023['What_is_Price_Range_for_1kg_Biryani_you_like_most '].value_counts()"
   ]
  },
  {
   "cell_type": "code",
   "execution_count": 85,
   "id": "4a22e983",
   "metadata": {},
   "outputs": [
    {
     "data": {
      "text/plain": [
       "149                     30\n",
       "249                     20\n",
       "199                     15\n",
       "99                      13\n",
       "149 | 199                4\n",
       "99 | 149                 2\n",
       "99 | 149 | 199           2\n",
       "99 | 149 | 199 | 249     2\n",
       "No Answer                2\n",
       "99 | 199                 1\n",
       "149 | 249                1\n",
       "199 | 249                1\n",
       "Name: What_is_Price_Range_for_1kg_Biryani_you_like_most , dtype: int64"
      ]
     },
     "execution_count": 85,
     "metadata": {},
     "output_type": "execute_result"
    }
   ],
   "source": [
    "week_06_2023['What_is_Price_Range_for_1kg_Biryani_you_like_most '].value_counts()"
   ]
  },
  {
   "cell_type": "code",
   "execution_count": 86,
   "id": "fe706460",
   "metadata": {},
   "outputs": [
    {
     "data": {
      "text/plain": [
       "199                     47\n",
       "249                     36\n",
       "149                     36\n",
       "99                      32\n",
       "99 | 149                 9\n",
       "149 | 199                8\n",
       "No Answer                8\n",
       "99 | 149 | 199           4\n",
       "99 | 199                 3\n",
       "149 | 249                2\n",
       "99 | 149 | 199 | 249     2\n",
       "199 | 249                2\n",
       "99 | 249                 1\n",
       "99 | 149 | 249           1\n",
       "99 | 199 | 249           1\n",
       "Name: What_is_Price_Range_for_1kg_Biryani_you_like_most , dtype: int64"
      ]
     },
     "execution_count": 86,
     "metadata": {},
     "output_type": "execute_result"
    }
   ],
   "source": [
    "week_07_2023['What_is_Price_Range_for_1kg_Biryani_you_like_most '].value_counts()"
   ]
  },
  {
   "cell_type": "code",
   "execution_count": 87,
   "id": "3bf2a148",
   "metadata": {},
   "outputs": [
    {
     "data": {
      "text/plain": [
       "249    1\n",
       "149    1\n",
       "Name: What_is_Price_Range_for_1kg_Biryani_you_like_most , dtype: int64"
      ]
     },
     "execution_count": 87,
     "metadata": {},
     "output_type": "execute_result"
    }
   ],
   "source": [
    "week_08_2023['What_is_Price_Range_for_1kg_Biryani_you_like_most '].value_counts()"
   ]
  },
  {
   "cell_type": "markdown",
   "id": "c311a5aa",
   "metadata": {},
   "source": [
    "### Week V/S Most Preferred Financial Product"
   ]
  },
  {
   "cell_type": "code",
   "execution_count": 88,
   "id": "b2c695ca",
   "metadata": {},
   "outputs": [
    {
     "data": {
      "text/plain": [
       "Bank FD(Rate of Interest- 7%)-1yr                                                                                                                                                             3\n",
       "Mutual Fund SIP (ROI 12%)-1yr                                                                                                                                                                 2\n",
       "Yoshops Franchise Investment(ROI 20%)-1yr                                                                                                                                                     2\n",
       "Post office RD (Rate of Interest- 6%)-1yr                                                                                                                                                     2\n",
       "Company Stock IPO(ROI 15%)-1yr                                                                                                                                                                1\n",
       "Post office RD (Rate of Interest- 6%)-1yr | Bank FD(Rate of Interest- 7%)-1yr | Mutual Fund SIP (ROI 12%)-1yr | Company Stock IPO(ROI 15%)-1yr | Yoshops Franchise Investment(ROI 20%)-1yr    1\n",
       "Post office RD (Rate of Interest- 6%)-1yr | Mutual Fund SIP (ROI 12%)-1yr                                                                                                                     1\n",
       "Company Stock IPO(ROI 15%)-1yr | Yoshops Franchise Investment(ROI 20%)-1yr                                                                                                                    1\n",
       "Mutual Fund SIP (ROI 12%)-1yr | Company Stock IPO(ROI 15%)-1yr | Yoshops Franchise Investment(ROI 20%)-1yr                                                                                    1\n",
       "No Answer                                                                                                                                                                                     1\n",
       "Bank FD(Rate of Interest- 7%)-1yr | Mutual Fund SIP (ROI 12%)-1yr                                                                                                                             1\n",
       "Name: Which_Financial_products_you_like_most, dtype: int64"
      ]
     },
     "execution_count": 88,
     "metadata": {},
     "output_type": "execute_result"
    }
   ],
   "source": [
    "week_47_2022['Which_Financial_products_you_like_most'].value_counts()"
   ]
  },
  {
   "cell_type": "code",
   "execution_count": 89,
   "id": "68921c50",
   "metadata": {},
   "outputs": [
    {
     "data": {
      "text/plain": [
       "Bank FD(Rate of Interest- 7%)-1yr                                                                                                                                                             14\n",
       "Yoshops Franchise Investment(ROI 20%)-1yr                                                                                                                                                     12\n",
       "Company Stock IPO(ROI 15%)-1yr                                                                                                                                                                 9\n",
       "Mutual Fund SIP (ROI 12%)-1yr                                                                                                                                                                  8\n",
       "Mutual Fund SIP (ROI 12%)-1yr | Company Stock IPO(ROI 15%)-1yr                                                                                                                                 5\n",
       "No Answer                                                                                                                                                                                      4\n",
       "Bank FD(Rate of Interest- 7%)-1yr | Company Stock IPO(ROI 15%)-1yr                                                                                                                             2\n",
       "Post office RD (Rate of Interest- 6%)-1yr                                                                                                                                                      2\n",
       "Bank FD(Rate of Interest- 7%)-1yr | Mutual Fund SIP (ROI 12%)-1yr                                                                                                                              2\n",
       "Post office RD (Rate of Interest- 6%)-1yr | Bank FD(Rate of Interest- 7%)-1yr | Mutual Fund SIP (ROI 12%)-1yr | Company Stock IPO(ROI 15%)-1yr | Yoshops Franchise Investment(ROI 20%)-1yr     1\n",
       "Post office RD (Rate of Interest- 6%)-1yr | Bank FD(Rate of Interest- 7%)-1yr | Mutual Fund SIP (ROI 12%)-1yr                                                                                  1\n",
       "Post office RD (Rate of Interest- 6%)-1yr | Bank FD(Rate of Interest- 7%)-1yr | Mutual Fund SIP (ROI 12%)-1yr | Company Stock IPO(ROI 15%)-1yr                                                 1\n",
       "Name: Which_Financial_products_you_like_most, dtype: int64"
      ]
     },
     "execution_count": 89,
     "metadata": {},
     "output_type": "execute_result"
    }
   ],
   "source": [
    "week_48_2022['Which_Financial_products_you_like_most'].value_counts()"
   ]
  },
  {
   "cell_type": "code",
   "execution_count": 90,
   "id": "6889b9ed",
   "metadata": {},
   "outputs": [
    {
     "data": {
      "text/plain": [
       "Bank FD(Rate of Interest- 7%)-1yr                                                                                                                                                             51\n",
       "Company Stock IPO(ROI 15%)-1yr                                                                                                                                                                43\n",
       "Mutual Fund SIP (ROI 12%)-1yr                                                                                                                                                                 40\n",
       "Yoshops Franchise Investment(ROI 20%)-1yr                                                                                                                                                     26\n",
       "Post office RD (Rate of Interest- 6%)-1yr                                                                                                                                                     20\n",
       "No Answer                                                                                                                                                                                      6\n",
       "Bank FD(Rate of Interest- 7%)-1yr | Mutual Fund SIP (ROI 12%)-1yr                                                                                                                              6\n",
       "Post office RD (Rate of Interest- 6%)-1yr | Bank FD(Rate of Interest- 7%)-1yr                                                                                                                  2\n",
       "Mutual Fund SIP (ROI 12%)-1yr | Company Stock IPO(ROI 15%)-1yr                                                                                                                                 2\n",
       "Post office RD (Rate of Interest- 6%)-1yr | Bank FD(Rate of Interest- 7%)-1yr | Mutual Fund SIP (ROI 12%)-1yr | Company Stock IPO(ROI 15%)-1yr | Yoshops Franchise Investment(ROI 20%)-1yr     2\n",
       "Mutual Fund SIP (ROI 12%)-1yr | Company Stock IPO(ROI 15%)-1yr | Yoshops Franchise Investment(ROI 20%)-1yr                                                                                     2\n",
       "Company Stock IPO(ROI 15%)-1yr | Yoshops Franchise Investment(ROI 20%)-1yr                                                                                                                     1\n",
       "Bank FD(Rate of Interest- 7%)-1yr | Yoshops Franchise Investment(ROI 20%)-1yr                                                                                                                  1\n",
       "Bank FD(Rate of Interest- 7%)-1yr | Mutual Fund SIP (ROI 12%)-1yr | Company Stock IPO(ROI 15%)-1yr | Yoshops Franchise Investment(ROI 20%)-1yr                                                 1\n",
       "Bank FD(Rate of Interest- 7%)-1yr | Mutual Fund SIP (ROI 12%)-1yr | Yoshops Franchise Investment(ROI 20%)-1yr                                                                                  1\n",
       "Post office RD (Rate of Interest- 6%)-1yr | Company Stock IPO(ROI 15%)-1yr                                                                                                                     1\n",
       "Post office RD (Rate of Interest- 6%)-1yr | Mutual Fund SIP (ROI 12%)-1yr | Company Stock IPO(ROI 15%)-1yr                                                                                     1\n",
       "Bank FD(Rate of Interest- 7%)-1yr | Mutual Fund SIP (ROI 12%)-1yr | Company Stock IPO(ROI 15%)-1yr                                                                                             1\n",
       "Name: Which_Financial_products_you_like_most, dtype: int64"
      ]
     },
     "execution_count": 90,
     "metadata": {},
     "output_type": "execute_result"
    }
   ],
   "source": [
    "week_49_2022['Which_Financial_products_you_like_most'].value_counts()"
   ]
  },
  {
   "cell_type": "code",
   "execution_count": 91,
   "id": "d31fc68a",
   "metadata": {},
   "outputs": [
    {
     "data": {
      "text/plain": [
       "Bank FD(Rate of Interest- 7%)-1yr                                                                                                                                                             83\n",
       "Mutual Fund SIP (ROI 12%)-1yr                                                                                                                                                                 64\n",
       "Post office RD (Rate of Interest- 6%)-1yr                                                                                                                                                     56\n",
       "Company Stock IPO(ROI 15%)-1yr                                                                                                                                                                50\n",
       "Yoshops Franchise Investment(ROI 20%)-1yr                                                                                                                                                     19\n",
       "No Answer                                                                                                                                                                                     16\n",
       "Post office RD (Rate of Interest- 6%)-1yr | Bank FD(Rate of Interest- 7%)-1yr                                                                                                                 14\n",
       "Mutual Fund SIP (ROI 12%)-1yr | Company Stock IPO(ROI 15%)-1yr                                                                                                                                 8\n",
       "Bank FD(Rate of Interest- 7%)-1yr | Mutual Fund SIP (ROI 12%)-1yr                                                                                                                              7\n",
       "Post office RD (Rate of Interest- 6%)-1yr | Bank FD(Rate of Interest- 7%)-1yr | Mutual Fund SIP (ROI 12%)-1yr | Company Stock IPO(ROI 15%)-1yr | Yoshops Franchise Investment(ROI 20%)-1yr     5\n",
       "Post office RD (Rate of Interest- 6%)-1yr | Mutual Fund SIP (ROI 12%)-1yr                                                                                                                      3\n",
       "Bank FD(Rate of Interest- 7%)-1yr | Mutual Fund SIP (ROI 12%)-1yr | Company Stock IPO(ROI 15%)-1yr                                                                                             3\n",
       "Company Stock IPO(ROI 15%)-1yr | Yoshops Franchise Investment(ROI 20%)-1yr                                                                                                                     3\n",
       "Mutual Fund SIP (ROI 12%)-1yr | Yoshops Franchise Investment(ROI 20%)-1yr                                                                                                                      2\n",
       "Post office RD (Rate of Interest- 6%)-1yr | Yoshops Franchise Investment(ROI 20%)-1yr                                                                                                          2\n",
       "Mutual Fund SIP (ROI 12%)-1yr | Company Stock IPO(ROI 15%)-1yr | Yoshops Franchise Investment(ROI 20%)-1yr                                                                                     2\n",
       "Bank FD(Rate of Interest- 7%)-1yr | Yoshops Franchise Investment(ROI 20%)-1yr                                                                                                                  2\n",
       "Post office RD (Rate of Interest- 6%)-1yr | Company Stock IPO(ROI 15%)-1yr                                                                                                                     2\n",
       "Post office RD (Rate of Interest- 6%)-1yr | Bank FD(Rate of Interest- 7%)-1yr | Company Stock IPO(ROI 15%)-1yr | Yoshops Franchise Investment(ROI 20%)-1yr                                     1\n",
       "Bank FD(Rate of Interest- 7%)-1yr | Mutual Fund SIP (ROI 12%)-1yr | Yoshops Franchise Investment(ROI 20%)-1yr                                                                                  1\n",
       "Post office RD (Rate of Interest- 6%)-1yr | Bank FD(Rate of Interest- 7%)-1yr | Mutual Fund SIP (ROI 12%)-1yr | Company Stock IPO(ROI 15%)-1yr                                                 1\n",
       "Name: Which_Financial_products_you_like_most, dtype: int64"
      ]
     },
     "execution_count": 91,
     "metadata": {},
     "output_type": "execute_result"
    }
   ],
   "source": [
    "week_50_2022['Which_Financial_products_you_like_most'].value_counts()"
   ]
  },
  {
   "cell_type": "code",
   "execution_count": 92,
   "id": "3ee22276",
   "metadata": {},
   "outputs": [
    {
     "data": {
      "text/plain": [
       "Mutual Fund SIP (ROI 12%)-1yr                                                                                                                             18\n",
       "No Answer                                                                                                                                                 14\n",
       "Post office RD (Rate of Interest- 6%)-1yr                                                                                                                 10\n",
       "Bank FD(Rate of Interest- 7%)-1yr                                                                                                                          8\n",
       "Yoshops Franchise Investment(ROI 20%)-1yr                                                                                                                  7\n",
       "Mutual Fund SIP (ROI 12%)-1yr | Company Stock IPO(ROI 15%)-1yr                                                                                             5\n",
       "Company Stock IPO(ROI 15%)-1yr                                                                                                                             4\n",
       "Mutual Fund SIP (ROI 12%)-1yr | Company Stock IPO(ROI 15%)-1yr | Yoshops Franchise Investment(ROI 20%)-1yr                                                 3\n",
       "Post office RD (Rate of Interest- 6%)-1yr | Mutual Fund SIP (ROI 12%)-1yr | Company Stock IPO(ROI 15%)-1yr | Yoshops Franchise Investment(ROI 20%)-1yr     1\n",
       "Post office RD (Rate of Interest- 6%)-1yr | Bank FD(Rate of Interest- 7%)-1yr | Mutual Fund SIP (ROI 12%)-1yr                                              1\n",
       "Mutual Fund SIP (ROI 12%)-1yr | Yoshops Franchise Investment(ROI 20%)-1yr                                                                                  1\n",
       "Name: Which_Financial_products_you_like_most, dtype: int64"
      ]
     },
     "execution_count": 92,
     "metadata": {},
     "output_type": "execute_result"
    }
   ],
   "source": [
    "week_51_2022['Which_Financial_products_you_like_most'].value_counts()"
   ]
  },
  {
   "cell_type": "code",
   "execution_count": 93,
   "id": "f781816b",
   "metadata": {},
   "outputs": [
    {
     "data": {
      "text/plain": [
       "Bank FD(Rate of Interest- 7%)-1yr                                                                                                                                                             30\n",
       "Mutual Fund SIP (ROI 12%)-1yr                                                                                                                                                                 28\n",
       "Post office RD (Rate of Interest- 6%)-1yr                                                                                                                                                     23\n",
       "Company Stock IPO(ROI 15%)-1yr                                                                                                                                                                17\n",
       "Post office RD (Rate of Interest- 6%)-1yr | Bank FD(Rate of Interest- 7%)-1yr                                                                                                                 13\n",
       "Bank FD(Rate of Interest- 7%)-1yr | Mutual Fund SIP (ROI 12%)-1yr | Company Stock IPO(ROI 15%)-1yr                                                                                            11\n",
       "Yoshops Franchise Investment(ROI 20%)-1yr                                                                                                                                                     10\n",
       "No Answer                                                                                                                                                                                      7\n",
       "Bank FD(Rate of Interest- 7%)-1yr | Mutual Fund SIP (ROI 12%)-1yr                                                                                                                              6\n",
       "Post office RD (Rate of Interest- 6%)-1yr | Bank FD(Rate of Interest- 7%)-1yr | Mutual Fund SIP (ROI 12%)-1yr                                                                                  6\n",
       "Post office RD (Rate of Interest- 6%)-1yr | Bank FD(Rate of Interest- 7%)-1yr | Mutual Fund SIP (ROI 12%)-1yr | Company Stock IPO(ROI 15%)-1yr                                                 4\n",
       "Mutual Fund SIP (ROI 12%)-1yr | Company Stock IPO(ROI 15%)-1yr                                                                                                                                 3\n",
       "Post office RD (Rate of Interest- 6%)-1yr | Company Stock IPO(ROI 15%)-1yr                                                                                                                     2\n",
       "Bank FD(Rate of Interest- 7%)-1yr | Mutual Fund SIP (ROI 12%)-1yr | Yoshops Franchise Investment(ROI 20%)-1yr                                                                                  2\n",
       "Post office RD (Rate of Interest- 6%)-1yr | Mutual Fund SIP (ROI 12%)-1yr                                                                                                                      2\n",
       "Post office RD (Rate of Interest- 6%)-1yr | Bank FD(Rate of Interest- 7%)-1yr | Mutual Fund SIP (ROI 12%)-1yr | Company Stock IPO(ROI 15%)-1yr | Yoshops Franchise Investment(ROI 20%)-1yr     2\n",
       "Post office RD (Rate of Interest- 6%)-1yr | Company Stock IPO(ROI 15%)-1yr | Yoshops Franchise Investment(ROI 20%)-1yr                                                                         2\n",
       "Post office RD (Rate of Interest- 6%)-1yr | Yoshops Franchise Investment(ROI 20%)-1yr                                                                                                          1\n",
       "Mutual Fund SIP (ROI 12%)-1yr | Company Stock IPO(ROI 15%)-1yr | Yoshops Franchise Investment(ROI 20%)-1yr                                                                                     1\n",
       "Post office RD (Rate of Interest- 6%)-1yr | Bank FD(Rate of Interest- 7%)-1yr | Company Stock IPO(ROI 15%)-1yr                                                                                 1\n",
       "Bank FD(Rate of Interest- 7%)-1yr | Company Stock IPO(ROI 15%)-1yr                                                                                                                             1\n",
       "Name: Which_Financial_products_you_like_most, dtype: int64"
      ]
     },
     "execution_count": 93,
     "metadata": {},
     "output_type": "execute_result"
    }
   ],
   "source": [
    "week_52_2022['Which_Financial_products_you_like_most'].value_counts()"
   ]
  },
  {
   "cell_type": "code",
   "execution_count": 94,
   "id": "a908799f",
   "metadata": {},
   "outputs": [
    {
     "data": {
      "text/plain": [
       "Bank FD(Rate of Interest- 7%)-1yr                                                                                                                 10\n",
       "Mutual Fund SIP (ROI 12%)-1yr                                                                                                                      9\n",
       "Company Stock IPO(ROI 15%)-1yr                                                                                                                     7\n",
       "No Answer                                                                                                                                          6\n",
       "Post office RD (Rate of Interest- 6%)-1yr                                                                                                          5\n",
       "Yoshops Franchise Investment(ROI 20%)-1yr                                                                                                          3\n",
       "Bank FD(Rate of Interest- 7%)-1yr | Mutual Fund SIP (ROI 12%)-1yr | Company Stock IPO(ROI 15%)-1yr                                                 3\n",
       "Mutual Fund SIP (ROI 12%)-1yr | Company Stock IPO(ROI 15%)-1yr | Yoshops Franchise Investment(ROI 20%)-1yr                                         3\n",
       "Bank FD(Rate of Interest- 7%)-1yr | Mutual Fund SIP (ROI 12%)-1yr                                                                                  3\n",
       "Post office RD (Rate of Interest- 6%)-1yr | Bank FD(Rate of Interest- 7%)-1yr                                                                      2\n",
       "Post office RD (Rate of Interest- 6%)-1yr | Bank FD(Rate of Interest- 7%)-1yr | Mutual Fund SIP (ROI 12%)-1yr                                      2\n",
       "Post office RD (Rate of Interest- 6%)-1yr | Bank FD(Rate of Interest- 7%)-1yr | Mutual Fund SIP (ROI 12%)-1yr | Company Stock IPO(ROI 15%)-1yr     2\n",
       "Bank FD(Rate of Interest- 7%)-1yr | Mutual Fund SIP (ROI 12%)-1yr | Company Stock IPO(ROI 15%)-1yr | Yoshops Franchise Investment(ROI 20%)-1yr     2\n",
       "Post office RD (Rate of Interest- 6%)-1yr | Mutual Fund SIP (ROI 12%)-1yr                                                                          1\n",
       "Mutual Fund SIP (ROI 12%)-1yr | Company Stock IPO(ROI 15%)-1yr                                                                                     1\n",
       "Name: Which_Financial_products_you_like_most, dtype: int64"
      ]
     },
     "execution_count": 94,
     "metadata": {},
     "output_type": "execute_result"
    }
   ],
   "source": [
    "week_01_2023['Which_Financial_products_you_like_most'].value_counts()"
   ]
  },
  {
   "cell_type": "code",
   "execution_count": 95,
   "id": "b6a229bb",
   "metadata": {},
   "outputs": [
    {
     "data": {
      "text/plain": [
       "Mutual Fund SIP (ROI 12%)-1yr                                                                                                                                                                 19\n",
       "Bank FD(Rate of Interest- 7%)-1yr                                                                                                                                                             14\n",
       "Company Stock IPO(ROI 15%)-1yr                                                                                                                                                                12\n",
       "Yoshops Franchise Investment(ROI 20%)-1yr                                                                                                                                                      7\n",
       "Post office RD (Rate of Interest- 6%)-1yr                                                                                                                                                      6\n",
       "No Answer                                                                                                                                                                                      5\n",
       "Company Stock IPO(ROI 15%)-1yr | Yoshops Franchise Investment(ROI 20%)-1yr                                                                                                                     4\n",
       "Post office RD (Rate of Interest- 6%)-1yr | Bank FD(Rate of Interest- 7%)-1yr | Mutual Fund SIP (ROI 12%)-1yr | Company Stock IPO(ROI 15%)-1yr | Yoshops Franchise Investment(ROI 20%)-1yr     3\n",
       "Mutual Fund SIP (ROI 12%)-1yr | Company Stock IPO(ROI 15%)-1yr                                                                                                                                 2\n",
       "Mutual Fund SIP (ROI 12%)-1yr | Company Stock IPO(ROI 15%)-1yr | Yoshops Franchise Investment(ROI 20%)-1yr                                                                                     2\n",
       "Mutual Fund SIP (ROI 12%)-1yr | Yoshops Franchise Investment(ROI 20%)-1yr                                                                                                                      1\n",
       "Post office RD (Rate of Interest- 6%)-1yr | Bank FD(Rate of Interest- 7%)-1yr | Yoshops Franchise Investment(ROI 20%)-1yr                                                                      1\n",
       "Post office RD (Rate of Interest- 6%)-1yr | Yoshops Franchise Investment(ROI 20%)-1yr                                                                                                          1\n",
       "Post office RD (Rate of Interest- 6%)-1yr | Bank FD(Rate of Interest- 7%)-1yr                                                                                                                  1\n",
       "Bank FD(Rate of Interest- 7%)-1yr | Mutual Fund SIP (ROI 12%)-1yr | Yoshops Franchise Investment(ROI 20%)-1yr                                                                                  1\n",
       "Bank FD(Rate of Interest- 7%)-1yr | Company Stock IPO(ROI 15%)-1yr                                                                                                                             1\n",
       "Post office RD (Rate of Interest- 6%)-1yr | Mutual Fund SIP (ROI 12%)-1yr                                                                                                                      1\n",
       "Name: Which_Financial_products_you_like_most, dtype: int64"
      ]
     },
     "execution_count": 95,
     "metadata": {},
     "output_type": "execute_result"
    }
   ],
   "source": [
    "week_02_2023['Which_Financial_products_you_like_most'].value_counts()"
   ]
  },
  {
   "cell_type": "code",
   "execution_count": 96,
   "id": "e4cd0fd0",
   "metadata": {},
   "outputs": [
    {
     "data": {
      "text/plain": [
       "Yoshops Franchise Investment(ROI 20%)-1yr                                                                                                                                                     12\n",
       "Mutual Fund SIP (ROI 12%)-1yr                                                                                                                                                                  7\n",
       "Company Stock IPO(ROI 15%)-1yr                                                                                                                                                                 6\n",
       "No Answer                                                                                                                                                                                      5\n",
       "Bank FD(Rate of Interest- 7%)-1yr                                                                                                                                                              4\n",
       "Mutual Fund SIP (ROI 12%)-1yr | Company Stock IPO(ROI 15%)-1yr                                                                                                                                 4\n",
       "Post office RD (Rate of Interest- 6%)-1yr                                                                                                                                                      3\n",
       "Post office RD (Rate of Interest- 6%)-1yr | Bank FD(Rate of Interest- 7%)-1yr                                                                                                                  2\n",
       "Bank FD(Rate of Interest- 7%)-1yr | Mutual Fund SIP (ROI 12%)-1yr | Company Stock IPO(ROI 15%)-1yr                                                                                             2\n",
       "Company Stock IPO(ROI 15%)-1yr | Yoshops Franchise Investment(ROI 20%)-1yr                                                                                                                     1\n",
       "Post office RD (Rate of Interest- 6%)-1yr | Bank FD(Rate of Interest- 7%)-1yr | Mutual Fund SIP (ROI 12%)-1yr | Company Stock IPO(ROI 15%)-1yr | Yoshops Franchise Investment(ROI 20%)-1yr     1\n",
       "Bank FD(Rate of Interest- 7%)-1yr | Mutual Fund SIP (ROI 12%)-1yr | Company Stock IPO(ROI 15%)-1yr | Yoshops Franchise Investment(ROI 20%)-1yr                                                 1\n",
       "Mutual Fund SIP (ROI 12%)-1yr | Company Stock IPO(ROI 15%)-1yr | Yoshops Franchise Investment(ROI 20%)-1yr                                                                                     1\n",
       "Post office RD (Rate of Interest- 6%)-1yr | Mutual Fund SIP (ROI 12%)-1yr                                                                                                                      1\n",
       "Post office RD (Rate of Interest- 6%)-1yr | Company Stock IPO(ROI 15%)-1yr                                                                                                                     1\n",
       "Post office RD (Rate of Interest- 6%)-1yr | Bank FD(Rate of Interest- 7%)-1yr | Mutual Fund SIP (ROI 12%)-1yr | Company Stock IPO(ROI 15%)-1yr                                                 1\n",
       "Post office RD (Rate of Interest- 6%)-1yr | Mutual Fund SIP (ROI 12%)-1yr | Company Stock IPO(ROI 15%)-1yr                                                                                     1\n",
       "Post office RD (Rate of Interest- 6%)-1yr | Bank FD(Rate of Interest- 7%)-1yr | Mutual Fund SIP (ROI 12%)-1yr                                                                                  1\n",
       "Name: Which_Financial_products_you_like_most, dtype: int64"
      ]
     },
     "execution_count": 96,
     "metadata": {},
     "output_type": "execute_result"
    }
   ],
   "source": [
    "week_03_2023['Which_Financial_products_you_like_most'].value_counts()"
   ]
  },
  {
   "cell_type": "code",
   "execution_count": 97,
   "id": "e3111591",
   "metadata": {},
   "outputs": [
    {
     "data": {
      "text/plain": [
       "Company Stock IPO(ROI 15%)-1yr                                                                                                                                                                20\n",
       "Bank FD(Rate of Interest- 7%)-1yr                                                                                                                                                             16\n",
       "Mutual Fund SIP (ROI 12%)-1yr                                                                                                                                                                 14\n",
       "Yoshops Franchise Investment(ROI 20%)-1yr                                                                                                                                                     12\n",
       "Post office RD (Rate of Interest- 6%)-1yr                                                                                                                                                     11\n",
       "No Answer                                                                                                                                                                                      9\n",
       "Company Stock IPO(ROI 15%)-1yr | Yoshops Franchise Investment(ROI 20%)-1yr                                                                                                                     3\n",
       "Bank FD(Rate of Interest- 7%)-1yr | Company Stock IPO(ROI 15%)-1yr | Yoshops Franchise Investment(ROI 20%)-1yr                                                                                 3\n",
       "Post office RD (Rate of Interest- 6%)-1yr | Bank FD(Rate of Interest- 7%)-1yr | Mutual Fund SIP (ROI 12%)-1yr | Company Stock IPO(ROI 15%)-1yr | Yoshops Franchise Investment(ROI 20%)-1yr     3\n",
       "Post office RD (Rate of Interest- 6%)-1yr | Bank FD(Rate of Interest- 7%)-1yr | Mutual Fund SIP (ROI 12%)-1yr                                                                                  2\n",
       "Post office RD (Rate of Interest- 6%)-1yr | Mutual Fund SIP (ROI 12%)-1yr                                                                                                                      2\n",
       "Bank FD(Rate of Interest- 7%)-1yr | Mutual Fund SIP (ROI 12%)-1yr                                                                                                                              2\n",
       "Mutual Fund SIP (ROI 12%)-1yr | Company Stock IPO(ROI 15%)-1yr                                                                                                                                 2\n",
       "Post office RD (Rate of Interest- 6%)-1yr | Bank FD(Rate of Interest- 7%)-1yr                                                                                                                  1\n",
       "Bank FD(Rate of Interest- 7%)-1yr | Yoshops Franchise Investment(ROI 20%)-1yr                                                                                                                  1\n",
       "Post office RD (Rate of Interest- 6%)-1yr | Mutual Fund SIP (ROI 12%)-1yr | Company Stock IPO(ROI 15%)-1yr                                                                                     1\n",
       "Bank FD(Rate of Interest- 7%)-1yr | Mutual Fund SIP (ROI 12%)-1yr | Company Stock IPO(ROI 15%)-1yr                                                                                             1\n",
       "Mutual Fund SIP (ROI 12%)-1yr | Company Stock IPO(ROI 15%)-1yr | Yoshops Franchise Investment(ROI 20%)-1yr                                                                                     1\n",
       "Bank FD(Rate of Interest- 7%)-1yr | Mutual Fund SIP (ROI 12%)-1yr | Company Stock IPO(ROI 15%)-1yr | Yoshops Franchise Investment(ROI 20%)-1yr                                                 1\n",
       "Name: Which_Financial_products_you_like_most, dtype: int64"
      ]
     },
     "execution_count": 97,
     "metadata": {},
     "output_type": "execute_result"
    }
   ],
   "source": [
    "week_04_2023['Which_Financial_products_you_like_most'].value_counts()"
   ]
  },
  {
   "cell_type": "code",
   "execution_count": 98,
   "id": "91604759",
   "metadata": {},
   "outputs": [
    {
     "data": {
      "text/plain": [
       "Mutual Fund SIP (ROI 12%)-1yr                                     21\n",
       "Bank FD(Rate of Interest- 7%)-1yr                                  5\n",
       "Company Stock IPO(ROI 15%)-1yr                                     2\n",
       "Mutual Fund SIP (ROI 12%)-1yr | Company Stock IPO(ROI 15%)-1yr     1\n",
       "Yoshops Franchise Investment(ROI 20%)-1yr                          1\n",
       "Name: Which_Financial_products_you_like_most, dtype: int64"
      ]
     },
     "execution_count": 98,
     "metadata": {},
     "output_type": "execute_result"
    }
   ],
   "source": [
    "week_05_2023['Which_Financial_products_you_like_most'].value_counts()"
   ]
  },
  {
   "cell_type": "code",
   "execution_count": 99,
   "id": "38a27add",
   "metadata": {},
   "outputs": [
    {
     "data": {
      "text/plain": [
       "Bank FD(Rate of Interest- 7%)-1yr                                                                                                                                                             20\n",
       "Mutual Fund SIP (ROI 12%)-1yr                                                                                                                                                                 18\n",
       "Post office RD (Rate of Interest- 6%)-1yr                                                                                                                                                     17\n",
       "Company Stock IPO(ROI 15%)-1yr                                                                                                                                                                14\n",
       "Yoshops Franchise Investment(ROI 20%)-1yr                                                                                                                                                     13\n",
       "Post office RD (Rate of Interest- 6%)-1yr | Bank FD(Rate of Interest- 7%)-1yr | Mutual Fund SIP (ROI 12%)-1yr                                                                                  3\n",
       "No Answer                                                                                                                                                                                      2\n",
       "Bank FD(Rate of Interest- 7%)-1yr | Company Stock IPO(ROI 15%)-1yr                                                                                                                             1\n",
       "Post office RD (Rate of Interest- 6%)-1yr | Mutual Fund SIP (ROI 12%)-1yr | Company Stock IPO(ROI 15%)-1yr                                                                                     1\n",
       "Bank FD(Rate of Interest- 7%)-1yr | Yoshops Franchise Investment(ROI 20%)-1yr                                                                                                                  1\n",
       "Post office RD (Rate of Interest- 6%)-1yr | Bank FD(Rate of Interest- 7%)-1yr | Mutual Fund SIP (ROI 12%)-1yr | Company Stock IPO(ROI 15%)-1yr | Yoshops Franchise Investment(ROI 20%)-1yr     1\n",
       "Mutual Fund SIP (ROI 12%)-1yr | Company Stock IPO(ROI 15%)-1yr                                                                                                                                 1\n",
       "Mutual Fund SIP (ROI 12%)-1yr | Yoshops Franchise Investment(ROI 20%)-1yr                                                                                                                      1\n",
       "Name: Which_Financial_products_you_like_most, dtype: int64"
      ]
     },
     "execution_count": 99,
     "metadata": {},
     "output_type": "execute_result"
    }
   ],
   "source": [
    "week_06_2023['Which_Financial_products_you_like_most'].value_counts()"
   ]
  },
  {
   "cell_type": "code",
   "execution_count": 100,
   "id": "0463ae2d",
   "metadata": {},
   "outputs": [
    {
     "data": {
      "text/plain": [
       "Post office RD (Rate of Interest- 6%)-1yr                                                                                                                                                     33\n",
       "Bank FD(Rate of Interest- 7%)-1yr                                                                                                                                                             29\n",
       "Mutual Fund SIP (ROI 12%)-1yr                                                                                                                                                                 23\n",
       "Company Stock IPO(ROI 15%)-1yr                                                                                                                                                                20\n",
       "Yoshops Franchise Investment(ROI 20%)-1yr                                                                                                                                                     18\n",
       "No Answer                                                                                                                                                                                     15\n",
       "Post office RD (Rate of Interest- 6%)-1yr | Bank FD(Rate of Interest- 7%)-1yr                                                                                                                 10\n",
       "Mutual Fund SIP (ROI 12%)-1yr | Company Stock IPO(ROI 15%)-1yr                                                                                                                                 9\n",
       "Bank FD(Rate of Interest- 7%)-1yr | Mutual Fund SIP (ROI 12%)-1yr                                                                                                                              8\n",
       "Bank FD(Rate of Interest- 7%)-1yr | Company Stock IPO(ROI 15%)-1yr                                                                                                                             4\n",
       "Post office RD (Rate of Interest- 6%)-1yr | Yoshops Franchise Investment(ROI 20%)-1yr                                                                                                          4\n",
       "Post office RD (Rate of Interest- 6%)-1yr | Bank FD(Rate of Interest- 7%)-1yr | Mutual Fund SIP (ROI 12%)-1yr | Company Stock IPO(ROI 15%)-1yr | Yoshops Franchise Investment(ROI 20%)-1yr     4\n",
       "Bank FD(Rate of Interest- 7%)-1yr | Mutual Fund SIP (ROI 12%)-1yr | Company Stock IPO(ROI 15%)-1yr                                                                                             3\n",
       "Post office RD (Rate of Interest- 6%)-1yr | Bank FD(Rate of Interest- 7%)-1yr | Mutual Fund SIP (ROI 12%)-1yr                                                                                  3\n",
       "Post office RD (Rate of Interest- 6%)-1yr | Mutual Fund SIP (ROI 12%)-1yr                                                                                                                      2\n",
       "Company Stock IPO(ROI 15%)-1yr | Yoshops Franchise Investment(ROI 20%)-1yr                                                                                                                     2\n",
       "Mutual Fund SIP (ROI 12%)-1yr | Company Stock IPO(ROI 15%)-1yr | Yoshops Franchise Investment(ROI 20%)-1yr                                                                                     2\n",
       "Post office RD (Rate of Interest- 6%)-1yr | Bank FD(Rate of Interest- 7%)-1yr | Mutual Fund SIP (ROI 12%)-1yr | Yoshops Franchise Investment(ROI 20%)-1yr                                      1\n",
       "Post office RD (Rate of Interest- 6%)-1yr | Mutual Fund SIP (ROI 12%)-1yr | Company Stock IPO(ROI 15%)-1yr                                                                                     1\n",
       "Post office RD (Rate of Interest- 6%)-1yr | Bank FD(Rate of Interest- 7%)-1yr | Company Stock IPO(ROI 15%)-1yr                                                                                 1\n",
       "Name: Which_Financial_products_you_like_most, dtype: int64"
      ]
     },
     "execution_count": 100,
     "metadata": {},
     "output_type": "execute_result"
    }
   ],
   "source": [
    "week_07_2023['Which_Financial_products_you_like_most'].value_counts()"
   ]
  },
  {
   "cell_type": "code",
   "execution_count": 101,
   "id": "dbb8fc0e",
   "metadata": {},
   "outputs": [
    {
     "data": {
      "text/plain": [
       "Mutual Fund SIP (ROI 12%)-1yr        1\n",
       "Bank FD(Rate of Interest- 7%)-1yr    1\n",
       "Name: Which_Financial_products_you_like_most, dtype: int64"
      ]
     },
     "execution_count": 101,
     "metadata": {},
     "output_type": "execute_result"
    }
   ],
   "source": [
    "week_08_2023['Which_Financial_products_you_like_most'].value_counts()"
   ]
  },
  {
   "cell_type": "markdown",
   "id": "55358d94",
   "metadata": {},
   "source": [
    "### Week V/S Feedback"
   ]
  },
  {
   "cell_type": "markdown",
   "id": "81ee9890",
   "metadata": {},
   "source": [
    "#### Week 47 of 2022"
   ]
  },
  {
   "cell_type": "code",
   "execution_count": 102,
   "id": "0768580d",
   "metadata": {},
   "outputs": [
    {
     "data": {
      "text/plain": [
       "No Answer                                                                                                               2\n",
       "Management should be better, I Think If you work on proper managing the things on time, this will lead more profits.    1\n",
       "No                                                                                                                      1\n",
       "Marketing                                                                                                               1\n",
       "no                                                                                                                      1\n",
       "Keep your promise for giving job to interns                                                                             1\n",
       "Decrease delivery time                                                                                                  1\n",
       "They are already going good, need some more pace in work..!                                                             1\n",
       "No idea                                                                                                                 1\n",
       "Suggestion is that Yoshops must be spread on a larger scale for getting more traffic of audience.                       1\n",
       "-                                                                                                                       1\n",
       "All Is Good                                                                                                             1\n",
       "Everything going good \\nMy daughter is doing an internship in your company and everything is going good                 1\n",
       "Name: Any_IDEA_or_Suggestions_for_Yoshops_Startup , dtype: int64"
      ]
     },
     "execution_count": 102,
     "metadata": {},
     "output_type": "execute_result"
    }
   ],
   "source": [
    "week_47_2022['Any_IDEA_or_Suggestions_for_Yoshops_Startup '].value_counts()"
   ]
  },
  {
   "cell_type": "code",
   "execution_count": 110,
   "id": "015b9cf3",
   "metadata": {},
   "outputs": [
    {
     "name": "stderr",
     "output_type": "stream",
     "text": [
      "No model was supplied, defaulted to distilbert-base-uncased-finetuned-sst-2-english and revision af0f99b (https://huggingface.co/distilbert-base-uncased-finetuned-sst-2-english).\n",
      "Using a pipeline without specifying a model name and revision in production is not recommended.\n",
      "Some layers from the model checkpoint at distilbert-base-uncased-finetuned-sst-2-english were not used when initializing TFDistilBertForSequenceClassification: ['dropout_19']\n",
      "- This IS expected if you are initializing TFDistilBertForSequenceClassification from the checkpoint of a model trained on another task or with another architecture (e.g. initializing a BertForSequenceClassification model from a BertForPreTraining model).\n",
      "- This IS NOT expected if you are initializing TFDistilBertForSequenceClassification from the checkpoint of a model that you expect to be exactly identical (initializing a BertForSequenceClassification model from a BertForSequenceClassification model).\n",
      "Some layers of TFDistilBertForSequenceClassification were not initialized from the model checkpoint at distilbert-base-uncased-finetuned-sst-2-english and are newly initialized: ['dropout_99']\n",
      "You should probably TRAIN this model on a down-stream task to be able to use it for predictions and inference.\n"
     ]
    },
    {
     "name": "stdout",
     "output_type": "stream",
     "text": [
      "No Answer      [{'label': 'NEGATIVE', 'score': 0.9997177720069885}]\n",
      "Management should be better, I Think If you work on proper managing the things on time, this will lead more profits.      [{'label': 'NEGATIVE', 'score': 0.9981306195259094}]\n",
      "No      [{'label': 'NEGATIVE', 'score': 0.9964459538459778}]\n",
      "Marketing      [{'label': 'POSITIVE', 'score': 0.9903565049171448}]\n",
      "no      [{'label': 'NEGATIVE', 'score': 0.9964459538459778}]\n",
      "Keep your promise for giving job to interns      [{'label': 'POSITIVE', 'score': 0.9989117383956909}]\n",
      "Decrease delivery time      [{'label': 'NEGATIVE', 'score': 0.9981397390365601}]\n",
      "They are already going good, need some more pace in work..!      [{'label': 'POSITIVE', 'score': 0.997896671295166}]\n",
      "No idea      [{'label': 'NEGATIVE', 'score': 0.9905499815940857}]\n",
      "Suggestion is that Yoshops must be spread on a larger scale for getting more traffic of audience.      [{'label': 'NEGATIVE', 'score': 0.9976287484169006}]\n",
      "-      [{'label': 'POSITIVE', 'score': 0.9872410297393799}]\n",
      "All Is Good      [{'label': 'POSITIVE', 'score': 0.9998451471328735}]\n",
      "Everything going good \n",
      "My daughter is doing an internship in your company and everything is going good      [{'label': 'POSITIVE', 'score': 0.9998546838760376}]\n"
     ]
    }
   ],
   "source": [
    "week_47_2022_lst = week_47_2022['Any_IDEA_or_Suggestions_for_Yoshops_Startup '].value_counts().keys().to_list()\n",
    "from transformers import pipeline\n",
    "pos_week_47_2022 = []\n",
    "neg_week_47_2022 = []\n",
    "sentiment_pipeline = pipeline(\"sentiment-analysis\")\n",
    "for i in  week_47_2022_lst:\n",
    "    data = i\n",
    "    print(i,\"    \",sentiment_pipeline(data))\n",
    "    if sentiment_pipeline(data)[0]['label'] == 'POSITIVE':\n",
    "        pos_week_47_2022.append(i)\n",
    "    else:\n",
    "        neg_week_47_2022.append(i)\n",
    "    "
   ]
  },
  {
   "cell_type": "code",
   "execution_count": 115,
   "id": "f780b3a2",
   "metadata": {},
   "outputs": [
    {
     "data": {
      "text/plain": [
       "(6, 7)"
      ]
     },
     "execution_count": 115,
     "metadata": {},
     "output_type": "execute_result"
    }
   ],
   "source": [
    "len(pos_week_47_2022), len(neg_week_47_2022)"
   ]
  },
  {
   "cell_type": "code",
   "execution_count": 114,
   "id": "0ccb3e36",
   "metadata": {},
   "outputs": [
    {
     "data": {
      "text/plain": [
       "13"
      ]
     },
     "execution_count": 114,
     "metadata": {},
     "output_type": "execute_result"
    }
   ],
   "source": [
    "len(week_47_2022_lst)"
   ]
  },
  {
   "cell_type": "markdown",
   "id": "3a03e9da",
   "metadata": {},
   "source": [
    "#### For week 47 of 2022 we have 6 positive and 7 negative type of reviews out of 13 "
   ]
  },
  {
   "cell_type": "markdown",
   "id": "de15a6f4",
   "metadata": {},
   "source": [
    "#### Week 48 of 2022"
   ]
  },
  {
   "cell_type": "code",
   "execution_count": 117,
   "id": "656de1ec",
   "metadata": {
    "scrolled": false
   },
   "outputs": [
    {
     "data": {
      "text/plain": [
       "No                                                                                                                                                      17\n",
       "None                                                                                                                                                     4\n",
       "No idea                                                                                                                                                  3\n",
       "Just be honest with it and have a good leadership.                                                                                                       2\n",
       "Propose future plans for 5 year                                                                                                                          1\n",
       "Good                                                                                                                                                     1\n",
       "Increase your reach to the consumer and quality of products as much as you can. Fast servising to the customer.                                          1\n",
       "Need more marketing                                                                                                                                      1\n",
       "Children activity box can also be included                                                                                                               1\n",
       "You're too good I don't think you need suggestions                                                                                                       1\n",
       "more items should be added                                                                                                                               1\n",
       "less adds                                                                                                                                                1\n",
       "Smart work and keep on innovating.                                                                                                                       1\n",
       "Nothing as of now                                                                                                                                        1\n",
       "Everything good                                                                                                                                          1\n",
       "The user interface can be more user friendly                                                                                                             1\n",
       "To start the our shops u tube for knowledge about the product or start the instagram account and pay for the instagram or u tube depends on the view     1\n",
       "Start                                                                                                                                                    1\n",
       "Build a strong communication                                                                                                                             1\n",
       "Website build wuality                                                                                                                                    1\n",
       "Be genuine                                                                                                                                               1\n",
       "Hire someone from odisha                                                                                                                                 1\n",
       "Don't compromise valuable ethics                                                                                                                         1\n",
       "intially focus should be on one thing only.                                                                                                              1\n",
       "Should focus on business awareness.                                                                                                                      1\n",
       "It’ll be a great investment                                                                                                                              1\n",
       "Nil                                                                                                                                                      1\n",
       "We should support our students and help our students to built their future                                                                               1\n",
       "Yet not                                                                                                                                                  1\n",
       "Hmm                                                                                                                                                      1\n",
       "I don't know                                                                                                                                             1\n",
       "No suggestion.                                                                                                                                           1\n",
       "Best of luck                                                                                                                                             1\n",
       "To be Honest                                                                                                                                             1\n",
       "Be on ur words                                                                                                                                           1\n",
       "Name: Any_IDEA_or_Suggestions_for_Yoshops_Startup , dtype: int64"
      ]
     },
     "execution_count": 117,
     "metadata": {},
     "output_type": "execute_result"
    }
   ],
   "source": [
    "week_48_2022['Any_IDEA_or_Suggestions_for_Yoshops_Startup '].value_counts()"
   ]
  },
  {
   "cell_type": "code",
   "execution_count": 120,
   "id": "1c029cfb",
   "metadata": {
    "scrolled": true
   },
   "outputs": [
    {
     "name": "stderr",
     "output_type": "stream",
     "text": [
      "No model was supplied, defaulted to distilbert-base-uncased-finetuned-sst-2-english and revision af0f99b (https://huggingface.co/distilbert-base-uncased-finetuned-sst-2-english).\n",
      "Using a pipeline without specifying a model name and revision in production is not recommended.\n",
      "Some layers from the model checkpoint at distilbert-base-uncased-finetuned-sst-2-english were not used when initializing TFDistilBertForSequenceClassification: ['dropout_19']\n",
      "- This IS expected if you are initializing TFDistilBertForSequenceClassification from the checkpoint of a model trained on another task or with another architecture (e.g. initializing a BertForSequenceClassification model from a BertForPreTraining model).\n",
      "- This IS NOT expected if you are initializing TFDistilBertForSequenceClassification from the checkpoint of a model that you expect to be exactly identical (initializing a BertForSequenceClassification model from a BertForSequenceClassification model).\n",
      "Some layers of TFDistilBertForSequenceClassification were not initialized from the model checkpoint at distilbert-base-uncased-finetuned-sst-2-english and are newly initialized: ['dropout_139']\n",
      "You should probably TRAIN this model on a down-stream task to be able to use it for predictions and inference.\n"
     ]
    },
    {
     "name": "stdout",
     "output_type": "stream",
     "text": [
      "No      [{'label': 'NEGATIVE', 'score': 0.9964459538459778}]\n",
      "None      [{'label': 'NEGATIVE', 'score': 0.985345721244812}]\n",
      "No idea      [{'label': 'NEGATIVE', 'score': 0.9905499815940857}]\n",
      "Just be honest with it and have a good leadership.      [{'label': 'POSITIVE', 'score': 0.9998668432235718}]\n",
      "Propose future plans for 5 year      [{'label': 'POSITIVE', 'score': 0.9771526455879211}]\n",
      "Good      [{'label': 'POSITIVE', 'score': 0.9998161196708679}]\n",
      "Increase your reach to the consumer and quality of products as much as you can. Fast servising to the customer.      [{'label': 'POSITIVE', 'score': 0.9988588094711304}]\n",
      "Need more marketing      [{'label': 'NEGATIVE', 'score': 0.9963200092315674}]\n",
      "Children activity box can also be included      [{'label': 'POSITIVE', 'score': 0.9680032730102539}]\n",
      "You're too good I don't think you need suggestions      [{'label': 'POSITIVE', 'score': 0.9996140599250793}]\n",
      "more items should be added      [{'label': 'POSITIVE', 'score': 0.9555156826972961}]\n",
      "less adds      [{'label': 'NEGATIVE', 'score': 0.9914333820343018}]\n",
      "Smart work and keep on innovating.      [{'label': 'POSITIVE', 'score': 0.9998762607574463}]\n",
      "Nothing as of now      [{'label': 'NEGATIVE', 'score': 0.9992732405662537}]\n",
      "Everything good      [{'label': 'POSITIVE', 'score': 0.9998457431793213}]\n",
      "The user interface can be more user friendly      [{'label': 'NEGATIVE', 'score': 0.995071291923523}]\n",
      "To start the our shops u tube for knowledge about the product or start the instagram account and pay for the instagram or u tube depends on the view      [{'label': 'NEGATIVE', 'score': 0.9981256127357483}]\n",
      "Start      [{'label': 'POSITIVE', 'score': 0.9976344108581543}]\n",
      "Build a strong communication      [{'label': 'POSITIVE', 'score': 0.9998389482498169}]\n",
      "Website build wuality      [{'label': 'NEGATIVE', 'score': 0.9843509197235107}]\n",
      "Be genuine      [{'label': 'POSITIVE', 'score': 0.9998161196708679}]\n",
      "Hire someone from odisha      [{'label': 'NEGATIVE', 'score': 0.9824510216712952}]\n",
      "Don't compromise valuable ethics      [{'label': 'POSITIVE', 'score': 0.9893559813499451}]\n",
      "intially focus should be on one thing only.      [{'label': 'NEGATIVE', 'score': 0.9914557337760925}]\n",
      "Should focus on business awareness.      [{'label': 'POSITIVE', 'score': 0.9644248485565186}]\n",
      "It’ll be a great investment      [{'label': 'POSITIVE', 'score': 0.9998434782028198}]\n",
      "Nil      [{'label': 'NEGATIVE', 'score': 0.6357451677322388}]\n",
      "We should support our students and help our students to built their future      [{'label': 'POSITIVE', 'score': 0.9993599057197571}]\n",
      "Yet not      [{'label': 'NEGATIVE', 'score': 0.9671086072921753}]\n",
      "Hmm      [{'label': 'NEGATIVE', 'score': 0.9818788170814514}]\n",
      "I don't know      [{'label': 'NEGATIVE', 'score': 0.9974709749221802}]\n",
      "No suggestion.      [{'label': 'NEGATIVE', 'score': 0.9965035915374756}]\n",
      "Best of luck      [{'label': 'POSITIVE', 'score': 0.9996968507766724}]\n",
      "To be Honest      [{'label': 'POSITIVE', 'score': 0.999363362789154}]\n",
      "Be on ur words      [{'label': 'NEGATIVE', 'score': 0.9396385550498962}]\n"
     ]
    }
   ],
   "source": [
    "week_48_2022_lst = week_48_2022['Any_IDEA_or_Suggestions_for_Yoshops_Startup '].value_counts().keys().to_list()\n",
    "from transformers import pipeline\n",
    "pos_week_48_2022 = []\n",
    "neg_week_48_2022 = []\n",
    "sentiment_pipeline = pipeline(\"sentiment-analysis\")\n",
    "for i in  week_48_2022_lst:\n",
    "    data = i\n",
    "    print(i,\"    \",sentiment_pipeline(data))\n",
    "    if sentiment_pipeline(data)[0]['label'] == 'POSITIVE':\n",
    "        pos_week_48_2022.append(i)\n",
    "    else:\n",
    "        neg_week_48_2022.append(i)\n",
    "    "
   ]
  },
  {
   "cell_type": "code",
   "execution_count": 121,
   "id": "156019a9",
   "metadata": {},
   "outputs": [
    {
     "name": "stdout",
     "output_type": "stream",
     "text": [
      "Number of positive type of reviews:  18\n",
      "Number of negative type of reviews:  17\n",
      "Total number of types of reviews given:  35\n"
     ]
    }
   ],
   "source": [
    "print(\"Number of positive type of reviews: \", len(pos_week_48_2022))\n",
    "print(\"Number of negative type of reviews: \", len(neg_week_48_2022))\n",
    "print(\"Total number of types of reviews given: \", len(week_48_2022_lst))"
   ]
  },
  {
   "cell_type": "markdown",
   "id": "0cf6e58b",
   "metadata": {},
   "source": [
    "### Week 49 of 2022"
   ]
  },
  {
   "cell_type": "code",
   "execution_count": 122,
   "id": "8de4bb61",
   "metadata": {},
   "outputs": [
    {
     "data": {
      "text/plain": [
       "No                                                             71\n",
       "no                                                             13\n",
       "No comments                                                     5\n",
       "No idea                                                         5\n",
       "N                                                               4\n",
       "                                                               ..\n",
       "Can try coffee shop franchise                                   1\n",
       "Please start selling clothes if it would be possible            1\n",
       "Your website should also sell cosmetics and beauty products     1\n",
       "Great                                                           1\n",
       "Np                                                              1\n",
       "Name: Any_IDEA_or_Suggestions_for_Yoshops_Startup , Length: 78, dtype: int64"
      ]
     },
     "execution_count": 122,
     "metadata": {},
     "output_type": "execute_result"
    }
   ],
   "source": [
    "week_49_2022['Any_IDEA_or_Suggestions_for_Yoshops_Startup '].value_counts()"
   ]
  },
  {
   "cell_type": "code",
   "execution_count": 123,
   "id": "7226146a",
   "metadata": {
    "scrolled": true
   },
   "outputs": [
    {
     "name": "stderr",
     "output_type": "stream",
     "text": [
      "No model was supplied, defaulted to distilbert-base-uncased-finetuned-sst-2-english and revision af0f99b (https://huggingface.co/distilbert-base-uncased-finetuned-sst-2-english).\n",
      "Using a pipeline without specifying a model name and revision in production is not recommended.\n",
      "Some layers from the model checkpoint at distilbert-base-uncased-finetuned-sst-2-english were not used when initializing TFDistilBertForSequenceClassification: ['dropout_19']\n",
      "- This IS expected if you are initializing TFDistilBertForSequenceClassification from the checkpoint of a model trained on another task or with another architecture (e.g. initializing a BertForSequenceClassification model from a BertForPreTraining model).\n",
      "- This IS NOT expected if you are initializing TFDistilBertForSequenceClassification from the checkpoint of a model that you expect to be exactly identical (initializing a BertForSequenceClassification model from a BertForSequenceClassification model).\n",
      "Some layers of TFDistilBertForSequenceClassification were not initialized from the model checkpoint at distilbert-base-uncased-finetuned-sst-2-english and are newly initialized: ['dropout_159']\n",
      "You should probably TRAIN this model on a down-stream task to be able to use it for predictions and inference.\n"
     ]
    },
    {
     "name": "stdout",
     "output_type": "stream",
     "text": [
      "No      [{'label': 'NEGATIVE', 'score': 0.9964459538459778}]\n",
      "no      [{'label': 'NEGATIVE', 'score': 0.9964459538459778}]\n",
      "No comments      [{'label': 'NEGATIVE', 'score': 0.9741317629814148}]\n",
      "No idea      [{'label': 'NEGATIVE', 'score': 0.9905499815940857}]\n",
      "N      [{'label': 'POSITIVE', 'score': 0.9506381750106812}]\n",
      "NIL      [{'label': 'NEGATIVE', 'score': 0.6357451677322388}]\n",
      "-      [{'label': 'POSITIVE', 'score': 0.9872410297393799}]\n",
      "Nothing      [{'label': 'NEGATIVE', 'score': 0.9992395639419556}]\n",
      "NO      [{'label': 'NEGATIVE', 'score': 0.9964459538459778}]\n",
      "Nope      [{'label': 'NEGATIVE', 'score': 0.9927231669425964}]\n",
      "Keep it up      [{'label': 'POSITIVE', 'score': 0.9998098015785217}]\n",
      "None      [{'label': 'NEGATIVE', 'score': 0.985345721244812}]\n",
      "Improve service      [{'label': 'POSITIVE', 'score': 0.9995730519294739}]\n",
      "All the best      [{'label': 'POSITIVE', 'score': 0.9998635053634644}]\n",
      ".      [{'label': 'POSITIVE', 'score': 0.9668781757354736}]\n",
      "Good      [{'label': 'POSITIVE', 'score': 0.9998161196708679}]\n",
      "No suggestions      [{'label': 'NEGATIVE', 'score': 0.9974039196968079}]\n",
      "Yes , if possible then you have to do workshop in different 3-tier engineering college.      [{'label': 'POSITIVE', 'score': 0.5182592868804932}]\n",
      "What kind of startup is this? If it's a financial product then IDEA should create awareness about investment and how IDEA is a better product.      [{'label': 'NEGATIVE', 'score': 0.9976772665977478}]\n",
      "Nothing.      [{'label': 'NEGATIVE', 'score': 0.999634861946106}]\n",
      "N/a      [{'label': 'POSITIVE', 'score': 0.9274968504905701}]\n",
      "No ideas,All the best.      [{'label': 'POSITIVE', 'score': 0.9886459112167358}]\n",
      "improve service      [{'label': 'POSITIVE', 'score': 0.9995730519294739}]\n",
      "Everyone wants everything in low price.      [{'label': 'NEGATIVE', 'score': 0.9914544820785522}]\n",
      "Increase services      [{'label': 'POSITIVE', 'score': 0.9994086027145386}]\n",
      "No ideA      [{'label': 'NEGATIVE', 'score': 0.9905499815940857}]\n",
      "Improve Service      [{'label': 'POSITIVE', 'score': 0.9995730519294739}]\n",
      "Give Best service to the people      [{'label': 'POSITIVE', 'score': 0.9989381432533264}]\n",
      "nope      [{'label': 'NEGATIVE', 'score': 0.9927231669425964}]\n",
      "Start selling Spare parts of bikes and cars. People would like it      [{'label': 'POSITIVE', 'score': 0.9985529780387878}]\n",
      "I think survey questions need to be better. Earlier you asked ‘Do you like Biryani. Which one do you like more?’. There was no option of choosing yes or no. Straight up biryani choices were given. Why ask a question if there is no answer option to it?      [{'label': 'NEGATIVE', 'score': 0.9994945526123047}]\n",
      "Going Great!      [{'label': 'POSITIVE', 'score': 0.9998645782470703}]\n",
      "Makeup      [{'label': 'POSITIVE', 'score': 0.7480335235595703}]\n",
      "Not applicable      [{'label': 'NEGATIVE', 'score': 0.9997825026512146}]\n",
      "For start-up team should be aware about challenges and build it accordingly.      [{'label': 'POSITIVE', 'score': 0.9983056783676147}]\n",
      "Maybe a 3D viewing system for the products      [{'label': 'NEGATIVE', 'score': 0.9932895302772522}]\n",
      "You can also sell protein powders and workout equipments      [{'label': 'POSITIVE', 'score': 0.6718935370445251}]\n",
      "no interest in finance      [{'label': 'NEGATIVE', 'score': 0.9997149109840393}]\n",
      "U should be starting cryptocurrency as a payment method      [{'label': 'NEGATIVE', 'score': 0.9982675313949585}]\n",
      "Add a section of food beverages.      [{'label': 'POSITIVE', 'score': 0.9978269934654236}]\n",
      "Provide a section for crockeries.      [{'label': 'NEGATIVE', 'score': 0.9535863995552063}]\n",
      "i would really love if YOshops provide some good accessories for women.      [{'label': 'NEGATIVE', 'score': 0.9118665456771851}]\n",
      "No Suggestion      [{'label': 'NEGATIVE', 'score': 0.9833910465240479}]\n",
      "Not really      [{'label': 'NEGATIVE', 'score': 0.9995947480201721}]\n",
      "Vzbz      [{'label': 'NEGATIVE', 'score': 0.8019990921020508}]\n",
      "You should start selling sports goods also      [{'label': 'NEGATIVE', 'score': 0.9439803957939148}]\n",
      "No comment      [{'label': 'NEGATIVE', 'score': 0.9760733842849731}]\n",
      "Good going      [{'label': 'POSITIVE', 'score': 0.9998574256896973}]\n",
      "Nice platform for internship      [{'label': 'POSITIVE', 'score': 0.9998072981834412}]\n",
      "Great and valuable tartup for indians      [{'label': 'POSITIVE', 'score': 0.9995065927505493}]\n",
      "Best startup value for indians      [{'label': 'POSITIVE', 'score': 0.9995978474617004}]\n",
      "Not as of now      [{'label': 'NEGATIVE', 'score': 0.9976040720939636}]\n",
      "Everything is good!      [{'label': 'POSITIVE', 'score': 0.9998598098754883}]\n",
      "Nothing now      [{'label': 'NEGATIVE', 'score': 0.998274564743042}]\n",
      "Planning to have Yoshops franchise in couple of months      [{'label': 'NEGATIVE', 'score': 0.9242896437644958}]\n",
      "Nil      [{'label': 'NEGATIVE', 'score': 0.6357451677322388}]\n",
      "yess keep working hard      [{'label': 'POSITIVE', 'score': 0.9994311928749084}]\n",
      "keeep it up      [{'label': 'POSITIVE', 'score': 0.9950344562530518}]\n",
      "yes i've heard it on youtube.      [{'label': 'POSITIVE', 'score': 0.8292042016983032}]\n",
      "Nope I suggestins      [{'label': 'NEGATIVE', 'score': 0.9867686629295349}]\n",
      "No Idea      [{'label': 'NEGATIVE', 'score': 0.9905499815940857}]\n",
      "Good luck      [{'label': 'POSITIVE', 'score': 0.9998250603675842}]\n",
      "Start including groceries      [{'label': 'POSITIVE', 'score': 0.9816100597381592}]\n",
      "Keep going forward      [{'label': 'POSITIVE', 'score': 0.9996676445007324}]\n",
      "Great work yoshops      [{'label': 'POSITIVE', 'score': 0.999862551689148}]\n",
      "Its great startup      [{'label': 'POSITIVE', 'score': 0.9997633099555969}]\n",
      "No thanks      [{'label': 'NEGATIVE', 'score': 0.9936198592185974}]\n",
      "none so far      [{'label': 'NEGATIVE', 'score': 0.9345310926437378}]\n",
      "nothing      [{'label': 'NEGATIVE', 'score': 0.9992395639419556}]\n",
      "Management should be better      [{'label': 'NEGATIVE', 'score': 0.9980136156082153}]\n",
      "You should start working on daily use products      [{'label': 'NEGATIVE', 'score': 0.7984077334403992}]\n",
      "Should start supplying indian spices as well.      [{'label': 'POSITIVE', 'score': 0.7967263460159302}]\n",
      "Should start providing free notes or notes at minimum prices for medical students as well      [{'label': 'NEGATIVE', 'score': 0.9963149428367615}]\n",
      "Can try coffee shop franchise      [{'label': 'NEGATIVE', 'score': 0.9354023933410645}]\n",
      "Please start selling clothes if it would be possible      [{'label': 'NEGATIVE', 'score': 0.571749210357666}]\n",
      "Your website should also sell cosmetics and beauty products      [{'label': 'NEGATIVE', 'score': 0.9088834524154663}]\n",
      "Great      [{'label': 'POSITIVE', 'score': 0.9998630285263062}]\n",
      "Np      [{'label': 'POSITIVE', 'score': 0.9807726144790649}]\n"
     ]
    }
   ],
   "source": [
    "week_49_2022_lst = week_49_2022['Any_IDEA_or_Suggestions_for_Yoshops_Startup '].value_counts().keys().to_list()\n",
    "from transformers import pipeline\n",
    "pos_week_49_2022 = []\n",
    "neg_week_49_2022 = []\n",
    "sentiment_pipeline = pipeline(\"sentiment-analysis\")\n",
    "for i in  week_49_2022_lst:\n",
    "    data = i\n",
    "    print(i,\"    \",sentiment_pipeline(data))\n",
    "    if sentiment_pipeline(data)[0]['label'] == 'POSITIVE':\n",
    "        pos_week_49_2022.append(i)\n",
    "    else:\n",
    "        neg_week_49_2022.append(i)\n",
    "    "
   ]
  },
  {
   "cell_type": "code",
   "execution_count": 127,
   "id": "5c7c1375",
   "metadata": {},
   "outputs": [
    {
     "name": "stdout",
     "output_type": "stream",
     "text": [
      "Number of positive type of reviews:  28\n",
      "Number of negative type of reviews:  32\n",
      "Total number of types of reviews given:  78\n"
     ]
    }
   ],
   "source": [
    "print(\"Number of positive type of reviews: \", len(pos_week_49_2022))\n",
    "print(\"Number of negative type of reviews: \", len(neg_week_49_2022))\n",
    "print(\"Total number of types of reviews given: \", len(week_49_2022_lst))"
   ]
  },
  {
   "cell_type": "markdown",
   "id": "bf2d43f9",
   "metadata": {},
   "source": [
    "#### Week 50 of 2022"
   ]
  },
  {
   "cell_type": "code",
   "execution_count": 128,
   "id": "1f09b6fd",
   "metadata": {},
   "outputs": [
    {
     "data": {
      "text/plain": [
       "No                                                                                         105\n",
       "None                                                                                        24\n",
       "Nothing                                                                                     12\n",
       "Good                                                                                         9\n",
       "No idea                                                                                      6\n",
       "                                                                                          ... \n",
       "N A                                                                                          1\n",
       "Good all the very best n little bit updated needed                                           1\n",
       "Provide Good Quality Education and provide recorded video to student after class ended.      1\n",
       "All the best keep going.                                                                     1\n",
       "I have no experience                                                                         1\n",
       "Name: Any_IDEA_or_Suggestions_for_Yoshops_Startup , Length: 134, dtype: int64"
      ]
     },
     "execution_count": 128,
     "metadata": {},
     "output_type": "execute_result"
    }
   ],
   "source": [
    "week_50_2022['Any_IDEA_or_Suggestions_for_Yoshops_Startup '].value_counts()"
   ]
  },
  {
   "cell_type": "code",
   "execution_count": 131,
   "id": "321d59ef",
   "metadata": {
    "scrolled": true
   },
   "outputs": [
    {
     "name": "stderr",
     "output_type": "stream",
     "text": [
      "No model was supplied, defaulted to distilbert-base-uncased-finetuned-sst-2-english and revision af0f99b (https://huggingface.co/distilbert-base-uncased-finetuned-sst-2-english).\n",
      "Using a pipeline without specifying a model name and revision in production is not recommended.\n",
      "Some layers from the model checkpoint at distilbert-base-uncased-finetuned-sst-2-english were not used when initializing TFDistilBertForSequenceClassification: ['dropout_19']\n",
      "- This IS expected if you are initializing TFDistilBertForSequenceClassification from the checkpoint of a model trained on another task or with another architecture (e.g. initializing a BertForSequenceClassification model from a BertForPreTraining model).\n",
      "- This IS NOT expected if you are initializing TFDistilBertForSequenceClassification from the checkpoint of a model that you expect to be exactly identical (initializing a BertForSequenceClassification model from a BertForSequenceClassification model).\n",
      "Some layers of TFDistilBertForSequenceClassification were not initialized from the model checkpoint at distilbert-base-uncased-finetuned-sst-2-english and are newly initialized: ['dropout_239']\n",
      "You should probably TRAIN this model on a down-stream task to be able to use it for predictions and inference.\n"
     ]
    },
    {
     "name": "stdout",
     "output_type": "stream",
     "text": [
      "No      [{'label': 'NEGATIVE', 'score': 0.9964459538459778}]\n",
      "None      [{'label': 'NEGATIVE', 'score': 0.985345721244812}]\n",
      "Nothing      [{'label': 'NEGATIVE', 'score': 0.9992395639419556}]\n",
      "Good      [{'label': 'POSITIVE', 'score': 0.9998161196708679}]\n",
      "No idea      [{'label': 'NEGATIVE', 'score': 0.9905499815940857}]\n",
      ".      [{'label': 'POSITIVE', 'score': 0.9668781757354736}]\n",
      "Great      [{'label': 'POSITIVE', 'score': 0.9998630285263062}]\n",
      "-      [{'label': 'POSITIVE', 'score': 0.9872410297393799}]\n",
      "Nope      [{'label': 'NEGATIVE', 'score': 0.9927231669425964}]\n",
      "No suggestions      [{'label': 'NEGATIVE', 'score': 0.9974039196968079}]\n",
      "No Idea      [{'label': 'NEGATIVE', 'score': 0.9905499815940857}]\n",
      "Good work      [{'label': 'POSITIVE', 'score': 0.9998413324356079}]\n",
      "Great work      [{'label': 'POSITIVE', 'score': 0.9998679161071777}]\n",
      "Na      [{'label': 'NEGATIVE', 'score': 0.9810830950737}]\n",
      "Nice      [{'label': 'POSITIVE', 'score': 0.9998552799224854}]\n",
      "no      [{'label': 'NEGATIVE', 'score': 0.9964459538459778}]\n",
      "Keep going      [{'label': 'POSITIVE', 'score': 0.9993809461593628}]\n",
      "Good luck      [{'label': 'POSITIVE', 'score': 0.9998250603675842}]\n",
      "...      [{'label': 'POSITIVE', 'score': 0.9585016369819641}]\n",
      "Good startup      [{'label': 'POSITIVE', 'score': 0.9998469352722168}]\n",
      "Tech Startup      [{'label': 'POSITIVE', 'score': 0.9868236780166626}]\n",
      "All is good      [{'label': 'POSITIVE', 'score': 0.9998451471328735}]\n",
      "Good environment      [{'label': 'POSITIVE', 'score': 0.9998657703399658}]\n",
      "Fantastic      [{'label': 'POSITIVE', 'score': 0.9998743534088135}]\n",
      "No not yet      [{'label': 'NEGATIVE', 'score': 0.9118038415908813}]\n",
      "In north planes we haven't heard of your branch. If you have let me I want try      [{'label': 'NEGATIVE', 'score': 0.9465879201889038}]\n",
      "Onnum Illya      [{'label': 'NEGATIVE', 'score': 0.9344913959503174}]\n",
      "More Courses      [{'label': 'POSITIVE', 'score': 0.9846019744873047}]\n",
      "Is the tuition agency popular for producing results      [{'label': 'POSITIVE', 'score': 0.9709054827690125}]\n",
      "Bo      [{'label': 'POSITIVE', 'score': 0.9894219040870667}]\n",
      "NIL      [{'label': 'NEGATIVE', 'score': 0.6357451677322388}]\n",
      "How will you handle students who have a short attention span?      [{'label': 'NEGATIVE', 'score': 0.9973410964012146}]\n",
      "Superb      [{'label': 'POSITIVE', 'score': 0.9998656511306763}]\n",
      "Super      [{'label': 'POSITIVE', 'score': 0.998783528804779}]\n",
      "And      [{'label': 'POSITIVE', 'score': 0.9708179831504822}]\n",
      "Good Team Work      [{'label': 'POSITIVE', 'score': 0.999855637550354}]\n",
      "Moreproducts      [{'label': 'NEGATIVE', 'score': 0.9743622541427612}]\n",
      "All variety of products      [{'label': 'POSITIVE', 'score': 0.9987921118736267}]\n",
      "All Good      [{'label': 'POSITIVE', 'score': 0.9998400211334229}]\n",
      "Good company      [{'label': 'POSITIVE', 'score': 0.9998602867126465}]\n",
      "Awesome      [{'label': 'POSITIVE', 'score': 0.9998682737350464}]\n",
      "Cool      [{'label': 'POSITIVE', 'score': 0.9998509883880615}]\n",
      "Hood      [{'label': 'POSITIVE', 'score': 0.7173285484313965}]\n",
      "Hmmm      [{'label': 'NEGATIVE', 'score': 0.9940614104270935}]\n",
      "Food      [{'label': 'POSITIVE', 'score': 0.9996973276138306}]\n",
      "Add beef biriyani      [{'label': 'NEGATIVE', 'score': 0.6772369742393494}]\n",
      "Nice startup      [{'label': 'POSITIVE', 'score': 0.9998096823692322}]\n",
      "Nononononono      [{'label': 'NEGATIVE', 'score': 0.9782448410987854}]\n",
      "😐      [{'label': 'NEGATIVE', 'score': 0.6970561146736145}]\n",
      "Haven't heard about Yoshop      [{'label': 'NEGATIVE', 'score': 0.7499146461486816}]\n",
      "All good      [{'label': 'POSITIVE', 'score': 0.9998400211334229}]\n",
      "Haven't heard about it      [{'label': 'NEGATIVE', 'score': 0.81888347864151}]\n",
      "No suggestion      [{'label': 'NEGATIVE', 'score': 0.9833910465240479}]\n",
      "N      [{'label': 'POSITIVE', 'score': 0.9506381750106812}]\n",
      "Soft drinks retail      [{'label': 'POSITIVE', 'score': 0.9874094128608704}]\n",
      "GOOD      [{'label': 'POSITIVE', 'score': 0.9998161196708679}]\n",
      "Biscuit Vendor      [{'label': 'NEGATIVE', 'score': 0.8612493276596069}]\n",
      "very nice      [{'label': 'POSITIVE', 'score': 0.9998563528060913}]\n",
      "awesome      [{'label': 'POSITIVE', 'score': 0.9998682737350464}]\n",
      "NICE      [{'label': 'POSITIVE', 'score': 0.9998552799224854}]\n",
      "Ice Cream Vendor      [{'label': 'POSITIVE', 'score': 0.8917034268379211}]\n",
      "N9      [{'label': 'NEGATIVE', 'score': 0.6524868011474609}]\n",
      "Startup for womens who are planning for restarting their carrier.      [{'label': 'NEGATIVE', 'score': 0.964638352394104}]\n",
      "0      [{'label': 'NEGATIVE', 'score': 0.9047452807426453}]\n",
      "Nothing much      [{'label': 'NEGATIVE', 'score': 0.99969482421875}]\n",
      "Bring anything which help the youth to achieve a better life.      [{'label': 'POSITIVE', 'score': 0.997529923915863}]\n",
      "Nahi      [{'label': 'NEGATIVE', 'score': 0.9622818231582642}]\n",
      "Nor bad      [{'label': 'POSITIVE', 'score': 0.9885990619659424}]\n",
      "No interest in finance      [{'label': 'NEGATIVE', 'score': 0.9997149109840393}]\n",
      "Nice start up      [{'label': 'POSITIVE', 'score': 0.9998714923858643}]\n",
      "Good start up      [{'label': 'POSITIVE', 'score': 0.9998562335968018}]\n",
      "It's a good business      [{'label': 'POSITIVE', 'score': 0.9998750686645508}]\n",
      "Good job      [{'label': 'POSITIVE', 'score': 0.999835729598999}]\n",
      "Not Bad      [{'label': 'POSITIVE', 'score': 0.9995881915092468}]\n",
      "Keep rock      [{'label': 'POSITIVE', 'score': 0.9996762275695801}]\n",
      "Better Marketing      [{'label': 'POSITIVE', 'score': 0.9814403057098389}]\n",
      "Well done      [{'label': 'POSITIVE', 'score': 0.9998384714126587}]\n",
      "Take time and give time      [{'label': 'POSITIVE', 'score': 0.9439671039581299}]\n",
      "It works on mainy domains thats really tough to scale      [{'label': 'NEGATIVE', 'score': 0.9991574287414551}]\n",
      "New to hear this      [{'label': 'POSITIVE', 'score': 0.9992284774780273}]\n",
      "No Answer      [{'label': 'NEGATIVE', 'score': 0.9997177720069885}]\n",
      "Good Marketing Strategy      [{'label': 'POSITIVE', 'score': 0.9998515844345093}]\n",
      "H      [{'label': 'POSITIVE', 'score': 0.9235398173332214}]\n",
      "Noo      [{'label': 'NEGATIVE', 'score': 0.994601845741272}]\n",
      "Start up should be innovative and it  should be emerging  for better purpose      [{'label': 'POSITIVE', 'score': 0.9863024353981018}]\n",
      "Good one      [{'label': 'POSITIVE', 'score': 0.9998288154602051}]\n",
      "Best online shoping      [{'label': 'POSITIVE', 'score': 0.999599039554596}]\n",
      "New, Great platform wishing to develope all over India      [{'label': 'POSITIVE', 'score': 0.9982241988182068}]\n",
      "The good startup      [{'label': 'POSITIVE', 'score': 0.9998675584793091}]\n",
      "A great move      [{'label': 'POSITIVE', 'score': 0.9998781681060791}]\n",
      "Till now everything is up to mark      [{'label': 'POSITIVE', 'score': 0.999699592590332}]\n",
      "Including more technologies      [{'label': 'POSITIVE', 'score': 0.9961049556732178}]\n",
      "Innovative products with good price      [{'label': 'POSITIVE', 'score': 0.99982088804245}]\n",
      "nothing      [{'label': 'NEGATIVE', 'score': 0.9992395639419556}]\n",
      "No I have idea, I’m searching about yoshops startup      [{'label': 'NEGATIVE', 'score': 0.9972368478775024}]\n",
      "Its good      [{'label': 'POSITIVE', 'score': 0.9998385906219482}]\n",
      "Reach more people..\n",
      "Improve Marketing strategy      [{'label': 'POSITIVE', 'score': 0.9975395202636719}]\n",
      "Focus on brand      [{'label': 'POSITIVE', 'score': 0.9986735582351685}]\n",
      "Entering into unbelievable way of learning      [{'label': 'POSITIVE', 'score': 0.6663060784339905}]\n",
      "This Internship Is Very Use To Our Students      [{'label': 'POSITIVE', 'score': 0.9985429048538208}]\n",
      "Better marketing at root level      [{'label': 'POSITIVE', 'score': 0.6213861107826233}]\n",
      "very proud of your work wow wow no need for improvement 👍      [{'label': 'POSITIVE', 'score': 0.9998527765274048}]\n",
      "Maadhi tunga... Madhi begam ni Prema istadhi      [{'label': 'NEGATIVE', 'score': 0.9892799258232117}]\n",
      "I am koushik..i love smruti..Mera pyaarr      [{'label': 'POSITIVE', 'score': 0.9994397759437561}]\n",
      "Car service      [{'label': 'POSITIVE', 'score': 0.9251495003700256}]\n",
      "Grocery items      [{'label': 'POSITIVE', 'score': 0.6665473580360413}]\n",
      "Health supplements      [{'label': 'POSITIVE', 'score': 0.9384246468544006}]\n",
      "Online Books store      [{'label': 'NEGATIVE', 'score': 0.9251134991645813}]\n",
      "A bit more user friendly      [{'label': 'POSITIVE', 'score': 0.9469183087348938}]\n"
     ]
    },
    {
     "name": "stdout",
     "output_type": "stream",
     "text": [
      "Don’t give up      [{'label': 'POSITIVE', 'score': 0.9992177486419678}]\n",
      "Gud initiative      [{'label': 'POSITIVE', 'score': 0.7418683171272278}]\n",
      "Advertise more      [{'label': 'POSITIVE', 'score': 0.7260259985923767}]\n",
      "Nothing special      [{'label': 'NEGATIVE', 'score': 0.9996480941772461}]\n",
      "Set goals properly      [{'label': 'POSITIVE', 'score': 0.9997872710227966}]\n",
      "Team should be good and honest with each other      [{'label': 'POSITIVE', 'score': 0.9997761845588684}]\n",
      "There should be good team work      [{'label': 'POSITIVE', 'score': 0.9983388185501099}]\n",
      "Should add more questions in their survey      [{'label': 'NEGATIVE', 'score': 0.8904309868812561}]\n",
      "No... Its good      [{'label': 'POSITIVE', 'score': 0.9922544956207275}]\n",
      "Its good...keep going      [{'label': 'POSITIVE', 'score': 0.9998619556427002}]\n",
      "Networking should be good with people and work life balance should be there      [{'label': 'POSITIVE', 'score': 0.9849777221679688}]\n",
      "Keep growing      [{'label': 'POSITIVE', 'score': 0.9996993541717529}]\n",
      "Do well the best      [{'label': 'POSITIVE', 'score': 0.9998195767402649}]\n",
      "Congrats      [{'label': 'POSITIVE', 'score': 0.9994397759437561}]\n",
      "More Update      [{'label': 'POSITIVE', 'score': 0.9552971720695496}]\n",
      "Good Place To New Skills Learning      [{'label': 'POSITIVE', 'score': 0.9998655319213867}]\n",
      "Don't have any      [{'label': 'NEGATIVE', 'score': 0.9995052814483643}]\n",
      "Not for now      [{'label': 'NEGATIVE', 'score': 0.9857180118560791}]\n",
      "It's good      [{'label': 'POSITIVE', 'score': 0.9998360872268677}]\n",
      "Customer satisfaction and ease of service and complaint redresaal      [{'label': 'POSITIVE', 'score': 0.975035548210144}]\n",
      "N A      [{'label': 'POSITIVE', 'score': 0.9411202073097229}]\n",
      "Good all the very best n little bit updated needed      [{'label': 'POSITIVE', 'score': 0.9998236298561096}]\n",
      "Provide Good Quality Education and provide recorded video to student after class ended.      [{'label': 'POSITIVE', 'score': 0.9997500777244568}]\n",
      "All the best keep going.      [{'label': 'POSITIVE', 'score': 0.9998496770858765}]\n",
      "I have no experience      [{'label': 'NEGATIVE', 'score': 0.9930325746536255}]\n"
     ]
    }
   ],
   "source": [
    "week_50_2022_lst = week_50_2022['Any_IDEA_or_Suggestions_for_Yoshops_Startup '].value_counts().keys().to_list()\n",
    "from transformers import pipeline\n",
    "pos_week_50_2022 = []\n",
    "neg_week_50_2022 = []\n",
    "sentiment_pipeline = pipeline(\"sentiment-analysis\")\n",
    "for i in  week_50_2022_lst:\n",
    "    data = i\n",
    "    print(i,\"    \",sentiment_pipeline(data))\n",
    "    if sentiment_pipeline(data)[0]['label'] == 'POSITIVE':\n",
    "        pos_week_50_2022.append(i)\n",
    "    else:\n",
    "        neg_week_50_2022.append(i)\n",
    "    "
   ]
  },
  {
   "cell_type": "code",
   "execution_count": 132,
   "id": "f26846c0",
   "metadata": {},
   "outputs": [
    {
     "name": "stdout",
     "output_type": "stream",
     "text": [
      "Number of positive type of reviews:  93\n",
      "Number of negative type of reviews:  41\n",
      "Total number of types of reviews given:  134\n"
     ]
    }
   ],
   "source": [
    "print(\"Number of positive type of reviews: \", len(pos_week_50_2022))\n",
    "print(\"Number of negative type of reviews: \", len(neg_week_50_2022))\n",
    "print(\"Total number of types of reviews given: \", len(week_50_2022_lst))"
   ]
  },
  {
   "cell_type": "markdown",
   "id": "4e073dbd",
   "metadata": {},
   "source": [
    "#### Week 51 of 2022"
   ]
  },
  {
   "cell_type": "code",
   "execution_count": 133,
   "id": "067be5a2",
   "metadata": {
    "scrolled": false
   },
   "outputs": [
    {
     "data": {
      "text/plain": [
       "No                                                                                                                     23\n",
       "Nice                                                                                                                    4\n",
       "N                                                                                                                       3\n",
       "Good                                                                                                                    3\n",
       "NO                                                                                                                      3\n",
       "no                                                                                                                      3\n",
       "No idea                                                                                                                 2\n",
       "Vgood                                                                                                                   2\n",
       "N.                                                                                                                      1\n",
       "I don't have idea to start a startup                                                                                    1\n",
       "no suggestion from my side . only one is true . yoshops is  good for learning and update  skills.                       1\n",
       "No need at all                                                                                                          1\n",
       "Separate  partition on class link                                                                                       1\n",
       "Yaa maintained quality                                                                                                  1\n",
       "Make self depend students.                                                                                              1\n",
       "Ni                                                                                                                      1\n",
       "Great                                                                                                                   1\n",
       "Nil                                                                                                                     1\n",
       "to understand the needs of publics accordingly we can improves facilites                                                1\n",
       "Business analyst of product                                                                                             1\n",
       "No suggestions                                                                                                          1\n",
       "na                                                                                                                      1\n",
       "Nope                                                                                                                    1\n",
       "There should be some marketing for this start-up as most of the people don't know about this                            1\n",
       "Superb                                                                                                                  1\n",
       "Na                                                                                                                      1\n",
       "Well done                                                                                                               1\n",
       "Good work                                                                                                               1\n",
       "Person of each category involves in this survey that helpful to analysis the data that useful for startup               1\n",
       "Keep it up                                                                                                              1\n",
       "Smart working                                                                                                           1\n",
       "The main website of Yoshops needs more improvements in terms of UI and logo.                                            1\n",
       "Provide best quality of products                                                                                        1\n",
       "Teaching is an art. But nowadays not everyday have that so suggestion is that focus on interactive online learning.     1\n",
       "All good                                                                                                                1\n",
       "Yoshop should grow higher and rise its peak and should become one of the MNC.                                           1\n",
       "Name: Any_IDEA_or_Suggestions_for_Yoshops_Startup , dtype: int64"
      ]
     },
     "execution_count": 133,
     "metadata": {},
     "output_type": "execute_result"
    }
   ],
   "source": [
    "week_51_2022['Any_IDEA_or_Suggestions_for_Yoshops_Startup '].value_counts()"
   ]
  },
  {
   "cell_type": "code",
   "execution_count": 134,
   "id": "e0c73214",
   "metadata": {
    "scrolled": true
   },
   "outputs": [
    {
     "name": "stderr",
     "output_type": "stream",
     "text": [
      "No model was supplied, defaulted to distilbert-base-uncased-finetuned-sst-2-english and revision af0f99b (https://huggingface.co/distilbert-base-uncased-finetuned-sst-2-english).\n",
      "Using a pipeline without specifying a model name and revision in production is not recommended.\n",
      "Some layers from the model checkpoint at distilbert-base-uncased-finetuned-sst-2-english were not used when initializing TFDistilBertForSequenceClassification: ['dropout_19']\n",
      "- This IS expected if you are initializing TFDistilBertForSequenceClassification from the checkpoint of a model trained on another task or with another architecture (e.g. initializing a BertForSequenceClassification model from a BertForPreTraining model).\n",
      "- This IS NOT expected if you are initializing TFDistilBertForSequenceClassification from the checkpoint of a model that you expect to be exactly identical (initializing a BertForSequenceClassification model from a BertForSequenceClassification model).\n",
      "Some layers of TFDistilBertForSequenceClassification were not initialized from the model checkpoint at distilbert-base-uncased-finetuned-sst-2-english and are newly initialized: ['dropout_259']\n",
      "You should probably TRAIN this model on a down-stream task to be able to use it for predictions and inference.\n"
     ]
    },
    {
     "name": "stdout",
     "output_type": "stream",
     "text": [
      "No      [{'label': 'NEGATIVE', 'score': 0.9964459538459778}]\n",
      "Nice      [{'label': 'POSITIVE', 'score': 0.9998552799224854}]\n",
      "N      [{'label': 'POSITIVE', 'score': 0.9506381750106812}]\n",
      "Good      [{'label': 'POSITIVE', 'score': 0.9998161196708679}]\n",
      "NO      [{'label': 'NEGATIVE', 'score': 0.9964459538459778}]\n",
      "no      [{'label': 'NEGATIVE', 'score': 0.9964459538459778}]\n",
      "No idea      [{'label': 'NEGATIVE', 'score': 0.9905499815940857}]\n",
      "Vgood      [{'label': 'POSITIVE', 'score': 0.9452274441719055}]\n",
      "N.      [{'label': 'POSITIVE', 'score': 0.9131030440330505}]\n",
      "I don't have idea to start a startup      [{'label': 'NEGATIVE', 'score': 0.9985927939414978}]\n",
      "no suggestion from my side . only one is true . yoshops is  good for learning and update  skills.      [{'label': 'POSITIVE', 'score': 0.9987990856170654}]\n",
      "No need at all      [{'label': 'POSITIVE', 'score': 0.9392786026000977}]\n",
      "Separate  partition on class link      [{'label': 'NEGATIVE', 'score': 0.9008849263191223}]\n",
      "Yaa maintained quality      [{'label': 'POSITIVE', 'score': 0.9990479350090027}]\n",
      "Make self depend students.      [{'label': 'POSITIVE', 'score': 0.5038015842437744}]\n",
      "Ni      [{'label': 'POSITIVE', 'score': 0.9201038479804993}]\n",
      "Great      [{'label': 'POSITIVE', 'score': 0.9998630285263062}]\n",
      "Nil      [{'label': 'NEGATIVE', 'score': 0.6357451677322388}]\n",
      "to understand the needs of publics accordingly we can improves facilites      [{'label': 'POSITIVE', 'score': 0.9504453539848328}]\n",
      "Business analyst of product      [{'label': 'POSITIVE', 'score': 0.9720617532730103}]\n",
      "No suggestions      [{'label': 'NEGATIVE', 'score': 0.9974039196968079}]\n",
      "na      [{'label': 'NEGATIVE', 'score': 0.9810830950737}]\n",
      "Nope      [{'label': 'NEGATIVE', 'score': 0.9927231669425964}]\n",
      "There should be some marketing for this start-up as most of the people don't know about this      [{'label': 'NEGATIVE', 'score': 0.9990357160568237}]\n",
      "Superb      [{'label': 'POSITIVE', 'score': 0.9998656511306763}]\n",
      "Na      [{'label': 'NEGATIVE', 'score': 0.9810830950737}]\n",
      "Well done      [{'label': 'POSITIVE', 'score': 0.9998384714126587}]\n",
      "Good work      [{'label': 'POSITIVE', 'score': 0.9998413324356079}]\n",
      "Person of each category involves in this survey that helpful to analysis the data that useful for startup      [{'label': 'POSITIVE', 'score': 0.9371345639228821}]\n",
      "Keep it up      [{'label': 'POSITIVE', 'score': 0.9998098015785217}]\n",
      "Smart working      [{'label': 'POSITIVE', 'score': 0.9998453855514526}]\n",
      "The main website of Yoshops needs more improvements in terms of UI and logo.      [{'label': 'NEGATIVE', 'score': 0.9994706511497498}]\n",
      "Provide best quality of products      [{'label': 'POSITIVE', 'score': 0.9995484948158264}]\n",
      "Teaching is an art. But nowadays not everyday have that so suggestion is that focus on interactive online learning.      [{'label': 'POSITIVE', 'score': 0.9492183327674866}]\n",
      "All good      [{'label': 'POSITIVE', 'score': 0.9998400211334229}]\n",
      "Yoshop should grow higher and rise its peak and should become one of the MNC.      [{'label': 'POSITIVE', 'score': 0.9824950098991394}]\n"
     ]
    }
   ],
   "source": [
    "week_51_2022_lst = week_51_2022['Any_IDEA_or_Suggestions_for_Yoshops_Startup '].value_counts().keys().to_list()\n",
    "from transformers import pipeline\n",
    "pos_week_51_2022 = []\n",
    "neg_week_51_2022 = []\n",
    "sentiment_pipeline = pipeline(\"sentiment-analysis\")\n",
    "for i in  week_51_2022_lst:\n",
    "    data = i\n",
    "    print(i,\"    \",sentiment_pipeline(data))\n",
    "    if sentiment_pipeline(data)[0]['label'] == 'POSITIVE':\n",
    "        pos_week_51_2022.append(i)\n",
    "    else:\n",
    "        neg_week_51_2022.append(i)\n",
    "    "
   ]
  },
  {
   "cell_type": "code",
   "execution_count": 135,
   "id": "ca01f732",
   "metadata": {},
   "outputs": [
    {
     "name": "stdout",
     "output_type": "stream",
     "text": [
      "Number of positive type of reviews:  23\n",
      "Number of negative type of reviews:  13\n",
      "Total number of types of reviews given:  36\n"
     ]
    }
   ],
   "source": [
    "print(\"Number of positive type of reviews: \", len(pos_week_51_2022))\n",
    "print(\"Number of negative type of reviews: \", len(neg_week_51_2022))\n",
    "print(\"Total number of types of reviews given: \", len(week_51_2022_lst))"
   ]
  },
  {
   "cell_type": "markdown",
   "id": "8c5ae31e",
   "metadata": {},
   "source": [
    "#### Week 52 of 2022"
   ]
  },
  {
   "cell_type": "code",
   "execution_count": 136,
   "id": "937558a6",
   "metadata": {},
   "outputs": [
    {
     "data": {
      "text/plain": [
       "No                                  42\n",
       "Nothing                             10\n",
       "Na                                   9\n",
       "None                                 6\n",
       "Nope                                 5\n",
       "                                    ..\n",
       "Make walkin shops for people's       1\n",
       "Add opportunities for housewives     1\n",
       "No suggestion                        1\n",
       "Not any suggestions                  1\n",
       "Garments Business                    1\n",
       "Name: Any_IDEA_or_Suggestions_for_Yoshops_Startup , Length: 84, dtype: int64"
      ]
     },
     "execution_count": 136,
     "metadata": {},
     "output_type": "execute_result"
    }
   ],
   "source": [
    "week_52_2022['Any_IDEA_or_Suggestions_for_Yoshops_Startup '].value_counts()"
   ]
  },
  {
   "cell_type": "code",
   "execution_count": 137,
   "id": "b81874e7",
   "metadata": {
    "scrolled": true
   },
   "outputs": [
    {
     "name": "stderr",
     "output_type": "stream",
     "text": [
      "No model was supplied, defaulted to distilbert-base-uncased-finetuned-sst-2-english and revision af0f99b (https://huggingface.co/distilbert-base-uncased-finetuned-sst-2-english).\n",
      "Using a pipeline without specifying a model name and revision in production is not recommended.\n",
      "Some layers from the model checkpoint at distilbert-base-uncased-finetuned-sst-2-english were not used when initializing TFDistilBertForSequenceClassification: ['dropout_19']\n",
      "- This IS expected if you are initializing TFDistilBertForSequenceClassification from the checkpoint of a model trained on another task or with another architecture (e.g. initializing a BertForSequenceClassification model from a BertForPreTraining model).\n",
      "- This IS NOT expected if you are initializing TFDistilBertForSequenceClassification from the checkpoint of a model that you expect to be exactly identical (initializing a BertForSequenceClassification model from a BertForSequenceClassification model).\n",
      "Some layers of TFDistilBertForSequenceClassification were not initialized from the model checkpoint at distilbert-base-uncased-finetuned-sst-2-english and are newly initialized: ['dropout_279']\n",
      "You should probably TRAIN this model on a down-stream task to be able to use it for predictions and inference.\n"
     ]
    },
    {
     "name": "stdout",
     "output_type": "stream",
     "text": [
      "No      [{'label': 'NEGATIVE', 'score': 0.9964459538459778}]\n",
      "Nothing      [{'label': 'NEGATIVE', 'score': 0.9992395639419556}]\n",
      "Na      [{'label': 'NEGATIVE', 'score': 0.9810830950737}]\n",
      "None      [{'label': 'NEGATIVE', 'score': 0.985345721244812}]\n",
      "Nope      [{'label': 'NEGATIVE', 'score': 0.9927231669425964}]\n",
      "Good      [{'label': 'POSITIVE', 'score': 0.9998161196708679}]\n",
      ".      [{'label': 'POSITIVE', 'score': 0.9668781757354736}]\n",
      "Not yet      [{'label': 'NEGATIVE', 'score': 0.9949162006378174}]\n",
      "na      [{'label': 'NEGATIVE', 'score': 0.9810830950737}]\n",
      "Nice      [{'label': 'POSITIVE', 'score': 0.9998552799224854}]\n",
      "Digital Marketing      [{'label': 'POSITIVE', 'score': 0.876501202583313}]\n",
      "-      [{'label': 'POSITIVE', 'score': 0.9872410297393799}]\n",
      "No idea      [{'label': 'NEGATIVE', 'score': 0.9905499815940857}]\n",
      "NO      [{'label': 'NEGATIVE', 'score': 0.9964459538459778}]\n",
      "No thanks      [{'label': 'NEGATIVE', 'score': 0.9936198592185974}]\n",
      "no      [{'label': 'NEGATIVE', 'score': 0.9964459538459778}]\n",
      "Making online Ticket Booking Centre      [{'label': 'POSITIVE', 'score': 0.8655216097831726}]\n",
      "online tax  solution      [{'label': 'NEGATIVE', 'score': 0.968666136264801}]\n",
      "Data mining Company      [{'label': 'NEGATIVE', 'score': 0.9576046466827393}]\n",
      "No\n",
      "No      [{'label': 'NEGATIVE', 'score': 0.9866069555282593}]\n",
      "Best Startup in Data Science Field      [{'label': 'POSITIVE', 'score': 0.9996634721755981}]\n",
      "nothing new      [{'label': 'NEGATIVE', 'score': 0.9993882179260254}]\n",
      "Historical Reaserch      [{'label': 'NEGATIVE', 'score': 0.9112290740013123}]\n",
      "Giving more stipend based internships      [{'label': 'NEGATIVE', 'score': 0.9776281714439392}]\n",
      "no suggestions      [{'label': 'NEGATIVE', 'score': 0.9974039196968079}]\n",
      "also invest in waste collecting sectors      [{'label': 'POSITIVE', 'score': 0.7764601707458496}]\n",
      "Bugs should be clear      [{'label': 'NEGATIVE', 'score': 0.9963112473487854}]\n",
      "It should be easy available all items      [{'label': 'POSITIVE', 'score': 0.9677678942680359}]\n",
      "online practical internship programme      [{'label': 'POSITIVE', 'score': 0.9768921136856079}]\n",
      "Everything good      [{'label': 'POSITIVE', 'score': 0.9998457431793213}]\n",
      "none.      [{'label': 'NEGATIVE', 'score': 0.9976112842559814}]\n",
      "online Project making      [{'label': 'POSITIVE', 'score': 0.9938719272613525}]\n",
      "phone repairing      [{'label': 'NEGATIVE', 'score': 0.980813205242157}]\n",
      "online computer security      [{'label': 'POSITIVE', 'score': 0.5193558931350708}]\n",
      "Job Platform      [{'label': 'POSITIVE', 'score': 0.959834635257721}]\n",
      "online puja special      [{'label': 'POSITIVE', 'score': 0.9478921890258789}]\n",
      "Doctor Helps      [{'label': 'POSITIVE', 'score': 0.9981897473335266}]\n",
      "Online Cosmetics Market      [{'label': 'NEGATIVE', 'score': 0.8172760605812073}]\n",
      "Onlin e Tax compliance      [{'label': 'POSITIVE', 'score': 0.6732426881790161}]\n",
      "Content Writing      [{'label': 'POSITIVE', 'score': 0.9989338517189026}]\n",
      "Its good      [{'label': 'POSITIVE', 'score': 0.9998385906219482}]\n",
      "N0      [{'label': 'NEGATIVE', 'score': 0.6684397459030151}]\n",
      "Market Reaserch online Firm      [{'label': 'NEGATIVE', 'score': 0.9960145950317383}]\n",
      "Green Energy Data Company      [{'label': 'POSITIVE', 'score': 0.9944899082183838}]\n",
      "Online  Market Reaserch      [{'label': 'NEGATIVE', 'score': 0.9957383871078491}]\n",
      "Good quality of prodact      [{'label': 'POSITIVE', 'score': 0.9998456239700317}]\n",
      "online share Market Class      [{'label': 'POSITIVE', 'score': 0.9797431826591492}]\n",
      "online Movie Ticket Shopping      [{'label': 'NEGATIVE', 'score': 0.8870841264724731}]\n",
      "Tame ama darling ♥️      [{'label': 'NEGATIVE', 'score': 0.6284594535827637}]\n",
      "Dugh      [{'label': 'NEGATIVE', 'score': 0.5233578085899353}]\n",
      "Low price and good quality on your Prodact      [{'label': 'POSITIVE', 'score': 0.9980401396751404}]\n",
      "Starting from basics to higher level of training will be good      [{'label': 'POSITIVE', 'score': 0.9997175335884094}]\n",
      "Should work on their communication and advertisement      [{'label': 'NEGATIVE', 'score': 0.9945717453956604}]\n",
      "not yet      [{'label': 'NEGATIVE', 'score': 0.9949162006378174}]\n",
      "Sorry, I don't have any idea about it.      [{'label': 'NEGATIVE', 'score': 0.9995231628417969}]\n",
      "Nil      [{'label': 'NEGATIVE', 'score': 0.6357451677322388}]\n",
      "Provide best quality service      [{'label': 'POSITIVE', 'score': 0.9997257590293884}]\n",
      "Nuce      [{'label': 'NEGATIVE', 'score': 0.9074240326881409}]\n",
      "Try to interact and advertise more to enhance the quality of product service you the customers.....\n",
      "\n",
      "All the best of luck....      [{'label': 'POSITIVE', 'score': 0.9181088209152222}]\n",
      "Gadget      [{'label': 'POSITIVE', 'score': 0.8950320482254028}]\n",
      "Develop user-friendly grocery app      [{'label': 'POSITIVE', 'score': 0.5080055594444275}]\n",
      "satisfying      [{'label': 'POSITIVE', 'score': 0.999862790107727}]\n",
      "Please design the Questioner in a more systematic manner giving more valid questions with strong alternative options.      [{'label': 'POSITIVE', 'score': 0.9829958081245422}]\n",
      "It's good      [{'label': 'POSITIVE', 'score': 0.9998360872268677}]\n",
      "Yes      [{'label': 'POSITIVE', 'score': 0.9997805953025818}]\n",
      "Nop      [{'label': 'NEGATIVE', 'score': 0.8456549048423767}]\n",
      "Work on providing diverse product segments      [{'label': 'POSITIVE', 'score': 0.9967306852340698}]\n",
      "Should work on awareness through social media      [{'label': 'POSITIVE', 'score': 0.9480817914009094}]\n",
      "More advertisement      [{'label': 'NEGATIVE', 'score': 0.9908226728439331}]\n",
      "Fintech Study with Practical Session      [{'label': 'POSITIVE', 'score': 0.9895936250686646}]\n",
      "Make a Online Shopping Websites      [{'label': 'POSITIVE', 'score': 0.919460654258728}]\n",
      "Yet to know more      [{'label': 'POSITIVE', 'score': 0.8648000359535217}]\n",
      "To improve questions quality and quantity      [{'label': 'POSITIVE', 'score': 0.9644812941551208}]\n",
      "Home Delivery      [{'label': 'POSITIVE', 'score': 0.9604604840278625}]\n",
      "Great products      [{'label': 'POSITIVE', 'score': 0.999860405921936}]\n",
      "Apps making      [{'label': 'POSITIVE', 'score': 0.9951326251029968}]\n",
      "I didn't know about that so sry i cant give any suggestion thanks      [{'label': 'NEGATIVE', 'score': 0.9972898960113525}]\n",
      "overseas payroll management      [{'label': 'POSITIVE', 'score': 0.8365817666053772}]\n",
      "Backend support should be there      [{'label': 'POSITIVE', 'score': 0.7443995475769043}]\n",
      "Make walkin shops for people's      [{'label': 'NEGATIVE', 'score': 0.6948168873786926}]\n",
      "Add opportunities for housewives      [{'label': 'POSITIVE', 'score': 0.9994106292724609}]\n",
      "No suggestion      [{'label': 'NEGATIVE', 'score': 0.9833910465240479}]\n",
      "Not any suggestions      [{'label': 'NEGATIVE', 'score': 0.9947563409805298}]\n",
      "Garments Business      [{'label': 'POSITIVE', 'score': 0.9845192432403564}]\n"
     ]
    }
   ],
   "source": [
    "week_52_2022_lst = week_52_2022['Any_IDEA_or_Suggestions_for_Yoshops_Startup '].value_counts().keys().to_list()\n",
    "from transformers import pipeline\n",
    "pos_week_52_2022 = []\n",
    "neg_week_52_2022 = []\n",
    "sentiment_pipeline = pipeline(\"sentiment-analysis\")\n",
    "for i in  week_52_2022_lst:\n",
    "    data = i\n",
    "    print(i,\"    \",sentiment_pipeline(data))\n",
    "    if sentiment_pipeline(data)[0]['label'] == 'POSITIVE':\n",
    "        pos_week_52_2022.append(i)\n",
    "    else:\n",
    "        neg_week_52_2022.append(i)\n",
    "    "
   ]
  },
  {
   "cell_type": "code",
   "execution_count": 138,
   "id": "b7b15f7c",
   "metadata": {},
   "outputs": [
    {
     "name": "stdout",
     "output_type": "stream",
     "text": [
      "Number of positive type of reviews:  45\n",
      "Number of negative type of reviews:  39\n",
      "Total number of types of reviews given:  84\n"
     ]
    }
   ],
   "source": [
    "print(\"Number of positive type of reviews: \", len(pos_week_52_2022))\n",
    "print(\"Number of negative type of reviews: \", len(neg_week_52_2022))\n",
    "print(\"Total number of types of reviews given: \", len(week_52_2022_lst))"
   ]
  },
  {
   "cell_type": "markdown",
   "id": "0574c8ba",
   "metadata": {},
   "source": [
    "#### Week 1 of 2023"
   ]
  },
  {
   "cell_type": "code",
   "execution_count": 139,
   "id": "681d88d9",
   "metadata": {
    "scrolled": true
   },
   "outputs": [
    {
     "data": {
      "text/plain": [
       "No                                                                                                                                                                              20\n",
       "None                                                                                                                                                                             3\n",
       "Not yet                                                                                                                                                                          2\n",
       "Cloud Kitchen                                                                                                                                                                    1\n",
       "Ask good                                                                                                                                                                         1\n",
       "Improvement in App's user interface                                                                                                                                              1\n",
       "-                                                                                                                                                                                1\n",
       "na                                                                                                                                                                               1\n",
       "the questions in this survey are incomplete (eg ,5. Study in Class,Q8 ,Q6 must?),options are not even close to reality (eg Q9). , banne ke bad ek bar padho toh bhai/behen .     1\n",
       "online market analysis                                                                                                                                                           1\n",
       "Online Market Survey                                                                                                                                                             1\n",
       "no                                                                                                                                                                               1\n",
       "Online Voice Recording                                                                                                                                                           1\n",
       "online ticket booking                                                                                                                                                            1\n",
       "Online Hotel Business                                                                                                                                                            1\n",
       "Empty                                                                                                                                                                            1\n",
       "Improve staff communication skill                                                                                                                                                1\n",
       "No idea                                                                                                                                                                          1\n",
       "Keep up the great work, I think you have a great team, remya and kaushali are very great.\\nAnkit as a tutor need to improve his soft skills                                      1\n",
       "keep going                                                                                                                                                                       1\n",
       "Stationary items                                                                                                                                                                 1\n",
       "Online ticket booking                                                                                                                                                            1\n",
       "Online tuition                                                                                                                                                                   1\n",
       "Good start up                                                                                                                                                                    1\n",
       "Explanation Should be clear                                                                                                                                                      1\n",
       "Online Library                                                                                                                                                                   1\n",
       "mutual fund                                                                                                                                                                      1\n",
       "Online Accounting                                                                                                                                                                1\n",
       "Data Analyst                                                                                                                                                                     1\n",
       "Not any                                                                                                                                                                          1\n",
       "Online Electrical problem solve platform                                                                                                                                         1\n",
       "Online career guidelines                                                                                                                                                         1\n",
       "great                                                                                                                                                                            1\n",
       "Data                                                                                                                                                                             1\n",
       "Online trading                                                                                                                                                                   1\n",
       "Nothing                                                                                                                                                                          1\n",
       "Minimum price max quality quick delivery                                                                                                                                         1\n",
       "Name: Any_IDEA_or_Suggestions_for_Yoshops_Startup , dtype: int64"
      ]
     },
     "execution_count": 139,
     "metadata": {},
     "output_type": "execute_result"
    }
   ],
   "source": [
    "week_01_2023['Any_IDEA_or_Suggestions_for_Yoshops_Startup '].value_counts()"
   ]
  },
  {
   "cell_type": "code",
   "execution_count": 140,
   "id": "96bb9d37",
   "metadata": {
    "scrolled": true
   },
   "outputs": [
    {
     "name": "stderr",
     "output_type": "stream",
     "text": [
      "No model was supplied, defaulted to distilbert-base-uncased-finetuned-sst-2-english and revision af0f99b (https://huggingface.co/distilbert-base-uncased-finetuned-sst-2-english).\n",
      "Using a pipeline without specifying a model name and revision in production is not recommended.\n",
      "Some layers from the model checkpoint at distilbert-base-uncased-finetuned-sst-2-english were not used when initializing TFDistilBertForSequenceClassification: ['dropout_19']\n",
      "- This IS expected if you are initializing TFDistilBertForSequenceClassification from the checkpoint of a model trained on another task or with another architecture (e.g. initializing a BertForSequenceClassification model from a BertForPreTraining model).\n",
      "- This IS NOT expected if you are initializing TFDistilBertForSequenceClassification from the checkpoint of a model that you expect to be exactly identical (initializing a BertForSequenceClassification model from a BertForSequenceClassification model).\n",
      "Some layers of TFDistilBertForSequenceClassification were not initialized from the model checkpoint at distilbert-base-uncased-finetuned-sst-2-english and are newly initialized: ['dropout_299']\n",
      "You should probably TRAIN this model on a down-stream task to be able to use it for predictions and inference.\n"
     ]
    },
    {
     "name": "stdout",
     "output_type": "stream",
     "text": [
      "No      [{'label': 'NEGATIVE', 'score': 0.9964459538459778}]\n",
      "None      [{'label': 'NEGATIVE', 'score': 0.985345721244812}]\n",
      "Not yet      [{'label': 'NEGATIVE', 'score': 0.9949162006378174}]\n",
      "Cloud Kitchen      [{'label': 'POSITIVE', 'score': 0.9665207862854004}]\n",
      "Ask good      [{'label': 'POSITIVE', 'score': 0.9997039437294006}]\n",
      "Improvement in App's user interface      [{'label': 'POSITIVE', 'score': 0.9967472553253174}]\n",
      "-      [{'label': 'POSITIVE', 'score': 0.9872410297393799}]\n",
      "na      [{'label': 'NEGATIVE', 'score': 0.9810830950737}]\n",
      "the questions in this survey are incomplete (eg ,5. Study in Class,Q8 ,Q6 must?),options are not even close to reality (eg Q9). , banne ke bad ek bar padho toh bhai/behen .      [{'label': 'NEGATIVE', 'score': 0.9995905756950378}]\n",
      "online market analysis      [{'label': 'POSITIVE', 'score': 0.5189077258110046}]\n",
      "Online Market Survey      [{'label': 'NEGATIVE', 'score': 0.9633505344390869}]\n",
      "no      [{'label': 'NEGATIVE', 'score': 0.9964459538459778}]\n",
      "Online Voice Recording      [{'label': 'POSITIVE', 'score': 0.8313488364219666}]\n",
      "online ticket booking      [{'label': 'POSITIVE', 'score': 0.7809705138206482}]\n",
      "Online Hotel Business      [{'label': 'POSITIVE', 'score': 0.9848537445068359}]\n",
      "Empty      [{'label': 'NEGATIVE', 'score': 0.9997498393058777}]\n",
      "Improve staff communication skill      [{'label': 'POSITIVE', 'score': 0.9996501207351685}]\n",
      "No idea      [{'label': 'NEGATIVE', 'score': 0.9905499815940857}]\n",
      "Keep up the great work, I think you have a great team, remya and kaushali are very great.\n",
      "Ankit as a tutor need to improve his soft skills      [{'label': 'POSITIVE', 'score': 0.9998231530189514}]\n",
      "keep going      [{'label': 'POSITIVE', 'score': 0.9993809461593628}]\n",
      "Stationary items      [{'label': 'NEGATIVE', 'score': 0.9293733835220337}]\n",
      "Online ticket booking      [{'label': 'POSITIVE', 'score': 0.7809705138206482}]\n",
      "Online tuition      [{'label': 'POSITIVE', 'score': 0.9622595310211182}]\n",
      "Good start up      [{'label': 'POSITIVE', 'score': 0.9998562335968018}]\n",
      "Explanation Should be clear      [{'label': 'POSITIVE', 'score': 0.9704562425613403}]\n",
      "Online Library      [{'label': 'POSITIVE', 'score': 0.9794710278511047}]\n",
      "mutual fund      [{'label': 'POSITIVE', 'score': 0.9817659854888916}]\n",
      "Online Accounting      [{'label': 'POSITIVE', 'score': 0.6424242258071899}]\n",
      "Data Analyst      [{'label': 'POSITIVE', 'score': 0.805056631565094}]\n",
      "Not any      [{'label': 'NEGATIVE', 'score': 0.9981517195701599}]\n",
      "Online Electrical problem solve platform      [{'label': 'POSITIVE', 'score': 0.6258262395858765}]\n",
      "Online career guidelines      [{'label': 'POSITIVE', 'score': 0.9081759452819824}]\n",
      "great      [{'label': 'POSITIVE', 'score': 0.9998630285263062}]\n",
      "Data      [{'label': 'POSITIVE', 'score': 0.9617661237716675}]\n",
      "Online trading      [{'label': 'POSITIVE', 'score': 0.6349784135818481}]\n",
      "Nothing      [{'label': 'NEGATIVE', 'score': 0.9992395639419556}]\n",
      "Minimum price max quality quick delivery      [{'label': 'POSITIVE', 'score': 0.9949772953987122}]\n"
     ]
    }
   ],
   "source": [
    "week_01_2023_lst = week_01_2023['Any_IDEA_or_Suggestions_for_Yoshops_Startup '].value_counts().keys().to_list()\n",
    "from transformers import pipeline\n",
    "pos_week_01_2023 = []\n",
    "neg_week_01_2023 = []\n",
    "sentiment_pipeline = pipeline(\"sentiment-analysis\")\n",
    "for i in  week_01_2023_lst:\n",
    "    data = i\n",
    "    print(i,\"    \",sentiment_pipeline(data))\n",
    "    if sentiment_pipeline(data)[0]['label'] == 'POSITIVE':\n",
    "        pos_week_01_2023.append(i)\n",
    "    else:\n",
    "        neg_week_01_2023.append(i)\n",
    "    "
   ]
  },
  {
   "cell_type": "code",
   "execution_count": 141,
   "id": "a2dd070c",
   "metadata": {},
   "outputs": [
    {
     "name": "stdout",
     "output_type": "stream",
     "text": [
      "Number of positive type of reviews:  25\n",
      "Number of negative type of reviews:  12\n",
      "Total number of types of reviews given:  37\n"
     ]
    }
   ],
   "source": [
    "print(\"Number of positive type of reviews: \", len(pos_week_01_2023))\n",
    "print(\"Number of negative type of reviews: \", len(neg_week_01_2023))\n",
    "print(\"Total number of types of reviews given: \", len(week_01_2023_lst))"
   ]
  },
  {
   "cell_type": "markdown",
   "id": "d04cd63b",
   "metadata": {},
   "source": [
    "#### Week 02 of 2023"
   ]
  },
  {
   "cell_type": "code",
   "execution_count": 142,
   "id": "391baaa8",
   "metadata": {},
   "outputs": [
    {
     "name": "stderr",
     "output_type": "stream",
     "text": [
      "No model was supplied, defaulted to distilbert-base-uncased-finetuned-sst-2-english and revision af0f99b (https://huggingface.co/distilbert-base-uncased-finetuned-sst-2-english).\n",
      "Using a pipeline without specifying a model name and revision in production is not recommended.\n",
      "Some layers from the model checkpoint at distilbert-base-uncased-finetuned-sst-2-english were not used when initializing TFDistilBertForSequenceClassification: ['dropout_19']\n",
      "- This IS expected if you are initializing TFDistilBertForSequenceClassification from the checkpoint of a model trained on another task or with another architecture (e.g. initializing a BertForSequenceClassification model from a BertForPreTraining model).\n",
      "- This IS NOT expected if you are initializing TFDistilBertForSequenceClassification from the checkpoint of a model that you expect to be exactly identical (initializing a BertForSequenceClassification model from a BertForSequenceClassification model).\n",
      "Some layers of TFDistilBertForSequenceClassification were not initialized from the model checkpoint at distilbert-base-uncased-finetuned-sst-2-english and are newly initialized: ['dropout_319']\n",
      "You should probably TRAIN this model on a down-stream task to be able to use it for predictions and inference.\n"
     ]
    },
    {
     "name": "stdout",
     "output_type": "stream",
     "text": [
      "Number of positive type of reviews:  20\n",
      "Number of negative type of reviews:  17\n",
      "Total number of types of reviews given:  37\n"
     ]
    }
   ],
   "source": [
    "week_02_2023_lst = week_02_2023['Any_IDEA_or_Suggestions_for_Yoshops_Startup '].value_counts().keys().to_list()\n",
    "from transformers import pipeline\n",
    "pos_week_02_2023 = []\n",
    "neg_week_02_2023 = []\n",
    "sentiment_pipeline = pipeline(\"sentiment-analysis\")\n",
    "for i in  week_02_2023_lst:\n",
    "    data = i\n",
    "    #print(i,\"    \",sentiment_pipeline(data))\n",
    "    if sentiment_pipeline(data)[0]['label'] == 'POSITIVE':\n",
    "        pos_week_02_2023.append(i)\n",
    "    else:\n",
    "        neg_week_02_2023.append(i)\n",
    "print(\"Number of positive type of reviews: \", len(pos_week_02_2023))\n",
    "print(\"Number of negative type of reviews: \", len(neg_week_02_2023))\n",
    "print(\"Total number of types of reviews given: \", len(week_02_2023_lst)) "
   ]
  },
  {
   "cell_type": "markdown",
   "id": "3b107829",
   "metadata": {},
   "source": [
    "#### Week 03 of 2023"
   ]
  },
  {
   "cell_type": "code",
   "execution_count": 143,
   "id": "2e858c94",
   "metadata": {},
   "outputs": [
    {
     "name": "stderr",
     "output_type": "stream",
     "text": [
      "No model was supplied, defaulted to distilbert-base-uncased-finetuned-sst-2-english and revision af0f99b (https://huggingface.co/distilbert-base-uncased-finetuned-sst-2-english).\n",
      "Using a pipeline without specifying a model name and revision in production is not recommended.\n",
      "Some layers from the model checkpoint at distilbert-base-uncased-finetuned-sst-2-english were not used when initializing TFDistilBertForSequenceClassification: ['dropout_19']\n",
      "- This IS expected if you are initializing TFDistilBertForSequenceClassification from the checkpoint of a model trained on another task or with another architecture (e.g. initializing a BertForSequenceClassification model from a BertForPreTraining model).\n",
      "- This IS NOT expected if you are initializing TFDistilBertForSequenceClassification from the checkpoint of a model that you expect to be exactly identical (initializing a BertForSequenceClassification model from a BertForSequenceClassification model).\n",
      "Some layers of TFDistilBertForSequenceClassification were not initialized from the model checkpoint at distilbert-base-uncased-finetuned-sst-2-english and are newly initialized: ['dropout_339']\n",
      "You should probably TRAIN this model on a down-stream task to be able to use it for predictions and inference.\n"
     ]
    },
    {
     "name": "stdout",
     "output_type": "stream",
     "text": [
      "Number of positive type of reviews:  14\n",
      "Number of negative type of reviews:  10\n",
      "Total number of types of reviews given:  24\n"
     ]
    }
   ],
   "source": [
    "week_03_2023_lst = week_03_2023['Any_IDEA_or_Suggestions_for_Yoshops_Startup '].value_counts().keys().to_list()\n",
    "from transformers import pipeline\n",
    "pos_week_03_2023 = []\n",
    "neg_week_03_2023 = []\n",
    "sentiment_pipeline = pipeline(\"sentiment-analysis\")\n",
    "for i in  week_03_2023_lst:\n",
    "    data = i\n",
    "    #print(i,\"    \",sentiment_pipeline(data))\n",
    "    if sentiment_pipeline(data)[0]['label'] == 'POSITIVE':\n",
    "        pos_week_03_2023.append(i)\n",
    "    else:\n",
    "        neg_week_03_2023.append(i)\n",
    "print(\"Number of positive type of reviews: \", len(pos_week_03_2023))\n",
    "print(\"Number of negative type of reviews: \", len(neg_week_03_2023))\n",
    "print(\"Total number of types of reviews given: \", len(week_03_2023_lst)) "
   ]
  },
  {
   "cell_type": "markdown",
   "id": "abd01486",
   "metadata": {},
   "source": [
    "#### Week 4 of 2023"
   ]
  },
  {
   "cell_type": "code",
   "execution_count": 144,
   "id": "b520d233",
   "metadata": {},
   "outputs": [
    {
     "name": "stderr",
     "output_type": "stream",
     "text": [
      "No model was supplied, defaulted to distilbert-base-uncased-finetuned-sst-2-english and revision af0f99b (https://huggingface.co/distilbert-base-uncased-finetuned-sst-2-english).\n",
      "Using a pipeline without specifying a model name and revision in production is not recommended.\n",
      "Some layers from the model checkpoint at distilbert-base-uncased-finetuned-sst-2-english were not used when initializing TFDistilBertForSequenceClassification: ['dropout_19']\n",
      "- This IS expected if you are initializing TFDistilBertForSequenceClassification from the checkpoint of a model trained on another task or with another architecture (e.g. initializing a BertForSequenceClassification model from a BertForPreTraining model).\n",
      "- This IS NOT expected if you are initializing TFDistilBertForSequenceClassification from the checkpoint of a model that you expect to be exactly identical (initializing a BertForSequenceClassification model from a BertForSequenceClassification model).\n",
      "Some layers of TFDistilBertForSequenceClassification were not initialized from the model checkpoint at distilbert-base-uncased-finetuned-sst-2-english and are newly initialized: ['dropout_359']\n",
      "You should probably TRAIN this model on a down-stream task to be able to use it for predictions and inference.\n"
     ]
    },
    {
     "name": "stdout",
     "output_type": "stream",
     "text": [
      "Number of positive type of reviews:  18\n",
      "Number of negative type of reviews:  25\n",
      "Total number of types of reviews given:  43\n"
     ]
    }
   ],
   "source": [
    "week_04_2023_lst = week_04_2023['Any_IDEA_or_Suggestions_for_Yoshops_Startup '].value_counts().keys().to_list()\n",
    "from transformers import pipeline\n",
    "pos_week_04_2023 = []\n",
    "neg_week_04_2023 = []\n",
    "sentiment_pipeline = pipeline(\"sentiment-analysis\")\n",
    "for i in  week_04_2023_lst:\n",
    "    data = i\n",
    "    #print(i,\"    \",sentiment_pipeline(data))\n",
    "    if sentiment_pipeline(data)[0]['label'] == 'POSITIVE':\n",
    "        pos_week_04_2023.append(i)\n",
    "    else:\n",
    "        neg_week_04_2023.append(i)\n",
    "print(\"Number of positive type of reviews: \", len(pos_week_04_2023))\n",
    "print(\"Number of negative type of reviews: \", len(neg_week_04_2023))\n",
    "print(\"Total number of types of reviews given: \", len(week_04_2023_lst)) "
   ]
  },
  {
   "cell_type": "markdown",
   "id": "8e76bc75",
   "metadata": {},
   "source": [
    "#### Week 05 of 2023"
   ]
  },
  {
   "cell_type": "code",
   "execution_count": 145,
   "id": "5af7fc13",
   "metadata": {},
   "outputs": [
    {
     "name": "stderr",
     "output_type": "stream",
     "text": [
      "No model was supplied, defaulted to distilbert-base-uncased-finetuned-sst-2-english and revision af0f99b (https://huggingface.co/distilbert-base-uncased-finetuned-sst-2-english).\n",
      "Using a pipeline without specifying a model name and revision in production is not recommended.\n",
      "Some layers from the model checkpoint at distilbert-base-uncased-finetuned-sst-2-english were not used when initializing TFDistilBertForSequenceClassification: ['dropout_19']\n",
      "- This IS expected if you are initializing TFDistilBertForSequenceClassification from the checkpoint of a model trained on another task or with another architecture (e.g. initializing a BertForSequenceClassification model from a BertForPreTraining model).\n",
      "- This IS NOT expected if you are initializing TFDistilBertForSequenceClassification from the checkpoint of a model that you expect to be exactly identical (initializing a BertForSequenceClassification model from a BertForSequenceClassification model).\n",
      "Some layers of TFDistilBertForSequenceClassification were not initialized from the model checkpoint at distilbert-base-uncased-finetuned-sst-2-english and are newly initialized: ['dropout_379']\n",
      "You should probably TRAIN this model on a down-stream task to be able to use it for predictions and inference.\n"
     ]
    },
    {
     "name": "stdout",
     "output_type": "stream",
     "text": [
      "Number of positive type of reviews:  14\n",
      "Number of negative type of reviews:  14\n",
      "Total number of types of reviews given:  28\n"
     ]
    }
   ],
   "source": [
    "week_05_2023_lst = week_05_2023['Any_IDEA_or_Suggestions_for_Yoshops_Startup '].value_counts().keys().to_list()\n",
    "from transformers import pipeline\n",
    "pos_week_05_2023 = []\n",
    "neg_week_05_2023 = []\n",
    "sentiment_pipeline = pipeline(\"sentiment-analysis\")\n",
    "for i in  week_05_2023_lst:\n",
    "    data = i\n",
    "    #print(i,\"    \",sentiment_pipeline(data))\n",
    "    if sentiment_pipeline(data)[0]['label'] == 'POSITIVE':\n",
    "        pos_week_05_2023.append(i)\n",
    "    else:\n",
    "        neg_week_05_2023.append(i)\n",
    "print(\"Number of positive type of reviews: \", len(pos_week_05_2023))\n",
    "print(\"Number of negative type of reviews: \", len(neg_week_05_2023))\n",
    "print(\"Total number of types of reviews given: \", len(week_05_2023_lst)) "
   ]
  },
  {
   "cell_type": "markdown",
   "id": "560e8340",
   "metadata": {},
   "source": [
    "#### Week 6 of 2023"
   ]
  },
  {
   "cell_type": "code",
   "execution_count": 146,
   "id": "dbb20a8a",
   "metadata": {},
   "outputs": [
    {
     "name": "stderr",
     "output_type": "stream",
     "text": [
      "No model was supplied, defaulted to distilbert-base-uncased-finetuned-sst-2-english and revision af0f99b (https://huggingface.co/distilbert-base-uncased-finetuned-sst-2-english).\n",
      "Using a pipeline without specifying a model name and revision in production is not recommended.\n",
      "Some layers from the model checkpoint at distilbert-base-uncased-finetuned-sst-2-english were not used when initializing TFDistilBertForSequenceClassification: ['dropout_19']\n",
      "- This IS expected if you are initializing TFDistilBertForSequenceClassification from the checkpoint of a model trained on another task or with another architecture (e.g. initializing a BertForSequenceClassification model from a BertForPreTraining model).\n",
      "- This IS NOT expected if you are initializing TFDistilBertForSequenceClassification from the checkpoint of a model that you expect to be exactly identical (initializing a BertForSequenceClassification model from a BertForSequenceClassification model).\n",
      "Some layers of TFDistilBertForSequenceClassification were not initialized from the model checkpoint at distilbert-base-uncased-finetuned-sst-2-english and are newly initialized: ['dropout_399']\n",
      "You should probably TRAIN this model on a down-stream task to be able to use it for predictions and inference.\n"
     ]
    },
    {
     "name": "stdout",
     "output_type": "stream",
     "text": [
      "Number of positive type of reviews:  30\n",
      "Number of negative type of reviews:  23\n",
      "Total number of types of reviews given:  53\n"
     ]
    }
   ],
   "source": [
    "week_06_2023_lst = week_06_2023['Any_IDEA_or_Suggestions_for_Yoshops_Startup '].value_counts().keys().to_list()\n",
    "from transformers import pipeline\n",
    "pos_week_06_2023 = []\n",
    "neg_week_06_2023 = []\n",
    "sentiment_pipeline = pipeline(\"sentiment-analysis\")\n",
    "for i in  week_06_2023_lst:\n",
    "    data = i\n",
    "    #print(i,\"    \",sentiment_pipeline(data))\n",
    "    if sentiment_pipeline(data)[0]['label'] == 'POSITIVE':\n",
    "        pos_week_06_2023.append(i)\n",
    "    else:\n",
    "        neg_week_06_2023.append(i)\n",
    "print(\"Number of positive type of reviews: \", len(pos_week_06_2023))\n",
    "print(\"Number of negative type of reviews: \", len(neg_week_06_2023))\n",
    "print(\"Total number of types of reviews given: \", len(week_06_2023_lst)) "
   ]
  },
  {
   "cell_type": "markdown",
   "id": "dc894d37",
   "metadata": {},
   "source": [
    "#### Week 7 of 2023"
   ]
  },
  {
   "cell_type": "code",
   "execution_count": 147,
   "id": "453f65a9",
   "metadata": {},
   "outputs": [
    {
     "name": "stderr",
     "output_type": "stream",
     "text": [
      "No model was supplied, defaulted to distilbert-base-uncased-finetuned-sst-2-english and revision af0f99b (https://huggingface.co/distilbert-base-uncased-finetuned-sst-2-english).\n",
      "Using a pipeline without specifying a model name and revision in production is not recommended.\n",
      "Some layers from the model checkpoint at distilbert-base-uncased-finetuned-sst-2-english were not used when initializing TFDistilBertForSequenceClassification: ['dropout_19']\n",
      "- This IS expected if you are initializing TFDistilBertForSequenceClassification from the checkpoint of a model trained on another task or with another architecture (e.g. initializing a BertForSequenceClassification model from a BertForPreTraining model).\n",
      "- This IS NOT expected if you are initializing TFDistilBertForSequenceClassification from the checkpoint of a model that you expect to be exactly identical (initializing a BertForSequenceClassification model from a BertForSequenceClassification model).\n",
      "Some layers of TFDistilBertForSequenceClassification were not initialized from the model checkpoint at distilbert-base-uncased-finetuned-sst-2-english and are newly initialized: ['dropout_419']\n",
      "You should probably TRAIN this model on a down-stream task to be able to use it for predictions and inference.\n"
     ]
    },
    {
     "name": "stdout",
     "output_type": "stream",
     "text": [
      "Number of positive type of reviews:  42\n",
      "Number of negative type of reviews:  36\n",
      "Total number of types of reviews given:  78\n"
     ]
    }
   ],
   "source": [
    "week_07_2023_lst = week_07_2023['Any_IDEA_or_Suggestions_for_Yoshops_Startup '].value_counts().keys().to_list()\n",
    "from transformers import pipeline\n",
    "pos_week_07_2023 = []\n",
    "neg_week_07_2023 = []\n",
    "sentiment_pipeline = pipeline(\"sentiment-analysis\")\n",
    "for i in  week_07_2023_lst:\n",
    "    data = i\n",
    "    #print(i,\"    \",sentiment_pipeline(data))\n",
    "    if sentiment_pipeline(data)[0]['label'] == 'POSITIVE':\n",
    "        pos_week_07_2023.append(i)\n",
    "    else:\n",
    "        neg_week_07_2023.append(i)\n",
    "print(\"Number of positive type of reviews: \", len(pos_week_07_2023))\n",
    "print(\"Number of negative type of reviews: \", len(neg_week_07_2023))\n",
    "print(\"Total number of types of reviews given: \", len(week_07_2023_lst)) "
   ]
  },
  {
   "cell_type": "markdown",
   "id": "8fc697d1",
   "metadata": {},
   "source": [
    "#### Week 8 of 2023"
   ]
  },
  {
   "cell_type": "code",
   "execution_count": 148,
   "id": "a243c831",
   "metadata": {},
   "outputs": [
    {
     "name": "stderr",
     "output_type": "stream",
     "text": [
      "No model was supplied, defaulted to distilbert-base-uncased-finetuned-sst-2-english and revision af0f99b (https://huggingface.co/distilbert-base-uncased-finetuned-sst-2-english).\n",
      "Using a pipeline without specifying a model name and revision in production is not recommended.\n",
      "Some layers from the model checkpoint at distilbert-base-uncased-finetuned-sst-2-english were not used when initializing TFDistilBertForSequenceClassification: ['dropout_19']\n",
      "- This IS expected if you are initializing TFDistilBertForSequenceClassification from the checkpoint of a model trained on another task or with another architecture (e.g. initializing a BertForSequenceClassification model from a BertForPreTraining model).\n",
      "- This IS NOT expected if you are initializing TFDistilBertForSequenceClassification from the checkpoint of a model that you expect to be exactly identical (initializing a BertForSequenceClassification model from a BertForSequenceClassification model).\n",
      "Some layers of TFDistilBertForSequenceClassification were not initialized from the model checkpoint at distilbert-base-uncased-finetuned-sst-2-english and are newly initialized: ['dropout_439']\n",
      "You should probably TRAIN this model on a down-stream task to be able to use it for predictions and inference.\n"
     ]
    },
    {
     "name": "stdout",
     "output_type": "stream",
     "text": [
      "Number of positive type of reviews:  0\n",
      "Number of negative type of reviews:  1\n",
      "Total number of types of reviews given:  1\n"
     ]
    }
   ],
   "source": [
    "week_08_2023_lst = week_08_2023['Any_IDEA_or_Suggestions_for_Yoshops_Startup '].value_counts().keys().to_list()\n",
    "from transformers import pipeline\n",
    "pos_week_08_2023 = []\n",
    "neg_week_08_2023 = []\n",
    "sentiment_pipeline = pipeline(\"sentiment-analysis\")\n",
    "for i in  week_08_2023_lst:\n",
    "    data = i\n",
    "    #print(i,\"    \",sentiment_pipeline(data))\n",
    "    if sentiment_pipeline(data)[0]['label'] == 'POSITIVE':\n",
    "        pos_week_08_2023.append(i)\n",
    "    else:\n",
    "        neg_week_08_2023.append(i)\n",
    "print(\"Number of positive type of reviews: \", len(pos_week_08_2023))\n",
    "print(\"Number of negative type of reviews: \", len(neg_week_08_2023))\n",
    "print(\"Total number of types of reviews given: \", len(week_08_2023_lst))"
   ]
  },
  {
   "cell_type": "markdown",
   "id": "dd37d29d",
   "metadata": {},
   "source": [
    "### Week V/S Location(City_Name)"
   ]
  },
  {
   "cell_type": "code",
   "execution_count": 149,
   "id": "072968d6",
   "metadata": {},
   "outputs": [
    {
     "data": {
      "text/plain": [
       "No answer    16\n",
       "Name: Location_City_Name, dtype: int64"
      ]
     },
     "execution_count": 149,
     "metadata": {},
     "output_type": "execute_result"
    }
   ],
   "source": [
    "week_47_2022['Location_City_Name'].value_counts()"
   ]
  },
  {
   "cell_type": "code",
   "execution_count": 150,
   "id": "1b0da26c",
   "metadata": {},
   "outputs": [
    {
     "data": {
      "text/plain": [
       "No answer             51\n",
       "Kanpur                 3\n",
       "Pune                   2\n",
       "Kannur Kerala          1\n",
       "Ghaziabad              1\n",
       "Shalimar, Srinagar     1\n",
       "Varanasi               1\n",
       "Mau                    1\n",
       "Name: Location_City_Name, dtype: int64"
      ]
     },
     "execution_count": 150,
     "metadata": {},
     "output_type": "execute_result"
    }
   ],
   "source": [
    "week_48_2022['Location_City_Name'].value_counts()"
   ]
  },
  {
   "cell_type": "code",
   "execution_count": 151,
   "id": "f2513b3a",
   "metadata": {},
   "outputs": [
    {
     "data": {
      "text/plain": [
       "Pune                  15\n",
       "Hyderabad             12\n",
       "Mumbai                 9\n",
       "Madurai                7\n",
       "Indore                 6\n",
       "                      ..\n",
       "Jodhpur                1\n",
       "Motihari               1\n",
       "pune                   1\n",
       "Madhubani              1\n",
       "Mumbai,Maharashtra     1\n",
       "Name: Location_City_Name, Length: 101, dtype: int64"
      ]
     },
     "execution_count": 151,
     "metadata": {},
     "output_type": "execute_result"
    }
   ],
   "source": [
    "week_49_2022['Location_City_Name'].value_counts()"
   ]
  },
  {
   "cell_type": "code",
   "execution_count": 152,
   "id": "c50ecace",
   "metadata": {},
   "outputs": [
    {
     "data": {
      "text/plain": [
       "Mumbai                        19\n",
       "Delhi                         17\n",
       "Pune                          13\n",
       "Thrissur                      11\n",
       "Kerala                        10\n",
       "                              ..\n",
       "Sbh colony,nagunoor            1\n",
       "Navodaya colony kukatpally     1\n",
       "Choppandandi karimnagar        1\n",
       "Kolkata                        1\n",
       "Morena                         1\n",
       "Name: Location_City_Name, Length: 180, dtype: int64"
      ]
     },
     "execution_count": 152,
     "metadata": {},
     "output_type": "execute_result"
    }
   ],
   "source": [
    "week_50_2022['Location_City_Name'].value_counts()"
   ]
  },
  {
   "cell_type": "code",
   "execution_count": 153,
   "id": "9f197c5d",
   "metadata": {
    "scrolled": true
   },
   "outputs": [
    {
     "data": {
      "text/plain": [
       "Hyderabad                                                                    6\n",
       "Mumbai                                                                       5\n",
       "Delhi                                                                        4\n",
       "Bareilly                                                                     4\n",
       "Pune                                                                         3\n",
       "Odisha                                                                       3\n",
       "Chennai                                                                      3\n",
       "India                                                                        2\n",
       "Kolkata                                                                      2\n",
       "Thane                                                                        2\n",
       "Banglore                                                                     2\n",
       "Varanasi                                                                     2\n",
       "Bangalore                                                                    2\n",
       "Allahbad                                                                     1\n",
       "Goa,Maharashtra                                                              1\n",
       "Pune,Maharashtra                                                             1\n",
       "Kanpur                                                                       1\n",
       "Erode                                                                        1\n",
       "MANDSAUR                                                                     1\n",
       "Gwalior                                                                      1\n",
       "Lucknow                                                                      1\n",
       "Ghaziabad                                                                    1\n",
       "Gujurat                                                                      1\n",
       "jalgaon                                                                      1\n",
       "Shalimar garden, sahibabad ghaziabad, Extension 2 , near shivain Hospital    1\n",
       "meerut (up) 250404                                                           1\n",
       "Banaras                                                                      1\n",
       "Goregaon, Mumbai                                                             1\n",
       "Jaipur                                                                       1\n",
       "Kanyakumari                                                                  1\n",
       "Karaikal, Tamilnadu                                                          1\n",
       "Karimnagar                                                                   1\n",
       "Ahmedabad                                                                    1\n",
       "India, Gwalior                                                               1\n",
       "Karaikudi                                                                    1\n",
       "Ramanathapuram                                                               1\n",
       "Mandsaur                                                                     1\n",
       "Bhopal                                                                       1\n",
       "Namakkal                                                                     1\n",
       "Bhagalpur, Bihar                                                             1\n",
       "Coimbatore                                                                   1\n",
       "Anpara                                                                       1\n",
       "INDORE                                                                       1\n",
       "Thirunelveli                                                                 1\n",
       "Ghaziadabad                                                                  1\n",
       "Name: Location_City_Name, dtype: int64"
      ]
     },
     "execution_count": 153,
     "metadata": {},
     "output_type": "execute_result"
    }
   ],
   "source": [
    "week_51_2022['Location_City_Name'].value_counts()"
   ]
  },
  {
   "cell_type": "code",
   "execution_count": 154,
   "id": "92e56d2c",
   "metadata": {},
   "outputs": [
    {
     "data": {
      "text/plain": [
       "KOLKATA                      25\n",
       "Bangalore                    16\n",
       "Pune                          6\n",
       "Hyderabad                     6\n",
       "Mumbai                        5\n",
       "                             ..\n",
       "Chinchwad,Pune                1\n",
       "Chinchwad Pune                1\n",
       "Hatkanangale                  1\n",
       "Hatkananagale                 1\n",
       "Murshidabad , West bengal     1\n",
       "Name: Location_City_Name, Length: 85, dtype: int64"
      ]
     },
     "execution_count": 154,
     "metadata": {},
     "output_type": "execute_result"
    }
   ],
   "source": [
    "week_52_2022['Location_City_Name'].value_counts()"
   ]
  },
  {
   "cell_type": "code",
   "execution_count": 155,
   "id": "3c6aaa63",
   "metadata": {
    "scrolled": true
   },
   "outputs": [
    {
     "data": {
      "text/plain": [
       "KOLKATA                              12\n",
       "Kolkata                               3\n",
       "Sangli                                3\n",
       "Kochi                                 2\n",
       "Pune                                  2\n",
       "Aluva                                 2\n",
       "Mumbai                                2\n",
       "Thane                                 2\n",
       "Delhi                                 2\n",
       "Madurai                               2\n",
       "GURDASPUR                             1\n",
       "Rishta, West Bengal                   1\n",
       "Patna                                 1\n",
       "aurangabad                            1\n",
       "Hyderabad,Telengana                   1\n",
       "London                                1\n",
       "Siliguri                              1\n",
       "Kolkata, West Bengal, India           1\n",
       "Hyd  india                            1\n",
       "Sreemoolanagaram                      1\n",
       "Hyderabad                             1\n",
       "Pune, Maharashtra                     1\n",
       "IND,HYD                               1\n",
       "Padrauna Kushinagar Uttar Pradesh     1\n",
       "Ichalkaranji                          1\n",
       "Kolhapur                              1\n",
       "Nagpur                                1\n",
       "Bangalore                             1\n",
       "Bihar                                 1\n",
       "Guntur                                1\n",
       "Nanded                                1\n",
       "Agra                                  1\n",
       "Dhule                                 1\n",
       "Chennai                               1\n",
       "Chinchwad Pune                        1\n",
       "Aluva kochi                           1\n",
       "delhi                                 1\n",
       "Name: Location_City_Name, dtype: int64"
      ]
     },
     "execution_count": 155,
     "metadata": {},
     "output_type": "execute_result"
    }
   ],
   "source": [
    "week_01_2023['Location_City_Name'].value_counts()"
   ]
  },
  {
   "cell_type": "code",
   "execution_count": 156,
   "id": "7e8e1c19",
   "metadata": {
    "scrolled": true
   },
   "outputs": [
    {
     "data": {
      "text/plain": [
       "Hyderabad                   6\n",
       "Chennai                     5\n",
       "Pune                        3\n",
       "Meerut                      3\n",
       "Noida                       3\n",
       "Aligarh                     2\n",
       "Nayathode,Angamaly          2\n",
       "Angamaly                    2\n",
       "Palakkad                    2\n",
       "Ernakulam                   2\n",
       "Kottayam                    2\n",
       "Angamaly, Kerala            2\n",
       "Sasaram                     2\n",
       "Salem                       2\n",
       "Delhi                       1\n",
       "Patna                       1\n",
       "Mandi                       1\n",
       "Bangalore                   1\n",
       "Kochi                       1\n",
       "Karnataka, banglore         1\n",
       "Nayathode, Angamaly         1\n",
       "Nizamabad                   1\n",
       "Ara                         1\n",
       "rapiur                      1\n",
       "Andhra                      1\n",
       "West Bengal                 1\n",
       "Pochammawada jagtial        1\n",
       "Athapur, Hyderabad          1\n",
       "New Delhi                   1\n",
       "Malappuram                  1\n",
       "Nashik, Maharashtra         1\n",
       "Anantapur                   1\n",
       "Sarona tatiband             1\n",
       "Kollam                      1\n",
       "Raichur                     1\n",
       "GEORAI                      1\n",
       "Chandigarh                  1\n",
       "bengaluru                   1\n",
       "Thiruvalla, Kerala          1\n",
       "kurnool                     1\n",
       "Gorakhpur                   1\n",
       "HYDERABAD                   1\n",
       "Birbhum                     1\n",
       "Dhone kurnool dist          1\n",
       "Nizamabad, varni            1\n",
       "VARNI NIZAMABAD             1\n",
       "Gachibowli,Hyderabad        1\n",
       "Bengaluru                   1\n",
       "Nagpur                      1\n",
       "Gurgaon                     1\n",
       "Calicut                     1\n",
       "Agra                        1\n",
       "allahaganj, Shahjahanpur    1\n",
       "Chegannur,  Alapuzha        1\n",
       "Mandya                      1\n",
       "Uae                         1\n",
       "Kannur                      1\n",
       "Name: Location_City_Name, dtype: int64"
      ]
     },
     "execution_count": 156,
     "metadata": {},
     "output_type": "execute_result"
    }
   ],
   "source": [
    "week_02_2023['Location_City_Name'].value_counts()"
   ]
  },
  {
   "cell_type": "code",
   "execution_count": 157,
   "id": "15e9b7cc",
   "metadata": {
    "scrolled": true
   },
   "outputs": [
    {
     "data": {
      "text/plain": [
       "Gorakhpur                          4\n",
       "Ghaziabad                          4\n",
       "Hyderabad                          3\n",
       "Bangalore                          2\n",
       "Ahmedabad                          2\n",
       "Delhi                              2\n",
       "Ludhiana                           1\n",
       "Nagpur                             1\n",
       "Pratap Nagar, Jaipur               1\n",
       "Mathura, uttar pradesh             1\n",
       "Kolkata                            1\n",
       "Kolkata, West Bengal               1\n",
       "Mumbai                             1\n",
       "Ban Sagar colony rewa mp           1\n",
       "Pune                               1\n",
       "bagle ki pache                     1\n",
       "Chandigarh                         1\n",
       "Kerala                             1\n",
       "Ernakulam, Kerala                  1\n",
       "Ernakulam,Kerala                   1\n",
       "Lucknow                            1\n",
       "Dhone                              1\n",
       "Bokaro Steel City                  1\n",
       "GORAKHPUR                          1\n",
       "Bhusawal                           1\n",
       "HYDERABAD                          1\n",
       "Guntakal                           1\n",
       "Kurnool                            1\n",
       "Beeramguda, Hyderabad              1\n",
       "Chinthalakutha                     1\n",
       "Vanastalipuram hyderabad           1\n",
       "Saroornagar                        1\n",
       "Meerur                             1\n",
       "Meerut                             1\n",
       "Tirupati                           1\n",
       "Basudebpur,Bhadrak                 1\n",
       "BAGHAJATIN, KOLKATA                1\n",
       "Andhrapradesh                      1\n",
       "sahibabad,ghaziabad                1\n",
       "chennai,padur                      1\n",
       "Noida                              1\n",
       "Rajarajeshwari Nagar, Bangalore    1\n",
       "Sambhaji nagar Pune Maharashtra    1\n",
       "Name: Location_City_Name, dtype: int64"
      ]
     },
     "execution_count": 157,
     "metadata": {},
     "output_type": "execute_result"
    }
   ],
   "source": [
    "week_03_2023['Location_City_Name'].value_counts()"
   ]
  },
  {
   "cell_type": "code",
   "execution_count": 158,
   "id": "eb4006c2",
   "metadata": {},
   "outputs": [
    {
     "data": {
      "text/plain": [
       "Mumbai                           24\n",
       "Aligarh                           7\n",
       "Hyderabad                         6\n",
       "Jaunpur                           5\n",
       "Bhopal                            3\n",
       "                                 ..\n",
       "Aljn                              1\n",
       "Keramat, Kuala Lumpur             1\n",
       "Kukatpally, Hyderabad             1\n",
       "Aligarh, Uttar Pradesh, India     1\n",
       "Thane                             1\n",
       "Name: Location_City_Name, Length: 61, dtype: int64"
      ]
     },
     "execution_count": 158,
     "metadata": {},
     "output_type": "execute_result"
    }
   ],
   "source": [
    "week_04_2023['Location_City_Name'].value_counts()"
   ]
  },
  {
   "cell_type": "code",
   "execution_count": 159,
   "id": "2351bcf1",
   "metadata": {
    "scrolled": true
   },
   "outputs": [
    {
     "data": {
      "text/plain": [
       "Rohini                                                   1\n",
       "Delhi                                                    1\n",
       "Pune                                                     1\n",
       "Nashik                                                   1\n",
       "nashik                                                   1\n",
       "Andhra Pradesh India srikakulam hudco colony             1\n",
       "Andhra Pradesh India srikakulam PM colony                1\n",
       "Andhra Pradesh India srikakulam kattira street           1\n",
       "Andhra Pradesh India srikakulam gajula veedhi            1\n",
       "Andhra Pradesh India srikakulam peddapadu                1\n",
       "Andhra Pradesh India srikakulam 7 road junction          1\n",
       "Andhra Pradesh India srikakulam chinna relli veedhi      1\n",
       "Andhra Pradesh India srikakulam pedda relli veedhi       1\n",
       "Andhra Pradesh India srikakulam chinna mandala veedhi    1\n",
       "Andhra Pradesh India srikakulam                          1\n",
       "Andhra Pradesh India srikakulam DCCB colony              1\n",
       "Andhra Pradesh India srikakulam indra nagar colony       1\n",
       "Andhra Pradesh, srikakulam                               1\n",
       "Vijayawada, Vijayawada                                   1\n",
       "Vishakapatnam, waltair                                   1\n",
       "Srikakulam, srikakulam                                   1\n",
       "Nagpur                                                   1\n",
       "Gurgaon                                                  1\n",
       "Bhopal                                                   1\n",
       "noida                                                    1\n",
       "Maharashtra, mumbai                                      1\n",
       "Jalandhar                                                1\n",
       "Delhi India                                              1\n",
       "Greater Noida                                            1\n",
       "Aurangabad                                               1\n",
       "Name: Location_City_Name, dtype: int64"
      ]
     },
     "execution_count": 159,
     "metadata": {},
     "output_type": "execute_result"
    }
   ],
   "source": [
    "week_05_2023['Location_City_Name'].value_counts()"
   ]
  },
  {
   "cell_type": "code",
   "execution_count": 160,
   "id": "36c94975",
   "metadata": {
    "scrolled": true
   },
   "outputs": [
    {
     "data": {
      "text/plain": [
       "Delhi                                  11\n",
       "Aurangabad                              9\n",
       "Mumbai                                  4\n",
       "Ghaziabad                               3\n",
       "New delhi                               3\n",
       "Siliguri                                3\n",
       "Punjab                                  2\n",
       "Kolkata                                 2\n",
       "Chennai                                 2\n",
       "New Delhi                               2\n",
       "Munbai                                  2\n",
       "delhi                                   2\n",
       "Paschim Medinipur                       1\n",
       "Brahmandanga,kaity,purba bardhaman      1\n",
       "Bardhaman                               1\n",
       "University of NorthBengal, Siliguri     1\n",
       "new delhi                               1\n",
       "Amchi MUMBAI                            1\n",
       "Bilaspur                                1\n",
       "Usisoaohhh                              1\n",
       "Haldia                                  1\n",
       "Patna                                   1\n",
       "Bangalore                               1\n",
       "Dinhata                                 1\n",
       "Kalchini                                1\n",
       "kashmir                                 1\n",
       "Howrah                                  1\n",
       "SILIGURI                                1\n",
       "Noida                                   1\n",
       "Birbhum                                 1\n",
       "Bankura                                 1\n",
       "ny                                      1\n",
       "Gurugram                                1\n",
       "Mathura                                 1\n",
       "mumbai                                  1\n",
       "goa                                     1\n",
       "mirzapur                                1\n",
       "calangute                               1\n",
       "MUMBAI CITY                             1\n",
       "Bangalore, karnatka                     1\n",
       "Delhu                                   1\n",
       "Nashik                                  1\n",
       "Valsad, Gujarat                         1\n",
       "Rajasthan, Jaipur                       1\n",
       "kolkata                                 1\n",
       "Nagpur                                  1\n",
       "Lokhandwala                             1\n",
       "Bhiwani                                 1\n",
       "Jamshedpur                              1\n",
       "khjgg                                   1\n",
       "afgg                                    1\n",
       "Hisar                                   1\n",
       "Guntur                                  1\n",
       "Kakinada                                1\n",
       "Visakhapatnam,kommadi                   1\n",
       "panjim                                  1\n",
       "Anand vihar                             1\n",
       "Indore                                  1\n",
       "ajmer                                   1\n",
       "Maldah                                  1\n",
       "Name: Location_City_Name, dtype: int64"
      ]
     },
     "execution_count": 160,
     "metadata": {},
     "output_type": "execute_result"
    }
   ],
   "source": [
    "week_06_2023['Location_City_Name'].value_counts()"
   ]
  },
  {
   "cell_type": "code",
   "execution_count": 161,
   "id": "411bab42",
   "metadata": {},
   "outputs": [
    {
     "data": {
      "text/plain": [
       "Hyderabad                 20\n",
       "Rajahmundry               14\n",
       "Coimbatore                11\n",
       "Solapur                   10\n",
       "Chennai                    9\n",
       "                          ..\n",
       "Yusafguda, Hyderabad       1\n",
       "Hadapsar                   1\n",
       "BANGLORE,                  1\n",
       "Coimbatore, Tamil Nadu     1\n",
       "Bengaluru                  1\n",
       "Name: Location_City_Name, Length: 95, dtype: int64"
      ]
     },
     "execution_count": 161,
     "metadata": {},
     "output_type": "execute_result"
    }
   ],
   "source": [
    "week_07_2023['Location_City_Name'].value_counts()"
   ]
  },
  {
   "cell_type": "code",
   "execution_count": 162,
   "id": "9876c4be",
   "metadata": {},
   "outputs": [
    {
     "data": {
      "text/plain": [
       "Warangal     1\n",
       "Gorakhpur    1\n",
       "Name: Location_City_Name, dtype: int64"
      ]
     },
     "execution_count": 162,
     "metadata": {},
     "output_type": "execute_result"
    }
   ],
   "source": [
    "week_08_2023['Location_City_Name'].value_counts()"
   ]
  },
  {
   "cell_type": "code",
   "execution_count": null,
   "id": "81ac416d",
   "metadata": {},
   "outputs": [],
   "source": []
  },
  {
   "cell_type": "code",
   "execution_count": null,
   "id": "52a7d523",
   "metadata": {},
   "outputs": [],
   "source": []
  }
 ],
 "metadata": {
  "kernelspec": {
   "display_name": "Python 3 (ipykernel)",
   "language": "python",
   "name": "python3"
  },
  "language_info": {
   "codemirror_mode": {
    "name": "ipython",
    "version": 3
   },
   "file_extension": ".py",
   "mimetype": "text/x-python",
   "name": "python",
   "nbconvert_exporter": "python",
   "pygments_lexer": "ipython3",
   "version": "3.9.13"
  }
 },
 "nbformat": 4,
 "nbformat_minor": 5
}
