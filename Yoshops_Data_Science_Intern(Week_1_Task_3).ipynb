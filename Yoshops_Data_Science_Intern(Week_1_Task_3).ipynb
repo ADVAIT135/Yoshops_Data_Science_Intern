{
 "cells": [
  {
   "cell_type": "markdown",
   "id": "2652eac6",
   "metadata": {},
   "source": [
    "## Yoshops Data Science Internship\n",
    "## Week 1 Task 3 : Python Program for formatting Data in Excel Sheet\n",
    "\n",
    "## <u>Name</u> : ADVAIT GURUNATH CHAVAN\n",
    "## <u>Email</u> : advaitchavan135@gmail.com , advaitchavan.yoshops@gmail.com\n",
    "## <u>Contact No</u> : +91 70214 55852\n"
   ]
  },
  {
   "cell_type": "markdown",
   "id": "12dc7dcd",
   "metadata": {},
   "source": [
    "#### Importing the necessary dependencies"
   ]
  },
  {
   "cell_type": "code",
   "execution_count": 1,
   "id": "c043e278",
   "metadata": {},
   "outputs": [],
   "source": [
    "import xlsxwriter as xl\n",
    "import pandas as pd"
   ]
  },
  {
   "cell_type": "markdown",
   "id": "ef7ad75a",
   "metadata": {},
   "source": [
    "#### Creating a new excel workbook using the 'Workbook' function of the xlsxwriter module"
   ]
  },
  {
   "cell_type": "code",
   "execution_count": 2,
   "id": "15b08168",
   "metadata": {},
   "outputs": [],
   "source": [
    "excel_book = xl.Workbook('Yoshops_Data_Science_Intern_Week_1_Task_3_Before.xlsx')"
   ]
  },
  {
   "cell_type": "markdown",
   "id": "68a77520",
   "metadata": {},
   "source": [
    "#### Using the 'add_worksheet' function so as to create a new sheet in the workbook created above"
   ]
  },
  {
   "cell_type": "code",
   "execution_count": 3,
   "id": "0cac8e2e",
   "metadata": {},
   "outputs": [],
   "source": [
    "excel_sheet = excel_book.add_worksheet()"
   ]
  },
  {
   "cell_type": "markdown",
   "id": "f2d2f571",
   "metadata": {},
   "source": [
    "#### Using the 'write' function so as to fill the created excel sheet with values based on the cell number"
   ]
  },
  {
   "cell_type": "code",
   "execution_count": 4,
   "id": "66eb262d",
   "metadata": {},
   "outputs": [
    {
     "data": {
      "text/plain": [
       "0"
      ]
     },
     "execution_count": 4,
     "metadata": {},
     "output_type": "execute_result"
    }
   ],
   "source": [
    "excel_sheet.write('A1','Variable')\n",
    "excel_sheet.write('B1','Value')\n",
    "excel_sheet.write('A2','Name: ')\n",
    "excel_sheet.write('B2','ADVAIT GURUNATH CHAVAN')\n",
    "excel_sheet.write('A3','Yoshops')\n",
    "excel_sheet.write('B3','Data Science Intern')\n",
    "excel_sheet.write('A4','Week: ')\n",
    "excel_sheet.write('B4','1')\n",
    "excel_sheet.write('A5','Task:')\n",
    "excel_sheet.write('B5','1')"
   ]
  },
  {
   "cell_type": "code",
   "execution_count": 5,
   "id": "9903f0c9",
   "metadata": {},
   "outputs": [
    {
     "data": {
      "text/plain": [
       "0"
      ]
     },
     "execution_count": 5,
     "metadata": {},
     "output_type": "execute_result"
    }
   ],
   "source": [
    "### Adding another sheet and inserting values to them\n",
    "excel_sheet_1 = excel_book.add_worksheet()\n",
    "excel_sheet_1.write('A1','Variable')\n",
    "excel_sheet_1.write('B1','Value')\n",
    "excel_sheet_1.write('A2','Name: ')\n",
    "excel_sheet_1.write('B2','ADVAIT GURUNATH CHAVAN')\n",
    "excel_sheet_1.write('A3','Yoshops')\n",
    "excel_sheet_1.write('B3','Data Science Intern')\n",
    "excel_sheet_1.write('A4','Week: ')\n",
    "excel_sheet_1.write('B4','1')\n",
    "excel_sheet_1.write('A5','Task:')\n",
    "excel_sheet_1.write('B5','1')"
   ]
  },
  {
   "cell_type": "code",
   "execution_count": 6,
   "id": "59fa5a2b",
   "metadata": {},
   "outputs": [],
   "source": [
    "excel_book.close()"
   ]
  },
  {
   "cell_type": "markdown",
   "id": "b9defc48",
   "metadata": {},
   "source": [
    "#### Using 'read_excel' function of pandas to view the first excel sheet created above"
   ]
  },
  {
   "cell_type": "code",
   "execution_count": 7,
   "id": "5987edb4",
   "metadata": {},
   "outputs": [],
   "source": [
    "excel_sheet_view = pd.read_excel('Yoshops_Data_Science_Intern_Week_1_Task_3_Before.xlsx',sheet_name=0)"
   ]
  },
  {
   "cell_type": "code",
   "execution_count": 8,
   "id": "e106547d",
   "metadata": {},
   "outputs": [
    {
     "data": {
      "text/html": [
       "<div>\n",
       "<style scoped>\n",
       "    .dataframe tbody tr th:only-of-type {\n",
       "        vertical-align: middle;\n",
       "    }\n",
       "\n",
       "    .dataframe tbody tr th {\n",
       "        vertical-align: top;\n",
       "    }\n",
       "\n",
       "    .dataframe thead th {\n",
       "        text-align: right;\n",
       "    }\n",
       "</style>\n",
       "<table border=\"1\" class=\"dataframe\">\n",
       "  <thead>\n",
       "    <tr style=\"text-align: right;\">\n",
       "      <th></th>\n",
       "      <th>Variable</th>\n",
       "      <th>Value</th>\n",
       "    </tr>\n",
       "  </thead>\n",
       "  <tbody>\n",
       "    <tr>\n",
       "      <th>0</th>\n",
       "      <td>Name:</td>\n",
       "      <td>ADVAIT GURUNATH CHAVAN</td>\n",
       "    </tr>\n",
       "    <tr>\n",
       "      <th>1</th>\n",
       "      <td>Yoshops</td>\n",
       "      <td>Data Science Intern</td>\n",
       "    </tr>\n",
       "    <tr>\n",
       "      <th>2</th>\n",
       "      <td>Week:</td>\n",
       "      <td>1</td>\n",
       "    </tr>\n",
       "    <tr>\n",
       "      <th>3</th>\n",
       "      <td>Task:</td>\n",
       "      <td>1</td>\n",
       "    </tr>\n",
       "  </tbody>\n",
       "</table>\n",
       "</div>"
      ],
      "text/plain": [
       "  Variable                   Value\n",
       "0   Name:   ADVAIT GURUNATH CHAVAN\n",
       "1  Yoshops     Data Science Intern\n",
       "2   Week:                        1\n",
       "3    Task:                       1"
      ]
     },
     "execution_count": 8,
     "metadata": {},
     "output_type": "execute_result"
    }
   ],
   "source": [
    "excel_sheet_view"
   ]
  },
  {
   "cell_type": "markdown",
   "id": "792c729d",
   "metadata": {},
   "source": [
    "#### Modifying the contents of the first excel sheet"
   ]
  },
  {
   "cell_type": "code",
   "execution_count": 9,
   "id": "c037b9e6",
   "metadata": {},
   "outputs": [
    {
     "data": {
      "text/plain": [
       "'1'"
      ]
     },
     "execution_count": 9,
     "metadata": {},
     "output_type": "execute_result"
    }
   ],
   "source": [
    "excel_sheet_view['Value'][3]"
   ]
  },
  {
   "cell_type": "code",
   "execution_count": 10,
   "id": "f5c44201",
   "metadata": {},
   "outputs": [],
   "source": [
    "excel_sheet_view['Value'][3] = '3'"
   ]
  },
  {
   "cell_type": "code",
   "execution_count": 11,
   "id": "2d8734ff",
   "metadata": {},
   "outputs": [
    {
     "data": {
      "text/plain": [
       "'3'"
      ]
     },
     "execution_count": 11,
     "metadata": {},
     "output_type": "execute_result"
    }
   ],
   "source": [
    "excel_sheet_view['Value'][3]"
   ]
  },
  {
   "cell_type": "markdown",
   "id": "a3614ea6",
   "metadata": {},
   "source": [
    "#### First Excel sheet after modifying/formatting the contents"
   ]
  },
  {
   "cell_type": "code",
   "execution_count": 12,
   "id": "65502887",
   "metadata": {},
   "outputs": [
    {
     "data": {
      "text/html": [
       "<div>\n",
       "<style scoped>\n",
       "    .dataframe tbody tr th:only-of-type {\n",
       "        vertical-align: middle;\n",
       "    }\n",
       "\n",
       "    .dataframe tbody tr th {\n",
       "        vertical-align: top;\n",
       "    }\n",
       "\n",
       "    .dataframe thead th {\n",
       "        text-align: right;\n",
       "    }\n",
       "</style>\n",
       "<table border=\"1\" class=\"dataframe\">\n",
       "  <thead>\n",
       "    <tr style=\"text-align: right;\">\n",
       "      <th></th>\n",
       "      <th>Variable</th>\n",
       "      <th>Value</th>\n",
       "    </tr>\n",
       "  </thead>\n",
       "  <tbody>\n",
       "    <tr>\n",
       "      <th>0</th>\n",
       "      <td>Name:</td>\n",
       "      <td>ADVAIT GURUNATH CHAVAN</td>\n",
       "    </tr>\n",
       "    <tr>\n",
       "      <th>1</th>\n",
       "      <td>Yoshops</td>\n",
       "      <td>Data Science Intern</td>\n",
       "    </tr>\n",
       "    <tr>\n",
       "      <th>2</th>\n",
       "      <td>Week:</td>\n",
       "      <td>1</td>\n",
       "    </tr>\n",
       "    <tr>\n",
       "      <th>3</th>\n",
       "      <td>Task:</td>\n",
       "      <td>3</td>\n",
       "    </tr>\n",
       "  </tbody>\n",
       "</table>\n",
       "</div>"
      ],
      "text/plain": [
       "  Variable                   Value\n",
       "0   Name:   ADVAIT GURUNATH CHAVAN\n",
       "1  Yoshops     Data Science Intern\n",
       "2   Week:                        1\n",
       "3    Task:                       3"
      ]
     },
     "execution_count": 12,
     "metadata": {},
     "output_type": "execute_result"
    }
   ],
   "source": [
    "excel_sheet_view"
   ]
  },
  {
   "cell_type": "markdown",
   "id": "99871e34",
   "metadata": {},
   "source": [
    "#### Using 'read_excel' function of pandas to view the second excel sheet created above"
   ]
  },
  {
   "cell_type": "code",
   "execution_count": 13,
   "id": "db4d74bf",
   "metadata": {},
   "outputs": [],
   "source": [
    "excel_sheet_view_2 = pd.read_excel('Yoshops_Data_Science_Intern_Week_1_Task_3_Before.xlsx',sheet_name=1)"
   ]
  },
  {
   "cell_type": "code",
   "execution_count": 14,
   "id": "ffa4965d",
   "metadata": {},
   "outputs": [
    {
     "data": {
      "text/html": [
       "<div>\n",
       "<style scoped>\n",
       "    .dataframe tbody tr th:only-of-type {\n",
       "        vertical-align: middle;\n",
       "    }\n",
       "\n",
       "    .dataframe tbody tr th {\n",
       "        vertical-align: top;\n",
       "    }\n",
       "\n",
       "    .dataframe thead th {\n",
       "        text-align: right;\n",
       "    }\n",
       "</style>\n",
       "<table border=\"1\" class=\"dataframe\">\n",
       "  <thead>\n",
       "    <tr style=\"text-align: right;\">\n",
       "      <th></th>\n",
       "      <th>Variable</th>\n",
       "      <th>Value</th>\n",
       "    </tr>\n",
       "  </thead>\n",
       "  <tbody>\n",
       "    <tr>\n",
       "      <th>0</th>\n",
       "      <td>Name:</td>\n",
       "      <td>ADVAIT GURUNATH CHAVAN</td>\n",
       "    </tr>\n",
       "    <tr>\n",
       "      <th>1</th>\n",
       "      <td>Yoshops</td>\n",
       "      <td>Data Science Intern</td>\n",
       "    </tr>\n",
       "    <tr>\n",
       "      <th>2</th>\n",
       "      <td>Week:</td>\n",
       "      <td>1</td>\n",
       "    </tr>\n",
       "    <tr>\n",
       "      <th>3</th>\n",
       "      <td>Task:</td>\n",
       "      <td>1</td>\n",
       "    </tr>\n",
       "  </tbody>\n",
       "</table>\n",
       "</div>"
      ],
      "text/plain": [
       "  Variable                   Value\n",
       "0   Name:   ADVAIT GURUNATH CHAVAN\n",
       "1  Yoshops     Data Science Intern\n",
       "2   Week:                        1\n",
       "3    Task:                       1"
      ]
     },
     "execution_count": 14,
     "metadata": {},
     "output_type": "execute_result"
    }
   ],
   "source": [
    "excel_sheet_view_2"
   ]
  },
  {
   "cell_type": "markdown",
   "id": "02c9aa18",
   "metadata": {},
   "source": [
    "#### Modifying the contents of the second excel sheet"
   ]
  },
  {
   "cell_type": "code",
   "execution_count": 15,
   "id": "0ccc9b8b",
   "metadata": {},
   "outputs": [
    {
     "data": {
      "text/plain": [
       "'1'"
      ]
     },
     "execution_count": 15,
     "metadata": {},
     "output_type": "execute_result"
    }
   ],
   "source": [
    "excel_sheet_view_2['Value'][3]"
   ]
  },
  {
   "cell_type": "code",
   "execution_count": 16,
   "id": "fae1ee38",
   "metadata": {},
   "outputs": [],
   "source": [
    "excel_sheet_view_2['Value'][3] = 'Three'"
   ]
  },
  {
   "cell_type": "code",
   "execution_count": 17,
   "id": "3f5488be",
   "metadata": {},
   "outputs": [
    {
     "data": {
      "text/plain": [
       "'Three'"
      ]
     },
     "execution_count": 17,
     "metadata": {},
     "output_type": "execute_result"
    }
   ],
   "source": [
    "excel_sheet_view_2['Value'][3]"
   ]
  },
  {
   "cell_type": "code",
   "execution_count": 18,
   "id": "2dfc6532",
   "metadata": {},
   "outputs": [
    {
     "data": {
      "text/html": [
       "<div>\n",
       "<style scoped>\n",
       "    .dataframe tbody tr th:only-of-type {\n",
       "        vertical-align: middle;\n",
       "    }\n",
       "\n",
       "    .dataframe tbody tr th {\n",
       "        vertical-align: top;\n",
       "    }\n",
       "\n",
       "    .dataframe thead th {\n",
       "        text-align: right;\n",
       "    }\n",
       "</style>\n",
       "<table border=\"1\" class=\"dataframe\">\n",
       "  <thead>\n",
       "    <tr style=\"text-align: right;\">\n",
       "      <th></th>\n",
       "      <th>Variable</th>\n",
       "      <th>Value</th>\n",
       "    </tr>\n",
       "  </thead>\n",
       "  <tbody>\n",
       "    <tr>\n",
       "      <th>0</th>\n",
       "      <td>Name:</td>\n",
       "      <td>ADVAIT GURUNATH CHAVAN</td>\n",
       "    </tr>\n",
       "    <tr>\n",
       "      <th>1</th>\n",
       "      <td>Yoshops</td>\n",
       "      <td>Data Science Intern</td>\n",
       "    </tr>\n",
       "    <tr>\n",
       "      <th>2</th>\n",
       "      <td>Week:</td>\n",
       "      <td>1</td>\n",
       "    </tr>\n",
       "    <tr>\n",
       "      <th>3</th>\n",
       "      <td>Task:</td>\n",
       "      <td>Three</td>\n",
       "    </tr>\n",
       "  </tbody>\n",
       "</table>\n",
       "</div>"
      ],
      "text/plain": [
       "  Variable                   Value\n",
       "0   Name:   ADVAIT GURUNATH CHAVAN\n",
       "1  Yoshops     Data Science Intern\n",
       "2   Week:                        1\n",
       "3    Task:                   Three"
      ]
     },
     "execution_count": 18,
     "metadata": {},
     "output_type": "execute_result"
    }
   ],
   "source": [
    "excel_sheet_view_2"
   ]
  },
  {
   "cell_type": "code",
   "execution_count": 19,
   "id": "aea78368",
   "metadata": {},
   "outputs": [
    {
     "data": {
      "text/plain": [
       "'Data Science Intern'"
      ]
     },
     "execution_count": 19,
     "metadata": {},
     "output_type": "execute_result"
    }
   ],
   "source": [
    "excel_sheet_view_2['Value'][1]"
   ]
  },
  {
   "cell_type": "code",
   "execution_count": 20,
   "id": "dd01d83d",
   "metadata": {},
   "outputs": [
    {
     "data": {
      "text/plain": [
       "'1'"
      ]
     },
     "execution_count": 20,
     "metadata": {},
     "output_type": "execute_result"
    }
   ],
   "source": [
    "excel_sheet_view_2['Value'][2]"
   ]
  },
  {
   "cell_type": "code",
   "execution_count": 21,
   "id": "11b42c35",
   "metadata": {},
   "outputs": [],
   "source": [
    "excel_sheet_view_2['Value'][3] = 'Three'"
   ]
  },
  {
   "cell_type": "code",
   "execution_count": 22,
   "id": "84576326",
   "metadata": {},
   "outputs": [
    {
     "data": {
      "text/plain": [
       "'Three'"
      ]
     },
     "execution_count": 22,
     "metadata": {},
     "output_type": "execute_result"
    }
   ],
   "source": [
    "excel_sheet_view_2['Value'][3]"
   ]
  },
  {
   "cell_type": "code",
   "execution_count": 23,
   "id": "a25979c2",
   "metadata": {},
   "outputs": [],
   "source": [
    "excel_sheet_view_2['Value'][2] = 'One'"
   ]
  },
  {
   "cell_type": "code",
   "execution_count": 24,
   "id": "1c5331a0",
   "metadata": {},
   "outputs": [
    {
     "data": {
      "text/plain": [
       "'One'"
      ]
     },
     "execution_count": 24,
     "metadata": {},
     "output_type": "execute_result"
    }
   ],
   "source": [
    "excel_sheet_view_2['Value'][2]"
   ]
  },
  {
   "cell_type": "code",
   "execution_count": 25,
   "id": "e6b6d6be",
   "metadata": {},
   "outputs": [
    {
     "data": {
      "text/plain": [
       "'Three'"
      ]
     },
     "execution_count": 25,
     "metadata": {},
     "output_type": "execute_result"
    }
   ],
   "source": [
    "excel_sheet_view_2['Value'][3]"
   ]
  },
  {
   "cell_type": "code",
   "execution_count": 26,
   "id": "1c00aa2b",
   "metadata": {},
   "outputs": [
    {
     "data": {
      "text/html": [
       "<div>\n",
       "<style scoped>\n",
       "    .dataframe tbody tr th:only-of-type {\n",
       "        vertical-align: middle;\n",
       "    }\n",
       "\n",
       "    .dataframe tbody tr th {\n",
       "        vertical-align: top;\n",
       "    }\n",
       "\n",
       "    .dataframe thead th {\n",
       "        text-align: right;\n",
       "    }\n",
       "</style>\n",
       "<table border=\"1\" class=\"dataframe\">\n",
       "  <thead>\n",
       "    <tr style=\"text-align: right;\">\n",
       "      <th></th>\n",
       "      <th>Variable</th>\n",
       "      <th>Value</th>\n",
       "    </tr>\n",
       "  </thead>\n",
       "  <tbody>\n",
       "    <tr>\n",
       "      <th>0</th>\n",
       "      <td>Name:</td>\n",
       "      <td>ADVAIT GURUNATH CHAVAN</td>\n",
       "    </tr>\n",
       "    <tr>\n",
       "      <th>1</th>\n",
       "      <td>Yoshops</td>\n",
       "      <td>Data Science Intern</td>\n",
       "    </tr>\n",
       "    <tr>\n",
       "      <th>2</th>\n",
       "      <td>Week:</td>\n",
       "      <td>One</td>\n",
       "    </tr>\n",
       "    <tr>\n",
       "      <th>3</th>\n",
       "      <td>Task:</td>\n",
       "      <td>Three</td>\n",
       "    </tr>\n",
       "  </tbody>\n",
       "</table>\n",
       "</div>"
      ],
      "text/plain": [
       "  Variable                   Value\n",
       "0   Name:   ADVAIT GURUNATH CHAVAN\n",
       "1  Yoshops     Data Science Intern\n",
       "2   Week:                      One\n",
       "3    Task:                   Three"
      ]
     },
     "execution_count": 26,
     "metadata": {},
     "output_type": "execute_result"
    }
   ],
   "source": [
    "excel_sheet_view_2"
   ]
  },
  {
   "cell_type": "markdown",
   "id": "725b644e",
   "metadata": {},
   "source": [
    "#### Concating the updated and Formated Excel sheets/files"
   ]
  },
  {
   "cell_type": "code",
   "execution_count": 31,
   "id": "e7d4d985",
   "metadata": {},
   "outputs": [],
   "source": [
    "new_excel = pd.concat([excel_sheet_view,excel_sheet_view_2], axis=1)"
   ]
  },
  {
   "cell_type": "code",
   "execution_count": 32,
   "id": "ee480668",
   "metadata": {},
   "outputs": [
    {
     "data": {
      "text/html": [
       "<div>\n",
       "<style scoped>\n",
       "    .dataframe tbody tr th:only-of-type {\n",
       "        vertical-align: middle;\n",
       "    }\n",
       "\n",
       "    .dataframe tbody tr th {\n",
       "        vertical-align: top;\n",
       "    }\n",
       "\n",
       "    .dataframe thead th {\n",
       "        text-align: right;\n",
       "    }\n",
       "</style>\n",
       "<table border=\"1\" class=\"dataframe\">\n",
       "  <thead>\n",
       "    <tr style=\"text-align: right;\">\n",
       "      <th></th>\n",
       "      <th>Variable</th>\n",
       "      <th>Value</th>\n",
       "      <th>Variable</th>\n",
       "      <th>Value</th>\n",
       "    </tr>\n",
       "  </thead>\n",
       "  <tbody>\n",
       "    <tr>\n",
       "      <th>0</th>\n",
       "      <td>Name:</td>\n",
       "      <td>ADVAIT GURUNATH CHAVAN</td>\n",
       "      <td>Name:</td>\n",
       "      <td>ADVAIT GURUNATH CHAVAN</td>\n",
       "    </tr>\n",
       "    <tr>\n",
       "      <th>1</th>\n",
       "      <td>Yoshops</td>\n",
       "      <td>Data Science Intern</td>\n",
       "      <td>Yoshops</td>\n",
       "      <td>Data Science Intern</td>\n",
       "    </tr>\n",
       "    <tr>\n",
       "      <th>2</th>\n",
       "      <td>Week:</td>\n",
       "      <td>1</td>\n",
       "      <td>Week:</td>\n",
       "      <td>One</td>\n",
       "    </tr>\n",
       "    <tr>\n",
       "      <th>3</th>\n",
       "      <td>Task:</td>\n",
       "      <td>3</td>\n",
       "      <td>Task:</td>\n",
       "      <td>Three</td>\n",
       "    </tr>\n",
       "  </tbody>\n",
       "</table>\n",
       "</div>"
      ],
      "text/plain": [
       "  Variable                   Value Variable                   Value\n",
       "0   Name:   ADVAIT GURUNATH CHAVAN   Name:   ADVAIT GURUNATH CHAVAN\n",
       "1  Yoshops     Data Science Intern  Yoshops     Data Science Intern\n",
       "2   Week:                        1   Week:                      One\n",
       "3    Task:                       3    Task:                   Three"
      ]
     },
     "execution_count": 32,
     "metadata": {},
     "output_type": "execute_result"
    }
   ],
   "source": [
    "new_excel"
   ]
  },
  {
   "cell_type": "markdown",
   "id": "ea6b0545",
   "metadata": {},
   "source": [
    "#### Using 'ExcelWriter' function of pandas to store the above sheets in a new workbook"
   ]
  },
  {
   "cell_type": "code",
   "execution_count": 34,
   "id": "0b3ede92",
   "metadata": {},
   "outputs": [],
   "source": [
    "with pd.ExcelWriter('Yoshops_Data_Science_Intern_Week_1_Task_3_After.xlsx') as writer:\n",
    "    excel_sheet_view.to_excel(writer, sheet_name=\"Updated sheet 1\", index=False)\n",
    "    excel_sheet_view_2.to_excel(writer, sheet_name=\"Updated sheet 2\", index=False)\n",
    "    new_excel.to_excel(writer, sheet_name=\"Concated or Combined Sheet\", index=False)\n",
    "    "
   ]
  },
  {
   "cell_type": "markdown",
   "id": "4c951d23",
   "metadata": {},
   "source": [
    "#### Viewing the Updated or Formatted excel workbook"
   ]
  },
  {
   "cell_type": "code",
   "execution_count": 35,
   "id": "564106b4",
   "metadata": {},
   "outputs": [],
   "source": [
    "updated_sheet_1 = pd.read_excel('Yoshops_Data_Science_Intern_Week_1_Task_3_After.xlsx',sheet_name='Updated sheet 1')"
   ]
  },
  {
   "cell_type": "code",
   "execution_count": 36,
   "id": "019a5a94",
   "metadata": {},
   "outputs": [
    {
     "data": {
      "text/html": [
       "<div>\n",
       "<style scoped>\n",
       "    .dataframe tbody tr th:only-of-type {\n",
       "        vertical-align: middle;\n",
       "    }\n",
       "\n",
       "    .dataframe tbody tr th {\n",
       "        vertical-align: top;\n",
       "    }\n",
       "\n",
       "    .dataframe thead th {\n",
       "        text-align: right;\n",
       "    }\n",
       "</style>\n",
       "<table border=\"1\" class=\"dataframe\">\n",
       "  <thead>\n",
       "    <tr style=\"text-align: right;\">\n",
       "      <th></th>\n",
       "      <th>Variable</th>\n",
       "      <th>Value</th>\n",
       "    </tr>\n",
       "  </thead>\n",
       "  <tbody>\n",
       "    <tr>\n",
       "      <th>0</th>\n",
       "      <td>Name:</td>\n",
       "      <td>ADVAIT GURUNATH CHAVAN</td>\n",
       "    </tr>\n",
       "    <tr>\n",
       "      <th>1</th>\n",
       "      <td>Yoshops</td>\n",
       "      <td>Data Science Intern</td>\n",
       "    </tr>\n",
       "    <tr>\n",
       "      <th>2</th>\n",
       "      <td>Week:</td>\n",
       "      <td>1</td>\n",
       "    </tr>\n",
       "    <tr>\n",
       "      <th>3</th>\n",
       "      <td>Task:</td>\n",
       "      <td>3</td>\n",
       "    </tr>\n",
       "  </tbody>\n",
       "</table>\n",
       "</div>"
      ],
      "text/plain": [
       "  Variable                   Value\n",
       "0   Name:   ADVAIT GURUNATH CHAVAN\n",
       "1  Yoshops     Data Science Intern\n",
       "2   Week:                        1\n",
       "3    Task:                       3"
      ]
     },
     "execution_count": 36,
     "metadata": {},
     "output_type": "execute_result"
    }
   ],
   "source": [
    "updated_sheet_1"
   ]
  },
  {
   "cell_type": "code",
   "execution_count": 37,
   "id": "a6ad638f",
   "metadata": {},
   "outputs": [],
   "source": [
    "updated_sheet_2 = pd.read_excel('Yoshops_Data_Science_Intern_Week_1_Task_3_After.xlsx',sheet_name='Updated sheet 2')"
   ]
  },
  {
   "cell_type": "code",
   "execution_count": 39,
   "id": "23676dae",
   "metadata": {},
   "outputs": [
    {
     "data": {
      "text/html": [
       "<div>\n",
       "<style scoped>\n",
       "    .dataframe tbody tr th:only-of-type {\n",
       "        vertical-align: middle;\n",
       "    }\n",
       "\n",
       "    .dataframe tbody tr th {\n",
       "        vertical-align: top;\n",
       "    }\n",
       "\n",
       "    .dataframe thead th {\n",
       "        text-align: right;\n",
       "    }\n",
       "</style>\n",
       "<table border=\"1\" class=\"dataframe\">\n",
       "  <thead>\n",
       "    <tr style=\"text-align: right;\">\n",
       "      <th></th>\n",
       "      <th>Variable</th>\n",
       "      <th>Value</th>\n",
       "    </tr>\n",
       "  </thead>\n",
       "  <tbody>\n",
       "    <tr>\n",
       "      <th>0</th>\n",
       "      <td>Name:</td>\n",
       "      <td>ADVAIT GURUNATH CHAVAN</td>\n",
       "    </tr>\n",
       "    <tr>\n",
       "      <th>1</th>\n",
       "      <td>Yoshops</td>\n",
       "      <td>Data Science Intern</td>\n",
       "    </tr>\n",
       "    <tr>\n",
       "      <th>2</th>\n",
       "      <td>Week:</td>\n",
       "      <td>One</td>\n",
       "    </tr>\n",
       "    <tr>\n",
       "      <th>3</th>\n",
       "      <td>Task:</td>\n",
       "      <td>Three</td>\n",
       "    </tr>\n",
       "  </tbody>\n",
       "</table>\n",
       "</div>"
      ],
      "text/plain": [
       "  Variable                   Value\n",
       "0   Name:   ADVAIT GURUNATH CHAVAN\n",
       "1  Yoshops     Data Science Intern\n",
       "2   Week:                      One\n",
       "3    Task:                   Three"
      ]
     },
     "execution_count": 39,
     "metadata": {},
     "output_type": "execute_result"
    }
   ],
   "source": [
    "updated_sheet_2"
   ]
  },
  {
   "cell_type": "code",
   "execution_count": 41,
   "id": "f67f7541",
   "metadata": {},
   "outputs": [],
   "source": [
    "updated_concated_sheet = pd.read_excel('Yoshops_Data_Science_Intern_Week_1_Task_3_After.xlsx',sheet_name='Concated or Combined Sheet')"
   ]
  },
  {
   "cell_type": "code",
   "execution_count": 42,
   "id": "dc544cac",
   "metadata": {},
   "outputs": [
    {
     "data": {
      "text/html": [
       "<div>\n",
       "<style scoped>\n",
       "    .dataframe tbody tr th:only-of-type {\n",
       "        vertical-align: middle;\n",
       "    }\n",
       "\n",
       "    .dataframe tbody tr th {\n",
       "        vertical-align: top;\n",
       "    }\n",
       "\n",
       "    .dataframe thead th {\n",
       "        text-align: right;\n",
       "    }\n",
       "</style>\n",
       "<table border=\"1\" class=\"dataframe\">\n",
       "  <thead>\n",
       "    <tr style=\"text-align: right;\">\n",
       "      <th></th>\n",
       "      <th>Variable</th>\n",
       "      <th>Value</th>\n",
       "      <th>Variable.1</th>\n",
       "      <th>Value.1</th>\n",
       "    </tr>\n",
       "  </thead>\n",
       "  <tbody>\n",
       "    <tr>\n",
       "      <th>0</th>\n",
       "      <td>Name:</td>\n",
       "      <td>ADVAIT GURUNATH CHAVAN</td>\n",
       "      <td>Name:</td>\n",
       "      <td>ADVAIT GURUNATH CHAVAN</td>\n",
       "    </tr>\n",
       "    <tr>\n",
       "      <th>1</th>\n",
       "      <td>Yoshops</td>\n",
       "      <td>Data Science Intern</td>\n",
       "      <td>Yoshops</td>\n",
       "      <td>Data Science Intern</td>\n",
       "    </tr>\n",
       "    <tr>\n",
       "      <th>2</th>\n",
       "      <td>Week:</td>\n",
       "      <td>1</td>\n",
       "      <td>Week:</td>\n",
       "      <td>One</td>\n",
       "    </tr>\n",
       "    <tr>\n",
       "      <th>3</th>\n",
       "      <td>Task:</td>\n",
       "      <td>3</td>\n",
       "      <td>Task:</td>\n",
       "      <td>Three</td>\n",
       "    </tr>\n",
       "  </tbody>\n",
       "</table>\n",
       "</div>"
      ],
      "text/plain": [
       "  Variable                   Value Variable.1                 Value.1\n",
       "0   Name:   ADVAIT GURUNATH CHAVAN     Name:   ADVAIT GURUNATH CHAVAN\n",
       "1  Yoshops     Data Science Intern    Yoshops     Data Science Intern\n",
       "2   Week:                        1     Week:                      One\n",
       "3    Task:                       3      Task:                   Three"
      ]
     },
     "execution_count": 42,
     "metadata": {},
     "output_type": "execute_result"
    }
   ],
   "source": [
    "updated_concated_sheet"
   ]
  },
  {
   "cell_type": "code",
   "execution_count": null,
   "id": "0e143376",
   "metadata": {},
   "outputs": [],
   "source": []
  }
 ],
 "metadata": {
  "kernelspec": {
   "display_name": "Python 3 (ipykernel)",
   "language": "python",
   "name": "python3"
  },
  "language_info": {
   "codemirror_mode": {
    "name": "ipython",
    "version": 3
   },
   "file_extension": ".py",
   "mimetype": "text/x-python",
   "name": "python",
   "nbconvert_exporter": "python",
   "pygments_lexer": "ipython3",
   "version": "3.9.13"
  }
 },
 "nbformat": 4,
 "nbformat_minor": 5
}
