{
 "cells": [
  {
   "cell_type": "markdown",
   "id": "9108f5c5",
   "metadata": {},
   "source": [
    "## <u>Name</u> : ADVAIT GURUNATH CHAVAN\n",
    "## <u>Email</u> : advaitchavan135@gmail.com , advaitchavan.yoshops@gmail.com\n",
    "## <u>Contact</u> : +91 70214 55852\n",
    "\n",
    "## A. Write a python program for merge two excel files data to one excel file.\n",
    "\n",
    "## B. Write a python program to shorting file in different folder means main folder containing 8 excel files. Now after shorting create 2 child folder and store 4 file each folder.\n",
    "\n",
    "## C. Write a python program to separate duplicate file. Check with mobile number in main excel file and create seperate file and store duplicate file data\n",
    "\n",
    "## D. Write a python program for Sorting file by keywords.\n",
    "## input: folder path = text value\n",
    "## Create new folder=text value\n",
    "## Search Keyword= text value\n",
    "## Output: Create folder with input value and inside folder all sorting files displaying.\n"
   ]
  },
  {
   "cell_type": "code",
   "execution_count": 2,
   "id": "171f3d0e",
   "metadata": {},
   "outputs": [],
   "source": [
    "#Importing the necessary libraries \n",
    "import pandas as pd"
   ]
  },
  {
   "cell_type": "code",
   "execution_count": 3,
   "id": "bc9d5496",
   "metadata": {},
   "outputs": [],
   "source": [
    "Name_and_phone_01_07 = pd.read_excel('Name_and_phone_01_07.xlsx')"
   ]
  },
  {
   "cell_type": "code",
   "execution_count": 4,
   "id": "652b84e2",
   "metadata": {},
   "outputs": [],
   "source": [
    "Name_and_phone_02_07 = pd.read_excel('Name_and_phone_02_07.xlsx')\n",
    "Name_and_phone_03_07 = pd.read_excel('Name_and_phone_03_07.xlsx')\n",
    "Name_and_phone_04_07 = pd.read_excel('Name_and_phone_04_07.xlsx')\n",
    "Name_and_phone_06_07 = pd.read_excel('Name_and_phone_06_07.xlsx')\n",
    "\n",
    "Name_and_phone_29_06 = pd.read_excel('Name_and_phone_29_06.xlsx')\n",
    "Name_and_phone_30_06 = pd.read_excel('Name_and_phone_30_06.xlsx')"
   ]
  },
  {
   "cell_type": "markdown",
   "id": "7646fb6d",
   "metadata": {},
   "source": [
    "## A. Write a python program for merge two excel files data to one file."
   ]
  },
  {
   "cell_type": "code",
   "execution_count": 5,
   "id": "c024c53c",
   "metadata": {},
   "outputs": [],
   "source": [
    "df_combine = pd.concat([Name_and_phone_01_07, Name_and_phone_02_07])"
   ]
  },
  {
   "cell_type": "code",
   "execution_count": 6,
   "id": "a4bf2f13",
   "metadata": {},
   "outputs": [
    {
     "data": {
      "text/html": [
       "<div>\n",
       "<style scoped>\n",
       "    .dataframe tbody tr th:only-of-type {\n",
       "        vertical-align: middle;\n",
       "    }\n",
       "\n",
       "    .dataframe tbody tr th {\n",
       "        vertical-align: top;\n",
       "    }\n",
       "\n",
       "    .dataframe thead th {\n",
       "        text-align: right;\n",
       "    }\n",
       "</style>\n",
       "<table border=\"1\" class=\"dataframe\">\n",
       "  <thead>\n",
       "    <tr style=\"text-align: right;\">\n",
       "      <th></th>\n",
       "      <th>Name_of_visitor</th>\n",
       "      <th>Contact_Number</th>\n",
       "    </tr>\n",
       "  </thead>\n",
       "  <tbody>\n",
       "    <tr>\n",
       "      <th>0</th>\n",
       "      <td>NARENDRA</td>\n",
       "      <td>9391193459</td>\n",
       "    </tr>\n",
       "    <tr>\n",
       "      <th>1</th>\n",
       "      <td>Prem Kumar</td>\n",
       "      <td>9799818360</td>\n",
       "    </tr>\n",
       "    <tr>\n",
       "      <th>2</th>\n",
       "      <td>ramkumar</td>\n",
       "      <td>9962278886</td>\n",
       "    </tr>\n",
       "    <tr>\n",
       "      <th>0</th>\n",
       "      <td>Rohit Kumar</td>\n",
       "      <td>9569402314</td>\n",
       "    </tr>\n",
       "  </tbody>\n",
       "</table>\n",
       "</div>"
      ],
      "text/plain": [
       "  Name_of_visitor  Contact_Number\n",
       "0        NARENDRA      9391193459\n",
       "1      Prem Kumar      9799818360\n",
       "2        ramkumar      9962278886\n",
       "0     Rohit Kumar      9569402314"
      ]
     },
     "execution_count": 6,
     "metadata": {},
     "output_type": "execute_result"
    }
   ],
   "source": [
    "df_combine"
   ]
  },
  {
   "cell_type": "code",
   "execution_count": 7,
   "id": "9b76239c",
   "metadata": {},
   "outputs": [
    {
     "data": {
      "text/html": [
       "<div>\n",
       "<style scoped>\n",
       "    .dataframe tbody tr th:only-of-type {\n",
       "        vertical-align: middle;\n",
       "    }\n",
       "\n",
       "    .dataframe tbody tr th {\n",
       "        vertical-align: top;\n",
       "    }\n",
       "\n",
       "    .dataframe thead th {\n",
       "        text-align: right;\n",
       "    }\n",
       "</style>\n",
       "<table border=\"1\" class=\"dataframe\">\n",
       "  <thead>\n",
       "    <tr style=\"text-align: right;\">\n",
       "      <th></th>\n",
       "      <th>Name_of_visitor</th>\n",
       "      <th>Contact_Number</th>\n",
       "    </tr>\n",
       "  </thead>\n",
       "  <tbody>\n",
       "    <tr>\n",
       "      <th>0</th>\n",
       "      <td>NARENDRA</td>\n",
       "      <td>9391193459</td>\n",
       "    </tr>\n",
       "    <tr>\n",
       "      <th>1</th>\n",
       "      <td>Prem Kumar</td>\n",
       "      <td>9799818360</td>\n",
       "    </tr>\n",
       "    <tr>\n",
       "      <th>2</th>\n",
       "      <td>ramkumar</td>\n",
       "      <td>9962278886</td>\n",
       "    </tr>\n",
       "  </tbody>\n",
       "</table>\n",
       "</div>"
      ],
      "text/plain": [
       "  Name_of_visitor  Contact_Number\n",
       "0        NARENDRA      9391193459\n",
       "1      Prem Kumar      9799818360\n",
       "2        ramkumar      9962278886"
      ]
     },
     "execution_count": 7,
     "metadata": {},
     "output_type": "execute_result"
    }
   ],
   "source": [
    "Name_and_phone_01_07"
   ]
  },
  {
   "cell_type": "code",
   "execution_count": 8,
   "id": "21e74ee5",
   "metadata": {},
   "outputs": [
    {
     "data": {
      "text/html": [
       "<div>\n",
       "<style scoped>\n",
       "    .dataframe tbody tr th:only-of-type {\n",
       "        vertical-align: middle;\n",
       "    }\n",
       "\n",
       "    .dataframe tbody tr th {\n",
       "        vertical-align: top;\n",
       "    }\n",
       "\n",
       "    .dataframe thead th {\n",
       "        text-align: right;\n",
       "    }\n",
       "</style>\n",
       "<table border=\"1\" class=\"dataframe\">\n",
       "  <thead>\n",
       "    <tr style=\"text-align: right;\">\n",
       "      <th></th>\n",
       "      <th>Name_of_visitor</th>\n",
       "      <th>Contact_Number</th>\n",
       "    </tr>\n",
       "  </thead>\n",
       "  <tbody>\n",
       "    <tr>\n",
       "      <th>0</th>\n",
       "      <td>Rohit Kumar</td>\n",
       "      <td>9569402314</td>\n",
       "    </tr>\n",
       "  </tbody>\n",
       "</table>\n",
       "</div>"
      ],
      "text/plain": [
       "  Name_of_visitor  Contact_Number\n",
       "0     Rohit Kumar      9569402314"
      ]
     },
     "execution_count": 8,
     "metadata": {},
     "output_type": "execute_result"
    }
   ],
   "source": [
    "Name_and_phone_02_07"
   ]
  },
  {
   "cell_type": "code",
   "execution_count": 9,
   "id": "b024c1d9",
   "metadata": {},
   "outputs": [],
   "source": [
    "df_combine.to_excel('Name_and_contact_01_07_and_02_07.xlsx', index = False)"
   ]
  },
  {
   "cell_type": "code",
   "execution_count": 11,
   "id": "ef4a62d4",
   "metadata": {},
   "outputs": [],
   "source": [
    "Name_and_phone_01_07_and_02_07 = pd.read_excel('Name_and_contact_01_07_and_02_07.xlsx')"
   ]
  },
  {
   "cell_type": "code",
   "execution_count": 12,
   "id": "1f980e6d",
   "metadata": {},
   "outputs": [
    {
     "data": {
      "text/html": [
       "<div>\n",
       "<style scoped>\n",
       "    .dataframe tbody tr th:only-of-type {\n",
       "        vertical-align: middle;\n",
       "    }\n",
       "\n",
       "    .dataframe tbody tr th {\n",
       "        vertical-align: top;\n",
       "    }\n",
       "\n",
       "    .dataframe thead th {\n",
       "        text-align: right;\n",
       "    }\n",
       "</style>\n",
       "<table border=\"1\" class=\"dataframe\">\n",
       "  <thead>\n",
       "    <tr style=\"text-align: right;\">\n",
       "      <th></th>\n",
       "      <th>Name_of_visitor</th>\n",
       "      <th>Contact_Number</th>\n",
       "    </tr>\n",
       "  </thead>\n",
       "  <tbody>\n",
       "    <tr>\n",
       "      <th>0</th>\n",
       "      <td>NARENDRA</td>\n",
       "      <td>9391193459</td>\n",
       "    </tr>\n",
       "    <tr>\n",
       "      <th>1</th>\n",
       "      <td>Prem Kumar</td>\n",
       "      <td>9799818360</td>\n",
       "    </tr>\n",
       "    <tr>\n",
       "      <th>2</th>\n",
       "      <td>ramkumar</td>\n",
       "      <td>9962278886</td>\n",
       "    </tr>\n",
       "    <tr>\n",
       "      <th>3</th>\n",
       "      <td>Rohit Kumar</td>\n",
       "      <td>9569402314</td>\n",
       "    </tr>\n",
       "  </tbody>\n",
       "</table>\n",
       "</div>"
      ],
      "text/plain": [
       "  Name_of_visitor  Contact_Number\n",
       "0        NARENDRA      9391193459\n",
       "1      Prem Kumar      9799818360\n",
       "2        ramkumar      9962278886\n",
       "3     Rohit Kumar      9569402314"
      ]
     },
     "execution_count": 12,
     "metadata": {},
     "output_type": "execute_result"
    }
   ],
   "source": [
    "Name_and_phone_01_07_and_02_07"
   ]
  },
  {
   "cell_type": "markdown",
   "id": "1d2bc8d0",
   "metadata": {},
   "source": [
    "## B. Write a python program to shorting file in different folder means main folder containing 8 excel files. Now after shorting create 2 child folder and store 4 file each folder."
   ]
  },
  {
   "cell_type": "code",
   "execution_count": 15,
   "id": "48a14666",
   "metadata": {},
   "outputs": [
    {
     "name": "stdout",
     "output_type": "stream",
     "text": [
      "4 files moved to C:\\Users\\Advait\\Desktop\\Yoshops Internships\\Project Task - 8\\output_project_task_8\\folder_1\n",
      "4 files moved to C:\\Users\\Advait\\Desktop\\Yoshops Internships\\Project Task - 8\\output_project_task_8\\folder_2\n"
     ]
    }
   ],
   "source": [
    "import os\n",
    "import shutil\n",
    "\n",
    "def sort_files_in_folders(main_folder, num_files_per_folder):\n",
    "    files = os.listdir(main_folder)\n",
    "    files.sort()  # Sort the files alphabetically\n",
    "    \n",
    "    num_folders = len(files) // num_files_per_folder\n",
    "    if len(files) % num_files_per_folder != 0:\n",
    "        num_folders += 1\n",
    "    \n",
    "    for i in range(num_folders):\n",
    "        folder_path = os.path.join(main_folder, f\"folder_{i+1}\")\n",
    "        os.makedirs(folder_path, exist_ok=True)\n",
    "        \n",
    "        start_index = i * num_files_per_folder\n",
    "        end_index = start_index + num_files_per_folder\n",
    "        \n",
    "        for file_name in files[start_index:end_index]:\n",
    "            file_path = os.path.join(main_folder, file_name)\n",
    "            dest_path = os.path.join(folder_path, file_name)\n",
    "            \n",
    "            shutil.move(file_path, dest_path)\n",
    "            \n",
    "        print(f\"{num_files_per_folder} files moved to {folder_path}\")\n",
    "\n",
    "# Example usage\n",
    "main_folder = r\"C:\\Users\\Advait\\Desktop\\Yoshops Internships\\Project Task - 8\\output_project_task_8\"\n",
    "num_files_per_folder = 4\n",
    "\n",
    "sort_files_in_folders(main_folder, num_files_per_folder)\n"
   ]
  },
  {
   "cell_type": "markdown",
   "id": "bf316546",
   "metadata": {},
   "source": [
    "## C. Write a python program to separate duplicate file. Check with mobile number in main excel file and create seperate file and store duplicate file data"
   ]
  },
  {
   "cell_type": "code",
   "execution_count": 17,
   "id": "9698149b",
   "metadata": {},
   "outputs": [],
   "source": [
    "df_combine_07 = pd.concat([Name_and_phone_01_07, Name_and_phone_02_07,Name_and_phone_03_07,Name_and_phone_04_07,Name_and_phone_06_07])"
   ]
  },
  {
   "cell_type": "code",
   "execution_count": 18,
   "id": "caad1a8a",
   "metadata": {},
   "outputs": [],
   "source": [
    "df_combine_06 = pd.concat([Name_and_phone_29_06, Name_and_phone_30_06])"
   ]
  },
  {
   "cell_type": "code",
   "execution_count": 21,
   "id": "ff19e619",
   "metadata": {},
   "outputs": [],
   "source": [
    "df_combine_06_07 = pd.concat([df_combine_06, df_combine_07])"
   ]
  },
  {
   "cell_type": "code",
   "execution_count": 23,
   "id": "39539e7c",
   "metadata": {},
   "outputs": [],
   "source": [
    "df_combine_06_07.to_excel('main.xlsx', index=False)"
   ]
  },
  {
   "cell_type": "code",
   "execution_count": 24,
   "id": "0d1a7e14",
   "metadata": {},
   "outputs": [],
   "source": [
    "main_file = pd.read_excel('main.xlsx')"
   ]
  },
  {
   "cell_type": "code",
   "execution_count": 25,
   "id": "3fd4942f",
   "metadata": {},
   "outputs": [
    {
     "data": {
      "text/html": [
       "<div>\n",
       "<style scoped>\n",
       "    .dataframe tbody tr th:only-of-type {\n",
       "        vertical-align: middle;\n",
       "    }\n",
       "\n",
       "    .dataframe tbody tr th {\n",
       "        vertical-align: top;\n",
       "    }\n",
       "\n",
       "    .dataframe thead th {\n",
       "        text-align: right;\n",
       "    }\n",
       "</style>\n",
       "<table border=\"1\" class=\"dataframe\">\n",
       "  <thead>\n",
       "    <tr style=\"text-align: right;\">\n",
       "      <th></th>\n",
       "      <th>Name_of_visitor</th>\n",
       "      <th>Contact_Number</th>\n",
       "    </tr>\n",
       "  </thead>\n",
       "  <tbody>\n",
       "    <tr>\n",
       "      <th>0</th>\n",
       "      <td>Sagar Bhadge</td>\n",
       "      <td>8459599718</td>\n",
       "    </tr>\n",
       "    <tr>\n",
       "      <th>1</th>\n",
       "      <td>Reena</td>\n",
       "      <td>9528692288</td>\n",
       "    </tr>\n",
       "    <tr>\n",
       "      <th>2</th>\n",
       "      <td>G. Balasubramanian</td>\n",
       "      <td>9123557647</td>\n",
       "    </tr>\n",
       "    <tr>\n",
       "      <th>3</th>\n",
       "      <td>Manoj Pattnaik</td>\n",
       "      <td>8280021014</td>\n",
       "    </tr>\n",
       "    <tr>\n",
       "      <th>4</th>\n",
       "      <td>Nitin kumar</td>\n",
       "      <td>9304522101</td>\n",
       "    </tr>\n",
       "    <tr>\n",
       "      <th>5</th>\n",
       "      <td>Avnish kumar</td>\n",
       "      <td>6200028123</td>\n",
       "    </tr>\n",
       "    <tr>\n",
       "      <th>6</th>\n",
       "      <td>HAMMAD BIN NAVEED</td>\n",
       "      <td>3181982707</td>\n",
       "    </tr>\n",
       "    <tr>\n",
       "      <th>7</th>\n",
       "      <td>NARENDRA</td>\n",
       "      <td>9391193459</td>\n",
       "    </tr>\n",
       "    <tr>\n",
       "      <th>8</th>\n",
       "      <td>Prem Kumar</td>\n",
       "      <td>9799818360</td>\n",
       "    </tr>\n",
       "    <tr>\n",
       "      <th>9</th>\n",
       "      <td>ramkumar</td>\n",
       "      <td>9962278886</td>\n",
       "    </tr>\n",
       "    <tr>\n",
       "      <th>10</th>\n",
       "      <td>Rohit Kumar</td>\n",
       "      <td>9569402314</td>\n",
       "    </tr>\n",
       "    <tr>\n",
       "      <th>11</th>\n",
       "      <td>Kamini</td>\n",
       "      <td>8767852141</td>\n",
       "    </tr>\n",
       "    <tr>\n",
       "      <th>12</th>\n",
       "      <td>Rajkabir Diwan</td>\n",
       "      <td>8815007851</td>\n",
       "    </tr>\n",
       "    <tr>\n",
       "      <th>13</th>\n",
       "      <td>Piryesh</td>\n",
       "      <td>7073128350</td>\n",
       "    </tr>\n",
       "    <tr>\n",
       "      <th>14</th>\n",
       "      <td>Anne</td>\n",
       "      <td>6382105605</td>\n",
       "    </tr>\n",
       "    <tr>\n",
       "      <th>15</th>\n",
       "      <td>Nelson Friday</td>\n",
       "      <td>8164881200</td>\n",
       "    </tr>\n",
       "    <tr>\n",
       "      <th>16</th>\n",
       "      <td>Rajkabir</td>\n",
       "      <td>8815007851</td>\n",
       "    </tr>\n",
       "    <tr>\n",
       "      <th>17</th>\n",
       "      <td>Anil</td>\n",
       "      <td>9515654885</td>\n",
       "    </tr>\n",
       "    <tr>\n",
       "      <th>18</th>\n",
       "      <td>Sandhya</td>\n",
       "      <td>9154940621</td>\n",
       "    </tr>\n",
       "    <tr>\n",
       "      <th>19</th>\n",
       "      <td>Dev Kanishka Kashyap</td>\n",
       "      <td>7277862208</td>\n",
       "    </tr>\n",
       "  </tbody>\n",
       "</table>\n",
       "</div>"
      ],
      "text/plain": [
       "          Name_of_visitor  Contact_Number\n",
       "0            Sagar Bhadge      8459599718\n",
       "1                   Reena      9528692288\n",
       "2      G. Balasubramanian      9123557647\n",
       "3          Manoj Pattnaik      8280021014\n",
       "4             Nitin kumar      9304522101\n",
       "5            Avnish kumar      6200028123\n",
       "6       HAMMAD BIN NAVEED      3181982707\n",
       "7                NARENDRA      9391193459\n",
       "8              Prem Kumar      9799818360\n",
       "9                ramkumar      9962278886\n",
       "10            Rohit Kumar      9569402314\n",
       "11                 Kamini      8767852141\n",
       "12         Rajkabir Diwan      8815007851\n",
       "13                Piryesh      7073128350\n",
       "14                   Anne      6382105605\n",
       "15          Nelson Friday      8164881200\n",
       "16               Rajkabir      8815007851\n",
       "17                   Anil      9515654885\n",
       "18                Sandhya      9154940621\n",
       "19   Dev Kanishka Kashyap      7277862208"
      ]
     },
     "execution_count": 25,
     "metadata": {},
     "output_type": "execute_result"
    }
   ],
   "source": [
    "main_file "
   ]
  },
  {
   "cell_type": "code",
   "execution_count": 35,
   "id": "004d8bfd",
   "metadata": {},
   "outputs": [
    {
     "name": "stdout",
     "output_type": "stream",
     "text": [
      "Duplicated file 'file1.txt' copied to 'duplicates\\1234567890'\n",
      "Duplicated file 'file2.txt' copied to 'duplicates\\2345678901'\n",
      "Duplicated file 'file3.txt' copied to 'duplicates\\1234567890'\n",
      "Duplicated file 'file5.txt' copied to 'duplicates\\2345678901'\n"
     ]
    }
   ],
   "source": [
    "import pandas as pd\n",
    "import shutil\n",
    "import os\n",
    "\n",
    "def separate_duplicate_files(main_excel_file, output_folder):\n",
    "    # Load main Excel file\n",
    "    df_main = pd.read_excel(main_excel_file)\n",
    "    \n",
    "    # Convert 'Mobile Number' column to string\n",
    "    df_main['Mobile Number'] = df_main['Mobile Number'].astype(str)\n",
    "    \n",
    "    # Find duplicate mobile numbers in main Excel file\n",
    "    duplicate_mobile_numbers = df_main['Mobile Number'].duplicated(keep=False)\n",
    "    \n",
    "    # Create output folder if it doesn't exist\n",
    "    os.makedirs(output_folder, exist_ok=True)\n",
    "    \n",
    "    # Iterate over rows and separate duplicate files\n",
    "    for index, is_duplicate in enumerate(duplicate_mobile_numbers):\n",
    "        if is_duplicate:\n",
    "            mobile_number = df_main.loc[index, 'Mobile Number']\n",
    "            file_name = df_main.loc[index, 'File Name']\n",
    "            file_path = df_main.loc[index, 'File Path']\n",
    "            \n",
    "            destination_folder = os.path.join(output_folder, mobile_number)\n",
    "            os.makedirs(destination_folder, exist_ok=True)\n",
    "            \n",
    "            destination_path = os.path.join(destination_folder, file_name)\n",
    "            shutil.copy(file_path, destination_path)\n",
    "            \n",
    "            print(f\"Duplicated file '{file_name}' copied to '{destination_folder}'\")\n",
    "\n",
    "# Example usage\n",
    "main_excel_file = \"main_file.xlsx\"\n",
    "output_folder = \"duplicates\"\n",
    "\n",
    "separate_duplicate_files(main_excel_file, output_folder)\n"
   ]
  },
  {
   "cell_type": "markdown",
   "id": "5ce5d910",
   "metadata": {},
   "source": [
    "## D. Write a python program for Sorting file by keywords.\n",
    "## input: folder path = text value\n",
    "## Create new folder=text value\n",
    "## Search Keyword= text value\n",
    "## Output: Create folder with input value and inside folder all sorting files displaying."
   ]
  },
  {
   "cell_type": "code",
   "execution_count": 36,
   "id": "27de607a",
   "metadata": {},
   "outputs": [
    {
     "name": "stdout",
     "output_type": "stream",
     "text": [
      "Moved file 'file1.txt' to folder 'Sorted_Files'\n",
      "Moved file 'file2.txt' to folder 'Sorted_Files'\n",
      "Moved file 'file3.txt' to folder 'Sorted_Files'\n",
      "Moved file 'file4.txt' to folder 'Sorted_Files'\n",
      "Moved file 'file5.txt' to folder 'Sorted_Files'\n",
      "Moved file 'main_file.xlsx' to folder 'Sorted_Files'\n"
     ]
    }
   ],
   "source": [
    "import os\n",
    "import shutil\n",
    "\n",
    "def sort_files_by_keyword(folder_path, new_folder_name, search_keyword):\n",
    "    # Create a new folder with the provided text value\n",
    "    new_folder_path = os.path.join(folder_path, new_folder_name)\n",
    "    os.makedirs(new_folder_path, exist_ok=True)\n",
    "\n",
    "    # Get a list of files in the input folder\n",
    "    files = os.listdir(folder_path)\n",
    "\n",
    "    # Iterate over files and move those containing the search keyword to the new folder\n",
    "    for file in files:\n",
    "        file_path = os.path.join(folder_path, file)\n",
    "        if os.path.isfile(file_path) and search_keyword in file:\n",
    "            destination_path = os.path.join(new_folder_path, file)\n",
    "            shutil.move(file_path, destination_path)\n",
    "            print(f\"Moved file '{file}' to folder '{new_folder_name}'\")\n",
    "\n",
    "# Example usage\n",
    "folder_path = r\"C:\\Users\\Advait\\Desktop\\Yoshops Internships\\Project Task - 8\"\n",
    "new_folder_name = \"Sorted_Files\"\n",
    "search_keyword = \"file\"\n",
    "\n",
    "sort_files_by_keyword(folder_path, new_folder_name, search_keyword)\n"
   ]
  },
  {
   "cell_type": "code",
   "execution_count": null,
   "id": "cb258918",
   "metadata": {},
   "outputs": [],
   "source": []
  }
 ],
 "metadata": {
  "kernelspec": {
   "display_name": "Python 3 (ipykernel)",
   "language": "python",
   "name": "python3"
  },
  "language_info": {
   "codemirror_mode": {
    "name": "ipython",
    "version": 3
   },
   "file_extension": ".py",
   "mimetype": "text/x-python",
   "name": "python",
   "nbconvert_exporter": "python",
   "pygments_lexer": "ipython3",
   "version": "3.9.13"
  }
 },
 "nbformat": 4,
 "nbformat_minor": 5
}
