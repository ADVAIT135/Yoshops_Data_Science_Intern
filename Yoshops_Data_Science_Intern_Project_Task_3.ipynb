{
 "cells": [
  {
   "cell_type": "markdown",
   "id": "b2f1a1e9",
   "metadata": {},
   "source": [
    "## <u>Name</u> : ADVAIT GURUNATH CHAVAN\n",
    "## <u>Email</u> : advaitchavan135@gmail.com , advaitchavan.yoshops@gmail.com\n",
    "## <u>Contact</u> : +91 70214 55852\n",
    "## Data Science Project Task : 3 \n",
    "## Task-3:Fake buyer Identification System\n",
    "#### EDA Report Generate below input value(1 to 5)using Test Data file(Yoshops.com Sale Order file) :\n",
    "#### Input value for generate PDF and CSV file:\n",
    "#### 1.The shipping address differs from the billing address.\n",
    "#### 2.Multiple orders of the same item.\n",
    "#### 3.Unusually large orders.\n",
    "#### 4.Multiple orders to the same address with different payment method.\n",
    "#### 5.Unexpected international orders."
   ]
  },
  {
   "cell_type": "markdown",
   "id": "e1a3500e",
   "metadata": {},
   "source": [
    "## 1. The shipping address differs from the billing address."
   ]
  },
  {
   "cell_type": "code",
   "execution_count": 29,
   "id": "d5715e24",
   "metadata": {},
   "outputs": [
    {
     "data": {
      "text/html": [
       "<div>\n",
       "<style scoped>\n",
       "    .dataframe tbody tr th:only-of-type {\n",
       "        vertical-align: middle;\n",
       "    }\n",
       "\n",
       "    .dataframe tbody tr th {\n",
       "        vertical-align: top;\n",
       "    }\n",
       "\n",
       "    .dataframe thead th {\n",
       "        text-align: right;\n",
       "    }\n",
       "</style>\n",
       "<table border=\"1\" class=\"dataframe\">\n",
       "  <thead>\n",
       "    <tr style=\"text-align: right;\">\n",
       "      <th></th>\n",
       "      <th>Order #</th>\n",
       "      <th>Fulfillment Date and Time Stamp</th>\n",
       "      <th>Currency</th>\n",
       "      <th>Subtotal</th>\n",
       "      <th>Shipping Method</th>\n",
       "      <th>Shipping Cost</th>\n",
       "      <th>Tax Method</th>\n",
       "      <th>Taxes</th>\n",
       "      <th>Total</th>\n",
       "      <th>Coupon Code</th>\n",
       "      <th>...</th>\n",
       "      <th>Tracking #</th>\n",
       "      <th>Special Instructions</th>\n",
       "      <th>LineItem Name</th>\n",
       "      <th>LineItem SKU</th>\n",
       "      <th>LineItem Options</th>\n",
       "      <th>LineItem Add-ons</th>\n",
       "      <th>LineItem Qty</th>\n",
       "      <th>LineItem Sale Price</th>\n",
       "      <th>Download Status</th>\n",
       "      <th>LineItem Type</th>\n",
       "    </tr>\n",
       "  </thead>\n",
       "  <tbody>\n",
       "    <tr>\n",
       "      <th>0</th>\n",
       "      <td>R121113121</td>\n",
       "      <td>NaN</td>\n",
       "      <td>INR</td>\n",
       "      <td>₹ 2,299.00</td>\n",
       "      <td>Ships Free</td>\n",
       "      <td>₹ 0.00</td>\n",
       "      <td>NaN</td>\n",
       "      <td>₹ 0.00</td>\n",
       "      <td>₹ 2,299.00</td>\n",
       "      <td>NaN</td>\n",
       "      <td>...</td>\n",
       "      <td>NaN</td>\n",
       "      <td>NaN</td>\n",
       "      <td>Falcon Drone Four Axis Aircraft with 2.4 GHz R...</td>\n",
       "      <td>PL0093416</td>\n",
       "      <td>NaN</td>\n",
       "      <td>NaN</td>\n",
       "      <td>1</td>\n",
       "      <td>₹ 2,299.00</td>\n",
       "      <td>NaN</td>\n",
       "      <td>physical</td>\n",
       "    </tr>\n",
       "    <tr>\n",
       "      <th>1</th>\n",
       "      <td>R472890631</td>\n",
       "      <td>NaN</td>\n",
       "      <td>INR</td>\n",
       "      <td>₹ 2,299.00</td>\n",
       "      <td>Ships Free</td>\n",
       "      <td>₹ 0.00</td>\n",
       "      <td>NaN</td>\n",
       "      <td>₹ 0.00</td>\n",
       "      <td>₹ 2,299.00</td>\n",
       "      <td>NaN</td>\n",
       "      <td>...</td>\n",
       "      <td>NaN</td>\n",
       "      <td>NaN</td>\n",
       "      <td>Falcon Drone Four Axis Aircraft with 2.4 GHz R...</td>\n",
       "      <td>PL0093416</td>\n",
       "      <td>NaN</td>\n",
       "      <td>NaN</td>\n",
       "      <td>1</td>\n",
       "      <td>₹ 2,299.00</td>\n",
       "      <td>NaN</td>\n",
       "      <td>physical</td>\n",
       "    </tr>\n",
       "    <tr>\n",
       "      <th>2</th>\n",
       "      <td>R004476488</td>\n",
       "      <td>NaN</td>\n",
       "      <td>INR</td>\n",
       "      <td>₹ 2,299.00</td>\n",
       "      <td>Ships Free</td>\n",
       "      <td>₹ 0.00</td>\n",
       "      <td>NaN</td>\n",
       "      <td>₹ 0.00</td>\n",
       "      <td>₹ 2,299.00</td>\n",
       "      <td>NaN</td>\n",
       "      <td>...</td>\n",
       "      <td>NaN</td>\n",
       "      <td>NaN</td>\n",
       "      <td>Falcon Drone Four Axis Aircraft with 2.4 GHz R...</td>\n",
       "      <td>PL0093416</td>\n",
       "      <td>NaN</td>\n",
       "      <td>NaN</td>\n",
       "      <td>1</td>\n",
       "      <td>₹ 2,299.00</td>\n",
       "      <td>NaN</td>\n",
       "      <td>physical</td>\n",
       "    </tr>\n",
       "    <tr>\n",
       "      <th>3</th>\n",
       "      <td>R526038353</td>\n",
       "      <td>NaN</td>\n",
       "      <td>INR</td>\n",
       "      <td>₹ 2,299.00</td>\n",
       "      <td>Ships Free</td>\n",
       "      <td>₹ 0.00</td>\n",
       "      <td>NaN</td>\n",
       "      <td>₹ 0.00</td>\n",
       "      <td>₹ 2,299.00</td>\n",
       "      <td>NaN</td>\n",
       "      <td>...</td>\n",
       "      <td>NaN</td>\n",
       "      <td>NaN</td>\n",
       "      <td>Falcon Drone Four Axis Aircraft with 2.4 GHz R...</td>\n",
       "      <td>PL0093416</td>\n",
       "      <td>NaN</td>\n",
       "      <td>NaN</td>\n",
       "      <td>1</td>\n",
       "      <td>₹ 2,299.00</td>\n",
       "      <td>NaN</td>\n",
       "      <td>physical</td>\n",
       "    </tr>\n",
       "    <tr>\n",
       "      <th>4</th>\n",
       "      <td>R658530771</td>\n",
       "      <td>NaN</td>\n",
       "      <td>INR</td>\n",
       "      <td>₹ 349.00</td>\n",
       "      <td>Ships Free</td>\n",
       "      <td>₹ 0.00</td>\n",
       "      <td>NaN</td>\n",
       "      <td>₹ 0.00</td>\n",
       "      <td>₹ 349.00</td>\n",
       "      <td>NaN</td>\n",
       "      <td>...</td>\n",
       "      <td>NaN</td>\n",
       "      <td>NaN</td>\n",
       "      <td>Barbie Doll (pink)</td>\n",
       "      <td>PL00098</td>\n",
       "      <td>NaN</td>\n",
       "      <td>NaN</td>\n",
       "      <td>1</td>\n",
       "      <td>₹ 349.00</td>\n",
       "      <td>NaN</td>\n",
       "      <td>physical</td>\n",
       "    </tr>\n",
       "    <tr>\n",
       "      <th>...</th>\n",
       "      <td>...</td>\n",
       "      <td>...</td>\n",
       "      <td>...</td>\n",
       "      <td>...</td>\n",
       "      <td>...</td>\n",
       "      <td>...</td>\n",
       "      <td>...</td>\n",
       "      <td>...</td>\n",
       "      <td>...</td>\n",
       "      <td>...</td>\n",
       "      <td>...</td>\n",
       "      <td>...</td>\n",
       "      <td>...</td>\n",
       "      <td>...</td>\n",
       "      <td>...</td>\n",
       "      <td>...</td>\n",
       "      <td>...</td>\n",
       "      <td>...</td>\n",
       "      <td>...</td>\n",
       "      <td>...</td>\n",
       "      <td>...</td>\n",
       "    </tr>\n",
       "    <tr>\n",
       "      <th>3035</th>\n",
       "      <td>R243395005</td>\n",
       "      <td>NaN</td>\n",
       "      <td>INR</td>\n",
       "      <td>₹ 50.00</td>\n",
       "      <td>Ships Free</td>\n",
       "      <td>₹ 0.00</td>\n",
       "      <td>NaN</td>\n",
       "      <td>₹ 0.00</td>\n",
       "      <td>₹ 50.00</td>\n",
       "      <td>NaN</td>\n",
       "      <td>...</td>\n",
       "      <td>NaN</td>\n",
       "      <td>NaN</td>\n",
       "      <td>Ear Wired Earphones With Mic White</td>\n",
       "      <td>11</td>\n",
       "      <td>NaN</td>\n",
       "      <td>NaN</td>\n",
       "      <td>1</td>\n",
       "      <td>₹ 50.00</td>\n",
       "      <td>NaN</td>\n",
       "      <td>physical</td>\n",
       "    </tr>\n",
       "    <tr>\n",
       "      <th>3036</th>\n",
       "      <td>R607209508</td>\n",
       "      <td>NaN</td>\n",
       "      <td>INR</td>\n",
       "      <td>₹ 500.00</td>\n",
       "      <td>Ships Free</td>\n",
       "      <td>₹ 0.00</td>\n",
       "      <td>NaN</td>\n",
       "      <td>₹ 0.00</td>\n",
       "      <td>₹ 500.00</td>\n",
       "      <td>NaN</td>\n",
       "      <td>...</td>\n",
       "      <td>NaN</td>\n",
       "      <td>NaN</td>\n",
       "      <td>I Kall K-66 White</td>\n",
       "      <td>9</td>\n",
       "      <td>NaN</td>\n",
       "      <td>NaN</td>\n",
       "      <td>1</td>\n",
       "      <td>₹ 500.00</td>\n",
       "      <td>NaN</td>\n",
       "      <td>physical</td>\n",
       "    </tr>\n",
       "    <tr>\n",
       "      <th>3037</th>\n",
       "      <td>R140316623</td>\n",
       "      <td>NaN</td>\n",
       "      <td>INR</td>\n",
       "      <td>₹ 4,000.00</td>\n",
       "      <td>Ships Free</td>\n",
       "      <td>₹ 0.00</td>\n",
       "      <td>NaN</td>\n",
       "      <td>₹ 0.00</td>\n",
       "      <td>₹ 4,000.00</td>\n",
       "      <td>NaN</td>\n",
       "      <td>...</td>\n",
       "      <td>NaN</td>\n",
       "      <td>NaN</td>\n",
       "      <td>Electric Steam Cooker Maestro MC1</td>\n",
       "      <td>1</td>\n",
       "      <td>NaN</td>\n",
       "      <td>NaN</td>\n",
       "      <td>2</td>\n",
       "      <td>₹ 2,000.00</td>\n",
       "      <td>NaN</td>\n",
       "      <td>physical</td>\n",
       "    </tr>\n",
       "    <tr>\n",
       "      <th>3038</th>\n",
       "      <td>R192037084</td>\n",
       "      <td>NaN</td>\n",
       "      <td>INR</td>\n",
       "      <td>₹ 2,000.00</td>\n",
       "      <td>Ships Free</td>\n",
       "      <td>₹ 0.00</td>\n",
       "      <td>NaN</td>\n",
       "      <td>₹ 0.00</td>\n",
       "      <td>₹ 2,000.00</td>\n",
       "      <td>NaN</td>\n",
       "      <td>...</td>\n",
       "      <td>NaN</td>\n",
       "      <td>NaN</td>\n",
       "      <td>Electric Steam Cooker Maestro MC1</td>\n",
       "      <td>1</td>\n",
       "      <td>NaN</td>\n",
       "      <td>NaN</td>\n",
       "      <td>1</td>\n",
       "      <td>₹ 2,000.00</td>\n",
       "      <td>NaN</td>\n",
       "      <td>physical</td>\n",
       "    </tr>\n",
       "    <tr>\n",
       "      <th>3039</th>\n",
       "      <td>R414254148</td>\n",
       "      <td>28-09-2016 19:05:30 +0530</td>\n",
       "      <td>INR</td>\n",
       "      <td>₹ 2,000.00</td>\n",
       "      <td>Ships Free</td>\n",
       "      <td>₹ 0.00</td>\n",
       "      <td>NaN</td>\n",
       "      <td>₹ 0.00</td>\n",
       "      <td>₹ 2,000.00</td>\n",
       "      <td>NaN</td>\n",
       "      <td>...</td>\n",
       "      <td>01_test</td>\n",
       "      <td>NaN</td>\n",
       "      <td>Electric Steam Cooker Maestro MC1</td>\n",
       "      <td>1</td>\n",
       "      <td>NaN</td>\n",
       "      <td>NaN</td>\n",
       "      <td>1</td>\n",
       "      <td>₹ 2,000.00</td>\n",
       "      <td>NaN</td>\n",
       "      <td>physical</td>\n",
       "    </tr>\n",
       "  </tbody>\n",
       "</table>\n",
       "<p>3040 rows × 38 columns</p>\n",
       "</div>"
      ],
      "text/plain": [
       "         Order # Fulfillment Date and Time Stamp Currency    Subtotal  \\\n",
       "0     R121113121                             NaN      INR  ₹ 2,299.00   \n",
       "1     R472890631                             NaN      INR  ₹ 2,299.00   \n",
       "2     R004476488                             NaN      INR  ₹ 2,299.00   \n",
       "3     R526038353                             NaN      INR  ₹ 2,299.00   \n",
       "4     R658530771                             NaN      INR    ₹ 349.00   \n",
       "...          ...                             ...      ...         ...   \n",
       "3035  R243395005                             NaN      INR     ₹ 50.00   \n",
       "3036  R607209508                             NaN      INR    ₹ 500.00   \n",
       "3037  R140316623                             NaN      INR  ₹ 4,000.00   \n",
       "3038  R192037084                             NaN      INR  ₹ 2,000.00   \n",
       "3039  R414254148       28-09-2016 19:05:30 +0530      INR  ₹ 2,000.00   \n",
       "\n",
       "     Shipping Method Shipping Cost Tax Method   Taxes       Total Coupon Code  \\\n",
       "0         Ships Free        ₹ 0.00        NaN  ₹ 0.00  ₹ 2,299.00         NaN   \n",
       "1         Ships Free        ₹ 0.00        NaN  ₹ 0.00  ₹ 2,299.00         NaN   \n",
       "2         Ships Free        ₹ 0.00        NaN  ₹ 0.00  ₹ 2,299.00         NaN   \n",
       "3         Ships Free        ₹ 0.00        NaN  ₹ 0.00  ₹ 2,299.00         NaN   \n",
       "4         Ships Free        ₹ 0.00        NaN  ₹ 0.00    ₹ 349.00         NaN   \n",
       "...              ...           ...        ...     ...         ...         ...   \n",
       "3035      Ships Free        ₹ 0.00        NaN  ₹ 0.00     ₹ 50.00         NaN   \n",
       "3036      Ships Free        ₹ 0.00        NaN  ₹ 0.00    ₹ 500.00         NaN   \n",
       "3037      Ships Free        ₹ 0.00        NaN  ₹ 0.00  ₹ 4,000.00         NaN   \n",
       "3038      Ships Free        ₹ 0.00        NaN  ₹ 0.00  ₹ 2,000.00         NaN   \n",
       "3039      Ships Free        ₹ 0.00        NaN  ₹ 0.00  ₹ 2,000.00         NaN   \n",
       "\n",
       "      ... Tracking # Special Instructions  \\\n",
       "0     ...        NaN                  NaN   \n",
       "1     ...        NaN                  NaN   \n",
       "2     ...        NaN                  NaN   \n",
       "3     ...        NaN                  NaN   \n",
       "4     ...        NaN                  NaN   \n",
       "...   ...        ...                  ...   \n",
       "3035  ...        NaN                  NaN   \n",
       "3036  ...        NaN                  NaN   \n",
       "3037  ...        NaN                  NaN   \n",
       "3038  ...        NaN                  NaN   \n",
       "3039  ...    01_test                  NaN   \n",
       "\n",
       "                                          LineItem Name LineItem SKU  \\\n",
       "0     Falcon Drone Four Axis Aircraft with 2.4 GHz R...    PL0093416   \n",
       "1     Falcon Drone Four Axis Aircraft with 2.4 GHz R...    PL0093416   \n",
       "2     Falcon Drone Four Axis Aircraft with 2.4 GHz R...    PL0093416   \n",
       "3     Falcon Drone Four Axis Aircraft with 2.4 GHz R...    PL0093416   \n",
       "4                                    Barbie Doll (pink)      PL00098   \n",
       "...                                                 ...          ...   \n",
       "3035                 Ear Wired Earphones With Mic White           11   \n",
       "3036                                  I Kall K-66 White            9   \n",
       "3037                  Electric Steam Cooker Maestro MC1            1   \n",
       "3038                  Electric Steam Cooker Maestro MC1            1   \n",
       "3039                  Electric Steam Cooker Maestro MC1            1   \n",
       "\n",
       "     LineItem Options LineItem Add-ons LineItem Qty LineItem Sale Price  \\\n",
       "0                 NaN              NaN            1          ₹ 2,299.00   \n",
       "1                 NaN              NaN            1          ₹ 2,299.00   \n",
       "2                 NaN              NaN            1          ₹ 2,299.00   \n",
       "3                 NaN              NaN            1          ₹ 2,299.00   \n",
       "4                 NaN              NaN            1            ₹ 349.00   \n",
       "...               ...              ...          ...                 ...   \n",
       "3035              NaN              NaN            1             ₹ 50.00   \n",
       "3036              NaN              NaN            1            ₹ 500.00   \n",
       "3037              NaN              NaN            2          ₹ 2,000.00   \n",
       "3038              NaN              NaN            1          ₹ 2,000.00   \n",
       "3039              NaN              NaN            1          ₹ 2,000.00   \n",
       "\n",
       "     Download Status LineItem Type  \n",
       "0                NaN      physical  \n",
       "1                NaN      physical  \n",
       "2                NaN      physical  \n",
       "3                NaN      physical  \n",
       "4                NaN      physical  \n",
       "...              ...           ...  \n",
       "3035             NaN      physical  \n",
       "3036             NaN      physical  \n",
       "3037             NaN      physical  \n",
       "3038             NaN      physical  \n",
       "3039             NaN      physical  \n",
       "\n",
       "[3040 rows x 38 columns]"
      ]
     },
     "execution_count": 29,
     "metadata": {},
     "output_type": "execute_result"
    }
   ],
   "source": [
    "df"
   ]
  },
  {
   "cell_type": "code",
   "execution_count": 46,
   "id": "5a1e2a9f",
   "metadata": {},
   "outputs": [
    {
     "data": {
      "text/plain": [
       "IND    3000\n",
       "PRI       9\n",
       "USA       5\n",
       "GBR       4\n",
       "PAK       3\n",
       "FRA       2\n",
       "MYS       2\n",
       "NGA       2\n",
       "CZE       1\n",
       "AFG       1\n",
       "CAN       1\n",
       "GRD       1\n",
       "SHN       1\n",
       "ZAF       1\n",
       "SGP       1\n",
       "ARE       1\n",
       "NLD       1\n",
       "CHE       1\n",
       "HUN       1\n",
       "COL       1\n",
       "GNB       1\n",
       "Name: Shipping Country, dtype: int64"
      ]
     },
     "execution_count": 46,
     "metadata": {},
     "output_type": "execute_result"
    }
   ],
   "source": [
    "df['Shipping Country'].value_counts()"
   ]
  },
  {
   "cell_type": "code",
   "execution_count": 47,
   "id": "2c9a238a",
   "metadata": {},
   "outputs": [
    {
     "name": "stderr",
     "output_type": "stream",
     "text": [
      "C:\\Users\\Advait\\anaconda3\\lib\\site-packages\\multimethod\\__init__.py:315: SettingWithCopyWarning: \n",
      "A value is trying to be set on a copy of a slice from a DataFrame\n",
      "\n",
      "See the caveats in the documentation: https://pandas.pydata.org/pandas-docs/stable/user_guide/indexing.html#returning-a-view-versus-a-copy\n",
      "  return func(*args, **kwargs)\n"
     ]
    },
    {
     "data": {
      "application/vnd.jupyter.widget-view+json": {
       "model_id": "ee4ee656087e46cc811b52603899924a",
       "version_major": 2,
       "version_minor": 0
      },
      "text/plain": [
       "Summarize dataset:   0%|          | 0/5 [00:00<?, ?it/s]"
      ]
     },
     "metadata": {},
     "output_type": "display_data"
    },
    {
     "name": "stderr",
     "output_type": "stream",
     "text": [
      "C:\\Users\\Advait\\anaconda3\\lib\\site-packages\\pandas_profiling\\model\\correlations.py:67: UserWarning: There was an attempt to calculate the auto correlation, but this failed.\n",
      "To hide this warning, disable the calculation\n",
      "(using `df.profile_report(correlations={\"auto\": {\"calculate\": False}})`\n",
      "If this is problematic for your use case, please report this as an issue:\n",
      "https://github.com/ydataai/pandas-profiling/issues\n",
      "(include the error message: 'No data; `observed` has size 0.')\n",
      "  warnings.warn(\n"
     ]
    },
    {
     "data": {
      "application/vnd.jupyter.widget-view+json": {
       "model_id": "516cb62382e54f5e99a1befec4314abb",
       "version_major": 2,
       "version_minor": 0
      },
      "text/plain": [
       "Generate report structure:   0%|          | 0/1 [00:00<?, ?it/s]"
      ]
     },
     "metadata": {},
     "output_type": "display_data"
    },
    {
     "data": {
      "application/vnd.jupyter.widget-view+json": {
       "model_id": "4361cf18198043959690b380e7a38301",
       "version_major": 2,
       "version_minor": 0
      },
      "text/plain": [
       "Render HTML:   0%|          | 0/1 [00:00<?, ?it/s]"
      ]
     },
     "metadata": {},
     "output_type": "display_data"
    },
    {
     "name": "stderr",
     "output_type": "stream",
     "text": [
      "C:\\Users\\Advait\\anaconda3\\lib\\site-packages\\pandas_profiling\\profile_report.py:314: UserWarning: Extension .pdf not supported. For now we assume .html was intended. To remove this warning, please use .html or .json.\n",
      "  warnings.warn(\n"
     ]
    },
    {
     "data": {
      "application/vnd.jupyter.widget-view+json": {
       "model_id": "373a6085cecb4d3f86b3415ae2949e68",
       "version_major": 2,
       "version_minor": 0
      },
      "text/plain": [
       "Export report to file:   0%|          | 0/1 [00:00<?, ?it/s]"
      ]
     },
     "metadata": {},
     "output_type": "display_data"
    },
    {
     "name": "stdout",
     "output_type": "stream",
     "text": [
      "Number of orders where the shipping address differs from the billing address: 2676\n"
     ]
    }
   ],
   "source": [
    "# Import necessary libraries\n",
    "import pandas as pd\n",
    "import pandas_profiling\n",
    "from reportlab.lib.pagesizes import letter\n",
    "from reportlab.pdfgen import canvas\n",
    "\n",
    "# Read the input data file\n",
    "df = pd.read_csv(\"orders_2020_2021_DataSet_Updated.csv\")\n",
    "\n",
    "# Filter the data based on the input value\n",
    "df_filtered = df[df['Shipping Street Address'] != df['Billing Street Address']]\n",
    "\n",
    "# Generate a profile report of the filtered data\n",
    "profile = pandas_profiling.ProfileReport(df_filtered)\n",
    "\n",
    "# Save the profile report as a PDF file\n",
    "report_path = 'shipping_address_differs_billing_address.pdf'\n",
    "profile.to_file(report_path)\n",
    "\n",
    "# Generate an Excel sheet of the filtered data\n",
    "excel_path = 'shipping_address_differs_billing_address.xlsx'\n",
    "df_filtered.to_excel(excel_path, index=False)\n",
    "\n",
    "# Generate an CSV sheet of the filtered data\n",
    "csv_path = 'shipping_address_differs_billing_address.csv'\n",
    "df_filtered.to_csv(csv_path, index=False)\n",
    "\n",
    "# Print the number of orders where the shipping address differs from the billing address\n",
    "print(f\"Number of orders where the shipping address differs from the billing address: {df_filtered.shape[0]}\")\n"
   ]
  },
  {
   "cell_type": "markdown",
   "id": "d48fd9df",
   "metadata": {},
   "source": [
    "### 2. Multiple orders of the same item"
   ]
  },
  {
   "cell_type": "code",
   "execution_count": 34,
   "id": "ac47e69b",
   "metadata": {},
   "outputs": [
    {
     "data": {
      "application/vnd.jupyter.widget-view+json": {
       "model_id": "28beaf22ee2a4a248504205da3be0380",
       "version_major": 2,
       "version_minor": 0
      },
      "text/plain": [
       "Summarize dataset:   0%|          | 0/5 [00:00<?, ?it/s]"
      ]
     },
     "metadata": {},
     "output_type": "display_data"
    },
    {
     "data": {
      "application/vnd.jupyter.widget-view+json": {
       "model_id": "10f8f00e340f4642a89b1f5ffc440410",
       "version_major": 2,
       "version_minor": 0
      },
      "text/plain": [
       "Generate report structure:   0%|          | 0/1 [00:00<?, ?it/s]"
      ]
     },
     "metadata": {},
     "output_type": "display_data"
    },
    {
     "data": {
      "application/vnd.jupyter.widget-view+json": {
       "model_id": "dc92d9cd17064f4e88dcc554cd7abfa0",
       "version_major": 2,
       "version_minor": 0
      },
      "text/plain": [
       "Render HTML:   0%|          | 0/1 [00:00<?, ?it/s]"
      ]
     },
     "metadata": {},
     "output_type": "display_data"
    },
    {
     "name": "stderr",
     "output_type": "stream",
     "text": [
      "C:\\Users\\Advait\\anaconda3\\lib\\site-packages\\pandas_profiling\\profile_report.py:314: UserWarning: Extension .pdf not supported. For now we assume .html was intended. To remove this warning, please use .html or .json.\n",
      "  warnings.warn(\n"
     ]
    },
    {
     "data": {
      "application/vnd.jupyter.widget-view+json": {
       "model_id": "790e3463779f4a719743b3715c7de819",
       "version_major": 2,
       "version_minor": 0
      },
      "text/plain": [
       "Export report to file:   0%|          | 0/1 [00:00<?, ?it/s]"
      ]
     },
     "metadata": {},
     "output_type": "display_data"
    },
    {
     "name": "stdout",
     "output_type": "stream",
     "text": [
      "Number of orders with multiple items of the same type: 10\n"
     ]
    }
   ],
   "source": [
    "import pandas as pd\n",
    "import pandas_profiling\n",
    "from reportlab.lib.pagesizes import letter\n",
    "from reportlab.pdfgen import canvas\n",
    "\n",
    "# Read the input data file\n",
    "df = pd.read_csv(\"orders_2020_2021_DataSet_Updated.csv\")\n",
    "\n",
    "# Filter the data to include only orders with multiple items\n",
    "df_filtered = df.groupby(['Order #', 'LineItem Name']).filter(lambda x: len(x) > 1)\n",
    "\n",
    "# Generate a profile report of the filtered data\n",
    "profile = pandas_profiling.ProfileReport(df_filtered)\n",
    "\n",
    "# Save the profile report as a PDF file\n",
    "report_path = 'multiple_orders_same_item.pdf'\n",
    "profile.to_file(report_path)\n",
    "\n",
    "# Generate a excel file of the filtered data\n",
    "excel_path = 'multiple_orders_same_item.xlsx'\n",
    "df_filtered.to_excel(excel_path, index=False)\n",
    "\n",
    "# Generate a CSV file of the filtered data\n",
    "csv_path = 'multiple_orders_same_item.csv'\n",
    "df_filtered.to_csv(csv_path, index=False)\n",
    "\n",
    "# Print the number of orders with multiple items of the same type\n",
    "print(f\"Number of orders with multiple items of the same type: {df_filtered.shape[0]}\")\n"
   ]
  },
  {
   "cell_type": "markdown",
   "id": "3c040cee",
   "metadata": {},
   "source": [
    "### 3. Unusually large orders."
   ]
  },
  {
   "cell_type": "code",
   "execution_count": 39,
   "id": "b2b73ec2",
   "metadata": {},
   "outputs": [
    {
     "data": {
      "application/vnd.jupyter.widget-view+json": {
       "model_id": "9cfe19eed4104c32a70c2a0ff9489ca1",
       "version_major": 2,
       "version_minor": 0
      },
      "text/plain": [
       "Summarize dataset:   0%|          | 0/5 [00:00<?, ?it/s]"
      ]
     },
     "metadata": {},
     "output_type": "display_data"
    },
    {
     "name": "stderr",
     "output_type": "stream",
     "text": [
      "C:\\Users\\Advait\\anaconda3\\lib\\site-packages\\pandas_profiling\\model\\correlations.py:67: UserWarning: There was an attempt to calculate the auto correlation, but this failed.\n",
      "To hide this warning, disable the calculation\n",
      "(using `df.profile_report(correlations={\"auto\": {\"calculate\": False}})`\n",
      "If this is problematic for your use case, please report this as an issue:\n",
      "https://github.com/ydataai/pandas-profiling/issues\n",
      "(include the error message: 'No data; `observed` has size 0.')\n",
      "  warnings.warn(\n"
     ]
    },
    {
     "data": {
      "application/vnd.jupyter.widget-view+json": {
       "model_id": "896a1212e29449bd9d9984833aeac549",
       "version_major": 2,
       "version_minor": 0
      },
      "text/plain": [
       "Generate report structure:   0%|          | 0/1 [00:00<?, ?it/s]"
      ]
     },
     "metadata": {},
     "output_type": "display_data"
    },
    {
     "data": {
      "application/vnd.jupyter.widget-view+json": {
       "model_id": "680b40b3080740578f664d81f6f48e29",
       "version_major": 2,
       "version_minor": 0
      },
      "text/plain": [
       "Render HTML:   0%|          | 0/1 [00:00<?, ?it/s]"
      ]
     },
     "metadata": {},
     "output_type": "display_data"
    },
    {
     "name": "stderr",
     "output_type": "stream",
     "text": [
      "C:\\Users\\Advait\\anaconda3\\lib\\site-packages\\pandas_profiling\\profile_report.py:314: UserWarning: Extension .pdf not supported. For now we assume .html was intended. To remove this warning, please use .html or .json.\n",
      "  warnings.warn(\n"
     ]
    },
    {
     "data": {
      "application/vnd.jupyter.widget-view+json": {
       "model_id": "39e48d93b15d4487b4f6bcb238425dd3",
       "version_major": 2,
       "version_minor": 0
      },
      "text/plain": [
       "Export report to file:   0%|          | 0/1 [00:00<?, ?it/s]"
      ]
     },
     "metadata": {},
     "output_type": "display_data"
    },
    {
     "name": "stdout",
     "output_type": "stream",
     "text": [
      "Number of unusually large orders: 3040\n"
     ]
    }
   ],
   "source": [
    "# Import necessary libraries\n",
    "import pandas as pd\n",
    "import pandas_profiling\n",
    "from reportlab.lib.pagesizes import letter\n",
    "from reportlab.pdfgen import canvas\n",
    "\n",
    "# Read the input data file\n",
    "df = pd.read_csv(\"orders_2020_2021_DataSet_Updated.csv\")\n",
    "\n",
    "# Define the threshold value for unusually large orders\n",
    "threshold = '10000.00'\n",
    "\n",
    "# Filter the data based on the threshold value\n",
    "df_filtered = df[df['Total'] > threshold]\n",
    "\n",
    "# Generate a profile report of the filtered data\n",
    "profile = pandas_profiling.ProfileReport(df_filtered)\n",
    "\n",
    "# Save the profile report as a PDF file\n",
    "report_path = 'unusually_large_orders.pdf'\n",
    "profile.to_file(report_path)\n",
    "\n",
    "# Generate a CSV file of the filtered data\n",
    "csv_path = 'unusually_large_orders.csv'\n",
    "df_filtered.to_csv(csv_path, index=False)\n",
    "\n",
    "# Generate a excel file of the filtered data\n",
    "excel_path = 'unusually_large_orders.xlsx'\n",
    "df_filtered.to_excel(excel_path, index=False)\n",
    "\n",
    "# Print the number of unusually large orders\n",
    "print(f\"Number of unusually large orders: {df_filtered.shape[0]}\")\n"
   ]
  },
  {
   "cell_type": "markdown",
   "id": "875ddeb7",
   "metadata": {},
   "source": [
    "### 4.Multiple orders to the same address with different payment method."
   ]
  },
  {
   "cell_type": "code",
   "execution_count": 40,
   "id": "5f978dc0",
   "metadata": {},
   "outputs": [
    {
     "data": {
      "application/vnd.jupyter.widget-view+json": {
       "model_id": "63d06653b45d42b1b0f098c26855d5b8",
       "version_major": 2,
       "version_minor": 0
      },
      "text/plain": [
       "Summarize dataset:   0%|          | 0/5 [00:00<?, ?it/s]"
      ]
     },
     "metadata": {},
     "output_type": "display_data"
    },
    {
     "name": "stderr",
     "output_type": "stream",
     "text": [
      "C:\\Users\\Advait\\anaconda3\\lib\\site-packages\\pandas_profiling\\model\\correlations.py:67: UserWarning: There was an attempt to calculate the auto correlation, but this failed.\n",
      "To hide this warning, disable the calculation\n",
      "(using `df.profile_report(correlations={\"auto\": {\"calculate\": False}})`\n",
      "If this is problematic for your use case, please report this as an issue:\n",
      "https://github.com/ydataai/pandas-profiling/issues\n",
      "(include the error message: 'No data; `observed` has size 0.')\n",
      "  warnings.warn(\n"
     ]
    },
    {
     "data": {
      "application/vnd.jupyter.widget-view+json": {
       "model_id": "c9d2a40c11934d0eacfbf9c3d1b2079c",
       "version_major": 2,
       "version_minor": 0
      },
      "text/plain": [
       "Generate report structure:   0%|          | 0/1 [00:00<?, ?it/s]"
      ]
     },
     "metadata": {},
     "output_type": "display_data"
    },
    {
     "data": {
      "application/vnd.jupyter.widget-view+json": {
       "model_id": "7a2df8f6cf564525a45e8797ae7bf56c",
       "version_major": 2,
       "version_minor": 0
      },
      "text/plain": [
       "Render HTML:   0%|          | 0/1 [00:00<?, ?it/s]"
      ]
     },
     "metadata": {},
     "output_type": "display_data"
    },
    {
     "name": "stderr",
     "output_type": "stream",
     "text": [
      "C:\\Users\\Advait\\anaconda3\\lib\\site-packages\\pandas_profiling\\profile_report.py:314: UserWarning: Extension .pdf not supported. For now we assume .html was intended. To remove this warning, please use .html or .json.\n",
      "  warnings.warn(\n"
     ]
    },
    {
     "data": {
      "application/vnd.jupyter.widget-view+json": {
       "model_id": "286862a9e44d43dba15cc06fa4ad1235",
       "version_major": 2,
       "version_minor": 0
      },
      "text/plain": [
       "Export report to file:   0%|          | 0/1 [00:00<?, ?it/s]"
      ]
     },
     "metadata": {},
     "output_type": "display_data"
    },
    {
     "name": "stdout",
     "output_type": "stream",
     "text": [
      "Number of orders with multiple payment methods to the same address: 71\n"
     ]
    }
   ],
   "source": [
    "# Import necessary libraries\n",
    "import pandas as pd\n",
    "import pandas_profiling\n",
    "from reportlab.lib.pagesizes import letter\n",
    "from reportlab.pdfgen import canvas\n",
    "\n",
    "# Read the input data file\n",
    "df = pd.read_csv(\"orders_2020_2021_DataSet_Updated.csv\")\n",
    "\n",
    "# Filter the data based on the input value\n",
    "df_filtered = df.groupby(['Shipping Street Address']).filter(lambda x: x['Payment Method'].nunique() > 1)\n",
    "\n",
    "# Generate a profile report of the filtered data\n",
    "profile = pandas_profiling.ProfileReport(df_filtered)\n",
    "\n",
    "# Save the profile report as a PDF file\n",
    "report_path = 'multiple_orders_same_address_diff_payment_method.pdf'\n",
    "profile.to_file(report_path)\n",
    "\n",
    "# Generate an Excel file of the filtered data\n",
    "excel_path = 'multiple_orders_same_address_diff_payment_method.xlsx'\n",
    "df_filtered.to_excel(excel_path, index=False)\n",
    "\n",
    "# Generate a CSV file of the filtered data\n",
    "csv_path = 'multiple_orders_same_address_diff_payment_method.csv'\n",
    "df_filtered.to_csv(csv_path, index=False)\n",
    "\n",
    "# Print the number of orders with multiple payment methods to the same address\n",
    "print(f\"Number of orders with multiple payment methods to the same address: {df_filtered.shape[0]}\")\n"
   ]
  },
  {
   "cell_type": "markdown",
   "id": "fecd1792",
   "metadata": {},
   "source": [
    "### 5.Unexpected international orders."
   ]
  },
  {
   "cell_type": "code",
   "execution_count": 49,
   "id": "49a1d303",
   "metadata": {},
   "outputs": [
    {
     "name": "stderr",
     "output_type": "stream",
     "text": [
      "C:\\Users\\Advait\\anaconda3\\lib\\site-packages\\multimethod\\__init__.py:315: SettingWithCopyWarning: \n",
      "A value is trying to be set on a copy of a slice from a DataFrame\n",
      "\n",
      "See the caveats in the documentation: https://pandas.pydata.org/pandas-docs/stable/user_guide/indexing.html#returning-a-view-versus-a-copy\n",
      "  return func(*args, **kwargs)\n"
     ]
    },
    {
     "data": {
      "application/vnd.jupyter.widget-view+json": {
       "model_id": "6e3dbc517ea4479e8ee3491d8f9eb8a2",
       "version_major": 2,
       "version_minor": 0
      },
      "text/plain": [
       "Summarize dataset:   0%|          | 0/5 [00:00<?, ?it/s]"
      ]
     },
     "metadata": {},
     "output_type": "display_data"
    },
    {
     "name": "stderr",
     "output_type": "stream",
     "text": [
      "C:\\Users\\Advait\\anaconda3\\lib\\site-packages\\pandas_profiling\\model\\correlations.py:67: UserWarning: There was an attempt to calculate the auto correlation, but this failed.\n",
      "To hide this warning, disable the calculation\n",
      "(using `df.profile_report(correlations={\"auto\": {\"calculate\": False}})`\n",
      "If this is problematic for your use case, please report this as an issue:\n",
      "https://github.com/ydataai/pandas-profiling/issues\n",
      "(include the error message: 'No data; `observed` has size 0.')\n",
      "  warnings.warn(\n"
     ]
    },
    {
     "data": {
      "application/vnd.jupyter.widget-view+json": {
       "model_id": "5bca50d9584f455eb632011d5ed87d95",
       "version_major": 2,
       "version_minor": 0
      },
      "text/plain": [
       "Generate report structure:   0%|          | 0/1 [00:00<?, ?it/s]"
      ]
     },
     "metadata": {},
     "output_type": "display_data"
    },
    {
     "data": {
      "application/vnd.jupyter.widget-view+json": {
       "model_id": "6df05a9d060640d5b8005774ff0793aa",
       "version_major": 2,
       "version_minor": 0
      },
      "text/plain": [
       "Render HTML:   0%|          | 0/1 [00:00<?, ?it/s]"
      ]
     },
     "metadata": {},
     "output_type": "display_data"
    },
    {
     "name": "stderr",
     "output_type": "stream",
     "text": [
      "C:\\Users\\Advait\\anaconda3\\lib\\site-packages\\pandas_profiling\\profile_report.py:314: UserWarning: Extension .pdf not supported. For now we assume .html was intended. To remove this warning, please use .html or .json.\n",
      "  warnings.warn(\n"
     ]
    },
    {
     "data": {
      "application/vnd.jupyter.widget-view+json": {
       "model_id": "27af44206f4849d992e159abd1b6e9c6",
       "version_major": 2,
       "version_minor": 0
      },
      "text/plain": [
       "Export report to file:   0%|          | 0/1 [00:00<?, ?it/s]"
      ]
     },
     "metadata": {},
     "output_type": "display_data"
    },
    {
     "name": "stdout",
     "output_type": "stream",
     "text": [
      "Number of unexpected international orders: 40\n"
     ]
    }
   ],
   "source": [
    "import pandas as pd\n",
    "import pandas_profiling\n",
    "from reportlab.lib.pagesizes import letter\n",
    "from reportlab.pdfgen import canvas\n",
    "\n",
    "# Read the input data file\n",
    "df = pd.read_csv(\"orders_2020_2021_DataSet_Updated.csv\")\n",
    "\n",
    "# Filter the data based on the input value\n",
    "df_filtered = df[(df['Shipping Country'] != 'IND')]\n",
    "\n",
    "# Generate a profile report of the filtered data\n",
    "profile = pandas_profiling.ProfileReport(df_filtered)\n",
    "\n",
    "# Save the profile report as a PDF file\n",
    "report_path = 'unexpected_international_orders.pdf'\n",
    "profile.to_file(report_path)\n",
    "\n",
    "# Generate a CSV file of the filtered data\n",
    "csv_path = 'unexpected_international_orders.csv'\n",
    "df_filtered.to_csv(csv_path, index=False)\n",
    "\n",
    "# Generate an Excel file of the filtered data\n",
    "excel_path = 'unexpected_international_orders.xlsx'\n",
    "df_filtered.to_excel(excel_path, index=False)\n",
    "\n",
    "# Print the number of unexpected international orders\n",
    "print(f\"Number of unexpected international orders: {df_filtered.shape[0]}\")\n"
   ]
  },
  {
   "cell_type": "code",
   "execution_count": 51,
   "id": "965e640a",
   "metadata": {},
   "outputs": [],
   "source": [
    "def shipping_address_differs_billing_address():\n",
    "    # Import necessary libraries\n",
    "    import pandas as pd\n",
    "    import pandas_profiling\n",
    "    from reportlab.lib.pagesizes import letter\n",
    "    from reportlab.pdfgen import canvas\n",
    "    \n",
    "    # Read the input data file\n",
    "    df = pd.read_csv(\"orders_2020_2021_DataSet_Updated.csv\")\n",
    "    \n",
    "    # Filter the data based on the input value\n",
    "    df_filtered = df[df['Shipping Street Address'] != df['Billing Street Address']]\n",
    "    \n",
    "    # Generate a profile report of the filtered data\n",
    "    profile = pandas_profiling.ProfileReport(df_filtered)\n",
    "    \n",
    "    # Save the profile report as a PDF file\n",
    "    report_path = 'shipping_address_differs_billing_address.pdf'\n",
    "    profile.to_file(report_path)\n",
    "    \n",
    "    # Generate an Excel sheet of the filtered data\n",
    "    excel_path = 'shipping_address_differs_billing_address.xlsx'\n",
    "    df_filtered.to_excel(excel_path, index=False)\n",
    "    \n",
    "    # Generate an CSV sheet of the filtered data\n",
    "    csv_path = 'shipping_address_differs_billing_address.csv'\n",
    "    df_filtered.to_csv(csv_path, index=False)\n",
    "    \n",
    "    # Print the number of orders where the shipping address differs from the billing address\n",
    "    print(f\"Number of orders where the shipping address differs from the billing address: {df_filtered.shape[0]}\")\n"
   ]
  },
  {
   "cell_type": "code",
   "execution_count": 52,
   "id": "40647709",
   "metadata": {},
   "outputs": [],
   "source": [
    "def multiple_orders_same_item():\n",
    "    import pandas as pd\n",
    "    import pandas_profiling\n",
    "    from reportlab.lib.pagesizes import letter\n",
    "    from reportlab.pdfgen import canvas\n",
    "    \n",
    "    # Read the input data file\n",
    "    df = pd.read_csv(\"orders_2020_2021_DataSet_Updated.csv\")\n",
    "    \n",
    "    # Filter the data to include only orders with multiple items\n",
    "    df_filtered = df.groupby(['Order #', 'LineItem Name']).filter(lambda x: len(x) > 1)\n",
    "    \n",
    "    # Generate a profile report of the filtered data\n",
    "    profile = pandas_profiling.ProfileReport(df_filtered)\n",
    "    \n",
    "    # Save the profile report as a PDF file\n",
    "    report_path = 'multiple_orders_same_item.pdf'\n",
    "    profile.to_file(report_path)\n",
    "    \n",
    "    # Generate a excel file of the filtered data\n",
    "    excel_path = 'multiple_orders_same_item.xlsx'\n",
    "    df_filtered.to_excel(excel_path, index=False)\n",
    "    \n",
    "    # Generate a CSV file of the filtered data\n",
    "    csv_path = 'multiple_orders_same_item.csv'\n",
    "    df_filtered.to_csv(csv_path, index=False)\n",
    "    \n",
    "    # Print the number of orders with multiple items of the same type\n",
    "    print(f\"Number of orders with multiple items of the same type: {df_filtered.shape[0]}\")\n"
   ]
  },
  {
   "cell_type": "code",
   "execution_count": 53,
   "id": "a841fec9",
   "metadata": {},
   "outputs": [],
   "source": [
    "def unusally_large_orders():\n",
    "    # Import necessary libraries\n",
    "    import pandas as pd\n",
    "    import pandas_profiling\n",
    "    from reportlab.lib.pagesizes import letter\n",
    "    from reportlab.pdfgen import canvas\n",
    "    \n",
    "    # Read the input data file\n",
    "    df = pd.read_csv(\"orders_2020_2021_DataSet_Updated.csv\")\n",
    "    \n",
    "    # Define the threshold value for unusually large orders\n",
    "    threshold = '10000.00'\n",
    "    \n",
    "    # Filter the data based on the threshold value\n",
    "    df_filtered = df[df['Total'] > threshold]\n",
    "    \n",
    "    # Generate a profile report of the filtered data\n",
    "    profile = pandas_profiling.ProfileReport(df_filtered)\n",
    "    \n",
    "    # Save the profile report as a PDF file\n",
    "    report_path = 'unusually_large_orders.pdf'\n",
    "    profile.to_file(report_path)\n",
    "    \n",
    "    # Generate a CSV file of the filtered data\n",
    "    csv_path = 'unusually_large_orders.csv'\n",
    "    df_filtered.to_csv(csv_path, index=False)\n",
    "    \n",
    "    # Generate a excel file of the filtered data\n",
    "    excel_path = 'unusually_large_orders.xlsx'\n",
    "    df_filtered.to_excel(excel_path, index=False)\n",
    "    \n",
    "    # Print the number of unusually large orders\n",
    "    print(f\"Number of unusually large orders: {df_filtered.shape[0]}\")\n",
    "    "
   ]
  },
  {
   "cell_type": "code",
   "execution_count": 54,
   "id": "7b425d2e",
   "metadata": {},
   "outputs": [],
   "source": [
    "def multiple_order_same_address_different_payment_method():\n",
    "    # Import necessary libraries\n",
    "    import pandas as pd\n",
    "    import pandas_profiling\n",
    "    from reportlab.lib.pagesizes import letter\n",
    "    from reportlab.pdfgen import canvas\n",
    "    \n",
    "    # Read the input data file\n",
    "    df = pd.read_csv(\"orders_2020_2021_DataSet_Updated.csv\")\n",
    "    \n",
    "    # Filter the data based on the input value\n",
    "    df_filtered = df.groupby(['Shipping Street Address']).filter(lambda x: x['Payment Method'].nunique() > 1)\n",
    "    \n",
    "    # Generate a profile report of the filtered data\n",
    "    profile = pandas_profiling.ProfileReport(df_filtered)\n",
    "    \n",
    "    # Save the profile report as a PDF file\n",
    "    report_path = 'multiple_orders_same_address_diff_payment_method.pdf'\n",
    "    profile.to_file(report_path)\n",
    "    \n",
    "    # Generate an Excel file of the filtered data\n",
    "    excel_path = 'multiple_orders_same_address_diff_payment_method.xlsx'\n",
    "    df_filtered.to_excel(excel_path, index=False)\n",
    "    \n",
    "    # Generate a CSV file of the filtered data\n",
    "    csv_path = 'multiple_orders_same_address_diff_payment_method.csv'\n",
    "    df_filtered.to_csv(csv_path, index=False)\n",
    "    \n",
    "    # Print the number of orders with multiple payment methods to the same address\n",
    "    print(f\"Number of orders with multiple payment methods to the same address: {df_filtered.shape[0]}\")\n"
   ]
  },
  {
   "cell_type": "code",
   "execution_count": 55,
   "id": "327c150f",
   "metadata": {},
   "outputs": [],
   "source": [
    "def unexpected_international_orders():\n",
    "    import pandas as pd\n",
    "    import pandas_profiling\n",
    "    from reportlab.lib.pagesizes import letter\n",
    "    from reportlab.pdfgen import canvas\n",
    "    \n",
    "    # Read the input data file\n",
    "    df = pd.read_csv(\"orders_2020_2021_DataSet_Updated.csv\")\n",
    "    \n",
    "    # Filter the data based on the input value\n",
    "    df_filtered = df[(df['Shipping Country'] != 'IND')]\n",
    "    \n",
    "    # Generate a profile report of the filtered data\n",
    "    profile = pandas_profiling.ProfileReport(df_filtered)\n",
    "    \n",
    "    # Save the profile report as a PDF file\n",
    "    report_path = 'unexpected_international_orders.pdf'\n",
    "    profile.to_file(report_path)\n",
    "    \n",
    "    # Generate a CSV file of the filtered data\n",
    "    csv_path = 'unexpected_international_orders.csv'\n",
    "    df_filtered.to_csv(csv_path, index=False)\n",
    "    \n",
    "    # Generate an Excel file of the filtered data\n",
    "    excel_path = 'unexpected_international_orders.xlsx'\n",
    "    df_filtered.to_excel(excel_path, index=False)\n",
    "    \n",
    "    # Print the number of unexpected international orders\n",
    "    print(f\"Number of unexpected international orders: {df_filtered.shape[0]}\")\n"
   ]
  },
  {
   "cell_type": "code",
   "execution_count": 57,
   "id": "ef1129da",
   "metadata": {},
   "outputs": [
    {
     "name": "stdout",
     "output_type": "stream",
     "text": [
      "Welcome to Yoshops.com.\n",
      "\n",
      "\n",
      "Please select any one of the option:- \n",
      "\n",
      "\n",
      " Enter 1 to see the shipping address differs from the billing address.\n",
      "\n",
      "\n",
      " Enter 2 to see multiple orders of the same item.\n",
      "\n",
      "\n",
      " Enter 3 to see unusually large orders.\n",
      "\n",
      "\n",
      " Enter 4 to see multiple orders to the same address with different payment method.\n",
      "\n",
      "\n",
      " Enter 5 to see unexpected international orders.\n",
      "\n",
      "\n",
      "Enter only the numeric option(1,2,3,..,5) here : 1\n",
      "\n",
      "\n",
      "You have selected option  1\n"
     ]
    },
    {
     "name": "stderr",
     "output_type": "stream",
     "text": [
      "C:\\Users\\Advait\\anaconda3\\lib\\site-packages\\multimethod\\__init__.py:315: SettingWithCopyWarning: \n",
      "A value is trying to be set on a copy of a slice from a DataFrame\n",
      "\n",
      "See the caveats in the documentation: https://pandas.pydata.org/pandas-docs/stable/user_guide/indexing.html#returning-a-view-versus-a-copy\n",
      "  return func(*args, **kwargs)\n"
     ]
    },
    {
     "data": {
      "application/vnd.jupyter.widget-view+json": {
       "model_id": "c9b16d81723549119616cd4038a12d72",
       "version_major": 2,
       "version_minor": 0
      },
      "text/plain": [
       "Summarize dataset:   0%|          | 0/5 [00:00<?, ?it/s]"
      ]
     },
     "metadata": {},
     "output_type": "display_data"
    },
    {
     "name": "stderr",
     "output_type": "stream",
     "text": [
      "C:\\Users\\Advait\\anaconda3\\lib\\site-packages\\pandas_profiling\\model\\correlations.py:67: UserWarning: There was an attempt to calculate the auto correlation, but this failed.\n",
      "To hide this warning, disable the calculation\n",
      "(using `df.profile_report(correlations={\"auto\": {\"calculate\": False}})`\n",
      "If this is problematic for your use case, please report this as an issue:\n",
      "https://github.com/ydataai/pandas-profiling/issues\n",
      "(include the error message: 'No data; `observed` has size 0.')\n",
      "  warnings.warn(\n"
     ]
    },
    {
     "data": {
      "application/vnd.jupyter.widget-view+json": {
       "model_id": "3859867bea854ebd83e86d872e5f4939",
       "version_major": 2,
       "version_minor": 0
      },
      "text/plain": [
       "Generate report structure:   0%|          | 0/1 [00:00<?, ?it/s]"
      ]
     },
     "metadata": {},
     "output_type": "display_data"
    },
    {
     "data": {
      "application/vnd.jupyter.widget-view+json": {
       "model_id": "e74f3acc386d48fbba8375bcaf1601c5",
       "version_major": 2,
       "version_minor": 0
      },
      "text/plain": [
       "Render HTML:   0%|          | 0/1 [00:00<?, ?it/s]"
      ]
     },
     "metadata": {},
     "output_type": "display_data"
    },
    {
     "name": "stderr",
     "output_type": "stream",
     "text": [
      "C:\\Users\\Advait\\anaconda3\\lib\\site-packages\\pandas_profiling\\profile_report.py:314: UserWarning: Extension .pdf not supported. For now we assume .html was intended. To remove this warning, please use .html or .json.\n",
      "  warnings.warn(\n"
     ]
    },
    {
     "data": {
      "application/vnd.jupyter.widget-view+json": {
       "model_id": "08a2c2e81c92405b8a8016c3f0213bf7",
       "version_major": 2,
       "version_minor": 0
      },
      "text/plain": [
       "Export report to file:   0%|          | 0/1 [00:00<?, ?it/s]"
      ]
     },
     "metadata": {},
     "output_type": "display_data"
    },
    {
     "name": "stdout",
     "output_type": "stream",
     "text": [
      "Number of orders where the shipping address differs from the billing address: 2676\n"
     ]
    }
   ],
   "source": [
    "print(\"Welcome to Yoshops.com.\")\n",
    "print(\"\\n\\nPlease select any one of the option:- \")\n",
    "print(\"\\n\\n Enter 1 to see the shipping address differs from the billing address.\")\n",
    "print(\"\\n\\n Enter 2 to see multiple orders of the same item.\")\n",
    "print(\"\\n\\n Enter 3 to see unusually large orders.\")\n",
    "print(\"\\n\\n Enter 4 to see multiple orders to the same address with different payment method.\")\n",
    "print(\"\\n\\n Enter 5 to see unexpected international orders.\")\n",
    "choice = int(input(\"\\n\\nEnter only the numeric option(1,2,3,..,5) here : \"))\n",
    "print(\"\\n\\nYou have selected option \",choice)\n",
    "\n",
    "def yoshops_sales_order_eda(choice):\n",
    "    if choice == 1:\n",
    "        return shipping_address_differs_billing_address()\n",
    "    elif choice == 2:\n",
    "        return multiple_orders_same_item()\n",
    "    elif choice == 3:\n",
    "        return unusally_large_orders()\n",
    "    elif choice == 4:\n",
    "        return multiple_order_same_address_different_payment_method()\n",
    "    elif choice == 5:\n",
    "        return unexpected_international_orders()\n",
    "    else:\n",
    "        print(\"\\n\\nYou have entered a false choice. Please go through the available options and try again\")\n",
    "yoshops_sales_order_eda(choice)"
   ]
  },
  {
   "cell_type": "code",
   "execution_count": 58,
   "id": "1727a4b7",
   "metadata": {},
   "outputs": [
    {
     "name": "stderr",
     "output_type": "stream",
     "text": [
      "C:\\Users\\Advait\\anaconda3\\lib\\site-packages\\multimethod\\__init__.py:315: SettingWithCopyWarning: \n",
      "A value is trying to be set on a copy of a slice from a DataFrame\n",
      "\n",
      "See the caveats in the documentation: https://pandas.pydata.org/pandas-docs/stable/user_guide/indexing.html#returning-a-view-versus-a-copy\n",
      "  return func(*args, **kwargs)\n"
     ]
    },
    {
     "data": {
      "application/vnd.jupyter.widget-view+json": {
       "model_id": "6be7207def184e48a3266cc2f5925db7",
       "version_major": 2,
       "version_minor": 0
      },
      "text/plain": [
       "Summarize dataset:   0%|          | 0/5 [00:00<?, ?it/s]"
      ]
     },
     "metadata": {},
     "output_type": "display_data"
    },
    {
     "name": "stderr",
     "output_type": "stream",
     "text": [
      "C:\\Users\\Advait\\anaconda3\\lib\\site-packages\\pandas_profiling\\model\\correlations.py:67: UserWarning: There was an attempt to calculate the auto correlation, but this failed.\n",
      "To hide this warning, disable the calculation\n",
      "(using `df.profile_report(correlations={\"auto\": {\"calculate\": False}})`\n",
      "If this is problematic for your use case, please report this as an issue:\n",
      "https://github.com/ydataai/pandas-profiling/issues\n",
      "(include the error message: 'No data; `observed` has size 0.')\n",
      "  warnings.warn(\n"
     ]
    },
    {
     "data": {
      "application/vnd.jupyter.widget-view+json": {
       "model_id": "8fac6713619248edbfe754ad56465a6d",
       "version_major": 2,
       "version_minor": 0
      },
      "text/plain": [
       "Generate report structure:   0%|          | 0/1 [00:00<?, ?it/s]"
      ]
     },
     "metadata": {},
     "output_type": "display_data"
    },
    {
     "data": {
      "application/vnd.jupyter.widget-view+json": {
       "model_id": "c187eea007904486b8c8b495f74eb102",
       "version_major": 2,
       "version_minor": 0
      },
      "text/plain": [
       "Render HTML:   0%|          | 0/1 [00:00<?, ?it/s]"
      ]
     },
     "metadata": {},
     "output_type": "display_data"
    },
    {
     "name": "stderr",
     "output_type": "stream",
     "text": [
      "C:\\Users\\Advait\\anaconda3\\lib\\site-packages\\pandas_profiling\\profile_report.py:314: UserWarning: Extension .pdf not supported. For now we assume .html was intended. To remove this warning, please use .html or .json.\n",
      "  warnings.warn(\n"
     ]
    },
    {
     "data": {
      "application/vnd.jupyter.widget-view+json": {
       "model_id": "0c9a08f5cb3542c898231fa59d439635",
       "version_major": 2,
       "version_minor": 0
      },
      "text/plain": [
       "Export report to file:   0%|          | 0/1 [00:00<?, ?it/s]"
      ]
     },
     "metadata": {},
     "output_type": "display_data"
    },
    {
     "name": "stdout",
     "output_type": "stream",
     "text": [
      "Number of orders where the shipping address differs from the billing address: 2676\n"
     ]
    }
   ],
   "source": [
    "yoshops_sales_order_eda(choice)"
   ]
  },
  {
   "cell_type": "code",
   "execution_count": 59,
   "id": "2266c94d",
   "metadata": {},
   "outputs": [],
   "source": [
    "def yoshops_data_science_intern_task_3():\n",
    "    print(\"Welcome to Yoshops.com.\")\n",
    "    print(\"\\n\\nPlease select any one of the option:- \")\n",
    "    print(\"\\n\\n Enter 1 to see the shipping address differs from the billing address.\")\n",
    "    print(\"\\n\\n Enter 2 to see multiple orders of the same item.\")\n",
    "    print(\"\\n\\n Enter 3 to see unusually large orders.\")\n",
    "    print(\"\\n\\n Enter 4 to see multiple orders to the same address with different payment method.\")\n",
    "    print(\"\\n\\n Enter 5 to see unexpected international orders.\")\n",
    "    choice = int(input(\"\\n\\nEnter only the numeric option(1,2,3,..,5) here : \"))\n",
    "    print(\"\\n\\nYou have selected option \",choice)\n",
    "    \n",
    "    def yoshops_sales_order_eda(choice):\n",
    "        if choice == 1:\n",
    "            return shipping_address_differs_billing_address()\n",
    "        elif choice == 2:\n",
    "            return multiple_orders_same_item()\n",
    "        elif choice == 3:\n",
    "            return unusally_large_orders()\n",
    "        elif choice == 4:\n",
    "            return multiple_order_same_address_different_payment_method()\n",
    "        elif choice == 5:\n",
    "            return unexpected_international_orders()\n",
    "        else:\n",
    "            print(\"\\n\\nYou have entered a false choice. Please go through the available options and try again\")\n",
    "    yoshops_sales_order_eda(choice)"
   ]
  },
  {
   "cell_type": "code",
   "execution_count": 60,
   "id": "d6e8bcbe",
   "metadata": {},
   "outputs": [
    {
     "name": "stdout",
     "output_type": "stream",
     "text": [
      "Welcome to Yoshops.com.\n",
      "\n",
      "\n",
      "Please select any one of the option:- \n",
      "\n",
      "\n",
      " Enter 1 to see the shipping address differs from the billing address.\n",
      "\n",
      "\n",
      " Enter 2 to see multiple orders of the same item.\n",
      "\n",
      "\n",
      " Enter 3 to see unusually large orders.\n",
      "\n",
      "\n",
      " Enter 4 to see multiple orders to the same address with different payment method.\n",
      "\n",
      "\n",
      " Enter 5 to see unexpected international orders.\n",
      "\n",
      "\n",
      "Enter only the numeric option(1,2,3,..,5) here : 2\n",
      "\n",
      "\n",
      "You have selected option  2\n"
     ]
    },
    {
     "data": {
      "application/vnd.jupyter.widget-view+json": {
       "model_id": "d8c0ac725e8044ed87e1550ec49edacc",
       "version_major": 2,
       "version_minor": 0
      },
      "text/plain": [
       "Summarize dataset:   0%|          | 0/5 [00:00<?, ?it/s]"
      ]
     },
     "metadata": {},
     "output_type": "display_data"
    },
    {
     "data": {
      "application/vnd.jupyter.widget-view+json": {
       "model_id": "af3efb9fa55c4589ac6c97c4e69d9dff",
       "version_major": 2,
       "version_minor": 0
      },
      "text/plain": [
       "Generate report structure:   0%|          | 0/1 [00:00<?, ?it/s]"
      ]
     },
     "metadata": {},
     "output_type": "display_data"
    },
    {
     "data": {
      "application/vnd.jupyter.widget-view+json": {
       "model_id": "204e8f861c684bb1ad480975474bd4ae",
       "version_major": 2,
       "version_minor": 0
      },
      "text/plain": [
       "Render HTML:   0%|          | 0/1 [00:00<?, ?it/s]"
      ]
     },
     "metadata": {},
     "output_type": "display_data"
    },
    {
     "name": "stderr",
     "output_type": "stream",
     "text": [
      "C:\\Users\\Advait\\anaconda3\\lib\\site-packages\\pandas_profiling\\profile_report.py:314: UserWarning: Extension .pdf not supported. For now we assume .html was intended. To remove this warning, please use .html or .json.\n",
      "  warnings.warn(\n"
     ]
    },
    {
     "data": {
      "application/vnd.jupyter.widget-view+json": {
       "model_id": "eb114697824b4948b9ef09658ec385b0",
       "version_major": 2,
       "version_minor": 0
      },
      "text/plain": [
       "Export report to file:   0%|          | 0/1 [00:00<?, ?it/s]"
      ]
     },
     "metadata": {},
     "output_type": "display_data"
    },
    {
     "name": "stdout",
     "output_type": "stream",
     "text": [
      "Number of orders with multiple items of the same type: 10\n"
     ]
    }
   ],
   "source": [
    "yoshops_data_science_intern_task_3()"
   ]
  },
  {
   "cell_type": "code",
   "execution_count": 61,
   "id": "9bb18444",
   "metadata": {},
   "outputs": [
    {
     "name": "stdout",
     "output_type": "stream",
     "text": [
      "Welcome to Yoshops.com.\n",
      "\n",
      "\n",
      "Please select any one of the option:- \n",
      "\n",
      "\n",
      " Enter 1 to see the shipping address differs from the billing address.\n",
      "\n",
      "\n",
      " Enter 2 to see multiple orders of the same item.\n",
      "\n",
      "\n",
      " Enter 3 to see unusually large orders.\n",
      "\n",
      "\n",
      " Enter 4 to see multiple orders to the same address with different payment method.\n",
      "\n",
      "\n",
      " Enter 5 to see unexpected international orders.\n",
      "\n",
      "\n",
      "Enter only the numeric option(1,2,3,..,5) here : 3\n",
      "\n",
      "\n",
      "You have selected option  3\n"
     ]
    },
    {
     "data": {
      "application/vnd.jupyter.widget-view+json": {
       "model_id": "087873daf3ee44dbb8f0ca9111752e40",
       "version_major": 2,
       "version_minor": 0
      },
      "text/plain": [
       "Summarize dataset:   0%|          | 0/5 [00:00<?, ?it/s]"
      ]
     },
     "metadata": {},
     "output_type": "display_data"
    },
    {
     "name": "stderr",
     "output_type": "stream",
     "text": [
      "C:\\Users\\Advait\\anaconda3\\lib\\site-packages\\pandas_profiling\\model\\correlations.py:67: UserWarning: There was an attempt to calculate the auto correlation, but this failed.\n",
      "To hide this warning, disable the calculation\n",
      "(using `df.profile_report(correlations={\"auto\": {\"calculate\": False}})`\n",
      "If this is problematic for your use case, please report this as an issue:\n",
      "https://github.com/ydataai/pandas-profiling/issues\n",
      "(include the error message: 'No data; `observed` has size 0.')\n",
      "  warnings.warn(\n"
     ]
    },
    {
     "data": {
      "application/vnd.jupyter.widget-view+json": {
       "model_id": "8312b3d0f21348aa916e73900d8a4831",
       "version_major": 2,
       "version_minor": 0
      },
      "text/plain": [
       "Generate report structure:   0%|          | 0/1 [00:00<?, ?it/s]"
      ]
     },
     "metadata": {},
     "output_type": "display_data"
    },
    {
     "data": {
      "application/vnd.jupyter.widget-view+json": {
       "model_id": "ef222e92840c4e9099712d9b9abcdfd9",
       "version_major": 2,
       "version_minor": 0
      },
      "text/plain": [
       "Render HTML:   0%|          | 0/1 [00:00<?, ?it/s]"
      ]
     },
     "metadata": {},
     "output_type": "display_data"
    },
    {
     "name": "stderr",
     "output_type": "stream",
     "text": [
      "C:\\Users\\Advait\\anaconda3\\lib\\site-packages\\pandas_profiling\\profile_report.py:314: UserWarning: Extension .pdf not supported. For now we assume .html was intended. To remove this warning, please use .html or .json.\n",
      "  warnings.warn(\n"
     ]
    },
    {
     "data": {
      "application/vnd.jupyter.widget-view+json": {
       "model_id": "1735aaea427049248f298398b4c6e77b",
       "version_major": 2,
       "version_minor": 0
      },
      "text/plain": [
       "Export report to file:   0%|          | 0/1 [00:00<?, ?it/s]"
      ]
     },
     "metadata": {},
     "output_type": "display_data"
    },
    {
     "name": "stdout",
     "output_type": "stream",
     "text": [
      "Number of unusually large orders: 3040\n"
     ]
    }
   ],
   "source": [
    " yoshops_data_science_intern_task_3()"
   ]
  },
  {
   "cell_type": "code",
   "execution_count": 62,
   "id": "0debc2d1",
   "metadata": {},
   "outputs": [
    {
     "name": "stdout",
     "output_type": "stream",
     "text": [
      "Welcome to Yoshops.com.\n",
      "\n",
      "\n",
      "Please select any one of the option:- \n",
      "\n",
      "\n",
      " Enter 1 to see the shipping address differs from the billing address.\n",
      "\n",
      "\n",
      " Enter 2 to see multiple orders of the same item.\n",
      "\n",
      "\n",
      " Enter 3 to see unusually large orders.\n",
      "\n",
      "\n",
      " Enter 4 to see multiple orders to the same address with different payment method.\n",
      "\n",
      "\n",
      " Enter 5 to see unexpected international orders.\n",
      "\n",
      "\n",
      "Enter only the numeric option(1,2,3,..,5) here : 4\n",
      "\n",
      "\n",
      "You have selected option  4\n"
     ]
    },
    {
     "data": {
      "application/vnd.jupyter.widget-view+json": {
       "model_id": "81f41b8cf26241069395573891c43a05",
       "version_major": 2,
       "version_minor": 0
      },
      "text/plain": [
       "Summarize dataset:   0%|          | 0/5 [00:00<?, ?it/s]"
      ]
     },
     "metadata": {},
     "output_type": "display_data"
    },
    {
     "name": "stderr",
     "output_type": "stream",
     "text": [
      "C:\\Users\\Advait\\anaconda3\\lib\\site-packages\\pandas_profiling\\model\\correlations.py:67: UserWarning: There was an attempt to calculate the auto correlation, but this failed.\n",
      "To hide this warning, disable the calculation\n",
      "(using `df.profile_report(correlations={\"auto\": {\"calculate\": False}})`\n",
      "If this is problematic for your use case, please report this as an issue:\n",
      "https://github.com/ydataai/pandas-profiling/issues\n",
      "(include the error message: 'No data; `observed` has size 0.')\n",
      "  warnings.warn(\n"
     ]
    },
    {
     "data": {
      "application/vnd.jupyter.widget-view+json": {
       "model_id": "5cac8ded870b4e6196813aa02ce4aa83",
       "version_major": 2,
       "version_minor": 0
      },
      "text/plain": [
       "Generate report structure:   0%|          | 0/1 [00:00<?, ?it/s]"
      ]
     },
     "metadata": {},
     "output_type": "display_data"
    },
    {
     "data": {
      "application/vnd.jupyter.widget-view+json": {
       "model_id": "0d6cc90d23e0417cbfa4e6c7228f5acc",
       "version_major": 2,
       "version_minor": 0
      },
      "text/plain": [
       "Render HTML:   0%|          | 0/1 [00:00<?, ?it/s]"
      ]
     },
     "metadata": {},
     "output_type": "display_data"
    },
    {
     "name": "stderr",
     "output_type": "stream",
     "text": [
      "C:\\Users\\Advait\\anaconda3\\lib\\site-packages\\pandas_profiling\\profile_report.py:314: UserWarning: Extension .pdf not supported. For now we assume .html was intended. To remove this warning, please use .html or .json.\n",
      "  warnings.warn(\n"
     ]
    },
    {
     "data": {
      "application/vnd.jupyter.widget-view+json": {
       "model_id": "72f7809802cf4b399c94c002ea4829fc",
       "version_major": 2,
       "version_minor": 0
      },
      "text/plain": [
       "Export report to file:   0%|          | 0/1 [00:00<?, ?it/s]"
      ]
     },
     "metadata": {},
     "output_type": "display_data"
    },
    {
     "name": "stdout",
     "output_type": "stream",
     "text": [
      "Number of orders with multiple payment methods to the same address: 71\n"
     ]
    }
   ],
   "source": [
    " yoshops_data_science_intern_task_3()"
   ]
  },
  {
   "cell_type": "code",
   "execution_count": 63,
   "id": "6a86f1c7",
   "metadata": {},
   "outputs": [
    {
     "name": "stdout",
     "output_type": "stream",
     "text": [
      "Welcome to Yoshops.com.\n",
      "\n",
      "\n",
      "Please select any one of the option:- \n",
      "\n",
      "\n",
      " Enter 1 to see the shipping address differs from the billing address.\n",
      "\n",
      "\n",
      " Enter 2 to see multiple orders of the same item.\n",
      "\n",
      "\n",
      " Enter 3 to see unusually large orders.\n",
      "\n",
      "\n",
      " Enter 4 to see multiple orders to the same address with different payment method.\n",
      "\n",
      "\n",
      " Enter 5 to see unexpected international orders.\n",
      "\n",
      "\n",
      "Enter only the numeric option(1,2,3,..,5) here : 5\n",
      "\n",
      "\n",
      "You have selected option  5\n"
     ]
    },
    {
     "name": "stderr",
     "output_type": "stream",
     "text": [
      "C:\\Users\\Advait\\anaconda3\\lib\\site-packages\\multimethod\\__init__.py:315: SettingWithCopyWarning: \n",
      "A value is trying to be set on a copy of a slice from a DataFrame\n",
      "\n",
      "See the caveats in the documentation: https://pandas.pydata.org/pandas-docs/stable/user_guide/indexing.html#returning-a-view-versus-a-copy\n",
      "  return func(*args, **kwargs)\n"
     ]
    },
    {
     "data": {
      "application/vnd.jupyter.widget-view+json": {
       "model_id": "c4ab3ef3cade4f449311c34d3b19a408",
       "version_major": 2,
       "version_minor": 0
      },
      "text/plain": [
       "Summarize dataset:   0%|          | 0/5 [00:00<?, ?it/s]"
      ]
     },
     "metadata": {},
     "output_type": "display_data"
    },
    {
     "name": "stderr",
     "output_type": "stream",
     "text": [
      "C:\\Users\\Advait\\anaconda3\\lib\\site-packages\\pandas_profiling\\model\\correlations.py:67: UserWarning: There was an attempt to calculate the auto correlation, but this failed.\n",
      "To hide this warning, disable the calculation\n",
      "(using `df.profile_report(correlations={\"auto\": {\"calculate\": False}})`\n",
      "If this is problematic for your use case, please report this as an issue:\n",
      "https://github.com/ydataai/pandas-profiling/issues\n",
      "(include the error message: 'No data; `observed` has size 0.')\n",
      "  warnings.warn(\n"
     ]
    },
    {
     "data": {
      "application/vnd.jupyter.widget-view+json": {
       "model_id": "8c2ded3d108f40ed80991574f0390820",
       "version_major": 2,
       "version_minor": 0
      },
      "text/plain": [
       "Generate report structure:   0%|          | 0/1 [00:00<?, ?it/s]"
      ]
     },
     "metadata": {},
     "output_type": "display_data"
    },
    {
     "data": {
      "application/vnd.jupyter.widget-view+json": {
       "model_id": "92dea79d16bc4bbda5f836665bea5799",
       "version_major": 2,
       "version_minor": 0
      },
      "text/plain": [
       "Render HTML:   0%|          | 0/1 [00:00<?, ?it/s]"
      ]
     },
     "metadata": {},
     "output_type": "display_data"
    },
    {
     "name": "stderr",
     "output_type": "stream",
     "text": [
      "C:\\Users\\Advait\\anaconda3\\lib\\site-packages\\pandas_profiling\\profile_report.py:314: UserWarning: Extension .pdf not supported. For now we assume .html was intended. To remove this warning, please use .html or .json.\n",
      "  warnings.warn(\n"
     ]
    },
    {
     "data": {
      "application/vnd.jupyter.widget-view+json": {
       "model_id": "2e5d1925f4494cc4adc7832a365b38cc",
       "version_major": 2,
       "version_minor": 0
      },
      "text/plain": [
       "Export report to file:   0%|          | 0/1 [00:00<?, ?it/s]"
      ]
     },
     "metadata": {},
     "output_type": "display_data"
    },
    {
     "name": "stdout",
     "output_type": "stream",
     "text": [
      "Number of unexpected international orders: 40\n"
     ]
    }
   ],
   "source": [
    " yoshops_data_science_intern_task_3()"
   ]
  },
  {
   "cell_type": "code",
   "execution_count": 64,
   "id": "b231f484",
   "metadata": {},
   "outputs": [
    {
     "name": "stdout",
     "output_type": "stream",
     "text": [
      "Welcome to Yoshops.com.\n",
      "\n",
      "\n",
      "Please select any one of the option:- \n",
      "\n",
      "\n",
      " Enter 1 to see the shipping address differs from the billing address.\n",
      "\n",
      "\n",
      " Enter 2 to see multiple orders of the same item.\n",
      "\n",
      "\n",
      " Enter 3 to see unusually large orders.\n",
      "\n",
      "\n",
      " Enter 4 to see multiple orders to the same address with different payment method.\n",
      "\n",
      "\n",
      " Enter 5 to see unexpected international orders.\n",
      "\n",
      "\n",
      "Enter only the numeric option(1,2,3,..,5) here : 6\n",
      "\n",
      "\n",
      "You have selected option  6\n",
      "\n",
      "\n",
      "You have entered a false choice. Please go through the available options and try again\n"
     ]
    }
   ],
   "source": [
    " yoshops_data_science_intern_task_3()"
   ]
  },
  {
   "cell_type": "code",
   "execution_count": null,
   "id": "e8381245",
   "metadata": {},
   "outputs": [],
   "source": []
  }
 ],
 "metadata": {
  "kernelspec": {
   "display_name": "Python 3 (ipykernel)",
   "language": "python",
   "name": "python3"
  },
  "language_info": {
   "codemirror_mode": {
    "name": "ipython",
    "version": 3
   },
   "file_extension": ".py",
   "mimetype": "text/x-python",
   "name": "python",
   "nbconvert_exporter": "python",
   "pygments_lexer": "ipython3",
   "version": "3.9.13"
  }
 },
 "nbformat": 4,
 "nbformat_minor": 5
}
