{
 "cells": [
  {
   "cell_type": "markdown",
   "id": "94d9f890",
   "metadata": {},
   "source": [
    "## Yoshops Data Science Intern\n",
    "## Week 1 Task 1 : Python program to create a Excel file"
   ]
  },
  {
   "cell_type": "markdown",
   "id": "8a198255",
   "metadata": {},
   "source": [
    "\n",
    "### <u>Name</u> : ADVAIT GURUNATH CHAVAN\n",
    "### <u>Email</u> : advaitchavan135@gmail.com\n",
    "### <u>Contact No</u> : +91 70214 55852\n"
   ]
  },
  {
   "cell_type": "markdown",
   "id": "d86f7644",
   "metadata": {},
   "source": [
    "#### For creating Excel file and filling values in it using python I am using 'xlsxwriter' module and it's availabe functions"
   ]
  },
  {
   "cell_type": "code",
   "execution_count": 1,
   "id": "4887acfc",
   "metadata": {},
   "outputs": [
    {
     "name": "stdout",
     "output_type": "stream",
     "text": [
      "\n",
      "Welcome to Python 3.9's help utility!\n",
      "\n",
      "If this is your first time using Python, you should definitely check out\n",
      "the tutorial on the Internet at https://docs.python.org/3.9/tutorial/.\n",
      "\n",
      "Enter the name of any module, keyword, or topic to get help on writing\n",
      "Python programs and using Python modules.  To quit this help utility and\n",
      "return to the interpreter, just type \"quit\".\n",
      "\n",
      "To get a list of available modules, keywords, symbols, or topics, type\n",
      "\"modules\", \"keywords\", \"symbols\", or \"topics\".  Each module also comes\n",
      "with a one-line summary of what it does; to list the modules whose name\n",
      "or summary contain a given string such as \"spam\", type \"modules spam\".\n",
      "\n",
      "help> xlsxwriter\n",
      "Help on package xlsxwriter:\n",
      "\n",
      "NAME\n",
      "    xlsxwriter\n",
      "\n",
      "DESCRIPTION\n",
      "    # SPDX-License-Identifier: BSD-2-Clause\n",
      "    # Copyright 2013-2022, John McNamara, jmcnamara@cpan.org\n",
      "    #\n",
      "\n",
      "PACKAGE CONTENTS\n",
      "    app\n",
      "    chart\n",
      "    chart_area\n",
      "    chart_bar\n",
      "    chart_column\n",
      "    chart_doughnut\n",
      "    chart_line\n",
      "    chart_pie\n",
      "    chart_radar\n",
      "    chart_scatter\n",
      "    chart_stock\n",
      "    chartsheet\n",
      "    comments\n",
      "    contenttypes\n",
      "    core\n",
      "    custom\n",
      "    drawing\n",
      "    exceptions\n",
      "    format\n",
      "    metadata\n",
      "    packager\n",
      "    relationships\n",
      "    shape\n",
      "    sharedstrings\n",
      "    styles\n",
      "    table\n",
      "    theme\n",
      "    utility\n",
      "    vml\n",
      "    workbook\n",
      "    worksheet\n",
      "    xmlwriter\n",
      "\n",
      "DATA\n",
      "    __VERSION__ = '3.0.3'\n",
      "\n",
      "VERSION\n",
      "    3.0.3\n",
      "\n",
      "FILE\n",
      "    c:\\users\\advait\\anaconda3\\lib\\site-packages\\xlsxwriter\\__init__.py\n",
      "\n",
      "\n",
      "help> quit\n",
      "\n",
      "You are now leaving help and returning to the Python interpreter.\n",
      "If you want to ask for help on a particular object directly from the\n",
      "interpreter, you can type \"help(object)\".  Executing \"help('string')\"\n",
      "has the same effect as typing a particular string at the help> prompt.\n"
     ]
    }
   ],
   "source": [
    "help()"
   ]
  },
  {
   "cell_type": "code",
   "execution_count": 2,
   "id": "7e8d3272",
   "metadata": {},
   "outputs": [],
   "source": [
    "import xlsxwriter as xl"
   ]
  },
  {
   "cell_type": "markdown",
   "id": "479581d9",
   "metadata": {},
   "source": [
    "#### Using the 'Workbook' function to create a new excel workbook"
   ]
  },
  {
   "cell_type": "code",
   "execution_count": 7,
   "id": "9821ae70",
   "metadata": {},
   "outputs": [],
   "source": [
    "xl_book = xl.Workbook('Yoshops_Data_Science_Intern_Week_1_Task_1.xlsx')"
   ]
  },
  {
   "cell_type": "markdown",
   "id": "1df53553",
   "metadata": {},
   "source": [
    "#### Using the 'add_worksheet' function so as to create a new blank sheet in the excel workbook created above"
   ]
  },
  {
   "cell_type": "code",
   "execution_count": 4,
   "id": "8fa62574",
   "metadata": {},
   "outputs": [],
   "source": [
    "xl_sheet = xl_book.add_worksheet()"
   ]
  },
  {
   "cell_type": "markdown",
   "id": "4cc356cd",
   "metadata": {},
   "source": [
    "#### Using the 'write' function so as to fill the created excel sheet with values based on the cell number"
   ]
  },
  {
   "cell_type": "code",
   "execution_count": 5,
   "id": "739d0ad8",
   "metadata": {},
   "outputs": [
    {
     "data": {
      "text/plain": [
       "0"
      ]
     },
     "execution_count": 5,
     "metadata": {},
     "output_type": "execute_result"
    }
   ],
   "source": [
    "xl_sheet.write('A1','Name: ')\n",
    "xl_sheet.write('B1','ADVAIT GURUNATH CHAVAN')\n",
    "xl_sheet.write('A2','Yoshops')\n",
    "xl_sheet.write('B2','Data Science Intern')\n",
    "xl_sheet.write('A3','Week: ')\n",
    "xl_sheet.write('B3','1')\n",
    "xl_sheet.write('A4','Task:')\n",
    "xl_sheet.write('B4','1')"
   ]
  },
  {
   "cell_type": "markdown",
   "id": "0e9ebbd7",
   "metadata": {},
   "source": [
    "#### Closing the Excel Workbook(File) using the close function"
   ]
  },
  {
   "cell_type": "code",
   "execution_count": 6,
   "id": "042d5d73",
   "metadata": {},
   "outputs": [],
   "source": [
    "xl_book.close()"
   ]
  },
  {
   "cell_type": "code",
   "execution_count": null,
   "id": "1569e7a9",
   "metadata": {},
   "outputs": [],
   "source": []
  }
 ],
 "metadata": {
  "kernelspec": {
   "display_name": "Python 3 (ipykernel)",
   "language": "python",
   "name": "python3"
  },
  "language_info": {
   "codemirror_mode": {
    "name": "ipython",
    "version": 3
   },
   "file_extension": ".py",
   "mimetype": "text/x-python",
   "name": "python",
   "nbconvert_exporter": "python",
   "pygments_lexer": "ipython3",
   "version": "3.9.13"
  }
 },
 "nbformat": 4,
 "nbformat_minor": 5
}
