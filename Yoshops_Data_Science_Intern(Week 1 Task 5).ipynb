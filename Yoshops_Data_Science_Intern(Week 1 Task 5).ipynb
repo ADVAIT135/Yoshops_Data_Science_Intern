{
 "cells": [
  {
   "cell_type": "markdown",
   "id": "541a05c5",
   "metadata": {},
   "source": [
    "# Yoshops Data Science Intern Week 1 Task 5\n",
    "# Python program for Extracting mobile no from Json file and save into MS excel"
   ]
  },
  {
   "cell_type": "markdown",
   "id": "da711c0d",
   "metadata": {},
   "source": [
    "## <u>Name</u> : ADVAIT GURUNATH CHAVAN\n",
    "## <u>Email id</u> : advaitchavan135@gmail.com , advaitchavan.yoshops@gmail.com\n",
    "## <u>Contact</u> : +91 70214 55852"
   ]
  },
  {
   "cell_type": "code",
   "execution_count": 1,
   "id": "30be201b",
   "metadata": {},
   "outputs": [],
   "source": [
    "#Importing the dependencies\n",
    "import json\n",
    "import os\n",
    "import seaborn as sns\n",
    "import pandas as pd"
   ]
  },
  {
   "cell_type": "markdown",
   "id": "cc119fc4",
   "metadata": {},
   "source": [
    "### Setting the path for date 29/06/2022"
   ]
  },
  {
   "cell_type": "code",
   "execution_count": 2,
   "id": "67425e8d",
   "metadata": {},
   "outputs": [],
   "source": [
    "path_29_06 = '/Users/Advait/Desktop/Yoshops Internships/Week 1 Personal Task/Week 1 Task 5/contact_data/1657173630381_5042579018065678/chats/2022/06/29/'\n",
    "files_29_06 = [i for i in os.listdir(path_29_06) if i.endswith('.json')]"
   ]
  },
  {
   "cell_type": "code",
   "execution_count": 3,
   "id": "fdc6453c",
   "metadata": {},
   "outputs": [
    {
     "name": "stdout",
     "output_type": "stream",
     "text": [
      "['62c072d0-f795-11ec-9702-4165492261e7.json', '6bdba4c0-f74a-11ec-a0c1-0d2e72636470.json', '91705eb0-f7b3-11ec-9880-c1e4eddaee78.json', 'd4318e80-f773-11ec-a098-35551501145d.json']\n"
     ]
    }
   ],
   "source": [
    "# Viewing the json files in the directory of set path\n",
    "print(files_29_06)"
   ]
  },
  {
   "cell_type": "code",
   "execution_count": 4,
   "id": "bb444c88",
   "metadata": {},
   "outputs": [],
   "source": [
    "list_29_06 = []"
   ]
  },
  {
   "cell_type": "code",
   "execution_count": 21,
   "id": "0ae6579f",
   "metadata": {},
   "outputs": [],
   "source": [
    "for i in files_29_06:\n",
    "    dict={}\n",
    "    with open(\"/Users/Advait/Desktop/Yoshops Internships/Week 1 Personal Task/Week 1 Task 5/contact_data/1657173630381_5042579018065678/chats/2022/06/29/\" + i,'r') as json_29_06:\n",
    "        json_data_29_06 = json.load(json_29_06)\n",
    "        messages = json_data_29_06['messages'] #Accessing the 'messages'\n",
    "        messages_values = messages[1].values() #Accessing the keys and values in 'messages' in form of dictionary\n",
    "        messages_values_list = list(messages_values)[3] #Converting the dictionary to list\n",
    "        phone = messages_values_list.split(\":\")[2] #Accesing the 'phone' part of the list which is at position 3 in list created in previous step\n",
    "        name = messages_values_list.split(\":\") #Splitting names and phone\n",
    "        name_list = name[1].split('\\r\\n')[0] #accessing names\n",
    "        dict['Name_of_visitor'] = name_list #Creating a dict with name_list as key\n",
    "        dict['Contact_Number'] = phone      #and phone number as its value\n",
    "        list_29_06.append(dict)"
   ]
  },
  {
   "cell_type": "code",
   "execution_count": 16,
   "id": "77ea86f5",
   "metadata": {},
   "outputs": [
    {
     "data": {
      "text/plain": [
       "[{'sender': {'t': 's'},\n",
       "  'type': 'msg',\n",
       "  'time': '2022-06-29T10:22:56.586Z',\n",
       "  'msg': 'Welcome to Yoshops.com, If you need help simply reply to this message with your Name and your  Mobile number. We like to contact you to help.\\nOr Whatsapp =+91-9080749858'},\n",
       " {'sender': {'t': 'v'},\n",
       "  'type': 'msg',\n",
       "  'time': '2022-06-29T10:23:31.116Z',\n",
       "  'msg': 'Name : Sagar Bhadge\\r\\nPhone : 8459599718'}]"
      ]
     },
     "execution_count": 16,
     "metadata": {},
     "output_type": "execute_result"
    }
   ],
   "source": [
    " messages"
   ]
  },
  {
   "cell_type": "code",
   "execution_count": 17,
   "id": "145f88fb",
   "metadata": {},
   "outputs": [
    {
     "data": {
      "text/plain": [
       "dict_values([{'t': 'v'}, 'msg', '2022-06-29T10:23:31.116Z', 'Name : Sagar Bhadge\\r\\nPhone : 8459599718'])"
      ]
     },
     "execution_count": 17,
     "metadata": {},
     "output_type": "execute_result"
    }
   ],
   "source": [
    "messages_values"
   ]
  },
  {
   "cell_type": "code",
   "execution_count": 18,
   "id": "c7128d7c",
   "metadata": {},
   "outputs": [
    {
     "data": {
      "text/plain": [
       "[{'t': 'v'},\n",
       " 'msg',\n",
       " '2022-06-29T10:23:31.116Z',\n",
       " 'Name : Sagar Bhadge\\r\\nPhone : 8459599718']"
      ]
     },
     "execution_count": 18,
     "metadata": {},
     "output_type": "execute_result"
    }
   ],
   "source": [
    " messages_values_list"
   ]
  },
  {
   "cell_type": "code",
   "execution_count": 22,
   "id": "7ac76ac9",
   "metadata": {},
   "outputs": [
    {
     "data": {
      "text/plain": [
       "' 8280021014'"
      ]
     },
     "execution_count": 22,
     "metadata": {},
     "output_type": "execute_result"
    }
   ],
   "source": [
    "phone"
   ]
  },
  {
   "cell_type": "code",
   "execution_count": 23,
   "id": "b7f66ff2",
   "metadata": {},
   "outputs": [
    {
     "data": {
      "text/plain": [
       "['Name ', ' Manoj Pattnaik\\r\\nPhone ', ' 8280021014']"
      ]
     },
     "execution_count": 23,
     "metadata": {},
     "output_type": "execute_result"
    }
   ],
   "source": [
    "name"
   ]
  },
  {
   "cell_type": "code",
   "execution_count": 24,
   "id": "1cdb0c08",
   "metadata": {},
   "outputs": [
    {
     "data": {
      "text/plain": [
       "' Manoj Pattnaik'"
      ]
     },
     "execution_count": 24,
     "metadata": {},
     "output_type": "execute_result"
    }
   ],
   "source": [
    "name_list "
   ]
  },
  {
   "cell_type": "code",
   "execution_count": 25,
   "id": "0380836c",
   "metadata": {},
   "outputs": [
    {
     "data": {
      "text/plain": [
       "{'Name_of_visitor': ' Manoj Pattnaik', 'Contact_Number': ' 8280021014'}"
      ]
     },
     "execution_count": 25,
     "metadata": {},
     "output_type": "execute_result"
    }
   ],
   "source": [
    "dict"
   ]
  },
  {
   "cell_type": "code",
   "execution_count": 26,
   "id": "c21dbb9b",
   "metadata": {},
   "outputs": [
    {
     "data": {
      "text/plain": [
       "[{'Name_of_visitor': ' Sagar Bhadge', 'Contact_Number': ' 8459599718'},\n",
       " {'Name_of_visitor': ' Reena', 'Contact_Number': ' 9528692288'},\n",
       " {'Name_of_visitor': ' G. Balasubramanian', 'Contact_Number': ' 9123557647'},\n",
       " {'Name_of_visitor': ' Manoj Pattnaik', 'Contact_Number': ' 8280021014'}]"
      ]
     },
     "execution_count": 26,
     "metadata": {},
     "output_type": "execute_result"
    }
   ],
   "source": [
    "list_29_06"
   ]
  },
  {
   "cell_type": "code",
   "execution_count": 29,
   "id": "ab575b3f",
   "metadata": {},
   "outputs": [],
   "source": [
    "#Converting list to dataframe\n",
    "df_29_06 = pd.DataFrame(data=list_29_06)"
   ]
  },
  {
   "cell_type": "code",
   "execution_count": 30,
   "id": "49e9fa25",
   "metadata": {},
   "outputs": [
    {
     "data": {
      "text/html": [
       "<div>\n",
       "<style scoped>\n",
       "    .dataframe tbody tr th:only-of-type {\n",
       "        vertical-align: middle;\n",
       "    }\n",
       "\n",
       "    .dataframe tbody tr th {\n",
       "        vertical-align: top;\n",
       "    }\n",
       "\n",
       "    .dataframe thead th {\n",
       "        text-align: right;\n",
       "    }\n",
       "</style>\n",
       "<table border=\"1\" class=\"dataframe\">\n",
       "  <thead>\n",
       "    <tr style=\"text-align: right;\">\n",
       "      <th></th>\n",
       "      <th>Name_of_visitor</th>\n",
       "      <th>Contact_Number</th>\n",
       "    </tr>\n",
       "  </thead>\n",
       "  <tbody>\n",
       "    <tr>\n",
       "      <th>0</th>\n",
       "      <td>Sagar Bhadge</td>\n",
       "      <td>8459599718</td>\n",
       "    </tr>\n",
       "    <tr>\n",
       "      <th>1</th>\n",
       "      <td>Reena</td>\n",
       "      <td>9528692288</td>\n",
       "    </tr>\n",
       "    <tr>\n",
       "      <th>2</th>\n",
       "      <td>G. Balasubramanian</td>\n",
       "      <td>9123557647</td>\n",
       "    </tr>\n",
       "    <tr>\n",
       "      <th>3</th>\n",
       "      <td>Manoj Pattnaik</td>\n",
       "      <td>8280021014</td>\n",
       "    </tr>\n",
       "  </tbody>\n",
       "</table>\n",
       "</div>"
      ],
      "text/plain": [
       "       Name_of_visitor Contact_Number\n",
       "0         Sagar Bhadge     8459599718\n",
       "1                Reena     9528692288\n",
       "2   G. Balasubramanian     9123557647\n",
       "3       Manoj Pattnaik     8280021014"
      ]
     },
     "execution_count": 30,
     "metadata": {},
     "output_type": "execute_result"
    }
   ],
   "source": [
    "#Viewing the created dataframe\n",
    "df_29_06"
   ]
  },
  {
   "cell_type": "code",
   "execution_count": 37,
   "id": "c6b7b899",
   "metadata": {},
   "outputs": [],
   "source": [
    "#Saving Dataframe to excel file\n",
    "df_29_06.to_excel('Name_and_phone_29_06.xlsx',index=False)"
   ]
  },
  {
   "cell_type": "code",
   "execution_count": 38,
   "id": "c33d483e",
   "metadata": {},
   "outputs": [],
   "source": [
    "#Viewing the saved excel file\n",
    "test_df = pd.read_excel('Name_and_phone_29_06.xlsx')"
   ]
  },
  {
   "cell_type": "code",
   "execution_count": 39,
   "id": "b148993c",
   "metadata": {},
   "outputs": [
    {
     "data": {
      "text/html": [
       "<div>\n",
       "<style scoped>\n",
       "    .dataframe tbody tr th:only-of-type {\n",
       "        vertical-align: middle;\n",
       "    }\n",
       "\n",
       "    .dataframe tbody tr th {\n",
       "        vertical-align: top;\n",
       "    }\n",
       "\n",
       "    .dataframe thead th {\n",
       "        text-align: right;\n",
       "    }\n",
       "</style>\n",
       "<table border=\"1\" class=\"dataframe\">\n",
       "  <thead>\n",
       "    <tr style=\"text-align: right;\">\n",
       "      <th></th>\n",
       "      <th>Name_of_visitor</th>\n",
       "      <th>Contact_Number</th>\n",
       "    </tr>\n",
       "  </thead>\n",
       "  <tbody>\n",
       "    <tr>\n",
       "      <th>0</th>\n",
       "      <td>Sagar Bhadge</td>\n",
       "      <td>8459599718</td>\n",
       "    </tr>\n",
       "    <tr>\n",
       "      <th>1</th>\n",
       "      <td>Reena</td>\n",
       "      <td>9528692288</td>\n",
       "    </tr>\n",
       "    <tr>\n",
       "      <th>2</th>\n",
       "      <td>G. Balasubramanian</td>\n",
       "      <td>9123557647</td>\n",
       "    </tr>\n",
       "    <tr>\n",
       "      <th>3</th>\n",
       "      <td>Manoj Pattnaik</td>\n",
       "      <td>8280021014</td>\n",
       "    </tr>\n",
       "  </tbody>\n",
       "</table>\n",
       "</div>"
      ],
      "text/plain": [
       "       Name_of_visitor  Contact_Number\n",
       "0         Sagar Bhadge      8459599718\n",
       "1                Reena      9528692288\n",
       "2   G. Balasubramanian      9123557647\n",
       "3       Manoj Pattnaik      8280021014"
      ]
     },
     "execution_count": 39,
     "metadata": {},
     "output_type": "execute_result"
    }
   ],
   "source": [
    "test_df"
   ]
  },
  {
   "cell_type": "markdown",
   "id": "67cf6736",
   "metadata": {},
   "source": [
    "### Setting path for date 30/06/2022"
   ]
  },
  {
   "cell_type": "code",
   "execution_count": 40,
   "id": "e1870d69",
   "metadata": {},
   "outputs": [],
   "source": [
    "path_30_06 = '/Users/Advait/Desktop/Yoshops Internships/Week 1 Personal Task/Week 1 Task 5/contact_data/1657173630381_5042579018065678/chats/2022/06/30/'\n",
    "files_30_06 = [i for i in os.listdir(path_30_06) if i.endswith('.json')]"
   ]
  },
  {
   "cell_type": "code",
   "execution_count": 41,
   "id": "57189907",
   "metadata": {},
   "outputs": [
    {
     "name": "stdout",
     "output_type": "stream",
     "text": [
      "['05ae88c0-f871-11ec-a0b8-d9e10e7c0f2d.json', 'c37068b0-f80d-11ec-838e-b9a87975b9e3.json', 'e81d80c0-f881-11ec-a1de-117adac26d8b.json']\n"
     ]
    }
   ],
   "source": [
    "# Viewing the json files in the directory of set path\n",
    "print(files_30_06)"
   ]
  },
  {
   "cell_type": "code",
   "execution_count": 42,
   "id": "d7ee1445",
   "metadata": {},
   "outputs": [],
   "source": [
    "list_30_06 = []"
   ]
  },
  {
   "cell_type": "code",
   "execution_count": 43,
   "id": "163a39d0",
   "metadata": {},
   "outputs": [],
   "source": [
    "for i in files_30_06:\n",
    "    dict={}\n",
    "    with open(\"/Users/Advait/Desktop/Yoshops Internships/Week 1 Personal Task/Week 1 Task 5/contact_data/1657173630381_5042579018065678/chats/2022/06/30/\" + i,'r') as json_30_06:\n",
    "        json_data_30_06 = json.load(json_30_06)\n",
    "        messages = json_data_30_06['messages'] #Accessing the 'messages'\n",
    "        messages_values = messages[1].values() #Accessing the keys and values in 'messages' in form of dictionary\n",
    "        messages_values_list = list(messages_values)[3] #Converting the dictionary to list\n",
    "        phone = messages_values_list.split(\":\")[2] #Accesing the 'phone' part of the list which is at position 3 in list created in previous step\n",
    "        name = messages_values_list.split(\":\") #Splitting names and phone\n",
    "        name_list = name[1].split('\\r\\n')[0] #accessing names\n",
    "        dict['Name_of_visitor'] = name_list #Creating a dict with name_list as key\n",
    "        dict['Contact_Number'] = phone      #and phone number as its value\n",
    "        list_30_06.append(dict)"
   ]
  },
  {
   "cell_type": "code",
   "execution_count": 44,
   "id": "2d9dbbd9",
   "metadata": {},
   "outputs": [
    {
     "data": {
      "text/plain": [
       "[{'sender': {'t': 's'},\n",
       "  'type': 'msg',\n",
       "  'time': '2022-06-30T14:35:49.350Z',\n",
       "  'msg': 'Welcome to Yoshops.com, If you need help simply reply to this message with your Name and your  Mobile number. We like to contact you to help.\\nOr Whatsapp =+91-9080749858'},\n",
       " {'sender': {'t': 'v'},\n",
       "  'type': 'msg',\n",
       "  'time': '2022-06-30T14:37:42.791Z',\n",
       "  'msg': 'Name : HAMMAD BIN NAVEED\\r\\nPhone : 03181982707'}]"
      ]
     },
     "execution_count": 44,
     "metadata": {},
     "output_type": "execute_result"
    }
   ],
   "source": [
    " messages"
   ]
  },
  {
   "cell_type": "code",
   "execution_count": 45,
   "id": "43a0c74e",
   "metadata": {},
   "outputs": [
    {
     "data": {
      "text/plain": [
       "dict_values([{'t': 'v'}, 'msg', '2022-06-30T14:37:42.791Z', 'Name : HAMMAD BIN NAVEED\\r\\nPhone : 03181982707'])"
      ]
     },
     "execution_count": 45,
     "metadata": {},
     "output_type": "execute_result"
    }
   ],
   "source": [
    "messages_values"
   ]
  },
  {
   "cell_type": "code",
   "execution_count": 46,
   "id": "24c15040",
   "metadata": {},
   "outputs": [
    {
     "data": {
      "text/plain": [
       "'Name : HAMMAD BIN NAVEED\\r\\nPhone : 03181982707'"
      ]
     },
     "execution_count": 46,
     "metadata": {},
     "output_type": "execute_result"
    }
   ],
   "source": [
    " messages_values_list"
   ]
  },
  {
   "cell_type": "code",
   "execution_count": 47,
   "id": "080e0c35",
   "metadata": {},
   "outputs": [
    {
     "data": {
      "text/plain": [
       "' 03181982707'"
      ]
     },
     "execution_count": 47,
     "metadata": {},
     "output_type": "execute_result"
    }
   ],
   "source": [
    "phone"
   ]
  },
  {
   "cell_type": "code",
   "execution_count": 48,
   "id": "e1014ae6",
   "metadata": {},
   "outputs": [
    {
     "data": {
      "text/plain": [
       "['Name ', ' HAMMAD BIN NAVEED\\r\\nPhone ', ' 03181982707']"
      ]
     },
     "execution_count": 48,
     "metadata": {},
     "output_type": "execute_result"
    }
   ],
   "source": [
    "name"
   ]
  },
  {
   "cell_type": "code",
   "execution_count": 49,
   "id": "b3d195f9",
   "metadata": {},
   "outputs": [
    {
     "data": {
      "text/plain": [
       "' HAMMAD BIN NAVEED'"
      ]
     },
     "execution_count": 49,
     "metadata": {},
     "output_type": "execute_result"
    }
   ],
   "source": [
    "name_list "
   ]
  },
  {
   "cell_type": "code",
   "execution_count": 50,
   "id": "0ae94e44",
   "metadata": {},
   "outputs": [
    {
     "data": {
      "text/plain": [
       "{'Name_of_visitor': ' HAMMAD BIN NAVEED', 'Contact_Number': ' 03181982707'}"
      ]
     },
     "execution_count": 50,
     "metadata": {},
     "output_type": "execute_result"
    }
   ],
   "source": [
    "dict"
   ]
  },
  {
   "cell_type": "code",
   "execution_count": 51,
   "id": "67d9e80b",
   "metadata": {},
   "outputs": [
    {
     "data": {
      "text/plain": [
       "[{'Name_of_visitor': ' Nitin kumar', 'Contact_Number': ' 9304522101'},\n",
       " {'Name_of_visitor': ' Avnish kumar', 'Contact_Number': ' 6200028123'},\n",
       " {'Name_of_visitor': ' HAMMAD BIN NAVEED', 'Contact_Number': ' 03181982707'}]"
      ]
     },
     "execution_count": 51,
     "metadata": {},
     "output_type": "execute_result"
    }
   ],
   "source": [
    "list_30_06"
   ]
  },
  {
   "cell_type": "code",
   "execution_count": 52,
   "id": "4df54f8e",
   "metadata": {},
   "outputs": [],
   "source": [
    "#Converting list to dataframe\n",
    "df_30_06 = pd.DataFrame(data=list_30_06)"
   ]
  },
  {
   "cell_type": "code",
   "execution_count": 53,
   "id": "a3712695",
   "metadata": {},
   "outputs": [
    {
     "data": {
      "text/html": [
       "<div>\n",
       "<style scoped>\n",
       "    .dataframe tbody tr th:only-of-type {\n",
       "        vertical-align: middle;\n",
       "    }\n",
       "\n",
       "    .dataframe tbody tr th {\n",
       "        vertical-align: top;\n",
       "    }\n",
       "\n",
       "    .dataframe thead th {\n",
       "        text-align: right;\n",
       "    }\n",
       "</style>\n",
       "<table border=\"1\" class=\"dataframe\">\n",
       "  <thead>\n",
       "    <tr style=\"text-align: right;\">\n",
       "      <th></th>\n",
       "      <th>Name_of_visitor</th>\n",
       "      <th>Contact_Number</th>\n",
       "    </tr>\n",
       "  </thead>\n",
       "  <tbody>\n",
       "    <tr>\n",
       "      <th>0</th>\n",
       "      <td>Nitin kumar</td>\n",
       "      <td>9304522101</td>\n",
       "    </tr>\n",
       "    <tr>\n",
       "      <th>1</th>\n",
       "      <td>Avnish kumar</td>\n",
       "      <td>6200028123</td>\n",
       "    </tr>\n",
       "    <tr>\n",
       "      <th>2</th>\n",
       "      <td>HAMMAD BIN NAVEED</td>\n",
       "      <td>03181982707</td>\n",
       "    </tr>\n",
       "  </tbody>\n",
       "</table>\n",
       "</div>"
      ],
      "text/plain": [
       "      Name_of_visitor Contact_Number\n",
       "0         Nitin kumar     9304522101\n",
       "1        Avnish kumar     6200028123\n",
       "2   HAMMAD BIN NAVEED    03181982707"
      ]
     },
     "execution_count": 53,
     "metadata": {},
     "output_type": "execute_result"
    }
   ],
   "source": [
    "#Viewing the created dataframe\n",
    "df_30_06"
   ]
  },
  {
   "cell_type": "code",
   "execution_count": 54,
   "id": "45ae2372",
   "metadata": {},
   "outputs": [],
   "source": [
    "#Saving Dataframe to excel file\n",
    "df_30_06.to_excel('Name_and_phone_30_06.xlsx',index=False)"
   ]
  },
  {
   "cell_type": "code",
   "execution_count": 55,
   "id": "a3e0ebe6",
   "metadata": {},
   "outputs": [],
   "source": [
    "#Viewing the saved excel file\n",
    "test_df = pd.read_excel('Name_and_phone_30_06.xlsx')"
   ]
  },
  {
   "cell_type": "code",
   "execution_count": 56,
   "id": "a0fd381b",
   "metadata": {},
   "outputs": [
    {
     "data": {
      "text/html": [
       "<div>\n",
       "<style scoped>\n",
       "    .dataframe tbody tr th:only-of-type {\n",
       "        vertical-align: middle;\n",
       "    }\n",
       "\n",
       "    .dataframe tbody tr th {\n",
       "        vertical-align: top;\n",
       "    }\n",
       "\n",
       "    .dataframe thead th {\n",
       "        text-align: right;\n",
       "    }\n",
       "</style>\n",
       "<table border=\"1\" class=\"dataframe\">\n",
       "  <thead>\n",
       "    <tr style=\"text-align: right;\">\n",
       "      <th></th>\n",
       "      <th>Name_of_visitor</th>\n",
       "      <th>Contact_Number</th>\n",
       "    </tr>\n",
       "  </thead>\n",
       "  <tbody>\n",
       "    <tr>\n",
       "      <th>0</th>\n",
       "      <td>Nitin kumar</td>\n",
       "      <td>9304522101</td>\n",
       "    </tr>\n",
       "    <tr>\n",
       "      <th>1</th>\n",
       "      <td>Avnish kumar</td>\n",
       "      <td>6200028123</td>\n",
       "    </tr>\n",
       "    <tr>\n",
       "      <th>2</th>\n",
       "      <td>HAMMAD BIN NAVEED</td>\n",
       "      <td>3181982707</td>\n",
       "    </tr>\n",
       "  </tbody>\n",
       "</table>\n",
       "</div>"
      ],
      "text/plain": [
       "      Name_of_visitor  Contact_Number\n",
       "0         Nitin kumar      9304522101\n",
       "1        Avnish kumar      6200028123\n",
       "2   HAMMAD BIN NAVEED      3181982707"
      ]
     },
     "execution_count": 56,
     "metadata": {},
     "output_type": "execute_result"
    }
   ],
   "source": [
    "test_df"
   ]
  },
  {
   "cell_type": "markdown",
   "id": "0ef8c177",
   "metadata": {},
   "source": [
    "### Setting up path for 01/07/2022"
   ]
  },
  {
   "cell_type": "code",
   "execution_count": 57,
   "id": "711cde37",
   "metadata": {},
   "outputs": [],
   "source": [
    "path_01_07 = '/Users/Advait/Desktop/Yoshops Internships/Week 1 Personal Task/Week 1 Task 5/contact_data/1657173630381_5042579018065678/chats/2022/07/01/'\n",
    "files_01_07 = [i for i in os.listdir(path_01_07) if i.endswith('.json')]"
   ]
  },
  {
   "cell_type": "code",
   "execution_count": 58,
   "id": "38e3ad0b",
   "metadata": {},
   "outputs": [
    {
     "name": "stdout",
     "output_type": "stream",
     "text": [
      "['01f163d0-f8ec-11ec-9ba6-1f4331c726ac.json', '69c41d60-f921-11ec-b076-f5d0ec16503b.json', 'cce9c410-f91e-11ec-ac48-9f85e64f2db4.json']\n"
     ]
    }
   ],
   "source": [
    "# Viewing the json files in the directory of set path\n",
    "print(files_01_07)"
   ]
  },
  {
   "cell_type": "code",
   "execution_count": 59,
   "id": "2a04cc74",
   "metadata": {},
   "outputs": [],
   "source": [
    "list_01_07 = []"
   ]
  },
  {
   "cell_type": "code",
   "execution_count": 60,
   "id": "5d59cafc",
   "metadata": {},
   "outputs": [],
   "source": [
    "for i in files_01_07:\n",
    "    dict={}\n",
    "    with open(\"/Users/Advait/Desktop/Yoshops Internships/Week 1 Personal Task/Week 1 Task 5/contact_data/1657173630381_5042579018065678/chats/2022/07/01/\" + i,'r') as json_01_07:\n",
    "        json_data_01_07 = json.load(json_01_07)\n",
    "        messages = json_data_01_07['messages'] #Accessing the 'messages'\n",
    "        messages_values = messages[1].values() #Accessing the keys and values in 'messages' in form of dictionary\n",
    "        messages_values_list = list(messages_values)[3] #Converting the dictionary to list\n",
    "        phone = messages_values_list.split(\":\")[2] #Accesing the 'phone' part of the list which is at position 3 in list created in previous step\n",
    "        name = messages_values_list.split(\":\") #Splitting names and phone\n",
    "        name_list = name[1].split('\\r\\n')[0] #accessing names\n",
    "        dict['Name_of_visitor'] = name_list #Creating a dict with name_list as key\n",
    "        dict['Contact_Number'] = phone      #and phone number as its value\n",
    "        list_01_07.append(dict)"
   ]
  },
  {
   "cell_type": "code",
   "execution_count": 61,
   "id": "eb206f53",
   "metadata": {},
   "outputs": [
    {
     "data": {
      "text/plain": [
       "[{'Name_of_visitor': ' NARENDRA', 'Contact_Number': ' 9391193459'},\n",
       " {'Name_of_visitor': ' Prem Kumar', 'Contact_Number': ' 9799818360'},\n",
       " {'Name_of_visitor': ' ramkumar', 'Contact_Number': ' 9962278886'}]"
      ]
     },
     "execution_count": 61,
     "metadata": {},
     "output_type": "execute_result"
    }
   ],
   "source": [
    "list_01_07"
   ]
  },
  {
   "cell_type": "code",
   "execution_count": 62,
   "id": "e926257e",
   "metadata": {},
   "outputs": [],
   "source": [
    "#Converting list to dataframe\n",
    "df_01_07 = pd.DataFrame(data=list_01_07)"
   ]
  },
  {
   "cell_type": "code",
   "execution_count": 63,
   "id": "ebd2b322",
   "metadata": {},
   "outputs": [
    {
     "data": {
      "text/html": [
       "<div>\n",
       "<style scoped>\n",
       "    .dataframe tbody tr th:only-of-type {\n",
       "        vertical-align: middle;\n",
       "    }\n",
       "\n",
       "    .dataframe tbody tr th {\n",
       "        vertical-align: top;\n",
       "    }\n",
       "\n",
       "    .dataframe thead th {\n",
       "        text-align: right;\n",
       "    }\n",
       "</style>\n",
       "<table border=\"1\" class=\"dataframe\">\n",
       "  <thead>\n",
       "    <tr style=\"text-align: right;\">\n",
       "      <th></th>\n",
       "      <th>Name_of_visitor</th>\n",
       "      <th>Contact_Number</th>\n",
       "    </tr>\n",
       "  </thead>\n",
       "  <tbody>\n",
       "    <tr>\n",
       "      <th>0</th>\n",
       "      <td>NARENDRA</td>\n",
       "      <td>9391193459</td>\n",
       "    </tr>\n",
       "    <tr>\n",
       "      <th>1</th>\n",
       "      <td>Prem Kumar</td>\n",
       "      <td>9799818360</td>\n",
       "    </tr>\n",
       "    <tr>\n",
       "      <th>2</th>\n",
       "      <td>ramkumar</td>\n",
       "      <td>9962278886</td>\n",
       "    </tr>\n",
       "  </tbody>\n",
       "</table>\n",
       "</div>"
      ],
      "text/plain": [
       "  Name_of_visitor Contact_Number\n",
       "0        NARENDRA     9391193459\n",
       "1      Prem Kumar     9799818360\n",
       "2        ramkumar     9962278886"
      ]
     },
     "execution_count": 63,
     "metadata": {},
     "output_type": "execute_result"
    }
   ],
   "source": [
    "#Viewing the created dataframe\n",
    "df_01_07"
   ]
  },
  {
   "cell_type": "code",
   "execution_count": 64,
   "id": "16d72402",
   "metadata": {},
   "outputs": [],
   "source": [
    "#Saving Dataframe to excel file\n",
    "df_01_07.to_excel('Name_and_phone_01_07.xlsx',index=False)"
   ]
  },
  {
   "cell_type": "code",
   "execution_count": 65,
   "id": "5e869ca5",
   "metadata": {},
   "outputs": [],
   "source": [
    "#Viewing the saved excel file\n",
    "test_df = pd.read_excel('Name_and_phone_01_07.xlsx')"
   ]
  },
  {
   "cell_type": "code",
   "execution_count": 66,
   "id": "3a8a9d15",
   "metadata": {},
   "outputs": [
    {
     "data": {
      "text/html": [
       "<div>\n",
       "<style scoped>\n",
       "    .dataframe tbody tr th:only-of-type {\n",
       "        vertical-align: middle;\n",
       "    }\n",
       "\n",
       "    .dataframe tbody tr th {\n",
       "        vertical-align: top;\n",
       "    }\n",
       "\n",
       "    .dataframe thead th {\n",
       "        text-align: right;\n",
       "    }\n",
       "</style>\n",
       "<table border=\"1\" class=\"dataframe\">\n",
       "  <thead>\n",
       "    <tr style=\"text-align: right;\">\n",
       "      <th></th>\n",
       "      <th>Name_of_visitor</th>\n",
       "      <th>Contact_Number</th>\n",
       "    </tr>\n",
       "  </thead>\n",
       "  <tbody>\n",
       "    <tr>\n",
       "      <th>0</th>\n",
       "      <td>NARENDRA</td>\n",
       "      <td>9391193459</td>\n",
       "    </tr>\n",
       "    <tr>\n",
       "      <th>1</th>\n",
       "      <td>Prem Kumar</td>\n",
       "      <td>9799818360</td>\n",
       "    </tr>\n",
       "    <tr>\n",
       "      <th>2</th>\n",
       "      <td>ramkumar</td>\n",
       "      <td>9962278886</td>\n",
       "    </tr>\n",
       "  </tbody>\n",
       "</table>\n",
       "</div>"
      ],
      "text/plain": [
       "  Name_of_visitor  Contact_Number\n",
       "0        NARENDRA      9391193459\n",
       "1      Prem Kumar      9799818360\n",
       "2        ramkumar      9962278886"
      ]
     },
     "execution_count": 66,
     "metadata": {},
     "output_type": "execute_result"
    }
   ],
   "source": [
    "test_df"
   ]
  },
  {
   "cell_type": "markdown",
   "id": "9b3a548b",
   "metadata": {},
   "source": [
    "### Setting path for 02/07/2022"
   ]
  },
  {
   "cell_type": "code",
   "execution_count": 67,
   "id": "4b3dd296",
   "metadata": {},
   "outputs": [],
   "source": [
    "path_02_07 = '/Users/Advait/Desktop/Yoshops Internships/Week 1 Personal Task/Week 1 Task 5/contact_data/1657173630381_5042579018065678/chats/2022/07/02/'\n",
    "files_02_07 = [i for i in os.listdir(path_02_07) if i.endswith('.json')]"
   ]
  },
  {
   "cell_type": "code",
   "execution_count": 68,
   "id": "9c9defe2",
   "metadata": {},
   "outputs": [
    {
     "name": "stdout",
     "output_type": "stream",
     "text": [
      "['102ea5b0-fa46-11ec-af59-f3d89214e142.json']\n"
     ]
    }
   ],
   "source": [
    "# Viewing the json files in the directory of set path\n",
    "print(files_02_07)"
   ]
  },
  {
   "cell_type": "code",
   "execution_count": 69,
   "id": "24ec2f1f",
   "metadata": {},
   "outputs": [],
   "source": [
    "list_02_07 = []"
   ]
  },
  {
   "cell_type": "code",
   "execution_count": 71,
   "id": "f9fce9fb",
   "metadata": {},
   "outputs": [],
   "source": [
    "for i in files_02_07:\n",
    "    dict={}\n",
    "    with open(\"/Users/Advait/Desktop/Yoshops Internships/Week 1 Personal Task/Week 1 Task 5/contact_data/1657173630381_5042579018065678/chats/2022/07/02/\" + i,'r') as json_02_07:\n",
    "        json_data_02_07 = json.load(json_02_07)\n",
    "        messages = json_data_02_07['messages'] #Accessing the 'messages'\n",
    "        messages_values = messages[1].values() #Accessing the keys and values in 'messages' in form of dictionary\n",
    "        messages_values_list = list(messages_values)[3] #Converting the dictionary to list\n",
    "        phone = messages_values_list.split(\":\")[2] #Accesing the 'phone' part of the list which is at position 3 in list created in previous step\n",
    "        name = messages_values_list.split(\":\") #Splitting names and phone\n",
    "        name_list = name[1].split('\\r\\n')[0] #accessing names\n",
    "        dict['Name_of_visitor'] = name_list #Creating a dict with name_list as key\n",
    "        dict['Contact_Number'] = phone      #and phone number as its value\n",
    "        list_02_07.append(dict)"
   ]
  },
  {
   "cell_type": "code",
   "execution_count": 72,
   "id": "c2e55dd1",
   "metadata": {},
   "outputs": [
    {
     "data": {
      "text/plain": [
       "[{'Name_of_visitor': ' Rohit Kumar', 'Contact_Number': ' 9569402314'}]"
      ]
     },
     "execution_count": 72,
     "metadata": {},
     "output_type": "execute_result"
    }
   ],
   "source": [
    "list_02_07"
   ]
  },
  {
   "cell_type": "code",
   "execution_count": 73,
   "id": "a44a58d5",
   "metadata": {},
   "outputs": [],
   "source": [
    "#Converting list to dataframe\n",
    "df_02_07 = pd.DataFrame(data=list_02_07)"
   ]
  },
  {
   "cell_type": "code",
   "execution_count": 74,
   "id": "1345a8fe",
   "metadata": {},
   "outputs": [
    {
     "data": {
      "text/html": [
       "<div>\n",
       "<style scoped>\n",
       "    .dataframe tbody tr th:only-of-type {\n",
       "        vertical-align: middle;\n",
       "    }\n",
       "\n",
       "    .dataframe tbody tr th {\n",
       "        vertical-align: top;\n",
       "    }\n",
       "\n",
       "    .dataframe thead th {\n",
       "        text-align: right;\n",
       "    }\n",
       "</style>\n",
       "<table border=\"1\" class=\"dataframe\">\n",
       "  <thead>\n",
       "    <tr style=\"text-align: right;\">\n",
       "      <th></th>\n",
       "      <th>Name_of_visitor</th>\n",
       "      <th>Contact_Number</th>\n",
       "    </tr>\n",
       "  </thead>\n",
       "  <tbody>\n",
       "    <tr>\n",
       "      <th>0</th>\n",
       "      <td>Rohit Kumar</td>\n",
       "      <td>9569402314</td>\n",
       "    </tr>\n",
       "  </tbody>\n",
       "</table>\n",
       "</div>"
      ],
      "text/plain": [
       "  Name_of_visitor Contact_Number\n",
       "0     Rohit Kumar     9569402314"
      ]
     },
     "execution_count": 74,
     "metadata": {},
     "output_type": "execute_result"
    }
   ],
   "source": [
    "#Viewing the created dataframe\n",
    "df_02_07"
   ]
  },
  {
   "cell_type": "code",
   "execution_count": 75,
   "id": "d6404af3",
   "metadata": {},
   "outputs": [],
   "source": [
    "#Saving Dataframe to excel file\n",
    "df_02_07.to_excel('Name_and_phone_02_07.xlsx',index=False)"
   ]
  },
  {
   "cell_type": "code",
   "execution_count": 76,
   "id": "30f80d8a",
   "metadata": {},
   "outputs": [],
   "source": [
    "#Viewing the saved excel file\n",
    "test_df = pd.read_excel('Name_and_phone_02_07.xlsx')"
   ]
  },
  {
   "cell_type": "code",
   "execution_count": 77,
   "id": "5bc0a8ef",
   "metadata": {},
   "outputs": [
    {
     "data": {
      "text/html": [
       "<div>\n",
       "<style scoped>\n",
       "    .dataframe tbody tr th:only-of-type {\n",
       "        vertical-align: middle;\n",
       "    }\n",
       "\n",
       "    .dataframe tbody tr th {\n",
       "        vertical-align: top;\n",
       "    }\n",
       "\n",
       "    .dataframe thead th {\n",
       "        text-align: right;\n",
       "    }\n",
       "</style>\n",
       "<table border=\"1\" class=\"dataframe\">\n",
       "  <thead>\n",
       "    <tr style=\"text-align: right;\">\n",
       "      <th></th>\n",
       "      <th>Name_of_visitor</th>\n",
       "      <th>Contact_Number</th>\n",
       "    </tr>\n",
       "  </thead>\n",
       "  <tbody>\n",
       "    <tr>\n",
       "      <th>0</th>\n",
       "      <td>Rohit Kumar</td>\n",
       "      <td>9569402314</td>\n",
       "    </tr>\n",
       "  </tbody>\n",
       "</table>\n",
       "</div>"
      ],
      "text/plain": [
       "  Name_of_visitor  Contact_Number\n",
       "0     Rohit Kumar      9569402314"
      ]
     },
     "execution_count": 77,
     "metadata": {},
     "output_type": "execute_result"
    }
   ],
   "source": [
    "test_df"
   ]
  },
  {
   "cell_type": "markdown",
   "id": "576d6345",
   "metadata": {},
   "source": [
    "### Setting up path for 03/07/2022"
   ]
  },
  {
   "cell_type": "code",
   "execution_count": 78,
   "id": "410691ca",
   "metadata": {},
   "outputs": [],
   "source": [
    "path_03_07 = '/Users/Advait/Desktop/Yoshops Internships/Week 1 Personal Task/Week 1 Task 5/contact_data/1657173630381_5042579018065678/chats/2022/07/03/'\n",
    "files_03_07 = [i for i in os.listdir(path_03_07) if i.endswith('.json')]"
   ]
  },
  {
   "cell_type": "code",
   "execution_count": 79,
   "id": "a769881e",
   "metadata": {},
   "outputs": [
    {
     "name": "stdout",
     "output_type": "stream",
     "text": [
      "['1b33d1d0-fb02-11ec-8013-c5c03606d8bf.json', '4c818cf1-fac6-11ec-9f8e-3f678721a566.json', '4fbd1cd0-faae-11ec-bd7f-cdb777eaba53.json']\n"
     ]
    }
   ],
   "source": [
    "# Viewing the json files in the directory of set path\n",
    "print(files_03_07)"
   ]
  },
  {
   "cell_type": "code",
   "execution_count": 80,
   "id": "4dd45c53",
   "metadata": {},
   "outputs": [],
   "source": [
    "list_03_07 = []"
   ]
  },
  {
   "cell_type": "code",
   "execution_count": 81,
   "id": "d5ab053e",
   "metadata": {},
   "outputs": [],
   "source": [
    "for i in files_03_07:\n",
    "    dict={}\n",
    "    with open(\"/Users/Advait/Desktop/Yoshops Internships/Week 1 Personal Task/Week 1 Task 5/contact_data/1657173630381_5042579018065678/chats/2022/07/03/\" + i,'r') as json_03_07:\n",
    "        json_data_03_07 = json.load(json_03_07)\n",
    "        messages = json_data_03_07['messages'] #Accessing the 'messages'\n",
    "        messages_values = messages[1].values() #Accessing the keys and values in 'messages' in form of dictionary\n",
    "        messages_values_list = list(messages_values)[3] #Converting the dictionary to list\n",
    "        phone = messages_values_list.split(\":\")[2] #Accesing the 'phone' part of the list which is at position 3 in list created in previous step\n",
    "        name = messages_values_list.split(\":\") #Splitting names and phone\n",
    "        name_list = name[1].split('\\r\\n')[0] #accessing names\n",
    "        dict['Name_of_visitor'] = name_list #Creating a dict with name_list as key\n",
    "        dict['Contact_Number'] = phone      #and phone number as its value\n",
    "        list_03_07.append(dict)"
   ]
  },
  {
   "cell_type": "code",
   "execution_count": 82,
   "id": "141f1f11",
   "metadata": {},
   "outputs": [
    {
     "data": {
      "text/plain": [
       "[{'Name_of_visitor': ' Kamini', 'Contact_Number': ' 8767852141'},\n",
       " {'Name_of_visitor': ' Rajkabir Diwan', 'Contact_Number': ' 8815007851'},\n",
       " {'Name_of_visitor': ' Piryesh', 'Contact_Number': ' 7073128350'}]"
      ]
     },
     "execution_count": 82,
     "metadata": {},
     "output_type": "execute_result"
    }
   ],
   "source": [
    "list_03_07"
   ]
  },
  {
   "cell_type": "code",
   "execution_count": 84,
   "id": "52a28c60",
   "metadata": {},
   "outputs": [],
   "source": [
    "#Converting list to dataframe\n",
    "df_03_07 = pd.DataFrame(data=list_03_07)"
   ]
  },
  {
   "cell_type": "code",
   "execution_count": 85,
   "id": "c569aa7e",
   "metadata": {},
   "outputs": [
    {
     "data": {
      "text/html": [
       "<div>\n",
       "<style scoped>\n",
       "    .dataframe tbody tr th:only-of-type {\n",
       "        vertical-align: middle;\n",
       "    }\n",
       "\n",
       "    .dataframe tbody tr th {\n",
       "        vertical-align: top;\n",
       "    }\n",
       "\n",
       "    .dataframe thead th {\n",
       "        text-align: right;\n",
       "    }\n",
       "</style>\n",
       "<table border=\"1\" class=\"dataframe\">\n",
       "  <thead>\n",
       "    <tr style=\"text-align: right;\">\n",
       "      <th></th>\n",
       "      <th>Name_of_visitor</th>\n",
       "      <th>Contact_Number</th>\n",
       "    </tr>\n",
       "  </thead>\n",
       "  <tbody>\n",
       "    <tr>\n",
       "      <th>0</th>\n",
       "      <td>Kamini</td>\n",
       "      <td>8767852141</td>\n",
       "    </tr>\n",
       "    <tr>\n",
       "      <th>1</th>\n",
       "      <td>Rajkabir Diwan</td>\n",
       "      <td>8815007851</td>\n",
       "    </tr>\n",
       "    <tr>\n",
       "      <th>2</th>\n",
       "      <td>Piryesh</td>\n",
       "      <td>7073128350</td>\n",
       "    </tr>\n",
       "  </tbody>\n",
       "</table>\n",
       "</div>"
      ],
      "text/plain": [
       "   Name_of_visitor Contact_Number\n",
       "0           Kamini     8767852141\n",
       "1   Rajkabir Diwan     8815007851\n",
       "2          Piryesh     7073128350"
      ]
     },
     "execution_count": 85,
     "metadata": {},
     "output_type": "execute_result"
    }
   ],
   "source": [
    "#Viewing the created dataframe\n",
    "df_03_07"
   ]
  },
  {
   "cell_type": "code",
   "execution_count": 86,
   "id": "af18c373",
   "metadata": {},
   "outputs": [],
   "source": [
    "#Saving Dataframe to excel file\n",
    "df_03_07.to_excel('Name_and_phone_03_07.xlsx',index=False)"
   ]
  },
  {
   "cell_type": "code",
   "execution_count": 87,
   "id": "8f0e6e81",
   "metadata": {},
   "outputs": [],
   "source": [
    "#Viewing the saved excel file\n",
    "test_df = pd.read_excel('Name_and_phone_03_07.xlsx')"
   ]
  },
  {
   "cell_type": "code",
   "execution_count": 88,
   "id": "0e770463",
   "metadata": {},
   "outputs": [
    {
     "data": {
      "text/html": [
       "<div>\n",
       "<style scoped>\n",
       "    .dataframe tbody tr th:only-of-type {\n",
       "        vertical-align: middle;\n",
       "    }\n",
       "\n",
       "    .dataframe tbody tr th {\n",
       "        vertical-align: top;\n",
       "    }\n",
       "\n",
       "    .dataframe thead th {\n",
       "        text-align: right;\n",
       "    }\n",
       "</style>\n",
       "<table border=\"1\" class=\"dataframe\">\n",
       "  <thead>\n",
       "    <tr style=\"text-align: right;\">\n",
       "      <th></th>\n",
       "      <th>Name_of_visitor</th>\n",
       "      <th>Contact_Number</th>\n",
       "    </tr>\n",
       "  </thead>\n",
       "  <tbody>\n",
       "    <tr>\n",
       "      <th>0</th>\n",
       "      <td>Kamini</td>\n",
       "      <td>8767852141</td>\n",
       "    </tr>\n",
       "    <tr>\n",
       "      <th>1</th>\n",
       "      <td>Rajkabir Diwan</td>\n",
       "      <td>8815007851</td>\n",
       "    </tr>\n",
       "    <tr>\n",
       "      <th>2</th>\n",
       "      <td>Piryesh</td>\n",
       "      <td>7073128350</td>\n",
       "    </tr>\n",
       "  </tbody>\n",
       "</table>\n",
       "</div>"
      ],
      "text/plain": [
       "   Name_of_visitor  Contact_Number\n",
       "0           Kamini      8767852141\n",
       "1   Rajkabir Diwan      8815007851\n",
       "2          Piryesh      7073128350"
      ]
     },
     "execution_count": 88,
     "metadata": {},
     "output_type": "execute_result"
    }
   ],
   "source": [
    "test_df"
   ]
  },
  {
   "cell_type": "markdown",
   "id": "7a1ba49d",
   "metadata": {},
   "source": [
    "### Setting up path for 04/07/2022"
   ]
  },
  {
   "cell_type": "code",
   "execution_count": 89,
   "id": "24f7539a",
   "metadata": {},
   "outputs": [],
   "source": [
    "path_04_07 = '/Users/Advait/Desktop/Yoshops Internships/Week 1 Personal Task/Week 1 Task 5/contact_data/1657173630381_5042579018065678/chats/2022/07/04/'\n",
    "files_04_07 = [i for i in os.listdir(path_04_07) if i.endswith('.json')]"
   ]
  },
  {
   "cell_type": "code",
   "execution_count": 90,
   "id": "a6abc1f6",
   "metadata": {},
   "outputs": [
    {
     "name": "stdout",
     "output_type": "stream",
     "text": [
      "['067d5e81-fbb3-11ec-8622-bd773bafcd43.json', '612aefb0-fbbc-11ec-a27e-3b71999c2723.json', 'a95bb3f0-fb44-11ec-a242-a546b3d938a3.json', 'aa94a550-fb95-11ec-a7a6-3366c8149bd7.json']\n"
     ]
    }
   ],
   "source": [
    "# Viewing the json files in the directory of set path\n",
    "print(files_04_07)"
   ]
  },
  {
   "cell_type": "code",
   "execution_count": 91,
   "id": "3f99eb57",
   "metadata": {},
   "outputs": [],
   "source": [
    "list_04_07 = []"
   ]
  },
  {
   "cell_type": "code",
   "execution_count": 92,
   "id": "b6337873",
   "metadata": {},
   "outputs": [],
   "source": [
    "for i in files_04_07:\n",
    "    dict={}\n",
    "    with open(\"/Users/Advait/Desktop/Yoshops Internships/Week 1 Personal Task/Week 1 Task 5/contact_data/1657173630381_5042579018065678/chats/2022/07/04/\" + i,'r') as json_04_07:\n",
    "        json_data_04_07 = json.load(json_04_07)\n",
    "        messages = json_data_04_07['messages'] #Accessing the 'messages'\n",
    "        messages_values = messages[1].values() #Accessing the keys and values in 'messages' in form of dictionary\n",
    "        messages_values_list = list(messages_values)[3] #Converting the dictionary to list\n",
    "        phone = messages_values_list.split(\":\")[2] #Accesing the 'phone' part of the list which is at position 3 in list created in previous step\n",
    "        name = messages_values_list.split(\":\") #Splitting names and phone\n",
    "        name_list = name[1].split('\\r\\n')[0] #accessing names\n",
    "        dict['Name_of_visitor'] = name_list #Creating a dict with name_list as key\n",
    "        dict['Contact_Number'] = phone      #and phone number as its value\n",
    "        list_04_07.append(dict)"
   ]
  },
  {
   "cell_type": "code",
   "execution_count": 93,
   "id": "d8e49d8d",
   "metadata": {},
   "outputs": [
    {
     "data": {
      "text/plain": [
       "[{'Name_of_visitor': ' Anne', 'Contact_Number': ' 6382105605'},\n",
       " {'Name_of_visitor': ' Nelson Friday', 'Contact_Number': ' 08164881200'},\n",
       " {'Name_of_visitor': ' Rajkabir', 'Contact_Number': ' 8815007851'},\n",
       " {'Name_of_visitor': ' Anil', 'Contact_Number': ' 9515654885'}]"
      ]
     },
     "execution_count": 93,
     "metadata": {},
     "output_type": "execute_result"
    }
   ],
   "source": [
    "list_04_07"
   ]
  },
  {
   "cell_type": "code",
   "execution_count": 94,
   "id": "809a200f",
   "metadata": {},
   "outputs": [],
   "source": [
    "#Converting list to dataframe\n",
    "df_04_07 = pd.DataFrame(data=list_04_07)"
   ]
  },
  {
   "cell_type": "code",
   "execution_count": 95,
   "id": "f1a7a194",
   "metadata": {},
   "outputs": [
    {
     "data": {
      "text/html": [
       "<div>\n",
       "<style scoped>\n",
       "    .dataframe tbody tr th:only-of-type {\n",
       "        vertical-align: middle;\n",
       "    }\n",
       "\n",
       "    .dataframe tbody tr th {\n",
       "        vertical-align: top;\n",
       "    }\n",
       "\n",
       "    .dataframe thead th {\n",
       "        text-align: right;\n",
       "    }\n",
       "</style>\n",
       "<table border=\"1\" class=\"dataframe\">\n",
       "  <thead>\n",
       "    <tr style=\"text-align: right;\">\n",
       "      <th></th>\n",
       "      <th>Name_of_visitor</th>\n",
       "      <th>Contact_Number</th>\n",
       "    </tr>\n",
       "  </thead>\n",
       "  <tbody>\n",
       "    <tr>\n",
       "      <th>0</th>\n",
       "      <td>Anne</td>\n",
       "      <td>6382105605</td>\n",
       "    </tr>\n",
       "    <tr>\n",
       "      <th>1</th>\n",
       "      <td>Nelson Friday</td>\n",
       "      <td>08164881200</td>\n",
       "    </tr>\n",
       "    <tr>\n",
       "      <th>2</th>\n",
       "      <td>Rajkabir</td>\n",
       "      <td>8815007851</td>\n",
       "    </tr>\n",
       "    <tr>\n",
       "      <th>3</th>\n",
       "      <td>Anil</td>\n",
       "      <td>9515654885</td>\n",
       "    </tr>\n",
       "  </tbody>\n",
       "</table>\n",
       "</div>"
      ],
      "text/plain": [
       "  Name_of_visitor Contact_Number\n",
       "0            Anne     6382105605\n",
       "1   Nelson Friday    08164881200\n",
       "2        Rajkabir     8815007851\n",
       "3            Anil     9515654885"
      ]
     },
     "execution_count": 95,
     "metadata": {},
     "output_type": "execute_result"
    }
   ],
   "source": [
    "#Viewing the created dataframe\n",
    "df_04_07"
   ]
  },
  {
   "cell_type": "code",
   "execution_count": 96,
   "id": "5a882677",
   "metadata": {},
   "outputs": [],
   "source": [
    "#Saving Dataframe to excel file\n",
    "df_04_07.to_excel('Name_and_phone_04_07.xlsx',index=False)"
   ]
  },
  {
   "cell_type": "code",
   "execution_count": 97,
   "id": "250123e3",
   "metadata": {},
   "outputs": [],
   "source": [
    "#Viewing the saved excel file\n",
    "test_df = pd.read_excel('Name_and_phone_04_07.xlsx')"
   ]
  },
  {
   "cell_type": "code",
   "execution_count": 98,
   "id": "3a16edbe",
   "metadata": {},
   "outputs": [
    {
     "data": {
      "text/html": [
       "<div>\n",
       "<style scoped>\n",
       "    .dataframe tbody tr th:only-of-type {\n",
       "        vertical-align: middle;\n",
       "    }\n",
       "\n",
       "    .dataframe tbody tr th {\n",
       "        vertical-align: top;\n",
       "    }\n",
       "\n",
       "    .dataframe thead th {\n",
       "        text-align: right;\n",
       "    }\n",
       "</style>\n",
       "<table border=\"1\" class=\"dataframe\">\n",
       "  <thead>\n",
       "    <tr style=\"text-align: right;\">\n",
       "      <th></th>\n",
       "      <th>Name_of_visitor</th>\n",
       "      <th>Contact_Number</th>\n",
       "    </tr>\n",
       "  </thead>\n",
       "  <tbody>\n",
       "    <tr>\n",
       "      <th>0</th>\n",
       "      <td>Anne</td>\n",
       "      <td>6382105605</td>\n",
       "    </tr>\n",
       "    <tr>\n",
       "      <th>1</th>\n",
       "      <td>Nelson Friday</td>\n",
       "      <td>8164881200</td>\n",
       "    </tr>\n",
       "    <tr>\n",
       "      <th>2</th>\n",
       "      <td>Rajkabir</td>\n",
       "      <td>8815007851</td>\n",
       "    </tr>\n",
       "    <tr>\n",
       "      <th>3</th>\n",
       "      <td>Anil</td>\n",
       "      <td>9515654885</td>\n",
       "    </tr>\n",
       "  </tbody>\n",
       "</table>\n",
       "</div>"
      ],
      "text/plain": [
       "  Name_of_visitor  Contact_Number\n",
       "0            Anne      6382105605\n",
       "1   Nelson Friday      8164881200\n",
       "2        Rajkabir      8815007851\n",
       "3            Anil      9515654885"
      ]
     },
     "execution_count": 98,
     "metadata": {},
     "output_type": "execute_result"
    }
   ],
   "source": [
    "test_df"
   ]
  },
  {
   "cell_type": "markdown",
   "id": "a5d5a19e",
   "metadata": {},
   "source": [
    "### Setting up path for 06/07/2022"
   ]
  },
  {
   "cell_type": "code",
   "execution_count": 99,
   "id": "da0d7145",
   "metadata": {},
   "outputs": [],
   "source": [
    "path_06_07 = '/Users/Advait/Desktop/Yoshops Internships/Week 1 Personal Task/Week 1 Task 5/contact_data/1657173630381_5042579018065678/chats/2022/07/06/'\n",
    "files_06_07 = [i for i in os.listdir(path_06_07) if i.endswith('.json')]"
   ]
  },
  {
   "cell_type": "code",
   "execution_count": 100,
   "id": "f4413483",
   "metadata": {},
   "outputs": [
    {
     "name": "stdout",
     "output_type": "stream",
     "text": [
      "['d2435130-fd54-11ec-a14b-4b9a499f8801.json', 'dbd828e0-fd6a-11ec-a14b-4b9a499f8801.json']\n"
     ]
    }
   ],
   "source": [
    "# Viewing the json files in the directory of set path\n",
    "print(files_06_07)"
   ]
  },
  {
   "cell_type": "code",
   "execution_count": 101,
   "id": "7bfed6c2",
   "metadata": {},
   "outputs": [],
   "source": [
    "list_06_07 = []"
   ]
  },
  {
   "cell_type": "code",
   "execution_count": 102,
   "id": "0057c076",
   "metadata": {},
   "outputs": [],
   "source": [
    "for i in files_06_07:\n",
    "    dict={}\n",
    "    with open(\"/Users/Advait/Desktop/Yoshops Internships/Week 1 Personal Task/Week 1 Task 5/contact_data/1657173630381_5042579018065678/chats/2022/07/06/\" + i,'r') as json_06_07:\n",
    "        json_data_06_07 = json.load(json_06_07)\n",
    "        messages = json_data_06_07['messages'] #Accessing the 'messages'\n",
    "        messages_values = messages[1].values() #Accessing the keys and values in 'messages' in form of dictionary\n",
    "        messages_values_list = list(messages_values)[3] #Converting the dictionary to list\n",
    "        phone = messages_values_list.split(\":\")[2] #Accesing the 'phone' part of the list which is at position 3 in list created in previous step\n",
    "        name = messages_values_list.split(\":\") #Splitting names and phone\n",
    "        name_list = name[1].split('\\r\\n')[0] #accessing names\n",
    "        dict['Name_of_visitor'] = name_list #Creating a dict with name_list as key\n",
    "        dict['Contact_Number'] = phone      #and phone number as its value\n",
    "        list_06_07.append(dict)"
   ]
  },
  {
   "cell_type": "code",
   "execution_count": 103,
   "id": "cbc52340",
   "metadata": {},
   "outputs": [
    {
     "data": {
      "text/plain": [
       "[{'Name_of_visitor': ' Sandhya', 'Contact_Number': ' 9154940621'},\n",
       " {'Name_of_visitor': ' Dev Kanishka Kashyap', 'Contact_Number': ' 7277862208'}]"
      ]
     },
     "execution_count": 103,
     "metadata": {},
     "output_type": "execute_result"
    }
   ],
   "source": [
    "list_06_07"
   ]
  },
  {
   "cell_type": "code",
   "execution_count": 109,
   "id": "4c43aedc",
   "metadata": {},
   "outputs": [],
   "source": [
    "#Converting list to dataframe\n",
    "df_06_07 = pd.DataFrame(data=list_06_07)"
   ]
  },
  {
   "cell_type": "code",
   "execution_count": 110,
   "id": "e3275370",
   "metadata": {},
   "outputs": [
    {
     "data": {
      "text/html": [
       "<div>\n",
       "<style scoped>\n",
       "    .dataframe tbody tr th:only-of-type {\n",
       "        vertical-align: middle;\n",
       "    }\n",
       "\n",
       "    .dataframe tbody tr th {\n",
       "        vertical-align: top;\n",
       "    }\n",
       "\n",
       "    .dataframe thead th {\n",
       "        text-align: right;\n",
       "    }\n",
       "</style>\n",
       "<table border=\"1\" class=\"dataframe\">\n",
       "  <thead>\n",
       "    <tr style=\"text-align: right;\">\n",
       "      <th></th>\n",
       "      <th>Name_of_visitor</th>\n",
       "      <th>Contact_Number</th>\n",
       "    </tr>\n",
       "  </thead>\n",
       "  <tbody>\n",
       "    <tr>\n",
       "      <th>0</th>\n",
       "      <td>Sandhya</td>\n",
       "      <td>9154940621</td>\n",
       "    </tr>\n",
       "    <tr>\n",
       "      <th>1</th>\n",
       "      <td>Dev Kanishka Kashyap</td>\n",
       "      <td>7277862208</td>\n",
       "    </tr>\n",
       "  </tbody>\n",
       "</table>\n",
       "</div>"
      ],
      "text/plain": [
       "         Name_of_visitor Contact_Number\n",
       "0                Sandhya     9154940621\n",
       "1   Dev Kanishka Kashyap     7277862208"
      ]
     },
     "execution_count": 110,
     "metadata": {},
     "output_type": "execute_result"
    }
   ],
   "source": [
    "#Viewing the created dataframe\n",
    "df_06_07"
   ]
  },
  {
   "cell_type": "code",
   "execution_count": 111,
   "id": "565c01f8",
   "metadata": {},
   "outputs": [],
   "source": [
    "#Saving Dataframe to excel file\n",
    "df_06_07.to_excel('Name_and_phone_06_07.xlsx',index=False)"
   ]
  },
  {
   "cell_type": "code",
   "execution_count": 112,
   "id": "1fdae906",
   "metadata": {},
   "outputs": [],
   "source": [
    "#Viewing the saved excel file\n",
    "test_df = pd.read_excel('Name_and_phone_06_07.xlsx')"
   ]
  },
  {
   "cell_type": "code",
   "execution_count": 113,
   "id": "df8f1a13",
   "metadata": {},
   "outputs": [
    {
     "data": {
      "text/html": [
       "<div>\n",
       "<style scoped>\n",
       "    .dataframe tbody tr th:only-of-type {\n",
       "        vertical-align: middle;\n",
       "    }\n",
       "\n",
       "    .dataframe tbody tr th {\n",
       "        vertical-align: top;\n",
       "    }\n",
       "\n",
       "    .dataframe thead th {\n",
       "        text-align: right;\n",
       "    }\n",
       "</style>\n",
       "<table border=\"1\" class=\"dataframe\">\n",
       "  <thead>\n",
       "    <tr style=\"text-align: right;\">\n",
       "      <th></th>\n",
       "      <th>Name_of_visitor</th>\n",
       "      <th>Contact_Number</th>\n",
       "    </tr>\n",
       "  </thead>\n",
       "  <tbody>\n",
       "    <tr>\n",
       "      <th>0</th>\n",
       "      <td>Sandhya</td>\n",
       "      <td>9154940621</td>\n",
       "    </tr>\n",
       "    <tr>\n",
       "      <th>1</th>\n",
       "      <td>Dev Kanishka Kashyap</td>\n",
       "      <td>7277862208</td>\n",
       "    </tr>\n",
       "  </tbody>\n",
       "</table>\n",
       "</div>"
      ],
      "text/plain": [
       "         Name_of_visitor  Contact_Number\n",
       "0                Sandhya      9154940621\n",
       "1   Dev Kanishka Kashyap      7277862208"
      ]
     },
     "execution_count": 113,
     "metadata": {},
     "output_type": "execute_result"
    }
   ],
   "source": [
    "test_df"
   ]
  },
  {
   "cell_type": "code",
   "execution_count": null,
   "id": "c9cbaec1",
   "metadata": {},
   "outputs": [],
   "source": []
  }
 ],
 "metadata": {
  "kernelspec": {
   "display_name": "Python 3 (ipykernel)",
   "language": "python",
   "name": "python3"
  },
  "language_info": {
   "codemirror_mode": {
    "name": "ipython",
    "version": 3
   },
   "file_extension": ".py",
   "mimetype": "text/x-python",
   "name": "python",
   "nbconvert_exporter": "python",
   "pygments_lexer": "ipython3",
   "version": "3.9.13"
  }
 },
 "nbformat": 4,
 "nbformat_minor": 5
}
